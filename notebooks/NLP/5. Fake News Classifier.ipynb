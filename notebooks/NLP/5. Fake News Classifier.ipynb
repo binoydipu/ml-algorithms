{
 "cells": [
  {
   "cell_type": "markdown",
   "id": "3a595c07",
   "metadata": {},
   "source": [
    "# NLP - Fake News Detection"
   ]
  },
  {
   "cell_type": "code",
   "execution_count": 74,
   "id": "66a51521",
   "metadata": {},
   "outputs": [],
   "source": [
    "import pandas as pd\n",
    "import matplotlib.pyplot as plt\n",
    "import itertools\n",
    "import numpy as np\n",
    "from nltk.corpus import stopwords\n",
    "from nltk.stem import WordNetLemmatizer\n",
    "from sklearn.naive_bayes import MultinomialNB\n",
    "import re\n",
    "from sklearn.feature_extraction.text import CountVectorizer\n",
    "from sklearn.model_selection import train_test_split\n",
    "from sklearn.linear_model import PassiveAggressiveClassifier\n",
    "from sklearn.metrics import classification_report, confusion_matrix, accuracy_score"
   ]
  },
  {
   "cell_type": "markdown",
   "id": "dca85ad0",
   "metadata": {},
   "source": [
    "- Dataset from: https://www.kaggle.com/datasets/ronikdedhia/fake-news <br>\n",
    "- This is a binary classification problem where we have to classify news as real or fake based on the text content of the news article."
   ]
  },
  {
   "cell_type": "code",
   "execution_count": 75,
   "id": "7bb49128",
   "metadata": {},
   "outputs": [
    {
     "data": {
      "application/vnd.microsoft.datawrangler.viewer.v0+json": {
       "columns": [
        {
         "name": "index",
         "rawType": "int64",
         "type": "integer"
        },
        {
         "name": "id",
         "rawType": "int64",
         "type": "integer"
        },
        {
         "name": "title",
         "rawType": "object",
         "type": "string"
        },
        {
         "name": "author",
         "rawType": "object",
         "type": "string"
        },
        {
         "name": "text",
         "rawType": "object",
         "type": "string"
        },
        {
         "name": "label",
         "rawType": "int64",
         "type": "integer"
        }
       ],
       "ref": "cea3a647-9b8d-46da-93e3-bf5de4eae819",
       "rows": [
        [
         "0",
         "0",
         "House Dem Aide: We Didn’t Even See Comey’s Letter Until Jason Chaffetz Tweeted It",
         "Darrell Lucus",
         "House Dem Aide: We Didn’t Even See Comey’s Letter Until Jason Chaffetz Tweeted It By Darrell Lucus on October 30, 2016 Subscribe Jason Chaffetz on the stump in American Fork, Utah ( image courtesy Michael Jolley, available under a Creative Commons-BY license) \nWith apologies to Keith Olbermann, there is no doubt who the Worst Person in The World is this week–FBI Director James Comey. But according to a House Democratic aide, it looks like we also know who the second-worst person is as well. It turns out that when Comey sent his now-infamous letter announcing that the FBI was looking into emails that may be related to Hillary Clinton’s email server, the ranking Democrats on the relevant committees didn’t hear about it from Comey. They found out via a tweet from one of the Republican committee chairmen. \nAs we now know, Comey notified the Republican chairmen and Democratic ranking members of the House Intelligence, Judiciary, and Oversight committees that his agency was reviewing emails it had recently discovered in order to see if they contained classified information. Not long after this letter went out, Oversight Committee Chairman Jason Chaffetz set the political world ablaze with this tweet. FBI Dir just informed me, \"The FBI has learned of the existence of emails that appear to be pertinent to the investigation.\" Case reopened \n— Jason Chaffetz (@jasoninthehouse) October 28, 2016 \nOf course, we now know that this was not the case . Comey was actually saying that it was reviewing the emails in light of “an unrelated case”–which we now know to be Anthony Weiner’s sexting with a teenager. But apparently such little things as facts didn’t matter to Chaffetz. The Utah Republican had already vowed to initiate a raft of investigations if Hillary wins–at least two years’ worth, and possibly an entire term’s worth of them. Apparently Chaffetz thought the FBI was already doing his work for him–resulting in a tweet that briefly roiled the nation before cooler heads realized it was a dud. \nBut according to a senior House Democratic aide, misreading that letter may have been the least of Chaffetz’ sins. That aide told Shareblue that his boss and other Democrats didn’t even know about Comey’s letter at the time–and only found out when they checked Twitter. “Democratic Ranking Members on the relevant committees didn’t receive Comey’s letter until after the Republican Chairmen. In fact, the Democratic Ranking Members didn’ receive it until after the Chairman of the Oversight and Government Reform Committee, Jason Chaffetz, tweeted it out and made it public.” \nSo let’s see if we’ve got this right. The FBI director tells Chaffetz and other GOP committee chairmen about a major development in a potentially politically explosive investigation, and neither Chaffetz nor his other colleagues had the courtesy to let their Democratic counterparts know about it. Instead, according to this aide, he made them find out about it on Twitter. \nThere has already been talk on Daily Kos that Comey himself provided advance notice of this letter to Chaffetz and other Republicans, giving them time to turn on the spin machine. That may make for good theater, but there is nothing so far that even suggests this is the case. After all, there is nothing so far that suggests that Comey was anything other than grossly incompetent and tone-deaf. \nWhat it does suggest, however, is that Chaffetz is acting in a way that makes Dan Burton and Darrell Issa look like models of responsibility and bipartisanship. He didn’t even have the decency to notify ranking member Elijah Cummings about something this explosive. If that doesn’t trample on basic standards of fairness, I don’t know what does. \nGranted, it’s not likely that Chaffetz will have to answer for this. He sits in a ridiculously Republican district anchored in Provo and Orem; it has a Cook Partisan Voting Index of R+25, and gave Mitt Romney a punishing 78 percent of the vote in 2012. Moreover, the Republican House leadership has given its full support to Chaffetz’ planned fishing expedition. But that doesn’t mean we can’t turn the hot lights on him. After all, he is a textbook example of what the House has become under Republican control. And he is also the Second Worst Person in the World. About Darrell Lucus \nDarrell is a 30-something graduate of the University of North Carolina who considers himself a journalist of the old school. An attempt to turn him into a member of the religious right in college only succeeded in turning him into the religious right's worst nightmare--a charismatic Christian who is an unapologetic liberal. His desire to stand up for those who have been scared into silence only increased when he survived an abusive three-year marriage. You may know him on Daily Kos as Christian Dem in NC . Follow him on Twitter @DarrellLucus or connect with him on Facebook . Click here to buy Darrell a Mello Yello. Connect",
         "1"
        ],
        [
         "1",
         "1",
         "FLYNN: Hillary Clinton, Big Woman on Campus - Breitbart",
         "Daniel J. Flynn",
         "Ever get the feeling your life circles the roundabout rather than heads in a straight line toward the intended destination? [Hillary Clinton remains the big woman on campus in leafy, liberal Wellesley, Massachusetts. Everywhere else votes her most likely to don her inauguration dress for the remainder of her days the way Miss Havisham forever wore that wedding dress.  Speaking of Great Expectations, Hillary Rodham overflowed with them 48 years ago when she first addressed a Wellesley graduating class. The president of the college informed those gathered in 1969 that the students needed “no debate so far as I could ascertain as to who their spokesman was to be” (kind of the like the Democratic primaries in 2016 minus the   terms unknown then even at a Seven Sisters school). “I am very glad that Miss Adams made it clear that what I am speaking for today is all of us —  the 400 of us,” Miss Rodham told her classmates. After appointing herself Edger Bergen to the Charlie McCarthys and Mortimer Snerds in attendance, the    bespectacled in granny glasses (awarding her matronly wisdom —  or at least John Lennon wisdom) took issue with the previous speaker. Despite becoming the first   to win election to a seat in the U. S. Senate since Reconstruction, Edward Brooke came in for criticism for calling for “empathy” for the goals of protestors as he criticized tactics. Though Clinton in her senior thesis on Saul Alinsky lamented “Black Power demagogues” and “elitist arrogance and repressive intolerance” within the New Left, similar words coming out of a Republican necessitated a brief rebuttal. “Trust,” Rodham ironically observed in 1969, “this is one word that when I asked the class at our rehearsal what it was they wanted me to say for them, everyone came up to me and said ‘Talk about trust, talk about the lack of trust both for us and the way we feel about others. Talk about the trust bust.’ What can you say about it? What can you say about a feeling that permeates a generation and that perhaps is not even understood by those who are distrusted?” The “trust bust” certainly busted Clinton’s 2016 plans. She certainly did not even understand that people distrusted her. After Whitewater, Travelgate, the vast   conspiracy, Benghazi, and the missing emails, Clinton found herself the distrusted voice on Friday. There was a load of compromising on the road to the broadening of her political horizons. And distrust from the American people —  Trump edged her 48 percent to 38 percent on the question immediately prior to November’s election —  stood as a major reason for the closing of those horizons. Clinton described her vanquisher and his supporters as embracing a “lie,” a “con,” “alternative facts,” and “a   assault on truth and reason. ” She failed to explain why the American people chose his lies over her truth. “As the history majors among you here today know all too well, when people in power invent their own facts and attack those who question them, it can mark the beginning of the end of a free society,” she offered. “That is not hyperbole. ” Like so many people to emerge from the 1960s, Hillary Clinton embarked upon a long, strange trip. From high school Goldwater Girl and Wellesley College Republican president to Democratic politician, Clinton drank in the times and the place that gave her a degree. More significantly, she went from idealist to cynic, as a comparison of her two Wellesley commencement addresses show. Way back when, she lamented that “for too long our leaders have viewed politics as the art of the possible, and the challenge now is to practice politics as the art of making what appears to be impossible possible. ” Now, as the big woman on campus but the odd woman out of the White House, she wonders how her current station is even possible. “Why aren’t I 50 points ahead?” she asked in September. In May she asks why she isn’t president. The woman famously dubbed a “congenital liar” by Bill Safire concludes that lies did her in —  theirs, mind you, not hers. Getting stood up on Election Day, like finding yourself the jilted bride on your wedding day, inspires dangerous delusions.",
         "0"
        ],
        [
         "2",
         "2",
         "Why the Truth Might Get You Fired",
         "Consortiumnews.com",
         "Why the Truth Might Get You Fired October 29, 2016 \nThe tension between intelligence analysts and political policymakers has always been between honest assessments and desired results, with the latter often overwhelming the former, as in the Iraq War, writes Lawrence Davidson. \nBy Lawrence Davidson \nFor those who might wonder why foreign policy makers repeatedly make bad choices, some insight might be drawn from the following analysis. The action here plays out in the United States, but the lessons are probably universal. \nBack in the early spring of 2003, George W. Bush initiated the invasion of Iraq. One of his key public reasons for doing so was the claim that the country’s dictator, Saddam Hussein, was on the verge of developing nuclear weapons and was hiding other weapons of mass destruction. The real reason went beyond that charge and included a long-range plan for “regime change” in the Middle East. President George W. Bush and Vice President Dick Cheney receive an Oval Office briefing from CIA Director George Tenet. Also present is Chief of Staff Andy Card (on right). (White House photo) \nFor our purposes, we will concentrate on the belief that Iraq was about to become a hostile nuclear power. Why did President Bush and his close associates accept this scenario so readily? \nThe short answer is Bush wanted, indeed needed, to believe it as a rationale for invading Iraq. At first he had tried to connect Saddam Hussein to the 9/11 attacks on the U.S. Though he never gave up on that stratagem, the lack of evidence made it difficult to rally an American people, already fixated on Afghanistan, to support a war against Baghdad. \nBut the nuclear weapons gambit proved more fruitful, not because there was any hard evidence for the charge, but because supposedly reliable witnesses, in the persons of exiled anti-Saddam Iraqis (many on the U.S. government’s payroll ), kept telling Bush and his advisers that the nuclear story was true. \nWhat we had was a U.S. leadership cadre whose worldview literally demanded a mortally dangerous Iraq, and informants who, in order to precipitate the overthrow of Saddam, were willing to tell the tale of pending atomic weapons. The strong desire to believe the tale of a nuclear Iraq lowered the threshold for proof . Likewise, the repeated assertions by assumed dependable Iraqi sources underpinned a nationwide U.S. campaign generating both fear and war fever. \nSo the U.S. and its allies insisted that the United Nations send in weapons inspectors to scour Iraq for evidence of a nuclear weapons program (as well as chemical and biological weapons). That the inspectors could find no convincing evidence only frustrated the Bush administration and soon forced its hand. \nOn March 19, 2003, Bush launched the invasion of Iraq with the expectation was that, once in occupation of the country, U.S. inspectors would surely find evidence of those nukes (or at least stockpiles of chemical and biological weapons). They did not. Their Iraqi informants had systematically lied to them. \nSocial and Behavioral Sciences to the Rescue? \nThe various U.S. intelligence agencies were thoroughly shaken by this affair, and today, 13 years later, their directors and managers are still trying to sort it out – specifically, how to tell when they are getting “true” intelligence and when they are being lied to. Or, as one intelligence worker has put it, we need “ help to protect us against armies of snake oil salesmen. ” To that end the CIA et al. are in the market for academic assistance. Ahmed Chalabi, head of the Iraqi National Congress, a key supplier of Iraqi defectors with bogus stories of hidden WMD. \nA “partnership” is being forged between the Office of the Director of National Intelligence (ODNI), which serves as the coordinating center for the sixteen independent U.S. intelligence agencies, and the National Academies of Sciences, Engineering and Medicine . The result of this collaboration will be a “ permanent Intelligence Community Studies Board” to coordinate programs in “social and behavioral science research [that] might strengthen national security .” \nDespite this effort, it is almost certain that the “social and behavioral sciences” cannot give the spy agencies what they want – a way of detecting lies that is better than their present standard procedures of polygraph tests and interrogations. But even if they could, it might well make no difference, because the real problem is not to be found with the liars. It is to be found with the believers. \nThe Believers \nIt is simply not true, as the ODNI leaders seem to assert, that U.S. intelligence agency personnel cannot tell, more often than not, that they are being lied to. This is the case because there are thousands of middle-echelon intelligence workers, desk officers, and specialists who know something closely approaching the truth – that is, they know pretty well what is going on in places like Afghanistan, Iraq, Syria, Libya, Israel, Palestine and elsewhere. Director of National Intelligence James Clapper (right) talks with President Barack Obama in the Oval Office, with John Brennan and other national security aides present. (Photo credit: Office of Director of National Intelligence) \nTherefore, if someone feeds them “snake oil,” they usually know it. However, having an accurate grasp of things is often to no avail because their superiors – those who got their appointments by accepting a pre-structured worldview – have different criterion for what is “true” than do the analysts. \nListen to Charles Gaukel, of the National Intelligence Council – yet another organization that acts as a meeting ground for the 16 intelligence agencies. Referring to the search for a way to avoid getting taken in by lies, Gaukel has declared, “ We’re looking for truth. But we’re particularly looking for truth that works. ” Now what might that mean? \nI can certainly tell you what it means historically. It means that for the power brokers, “truth” must match up, fit with, their worldview – their political and ideological precepts. If it does not fit, it does not “work.” So the intelligence specialists who send their usually accurate assessments up the line to the policy makers often hit a roadblock caused by “group think,” ideological blinkers, and a “we know better” attitude. \nOn the other hand, as long as what you’re selling the leadership matches up with what they want to believe, you can peddle them anything: imaginary Iraqi nukes, Israel as a Western-style democracy, Saudi Arabia as an indispensable ally, Libya as a liberated country, Bashar al-Assad as the real roadblock to peace in Syria, the Strategic Defense Initiative (SDI) aka Star Wars, a world that is getting colder and not warmer, American exceptionalism in all its glory – the list is almost endless. \nWhat does this sad tale tell us? If you want to spend millions of dollars on social and behavioral science research to improve the assessment and use of intelligence, forget about the liars. What you want to look for is an antidote to the narrow-mindedness of the believers – the policymakers who seem not to be able to rise above the ideological presumptions of their class – presumptions that underpin their self-confidence as they lead us all down slippery slopes. \nIt has happened this way so often, and in so many places, that it is the source of Shakespeare’s determination that “what is past, is prelude.” Our elites play out our destinies as if they have no free will – no capacity to break with structured ways of seeing. Yet the middle-echelon specialists keep sending their relatively accurate assessments up the ladder of power. Hope springs eternal.",
         "1"
        ],
        [
         "3",
         "3",
         "15 Civilians Killed In Single US Airstrike Have Been Identified",
         "Jessica Purkiss",
         "Videos 15 Civilians Killed In Single US Airstrike Have Been Identified The rate at which civilians are being killed by American airstrikes in Afghanistan is now higher than it was in 2014 when the US was engaged in active combat operations.   Photo of Hellfire missiles being loaded onto a US military Reaper drone in Afghanistan by Staff Sgt. Brian Ferguson/U.S. Air Force. \nThe Bureau has been able to identify 15 civilians killed in a single US drone strike in Afghanistan last month – the biggest loss of civilian life in one strike since the attack on the Medecins Sans Frontieres hospital (MSF) last October. \nThe US claimed it had conducted a “counter-terrorism” strike against Islamic State (IS) fighters when it hit Nangarhar province with missiles on September 28. But the next day the United Nations issued an unusually rapid and strong statement saying the strike had killed 15 civilians and injured 13 others who had gathered at a house to celebrate a tribal elder’s return from a pilgrimage to Mecca. \nThe Bureau spoke to a man named Haji Rais who said he was the owner of the house that was targeted. He said 15 people were killed and 19 others injured, and provided their names (listed below). The Bureau was able to independently verify the identities of those who died. \nRais’ son, a headmaster at a local school, was among them. Another man, Abdul Hakim, lost three of his sons in the attack. \nRais said he had no involvement with IS and denied US claims that IS members had visited his house before the strike. He said: “I did not even speak to those sort of people on the phone let alone receiving them in my house.” \nThe deaths amount to the biggest confirmed loss of civilian life in a single American strike in Afghanistan since the attack on the MSF hospital in Kunduz last October, which killed at least 42 people. \nThe Nangarhar strike was not the only US attack to kill civilians in September. The Bureau’s data indicates that as many as 45 civilians and allied soldiers were killed in four American strikes in Afghanistan and Somalia that month. \nOn September 18 a pair of strikes killed eight Afghan policemen in Tarinkot, the capital of Urozgan provice. US jets reportedly hit a police checkpoint, killing one officer, before returning to target first responders. The use of this tactic – known as a “double-tap” strike – is controversial because they often hit civilian rescuers. \nThe US told the Bureau it had conducted the strike against individuals firing on and posing a threat to Afghan forces. The email did not directly address the allegations of Afghan policemen being killed. \nAt the end of the month in Somalia, citizens burnt US flags on the streets of the north-central city of Galcayo after it emerged a drone attack may have unintentionally killed 22 Somali soldiers and civilians. The strike occurred on the same day as the one in Nangarhar. \nIn both the Somali and Afghan incidents, the US at first denied that any non-combatants had been killed. It is now investigating both the strikes in Nangarhar and Galcayo. \nThe rate at which civilians are being killed by American airstrikes in Afghanistan is now higher than it was in 2014 when the US was engaged in active combat operations. Name",
         "1"
        ],
        [
         "4",
         "4",
         "Iranian woman jailed for fictional unpublished story about woman stoned to death for adultery",
         "Howard Portnoy",
         "Print \nAn Iranian woman has been sentenced to six years in prison after Iran’s Revolutionary Guard searched her home and found a notebook that contained a fictional story she’d written about a woman who was stoned to death, according to the Eurasia Review . \nGolrokh Ebrahimi Iraee, 35, is the wife of political prisoner Arash Sadeghi, 36, who is serving a 19-year prison sentence for being a human rights activist, the publication reported. \n“When the intelligence unit of the Revolutionary Guards came to arrest her husband, they raided their apartment – without a warrant – and found drafts of stories that Ebrahimi Iraee had written,” the article stated. \n“One of the confiscated drafts was a story about stoning women to death for adultery – never published, never presented to anyone,” the article stated. “The narrative followed the story of a protagonist that watched a movie about stoning of women under Islamic law for adultery.",
         "1"
        ]
       ],
       "shape": {
        "columns": 5,
        "rows": 5
       }
      },
      "text/html": [
       "<div>\n",
       "<style scoped>\n",
       "    .dataframe tbody tr th:only-of-type {\n",
       "        vertical-align: middle;\n",
       "    }\n",
       "\n",
       "    .dataframe tbody tr th {\n",
       "        vertical-align: top;\n",
       "    }\n",
       "\n",
       "    .dataframe thead th {\n",
       "        text-align: right;\n",
       "    }\n",
       "</style>\n",
       "<table border=\"1\" class=\"dataframe\">\n",
       "  <thead>\n",
       "    <tr style=\"text-align: right;\">\n",
       "      <th></th>\n",
       "      <th>id</th>\n",
       "      <th>title</th>\n",
       "      <th>author</th>\n",
       "      <th>text</th>\n",
       "      <th>label</th>\n",
       "    </tr>\n",
       "  </thead>\n",
       "  <tbody>\n",
       "    <tr>\n",
       "      <th>0</th>\n",
       "      <td>0</td>\n",
       "      <td>House Dem Aide: We Didn’t Even See Comey’s Let...</td>\n",
       "      <td>Darrell Lucus</td>\n",
       "      <td>House Dem Aide: We Didn’t Even See Comey’s Let...</td>\n",
       "      <td>1</td>\n",
       "    </tr>\n",
       "    <tr>\n",
       "      <th>1</th>\n",
       "      <td>1</td>\n",
       "      <td>FLYNN: Hillary Clinton, Big Woman on Campus - ...</td>\n",
       "      <td>Daniel J. Flynn</td>\n",
       "      <td>Ever get the feeling your life circles the rou...</td>\n",
       "      <td>0</td>\n",
       "    </tr>\n",
       "    <tr>\n",
       "      <th>2</th>\n",
       "      <td>2</td>\n",
       "      <td>Why the Truth Might Get You Fired</td>\n",
       "      <td>Consortiumnews.com</td>\n",
       "      <td>Why the Truth Might Get You Fired October 29, ...</td>\n",
       "      <td>1</td>\n",
       "    </tr>\n",
       "    <tr>\n",
       "      <th>3</th>\n",
       "      <td>3</td>\n",
       "      <td>15 Civilians Killed In Single US Airstrike Hav...</td>\n",
       "      <td>Jessica Purkiss</td>\n",
       "      <td>Videos 15 Civilians Killed In Single US Airstr...</td>\n",
       "      <td>1</td>\n",
       "    </tr>\n",
       "    <tr>\n",
       "      <th>4</th>\n",
       "      <td>4</td>\n",
       "      <td>Iranian woman jailed for fictional unpublished...</td>\n",
       "      <td>Howard Portnoy</td>\n",
       "      <td>Print \\nAn Iranian woman has been sentenced to...</td>\n",
       "      <td>1</td>\n",
       "    </tr>\n",
       "  </tbody>\n",
       "</table>\n",
       "</div>"
      ],
      "text/plain": [
       "   id                                              title              author  \\\n",
       "0   0  House Dem Aide: We Didn’t Even See Comey’s Let...       Darrell Lucus   \n",
       "1   1  FLYNN: Hillary Clinton, Big Woman on Campus - ...     Daniel J. Flynn   \n",
       "2   2                  Why the Truth Might Get You Fired  Consortiumnews.com   \n",
       "3   3  15 Civilians Killed In Single US Airstrike Hav...     Jessica Purkiss   \n",
       "4   4  Iranian woman jailed for fictional unpublished...      Howard Portnoy   \n",
       "\n",
       "                                                text  label  \n",
       "0  House Dem Aide: We Didn’t Even See Comey’s Let...      1  \n",
       "1  Ever get the feeling your life circles the rou...      0  \n",
       "2  Why the Truth Might Get You Fired October 29, ...      1  \n",
       "3  Videos 15 Civilians Killed In Single US Airstr...      1  \n",
       "4  Print \\nAn Iranian woman has been sentenced to...      1  "
      ]
     },
     "execution_count": 75,
     "metadata": {},
     "output_type": "execute_result"
    }
   ],
   "source": [
    "df = pd.read_csv('../helpers/data/fake_news.csv')\n",
    "df.head()"
   ]
  },
  {
   "cell_type": "code",
   "execution_count": 76,
   "id": "c685fafe",
   "metadata": {},
   "outputs": [
    {
     "data": {
      "text/plain": [
       "(20800, 5)"
      ]
     },
     "execution_count": 76,
     "metadata": {},
     "output_type": "execute_result"
    }
   ],
   "source": [
    "df.shape"
   ]
  },
  {
   "cell_type": "code",
   "execution_count": 77,
   "id": "8d7bb95d",
   "metadata": {},
   "outputs": [
    {
     "data": {
      "text/plain": [
       "(18285, 5)"
      ]
     },
     "execution_count": 77,
     "metadata": {},
     "output_type": "execute_result"
    }
   ],
   "source": [
    "df = df.dropna()\n",
    "df.shape"
   ]
  },
  {
   "cell_type": "code",
   "execution_count": 78,
   "id": "8f781f55",
   "metadata": {},
   "outputs": [],
   "source": [
    "messages = df.copy()"
   ]
  },
  {
   "cell_type": "code",
   "execution_count": 79,
   "id": "f9b0492f",
   "metadata": {},
   "outputs": [],
   "source": [
    "messages.reset_index(inplace=True)"
   ]
  },
  {
   "cell_type": "code",
   "execution_count": 80,
   "id": "1fcb02b5",
   "metadata": {},
   "outputs": [
    {
     "data": {
      "text/plain": [
       "'Benoît Hamon Wins French Socialist Party’s Presidential Nomination - The New York Times'"
      ]
     },
     "execution_count": 80,
     "metadata": {},
     "output_type": "execute_result"
    }
   ],
   "source": [
    "messages['title'][6]"
   ]
  },
  {
   "cell_type": "code",
   "execution_count": null,
   "id": "3eec89c1",
   "metadata": {},
   "outputs": [],
   "source": [
    "lemmatizer = WordNetLemmatizer()\n",
    "corpus = []\n",
    "for i in range(0, len(messages)):\n",
    "    review = re.sub('[^a-zA-Z]', ' ', messages['title'][i]) # use title or text\n",
    "    review = review.lower()\n",
    "    review = review.split()\n",
    "    \n",
    "    review = [lemmatizer.lemmatize(word) for word in review if not word in set(stopwords.words('english'))]\n",
    "    review = ' '.join(review)\n",
    "    corpus.append(review)"
   ]
  },
  {
   "cell_type": "code",
   "execution_count": 82,
   "id": "49bc356a",
   "metadata": {},
   "outputs": [
    {
     "data": {
      "text/plain": [
       "'beno hamon win french socialist party presidential nomination new york time'"
      ]
     },
     "execution_count": 82,
     "metadata": {},
     "output_type": "execute_result"
    }
   ],
   "source": [
    "corpus[6]"
   ]
  },
  {
   "cell_type": "code",
   "execution_count": 83,
   "id": "3d6cc2c2",
   "metadata": {},
   "outputs": [],
   "source": [
    "X = corpus"
   ]
  },
  {
   "cell_type": "code",
   "execution_count": 84,
   "id": "f7a8f621",
   "metadata": {},
   "outputs": [
    {
     "data": {
      "text/plain": [
       "18285"
      ]
     },
     "execution_count": 84,
     "metadata": {},
     "output_type": "execute_result"
    }
   ],
   "source": [
    "len(X)"
   ]
  },
  {
   "cell_type": "code",
   "execution_count": 86,
   "id": "4ade41a2",
   "metadata": {},
   "outputs": [],
   "source": [
    "y = messages['label']"
   ]
  },
  {
   "cell_type": "code",
   "execution_count": 87,
   "id": "95b46c2d",
   "metadata": {},
   "outputs": [],
   "source": [
    "X_train, X_test, y_train, y_test = train_test_split(\n",
    "    X, y, test_size=0.33, random_state=0)"
   ]
  },
  {
   "cell_type": "code",
   "execution_count": 88,
   "id": "ef473d80",
   "metadata": {},
   "outputs": [
    {
     "data": {
      "text/plain": [
       "(12250, 6035)"
      ]
     },
     "execution_count": 88,
     "metadata": {},
     "output_type": "execute_result"
    }
   ],
   "source": [
    "len(X_train), len(X_test)"
   ]
  },
  {
   "cell_type": "code",
   "execution_count": 89,
   "id": "a8ef0f2e",
   "metadata": {},
   "outputs": [],
   "source": [
    "cv = CountVectorizer(max_features=5000, ngram_range=(1,3))\n",
    "X_train_cv = cv.fit_transform(X_train).toarray()"
   ]
  },
  {
   "cell_type": "code",
   "execution_count": 90,
   "id": "11e11607",
   "metadata": {},
   "outputs": [],
   "source": [
    "X_test_cv = cv.transform(X_test).toarray()"
   ]
  },
  {
   "cell_type": "code",
   "execution_count": 91,
   "id": "633609cd",
   "metadata": {},
   "outputs": [
    {
     "data": {
      "text/plain": [
       "array(['ab', 'abandon', 'abandoned', 'abc', 'abc news', 'abedin', 'able',\n",
       "       'abortion', 'abroad', 'absolutely', 'absurd', 'abuse', 'abuse new',\n",
       "       'abuse new york', 'academy', 'accepting', 'access',\n",
       "       'access pipeline', 'access pipeline protest', 'accidentally'],\n",
       "      dtype=object)"
      ]
     },
     "execution_count": 91,
     "metadata": {},
     "output_type": "execute_result"
    }
   ],
   "source": [
    "cv.get_feature_names_out()[:20]"
   ]
  },
  {
   "cell_type": "code",
   "execution_count": 92,
   "id": "89f34193",
   "metadata": {},
   "outputs": [
    {
     "data": {
      "text/plain": [
       "{'analyzer': 'word',\n",
       " 'binary': False,\n",
       " 'decode_error': 'strict',\n",
       " 'dtype': numpy.int64,\n",
       " 'encoding': 'utf-8',\n",
       " 'input': 'content',\n",
       " 'lowercase': True,\n",
       " 'max_df': 1.0,\n",
       " 'max_features': 5000,\n",
       " 'min_df': 1,\n",
       " 'ngram_range': (1, 3),\n",
       " 'preprocessor': None,\n",
       " 'stop_words': None,\n",
       " 'strip_accents': None,\n",
       " 'token_pattern': '(?u)\\\\b\\\\w\\\\w+\\\\b',\n",
       " 'tokenizer': None,\n",
       " 'vocabulary': None}"
      ]
     },
     "execution_count": 92,
     "metadata": {},
     "output_type": "execute_result"
    }
   ],
   "source": [
    "cv.get_params()"
   ]
  },
  {
   "cell_type": "code",
   "execution_count": 93,
   "id": "716f8cda",
   "metadata": {},
   "outputs": [
    {
     "data": {
      "application/vnd.microsoft.datawrangler.viewer.v0+json": {
       "columns": [
        {
         "name": "index",
         "rawType": "int64",
         "type": "integer"
        },
        {
         "name": "ab",
         "rawType": "int64",
         "type": "integer"
        },
        {
         "name": "abandon",
         "rawType": "int64",
         "type": "integer"
        },
        {
         "name": "abandoned",
         "rawType": "int64",
         "type": "integer"
        },
        {
         "name": "abc",
         "rawType": "int64",
         "type": "integer"
        },
        {
         "name": "abc news",
         "rawType": "int64",
         "type": "integer"
        },
        {
         "name": "abedin",
         "rawType": "int64",
         "type": "integer"
        },
        {
         "name": "able",
         "rawType": "int64",
         "type": "integer"
        },
        {
         "name": "abortion",
         "rawType": "int64",
         "type": "integer"
        },
        {
         "name": "abroad",
         "rawType": "int64",
         "type": "integer"
        },
        {
         "name": "absolutely",
         "rawType": "int64",
         "type": "integer"
        },
        {
         "name": "absurd",
         "rawType": "int64",
         "type": "integer"
        },
        {
         "name": "abuse",
         "rawType": "int64",
         "type": "integer"
        },
        {
         "name": "abuse new",
         "rawType": "int64",
         "type": "integer"
        },
        {
         "name": "abuse new york",
         "rawType": "int64",
         "type": "integer"
        },
        {
         "name": "academy",
         "rawType": "int64",
         "type": "integer"
        },
        {
         "name": "accepting",
         "rawType": "int64",
         "type": "integer"
        },
        {
         "name": "access",
         "rawType": "int64",
         "type": "integer"
        },
        {
         "name": "access pipeline",
         "rawType": "int64",
         "type": "integer"
        },
        {
         "name": "access pipeline protest",
         "rawType": "int64",
         "type": "integer"
        },
        {
         "name": "accidentally",
         "rawType": "int64",
         "type": "integer"
        },
        {
         "name": "accord",
         "rawType": "int64",
         "type": "integer"
        },
        {
         "name": "according",
         "rawType": "int64",
         "type": "integer"
        },
        {
         "name": "account",
         "rawType": "int64",
         "type": "integer"
        },
        {
         "name": "accusation",
         "rawType": "int64",
         "type": "integer"
        },
        {
         "name": "accused",
         "rawType": "int64",
         "type": "integer"
        },
        {
         "name": "accuser",
         "rawType": "int64",
         "type": "integer"
        },
        {
         "name": "accuses",
         "rawType": "int64",
         "type": "integer"
        },
        {
         "name": "acknowledge",
         "rawType": "int64",
         "type": "integer"
        },
        {
         "name": "acknowledge emf",
         "rawType": "int64",
         "type": "integer"
        },
        {
         "name": "acknowledge emf damage",
         "rawType": "int64",
         "type": "integer"
        },
        {
         "name": "acquittal",
         "rawType": "int64",
         "type": "integer"
        },
        {
         "name": "acquitted",
         "rawType": "int64",
         "type": "integer"
        },
        {
         "name": "across",
         "rawType": "int64",
         "type": "integer"
        },
        {
         "name": "act",
         "rawType": "int64",
         "type": "integer"
        },
        {
         "name": "act new",
         "rawType": "int64",
         "type": "integer"
        },
        {
         "name": "act new york",
         "rawType": "int64",
         "type": "integer"
        },
        {
         "name": "acting",
         "rawType": "int64",
         "type": "integer"
        },
        {
         "name": "action",
         "rawType": "int64",
         "type": "integer"
        },
        {
         "name": "active",
         "rawType": "int64",
         "type": "integer"
        },
        {
         "name": "active foreign",
         "rawType": "int64",
         "type": "integer"
        },
        {
         "name": "active foreign agent",
         "rawType": "int64",
         "type": "integer"
        },
        {
         "name": "activism",
         "rawType": "int64",
         "type": "integer"
        },
        {
         "name": "activist",
         "rawType": "int64",
         "type": "integer"
        },
        {
         "name": "actor",
         "rawType": "int64",
         "type": "integer"
        },
        {
         "name": "actually",
         "rawType": "int64",
         "type": "integer"
        },
        {
         "name": "ad",
         "rawType": "int64",
         "type": "integer"
        },
        {
         "name": "adam",
         "rawType": "int64",
         "type": "integer"
        },
        {
         "name": "add",
         "rawType": "int64",
         "type": "integer"
        },
        {
         "name": "added",
         "rawType": "int64",
         "type": "integer"
        },
        {
         "name": "addiction",
         "rawType": "int64",
         "type": "integer"
        },
        {
         "name": "address",
         "rawType": "int64",
         "type": "integer"
        },
        {
         "name": "address breitbart",
         "rawType": "int64",
         "type": "integer"
        },
        {
         "name": "adhd",
         "rawType": "int64",
         "type": "integer"
        },
        {
         "name": "admin",
         "rawType": "int64",
         "type": "integer"
        },
        {
         "name": "administration",
         "rawType": "int64",
         "type": "integer"
        },
        {
         "name": "admiral",
         "rawType": "int64",
         "type": "integer"
        },
        {
         "name": "admit",
         "rawType": "int64",
         "type": "integer"
        },
        {
         "name": "admits",
         "rawType": "int64",
         "type": "integer"
        },
        {
         "name": "adult",
         "rawType": "int64",
         "type": "integer"
        },
        {
         "name": "advance",
         "rawType": "int64",
         "type": "integer"
        },
        {
         "name": "adviser",
         "rawType": "int64",
         "type": "integer"
        },
        {
         "name": "adviser new",
         "rawType": "int64",
         "type": "integer"
        },
        {
         "name": "adviser new york",
         "rawType": "int64",
         "type": "integer"
        },
        {
         "name": "advisor",
         "rawType": "int64",
         "type": "integer"
        },
        {
         "name": "advocate",
         "rawType": "int64",
         "type": "integer"
        },
        {
         "name": "affair",
         "rawType": "int64",
         "type": "integer"
        },
        {
         "name": "affect",
         "rawType": "int64",
         "type": "integer"
        },
        {
         "name": "affordable",
         "rawType": "int64",
         "type": "integer"
        },
        {
         "name": "affordable care",
         "rawType": "int64",
         "type": "integer"
        },
        {
         "name": "affordable care act",
         "rawType": "int64",
         "type": "integer"
        },
        {
         "name": "afghan",
         "rawType": "int64",
         "type": "integer"
        },
        {
         "name": "afghanistan",
         "rawType": "int64",
         "type": "integer"
        },
        {
         "name": "afraid",
         "rawType": "int64",
         "type": "integer"
        },
        {
         "name": "africa",
         "rawType": "int64",
         "type": "integer"
        },
        {
         "name": "african",
         "rawType": "int64",
         "type": "integer"
        },
        {
         "name": "african american",
         "rawType": "int64",
         "type": "integer"
        },
        {
         "name": "ag",
         "rawType": "int64",
         "type": "integer"
        },
        {
         "name": "age",
         "rawType": "int64",
         "type": "integer"
        },
        {
         "name": "age new",
         "rawType": "int64",
         "type": "integer"
        },
        {
         "name": "age new york",
         "rawType": "int64",
         "type": "integer"
        },
        {
         "name": "agency",
         "rawType": "int64",
         "type": "integer"
        },
        {
         "name": "agenda",
         "rawType": "int64",
         "type": "integer"
        },
        {
         "name": "agent",
         "rawType": "int64",
         "type": "integer"
        },
        {
         "name": "agent saudi",
         "rawType": "int64",
         "type": "integer"
        },
        {
         "name": "agent saudi arabian",
         "rawType": "int64",
         "type": "integer"
        },
        {
         "name": "ago",
         "rawType": "int64",
         "type": "integer"
        },
        {
         "name": "agree",
         "rawType": "int64",
         "type": "integer"
        },
        {
         "name": "agreement",
         "rawType": "int64",
         "type": "integer"
        },
        {
         "name": "agrees",
         "rawType": "int64",
         "type": "integer"
        },
        {
         "name": "ahead",
         "rawType": "int64",
         "type": "integer"
        },
        {
         "name": "ai",
         "rawType": "int64",
         "type": "integer"
        },
        {
         "name": "aid",
         "rawType": "int64",
         "type": "integer"
        },
        {
         "name": "aide",
         "rawType": "int64",
         "type": "integer"
        },
        {
         "name": "ailes",
         "rawType": "int64",
         "type": "integer"
        },
        {
         "name": "aim",
         "rawType": "int64",
         "type": "integer"
        },
        {
         "name": "aimed",
         "rawType": "int64",
         "type": "integer"
        },
        {
         "name": "air",
         "rawType": "int64",
         "type": "integer"
        },
        {
         "name": "air force",
         "rawType": "int64",
         "type": "integer"
        },
        {
         "name": "airbnb",
         "rawType": "int64",
         "type": "integer"
        },
        {
         "name": "aircraft",
         "rawType": "int64",
         "type": "integer"
        },
        {
         "name": "airline",
         "rawType": "int64",
         "type": "integer"
        },
        {
         "name": "airport",
         "rawType": "int64",
         "type": "integer"
        },
        {
         "name": "airport security",
         "rawType": "int64",
         "type": "integer"
        },
        {
         "name": "airstrike",
         "rawType": "int64",
         "type": "integer"
        },
        {
         "name": "airstrikes",
         "rawType": "int64",
         "type": "integer"
        },
        {
         "name": "akbar",
         "rawType": "int64",
         "type": "integer"
        },
        {
         "name": "al",
         "rawType": "int64",
         "type": "integer"
        },
        {
         "name": "al aqsa",
         "rawType": "int64",
         "type": "integer"
        },
        {
         "name": "al aqsa mosque",
         "rawType": "int64",
         "type": "integer"
        },
        {
         "name": "al qaeda",
         "rawType": "int64",
         "type": "integer"
        },
        {
         "name": "alabama",
         "rawType": "int64",
         "type": "integer"
        },
        {
         "name": "alarm",
         "rawType": "int64",
         "type": "integer"
        },
        {
         "name": "alec",
         "rawType": "int64",
         "type": "integer"
        },
        {
         "name": "alec baldwin",
         "rawType": "int64",
         "type": "integer"
        },
        {
         "name": "aleppo",
         "rawType": "int64",
         "type": "integer"
        },
        {
         "name": "aleppo new",
         "rawType": "int64",
         "type": "integer"
        },
        {
         "name": "aleppo new york",
         "rawType": "int64",
         "type": "integer"
        },
        {
         "name": "alert",
         "rawType": "int64",
         "type": "integer"
        },
        {
         "name": "alex",
         "rawType": "int64",
         "type": "integer"
        },
        {
         "name": "ali",
         "rawType": "int64",
         "type": "integer"
        },
        {
         "name": "alien",
         "rawType": "int64",
         "type": "integer"
        },
        {
         "name": "alien muslim",
         "rawType": "int64",
         "type": "integer"
        },
        {
         "name": "alive",
         "rawType": "int64",
         "type": "integer"
        },
        {
         "name": "allah",
         "rawType": "int64",
         "type": "integer"
        },
        {
         "name": "allahu",
         "rawType": "int64",
         "type": "integer"
        },
        {
         "name": "allahu akbar",
         "rawType": "int64",
         "type": "integer"
        },
        {
         "name": "allegation",
         "rawType": "int64",
         "type": "integer"
        },
        {
         "name": "alleged",
         "rawType": "int64",
         "type": "integer"
        },
        {
         "name": "allegedly",
         "rawType": "int64",
         "type": "integer"
        },
        {
         "name": "allen",
         "rawType": "int64",
         "type": "integer"
        },
        {
         "name": "allergy",
         "rawType": "int64",
         "type": "integer"
        },
        {
         "name": "alliance",
         "rawType": "int64",
         "type": "integer"
        },
        {
         "name": "allow",
         "rawType": "int64",
         "type": "integer"
        },
        {
         "name": "allowed",
         "rawType": "int64",
         "type": "integer"
        },
        {
         "name": "allowing",
         "rawType": "int64",
         "type": "integer"
        },
        {
         "name": "allows",
         "rawType": "int64",
         "type": "integer"
        },
        {
         "name": "ally",
         "rawType": "int64",
         "type": "integer"
        },
        {
         "name": "almost",
         "rawType": "int64",
         "type": "integer"
        },
        {
         "name": "alone",
         "rawType": "int64",
         "type": "integer"
        },
        {
         "name": "along",
         "rawType": "int64",
         "type": "integer"
        },
        {
         "name": "already",
         "rawType": "int64",
         "type": "integer"
        },
        {
         "name": "also",
         "rawType": "int64",
         "type": "integer"
        },
        {
         "name": "alt",
         "rawType": "int64",
         "type": "integer"
        },
        {
         "name": "alt right",
         "rawType": "int64",
         "type": "integer"
        },
        {
         "name": "alternative",
         "rawType": "int64",
         "type": "integer"
        },
        {
         "name": "always",
         "rawType": "int64",
         "type": "integer"
        },
        {
         "name": "amazing",
         "rawType": "int64",
         "type": "integer"
        },
        {
         "name": "amazon",
         "rawType": "int64",
         "type": "integer"
        },
        {
         "name": "ambassador",
         "rawType": "int64",
         "type": "integer"
        },
        {
         "name": "amendment",
         "rawType": "int64",
         "type": "integer"
        },
        {
         "name": "america",
         "rawType": "int64",
         "type": "integer"
        },
        {
         "name": "america breitbart",
         "rawType": "int64",
         "type": "integer"
        },
        {
         "name": "america first",
         "rawType": "int64",
         "type": "integer"
        },
        {
         "name": "america great",
         "rawType": "int64",
         "type": "integer"
        },
        {
         "name": "america new",
         "rawType": "int64",
         "type": "integer"
        },
        {
         "name": "america new york",
         "rawType": "int64",
         "type": "integer"
        },
        {
         "name": "american",
         "rawType": "int64",
         "type": "integer"
        },
        {
         "name": "american concerned",
         "rawType": "int64",
         "type": "integer"
        },
        {
         "name": "american concerned election",
         "rawType": "int64",
         "type": "integer"
        },
        {
         "name": "american election",
         "rawType": "int64",
         "type": "integer"
        },
        {
         "name": "american new",
         "rawType": "int64",
         "type": "integer"
        },
        {
         "name": "american new york",
         "rawType": "int64",
         "type": "integer"
        },
        {
         "name": "american people",
         "rawType": "int64",
         "type": "integer"
        },
        {
         "name": "amid",
         "rawType": "int64",
         "type": "integer"
        },
        {
         "name": "amnesty",
         "rawType": "int64",
         "type": "integer"
        },
        {
         "name": "among",
         "rawType": "int64",
         "type": "integer"
        },
        {
         "name": "amp",
         "rawType": "int64",
         "type": "integer"
        },
        {
         "name": "ampt",
         "rawType": "int64",
         "type": "integer"
        },
        {
         "name": "amy",
         "rawType": "int64",
         "type": "integer"
        },
        {
         "name": "amy schumer",
         "rawType": "int64",
         "type": "integer"
        },
        {
         "name": "analyst",
         "rawType": "int64",
         "type": "integer"
        },
        {
         "name": "anchor",
         "rawType": "int64",
         "type": "integer"
        },
        {
         "name": "ancient",
         "rawType": "int64",
         "type": "integer"
        },
        {
         "name": "anderson",
         "rawType": "int64",
         "type": "integer"
        },
        {
         "name": "anderson cooper",
         "rawType": "int64",
         "type": "integer"
        },
        {
         "name": "andrea",
         "rawType": "int64",
         "type": "integer"
        },
        {
         "name": "andrew",
         "rawType": "int64",
         "type": "integer"
        },
        {
         "name": "andy",
         "rawType": "int64",
         "type": "integer"
        },
        {
         "name": "angel",
         "rawType": "int64",
         "type": "integer"
        },
        {
         "name": "angela",
         "rawType": "int64",
         "type": "integer"
        },
        {
         "name": "angela merkel",
         "rawType": "int64",
         "type": "integer"
        },
        {
         "name": "angeles",
         "rawType": "int64",
         "type": "integer"
        },
        {
         "name": "angelina",
         "rawType": "int64",
         "type": "integer"
        },
        {
         "name": "angelina jolie",
         "rawType": "int64",
         "type": "integer"
        },
        {
         "name": "anger",
         "rawType": "int64",
         "type": "integer"
        },
        {
         "name": "angry",
         "rawType": "int64",
         "type": "integer"
        },
        {
         "name": "animal",
         "rawType": "int64",
         "type": "integer"
        },
        {
         "name": "ann",
         "rawType": "int64",
         "type": "integer"
        },
        {
         "name": "ann coulter",
         "rawType": "int64",
         "type": "integer"
        },
        {
         "name": "anniversary",
         "rawType": "int64",
         "type": "integer"
        },
        {
         "name": "announce",
         "rawType": "int64",
         "type": "integer"
        },
        {
         "name": "announced",
         "rawType": "int64",
         "type": "integer"
        },
        {
         "name": "announcement",
         "rawType": "int64",
         "type": "integer"
        },
        {
         "name": "announces",
         "rawType": "int64",
         "type": "integer"
        },
        {
         "name": "annual",
         "rawType": "int64",
         "type": "integer"
        },
        {
         "name": "anonymous",
         "rawType": "int64",
         "type": "integer"
        },
        {
         "name": "another",
         "rawType": "int64",
         "type": "integer"
        },
        {
         "name": "answer",
         "rawType": "int64",
         "type": "integer"
        },
        {
         "name": "anthem",
         "rawType": "int64",
         "type": "integer"
        },
        {
         "name": "anthony",
         "rawType": "int64",
         "type": "integer"
        },
        {
         "name": "anthony weiner",
         "rawType": "int64",
         "type": "integer"
        },
        {
         "name": "anti",
         "rawType": "int64",
         "type": "integer"
        },
        {
         "name": "anti israel",
         "rawType": "int64",
         "type": "integer"
        },
        {
         "name": "anti semitic",
         "rawType": "int64",
         "type": "integer"
        },
        {
         "name": "anti semitism",
         "rawType": "int64",
         "type": "integer"
        },
        {
         "name": "anti trump",
         "rawType": "int64",
         "type": "integer"
        },
        {
         "name": "anti trump protest",
         "rawType": "int64",
         "type": "integer"
        },
        {
         "name": "anti trump protester",
         "rawType": "int64",
         "type": "integer"
        },
        {
         "name": "anxious",
         "rawType": "int64",
         "type": "integer"
        },
        {
         "name": "anyone",
         "rawType": "int64",
         "type": "integer"
        },
        {
         "name": "anything",
         "rawType": "int64",
         "type": "integer"
        },
        {
         "name": "ap",
         "rawType": "int64",
         "type": "integer"
        },
        {
         "name": "apart",
         "rawType": "int64",
         "type": "integer"
        },
        {
         "name": "apocalypse",
         "rawType": "int64",
         "type": "integer"
        },
        {
         "name": "apologize",
         "rawType": "int64",
         "type": "integer"
        },
        {
         "name": "apologizes",
         "rawType": "int64",
         "type": "integer"
        },
        {
         "name": "apology",
         "rawType": "int64",
         "type": "integer"
        },
        {
         "name": "app",
         "rawType": "int64",
         "type": "integer"
        },
        {
         "name": "apparently",
         "rawType": "int64",
         "type": "integer"
        },
        {
         "name": "appeal",
         "rawType": "int64",
         "type": "integer"
        },
        {
         "name": "appear",
         "rawType": "int64",
         "type": "integer"
        },
        {
         "name": "appear standing",
         "rawType": "int64",
         "type": "integer"
        },
        {
         "name": "appear standing rock",
         "rawType": "int64",
         "type": "integer"
        },
        {
         "name": "appearance",
         "rawType": "int64",
         "type": "integer"
        },
        {
         "name": "appears",
         "rawType": "int64",
         "type": "integer"
        },
        {
         "name": "apple",
         "rawType": "int64",
         "type": "integer"
        },
        {
         "name": "apply",
         "rawType": "int64",
         "type": "integer"
        },
        {
         "name": "appoint",
         "rawType": "int64",
         "type": "integer"
        },
        {
         "name": "approach",
         "rawType": "int64",
         "type": "integer"
        },
        {
         "name": "approval",
         "rawType": "int64",
         "type": "integer"
        },
        {
         "name": "approve",
         "rawType": "int64",
         "type": "integer"
        },
        {
         "name": "approved",
         "rawType": "int64",
         "type": "integer"
        },
        {
         "name": "approves",
         "rawType": "int64",
         "type": "integer"
        },
        {
         "name": "apps",
         "rawType": "int64",
         "type": "integer"
        },
        {
         "name": "aqsa",
         "rawType": "int64",
         "type": "integer"
        },
        {
         "name": "aqsa mosque",
         "rawType": "int64",
         "type": "integer"
        },
        {
         "name": "arab",
         "rawType": "int64",
         "type": "integer"
        },
        {
         "name": "arabia",
         "rawType": "int64",
         "type": "integer"
        },
        {
         "name": "arabian",
         "rawType": "int64",
         "type": "integer"
        },
        {
         "name": "arabian payroll",
         "rawType": "int64",
         "type": "integer"
        },
        {
         "name": "architect",
         "rawType": "int64",
         "type": "integer"
        },
        {
         "name": "architecture",
         "rawType": "int64",
         "type": "integer"
        },
        {
         "name": "arctic",
         "rawType": "int64",
         "type": "integer"
        },
        {
         "name": "area",
         "rawType": "int64",
         "type": "integer"
        },
        {
         "name": "argument",
         "rawType": "int64",
         "type": "integer"
        },
        {
         "name": "ariel",
         "rawType": "int64",
         "type": "integer"
        },
        {
         "name": "ariel noyola",
         "rawType": "int64",
         "type": "integer"
        },
        {
         "name": "ariel noyola rodr",
         "rawType": "int64",
         "type": "integer"
        },
        {
         "name": "arizona",
         "rawType": "int64",
         "type": "integer"
        },
        {
         "name": "arm",
         "rawType": "int64",
         "type": "integer"
        },
        {
         "name": "armed",
         "rawType": "int64",
         "type": "integer"
        },
        {
         "name": "armstrong",
         "rawType": "int64",
         "type": "integer"
        },
        {
         "name": "army",
         "rawType": "int64",
         "type": "integer"
        },
        {
         "name": "around",
         "rawType": "int64",
         "type": "integer"
        },
        {
         "name": "arrest",
         "rawType": "int64",
         "type": "integer"
        },
        {
         "name": "arrested",
         "rawType": "int64",
         "type": "integer"
        },
        {
         "name": "arrival",
         "rawType": "int64",
         "type": "integer"
        },
        {
         "name": "arrive",
         "rawType": "int64",
         "type": "integer"
        },
        {
         "name": "arrives",
         "rawType": "int64",
         "type": "integer"
        },
        {
         "name": "arson",
         "rawType": "int64",
         "type": "integer"
        },
        {
         "name": "art",
         "rawType": "int64",
         "type": "integer"
        },
        {
         "name": "article",
         "rawType": "int64",
         "type": "integer"
        },
        {
         "name": "artist",
         "rawType": "int64",
         "type": "integer"
        },
        {
         "name": "asia",
         "rawType": "int64",
         "type": "integer"
        },
        {
         "name": "aside",
         "rawType": "int64",
         "type": "integer"
        },
        {
         "name": "ask",
         "rawType": "int64",
         "type": "integer"
        },
        {
         "name": "asked",
         "rawType": "int64",
         "type": "integer"
        },
        {
         "name": "asking",
         "rawType": "int64",
         "type": "integer"
        },
        {
         "name": "asks",
         "rawType": "int64",
         "type": "integer"
        },
        {
         "name": "assad",
         "rawType": "int64",
         "type": "integer"
        },
        {
         "name": "assails",
         "rawType": "int64",
         "type": "integer"
        },
        {
         "name": "assange",
         "rawType": "int64",
         "type": "integer"
        },
        {
         "name": "assassin",
         "rawType": "int64",
         "type": "integer"
        },
        {
         "name": "assassination",
         "rawType": "int64",
         "type": "integer"
        },
        {
         "name": "assault",
         "rawType": "int64",
         "type": "integer"
        },
        {
         "name": "assault weapon",
         "rawType": "int64",
         "type": "integer"
        },
        {
         "name": "assaulting",
         "rawType": "int64",
         "type": "integer"
        },
        {
         "name": "asset",
         "rawType": "int64",
         "type": "integer"
        },
        {
         "name": "assistant",
         "rawType": "int64",
         "type": "integer"
        },
        {
         "name": "associate",
         "rawType": "int64",
         "type": "integer"
        },
        {
         "name": "association",
         "rawType": "int64",
         "type": "integer"
        },
        {
         "name": "asteroid",
         "rawType": "int64",
         "type": "integer"
        },
        {
         "name": "asthma",
         "rawType": "int64",
         "type": "integer"
        },
        {
         "name": "asylum",
         "rawType": "int64",
         "type": "integer"
        },
        {
         "name": "asylum seeker",
         "rawType": "int64",
         "type": "integer"
        },
        {
         "name": "athlete",
         "rawType": "int64",
         "type": "integer"
        },
        {
         "name": "atlantic",
         "rawType": "int64",
         "type": "integer"
        },
        {
         "name": "attack",
         "rawType": "int64",
         "type": "integer"
        },
        {
         "name": "attack breitbart",
         "rawType": "int64",
         "type": "integer"
        },
        {
         "name": "attack new",
         "rawType": "int64",
         "type": "integer"
        },
        {
         "name": "attack new york",
         "rawType": "int64",
         "type": "integer"
        },
        {
         "name": "attack police",
         "rawType": "int64",
         "type": "integer"
        },
        {
         "name": "attack trump",
         "rawType": "int64",
         "type": "integer"
        },
        {
         "name": "attacked",
         "rawType": "int64",
         "type": "integer"
        },
        {
         "name": "attacker",
         "rawType": "int64",
         "type": "integer"
        },
        {
         "name": "attacking",
         "rawType": "int64",
         "type": "integer"
        },
        {
         "name": "attempt",
         "rawType": "int64",
         "type": "integer"
        },
        {
         "name": "attempted",
         "rawType": "int64",
         "type": "integer"
        },
        {
         "name": "attend",
         "rawType": "int64",
         "type": "integer"
        },
        {
         "name": "attention",
         "rawType": "int64",
         "type": "integer"
        },
        {
         "name": "attorney",
         "rawType": "int64",
         "type": "integer"
        },
        {
         "name": "attorney general",
         "rawType": "int64",
         "type": "integer"
        },
        {
         "name": "audio",
         "rawType": "int64",
         "type": "integer"
        },
        {
         "name": "audio hillary",
         "rawType": "int64",
         "type": "integer"
        },
        {
         "name": "audio hillary clinton",
         "rawType": "int64",
         "type": "integer"
        },
        {
         "name": "australia",
         "rawType": "int64",
         "type": "integer"
        },
        {
         "name": "australian",
         "rawType": "int64",
         "type": "integer"
        },
        {
         "name": "austria",
         "rawType": "int64",
         "type": "integer"
        },
        {
         "name": "author",
         "rawType": "int64",
         "type": "integer"
        },
        {
         "name": "authority",
         "rawType": "int64",
         "type": "integer"
        },
        {
         "name": "autism",
         "rawType": "int64",
         "type": "integer"
        },
        {
         "name": "auto",
         "rawType": "int64",
         "type": "integer"
        },
        {
         "name": "available",
         "rawType": "int64",
         "type": "integer"
        },
        {
         "name": "average",
         "rawType": "int64",
         "type": "integer"
        },
        {
         "name": "avoid",
         "rawType": "int64",
         "type": "integer"
        },
        {
         "name": "avoids",
         "rawType": "int64",
         "type": "integer"
        },
        {
         "name": "awaits",
         "rawType": "int64",
         "type": "integer"
        },
        {
         "name": "awakening",
         "rawType": "int64",
         "type": "integer"
        },
        {
         "name": "award",
         "rawType": "int64",
         "type": "integer"
        },
        {
         "name": "away",
         "rawType": "int64",
         "type": "integer"
        },
        {
         "name": "away new",
         "rawType": "int64",
         "type": "integer"
        },
        {
         "name": "away new york",
         "rawType": "int64",
         "type": "integer"
        },
        {
         "name": "awesome",
         "rawType": "int64",
         "type": "integer"
        },
        {
         "name": "baby",
         "rawType": "int64",
         "type": "integer"
        },
        {
         "name": "back",
         "rawType": "int64",
         "type": "integer"
        },
        {
         "name": "back new",
         "rawType": "int64",
         "type": "integer"
        },
        {
         "name": "back new york",
         "rawType": "int64",
         "type": "integer"
        },
        {
         "name": "backed",
         "rawType": "int64",
         "type": "integer"
        },
        {
         "name": "backer",
         "rawType": "int64",
         "type": "integer"
        },
        {
         "name": "backfire",
         "rawType": "int64",
         "type": "integer"
        },
        {
         "name": "backlash",
         "rawType": "int64",
         "type": "integer"
        },
        {
         "name": "bad",
         "rawType": "int64",
         "type": "integer"
        },
        {
         "name": "bad news",
         "rawType": "int64",
         "type": "integer"
        },
        {
         "name": "badge",
         "rawType": "int64",
         "type": "integer"
        },
        {
         "name": "badly",
         "rawType": "int64",
         "type": "integer"
        },
        {
         "name": "bag",
         "rawType": "int64",
         "type": "integer"
        },
        {
         "name": "baghdad",
         "rawType": "int64",
         "type": "integer"
        },
        {
         "name": "bake",
         "rawType": "int64",
         "type": "integer"
        },
        {
         "name": "baldwin",
         "rawType": "int64",
         "type": "integer"
        },
        {
         "name": "ball",
         "rawType": "int64",
         "type": "integer"
        },
        {
         "name": "ballistic",
         "rawType": "int64",
         "type": "integer"
        },
        {
         "name": "ballistic missile",
         "rawType": "int64",
         "type": "integer"
        },
        {
         "name": "ballot",
         "rawType": "int64",
         "type": "integer"
        },
        {
         "name": "baltimore",
         "rawType": "int64",
         "type": "integer"
        },
        {
         "name": "ban",
         "rawType": "int64",
         "type": "integer"
        },
        {
         "name": "ban new",
         "rawType": "int64",
         "type": "integer"
        },
        {
         "name": "ban new york",
         "rawType": "int64",
         "type": "integer"
        },
        {
         "name": "banana",
         "rawType": "int64",
         "type": "integer"
        },
        {
         "name": "banana republic",
         "rawType": "int64",
         "type": "integer"
        },
        {
         "name": "bangladesh",
         "rawType": "int64",
         "type": "integer"
        },
        {
         "name": "bank",
         "rawType": "int64",
         "type": "integer"
        },
        {
         "name": "banker",
         "rawType": "int64",
         "type": "integer"
        },
        {
         "name": "banking",
         "rawType": "int64",
         "type": "integer"
        },
        {
         "name": "banned",
         "rawType": "int64",
         "type": "integer"
        },
        {
         "name": "bannon",
         "rawType": "int64",
         "type": "integer"
        },
        {
         "name": "bar",
         "rawType": "int64",
         "type": "integer"
        },
        {
         "name": "barack",
         "rawType": "int64",
         "type": "integer"
        },
        {
         "name": "barack obama",
         "rawType": "int64",
         "type": "integer"
        },
        {
         "name": "barrier",
         "rawType": "int64",
         "type": "integer"
        },
        {
         "name": "barron",
         "rawType": "int64",
         "type": "integer"
        },
        {
         "name": "barron trump",
         "rawType": "int64",
         "type": "integer"
        },
        {
         "name": "base",
         "rawType": "int64",
         "type": "integer"
        },
        {
         "name": "baseball",
         "rawType": "int64",
         "type": "integer"
        },
        {
         "name": "based",
         "rawType": "int64",
         "type": "integer"
        },
        {
         "name": "basic",
         "rawType": "int64",
         "type": "integer"
        },
        {
         "name": "basketball",
         "rawType": "int64",
         "type": "integer"
        },
        {
         "name": "bathroom",
         "rawType": "int64",
         "type": "integer"
        },
        {
         "name": "baton",
         "rawType": "int64",
         "type": "integer"
        },
        {
         "name": "baton rouge",
         "rawType": "int64",
         "type": "integer"
        },
        {
         "name": "battery",
         "rawType": "int64",
         "type": "integer"
        },
        {
         "name": "battle",
         "rawType": "int64",
         "type": "integer"
        },
        {
         "name": "battle new",
         "rawType": "int64",
         "type": "integer"
        },
        {
         "name": "battle new york",
         "rawType": "int64",
         "type": "integer"
        },
        {
         "name": "battleground",
         "rawType": "int64",
         "type": "integer"
        },
        {
         "name": "bbc",
         "rawType": "int64",
         "type": "integer"
        },
        {
         "name": "beach",
         "rawType": "int64",
         "type": "integer"
        },
        {
         "name": "beach new",
         "rawType": "int64",
         "type": "integer"
        },
        {
         "name": "beach new york",
         "rawType": "int64",
         "type": "integer"
        },
        {
         "name": "bear",
         "rawType": "int64",
         "type": "integer"
        },
        {
         "name": "beast",
         "rawType": "int64",
         "type": "integer"
        },
        {
         "name": "beat",
         "rawType": "int64",
         "type": "integer"
        },
        {
         "name": "beaten",
         "rawType": "int64",
         "type": "integer"
        },
        {
         "name": "beating",
         "rawType": "int64",
         "type": "integer"
        },
        {
         "name": "beautiful",
         "rawType": "int64",
         "type": "integer"
        },
        {
         "name": "beauty",
         "rawType": "int64",
         "type": "integer"
        },
        {
         "name": "became",
         "rawType": "int64",
         "type": "integer"
        },
        {
         "name": "become",
         "rawType": "int64",
         "type": "integer"
        },
        {
         "name": "becomes",
         "rawType": "int64",
         "type": "integer"
        },
        {
         "name": "becoming",
         "rawType": "int64",
         "type": "integer"
        },
        {
         "name": "bee",
         "rawType": "int64",
         "type": "integer"
        },
        {
         "name": "begin",
         "rawType": "int64",
         "type": "integer"
        },
        {
         "name": "begin new",
         "rawType": "int64",
         "type": "integer"
        },
        {
         "name": "begun",
         "rawType": "int64",
         "type": "integer"
        },
        {
         "name": "behavior",
         "rawType": "int64",
         "type": "integer"
        },
        {
         "name": "beheading",
         "rawType": "int64",
         "type": "integer"
        },
        {
         "name": "beheading photo",
         "rawType": "int64",
         "type": "integer"
        },
        {
         "name": "behind",
         "rawType": "int64",
         "type": "integer"
        },
        {
         "name": "beijing",
         "rawType": "int64",
         "type": "integer"
        },
        {
         "name": "belief",
         "rawType": "int64",
         "type": "integer"
        },
        {
         "name": "believe",
         "rawType": "int64",
         "type": "integer"
        },
        {
         "name": "ben",
         "rawType": "int64",
         "type": "integer"
        },
        {
         "name": "benefit",
         "rawType": "int64",
         "type": "integer"
        },
        {
         "name": "benghazi",
         "rawType": "int64",
         "type": "integer"
        },
        {
         "name": "berkeley",
         "rawType": "int64",
         "type": "integer"
        },
        {
         "name": "berlin",
         "rawType": "int64",
         "type": "integer"
        },
        {
         "name": "bernie",
         "rawType": "int64",
         "type": "integer"
        },
        {
         "name": "bernie sander",
         "rawType": "int64",
         "type": "integer"
        },
        {
         "name": "best",
         "rawType": "int64",
         "type": "integer"
        },
        {
         "name": "best kind",
         "rawType": "int64",
         "type": "integer"
        },
        {
         "name": "bet",
         "rawType": "int64",
         "type": "integer"
        },
        {
         "name": "betrayal",
         "rawType": "int64",
         "type": "integer"
        },
        {
         "name": "betsy",
         "rawType": "int64",
         "type": "integer"
        },
        {
         "name": "betsy devos",
         "rawType": "int64",
         "type": "integer"
        },
        {
         "name": "better",
         "rawType": "int64",
         "type": "integer"
        },
        {
         "name": "beware",
         "rawType": "int64",
         "type": "integer"
        },
        {
         "name": "beyonc",
         "rawType": "int64",
         "type": "integer"
        },
        {
         "name": "beyond",
         "rawType": "int64",
         "type": "integer"
        },
        {
         "name": "bias",
         "rawType": "int64",
         "type": "integer"
        },
        {
         "name": "bible",
         "rawType": "int64",
         "type": "integer"
        },
        {
         "name": "bid",
         "rawType": "int64",
         "type": "integer"
        },
        {
         "name": "bid new",
         "rawType": "int64",
         "type": "integer"
        },
        {
         "name": "bid new york",
         "rawType": "int64",
         "type": "integer"
        },
        {
         "name": "biden",
         "rawType": "int64",
         "type": "integer"
        },
        {
         "name": "big",
         "rawType": "int64",
         "type": "integer"
        },
        {
         "name": "big pharma",
         "rawType": "int64",
         "type": "integer"
        },
        {
         "name": "bigger",
         "rawType": "int64",
         "type": "integer"
        },
        {
         "name": "biggest",
         "rawType": "int64",
         "type": "integer"
        },
        {
         "name": "bill",
         "rawType": "int64",
         "type": "integer"
        },
        {
         "name": "bill breitbart",
         "rawType": "int64",
         "type": "integer"
        },
        {
         "name": "bill clinton",
         "rawType": "int64",
         "type": "integer"
        },
        {
         "name": "bill cosby",
         "rawType": "int64",
         "type": "integer"
        },
        {
         "name": "bill maher",
         "rawType": "int64",
         "type": "integer"
        },
        {
         "name": "bill new",
         "rawType": "int64",
         "type": "integer"
        },
        {
         "name": "bill new york",
         "rawType": "int64",
         "type": "integer"
        },
        {
         "name": "bill reilly",
         "rawType": "int64",
         "type": "integer"
        },
        {
         "name": "billion",
         "rawType": "int64",
         "type": "integer"
        },
        {
         "name": "billionaire",
         "rawType": "int64",
         "type": "integer"
        },
        {
         "name": "billy",
         "rawType": "int64",
         "type": "integer"
        },
        {
         "name": "bin",
         "rawType": "int64",
         "type": "integer"
        },
        {
         "name": "bin laden",
         "rawType": "int64",
         "type": "integer"
        },
        {
         "name": "bird",
         "rawType": "int64",
         "type": "integer"
        },
        {
         "name": "birth",
         "rawType": "int64",
         "type": "integer"
        },
        {
         "name": "birthday",
         "rawType": "int64",
         "type": "integer"
        },
        {
         "name": "bison",
         "rawType": "int64",
         "type": "integer"
        },
        {
         "name": "bit",
         "rawType": "int64",
         "type": "integer"
        },
        {
         "name": "bitter",
         "rawType": "int64",
         "type": "integer"
        },
        {
         "name": "black",
         "rawType": "int64",
         "type": "integer"
        },
        {
         "name": "black hole",
         "rawType": "int64",
         "type": "integer"
        },
        {
         "name": "black life",
         "rawType": "int64",
         "type": "integer"
        },
        {
         "name": "black life matter",
         "rawType": "int64",
         "type": "integer"
        },
        {
         "name": "black voter",
         "rawType": "int64",
         "type": "integer"
        },
        {
         "name": "black woman",
         "rawType": "int64",
         "type": "integer"
        },
        {
         "name": "blackout",
         "rawType": "int64",
         "type": "integer"
        },
        {
         "name": "blame",
         "rawType": "int64",
         "type": "integer"
        },
        {
         "name": "blasio",
         "rawType": "int64",
         "type": "integer"
        },
        {
         "name": "blast",
         "rawType": "int64",
         "type": "integer"
        },
        {
         "name": "blast trump",
         "rawType": "int64",
         "type": "integer"
        },
        {
         "name": "blind",
         "rawType": "int64",
         "type": "integer"
        },
        {
         "name": "blm",
         "rawType": "int64",
         "type": "integer"
        },
        {
         "name": "block",
         "rawType": "int64",
         "type": "integer"
        },
        {
         "name": "block trump",
         "rawType": "int64",
         "type": "integer"
        },
        {
         "name": "blockbuster",
         "rawType": "int64",
         "type": "integer"
        },
        {
         "name": "blocked",
         "rawType": "int64",
         "type": "integer"
        },
        {
         "name": "blocking",
         "rawType": "int64",
         "type": "integer"
        },
        {
         "name": "blog",
         "rawType": "int64",
         "type": "integer"
        },
        {
         "name": "blog review",
         "rawType": "int64",
         "type": "integer"
        },
        {
         "name": "blood",
         "rawType": "int64",
         "type": "integer"
        },
        {
         "name": "bloody",
         "rawType": "int64",
         "type": "integer"
        },
        {
         "name": "bloomberg",
         "rawType": "int64",
         "type": "integer"
        },
        {
         "name": "blow",
         "rawType": "int64",
         "type": "integer"
        },
        {
         "name": "blowing",
         "rawType": "int64",
         "type": "integer"
        },
        {
         "name": "blue",
         "rawType": "int64",
         "type": "integer"
        },
        {
         "name": "blue state",
         "rawType": "int64",
         "type": "integer"
        },
        {
         "name": "blue state blue",
         "rawType": "int64",
         "type": "integer"
        },
        {
         "name": "blunt",
         "rawType": "int64",
         "type": "integer"
        },
        {
         "name": "board",
         "rawType": "int64",
         "type": "integer"
        },
        {
         "name": "boat",
         "rawType": "int64",
         "type": "integer"
        },
        {
         "name": "bob",
         "rawType": "int64",
         "type": "integer"
        },
        {
         "name": "bob dylan",
         "rawType": "int64",
         "type": "integer"
        },
        {
         "name": "body",
         "rawType": "int64",
         "type": "integer"
        },
        {
         "name": "boeing",
         "rawType": "int64",
         "type": "integer"
        },
        {
         "name": "boko",
         "rawType": "int64",
         "type": "integer"
        },
        {
         "name": "boko haram",
         "rawType": "int64",
         "type": "integer"
        },
        {
         "name": "bolster",
         "rawType": "int64",
         "type": "integer"
        },
        {
         "name": "bolton",
         "rawType": "int64",
         "type": "integer"
        },
        {
         "name": "bomb",
         "rawType": "int64",
         "type": "integer"
        },
        {
         "name": "bomber",
         "rawType": "int64",
         "type": "integer"
        },
        {
         "name": "bombing",
         "rawType": "int64",
         "type": "integer"
        },
        {
         "name": "bombshell",
         "rawType": "int64",
         "type": "integer"
        },
        {
         "name": "bombshell audio",
         "rawType": "int64",
         "type": "integer"
        },
        {
         "name": "bond",
         "rawType": "int64",
         "type": "integer"
        },
        {
         "name": "bonus",
         "rawType": "int64",
         "type": "integer"
        },
        {
         "name": "book",
         "rawType": "int64",
         "type": "integer"
        },
        {
         "name": "boom",
         "rawType": "int64",
         "type": "integer"
        },
        {
         "name": "boost",
         "rawType": "int64",
         "type": "integer"
        },
        {
         "name": "border",
         "rawType": "int64",
         "type": "integer"
        },
        {
         "name": "border city",
         "rawType": "int64",
         "type": "integer"
        },
        {
         "name": "border patrol",
         "rawType": "int64",
         "type": "integer"
        },
        {
         "name": "border patrol agent",
         "rawType": "int64",
         "type": "integer"
        },
        {
         "name": "border state",
         "rawType": "int64",
         "type": "integer"
        },
        {
         "name": "border wall",
         "rawType": "int64",
         "type": "integer"
        },
        {
         "name": "border wall breitbart",
         "rawType": "int64",
         "type": "integer"
        },
        {
         "name": "born",
         "rawType": "int64",
         "type": "integer"
        },
        {
         "name": "bos",
         "rawType": "int64",
         "type": "integer"
        },
        {
         "name": "bottom",
         "rawType": "int64",
         "type": "integer"
        },
        {
         "name": "bowl",
         "rawType": "int64",
         "type": "integer"
        },
        {
         "name": "box",
         "rawType": "int64",
         "type": "integer"
        },
        {
         "name": "box office",
         "rawType": "int64",
         "type": "integer"
        },
        {
         "name": "boy",
         "rawType": "int64",
         "type": "integer"
        },
        {
         "name": "boycott",
         "rawType": "int64",
         "type": "integer"
        },
        {
         "name": "boyfriend",
         "rawType": "int64",
         "type": "integer"
        },
        {
         "name": "brace",
         "rawType": "int64",
         "type": "integer"
        },
        {
         "name": "bracket",
         "rawType": "int64",
         "type": "integer"
        },
        {
         "name": "brad",
         "rawType": "int64",
         "type": "integer"
        },
        {
         "name": "brady",
         "rawType": "int64",
         "type": "integer"
        },
        {
         "name": "brain",
         "rawType": "int64",
         "type": "integer"
        },
        {
         "name": "branch",
         "rawType": "int64",
         "type": "integer"
        },
        {
         "name": "brand",
         "rawType": "int64",
         "type": "integer"
        },
        {
         "name": "brave",
         "rawType": "int64",
         "type": "integer"
        },
        {
         "name": "brawl",
         "rawType": "int64",
         "type": "integer"
        },
        {
         "name": "brazil",
         "rawType": "int64",
         "type": "integer"
        },
        {
         "name": "brazile",
         "rawType": "int64",
         "type": "integer"
        },
        {
         "name": "brazilian",
         "rawType": "int64",
         "type": "integer"
        },
        {
         "name": "break",
         "rawType": "int64",
         "type": "integer"
        },
        {
         "name": "break cycle",
         "rawType": "int64",
         "type": "integer"
        },
        {
         "name": "break cycle human",
         "rawType": "int64",
         "type": "integer"
        },
        {
         "name": "breakdown",
         "rawType": "int64",
         "type": "integer"
        },
        {
         "name": "breaking",
         "rawType": "int64",
         "type": "integer"
        },
        {
         "name": "breaking fbi",
         "rawType": "int64",
         "type": "integer"
        },
        {
         "name": "breaking hillary",
         "rawType": "int64",
         "type": "integer"
        },
        {
         "name": "breaking trump",
         "rawType": "int64",
         "type": "integer"
        },
        {
         "name": "breaking wikileaks",
         "rawType": "int64",
         "type": "integer"
        },
        {
         "name": "breast",
         "rawType": "int64",
         "type": "integer"
        },
        {
         "name": "breast cancer",
         "rawType": "int64",
         "type": "integer"
        },
        {
         "name": "breitbart",
         "rawType": "int64",
         "type": "integer"
        },
        {
         "name": "breitbart news",
         "rawType": "int64",
         "type": "integer"
        },
        {
         "name": "breitbart news daily",
         "rawType": "int64",
         "type": "integer"
        },
        {
         "name": "brexit",
         "rawType": "int64",
         "type": "integer"
        },
        {
         "name": "brian",
         "rawType": "int64",
         "type": "integer"
        },
        {
         "name": "bribery",
         "rawType": "int64",
         "type": "integer"
        },
        {
         "name": "brick",
         "rawType": "int64",
         "type": "integer"
        },
        {
         "name": "bridge",
         "rawType": "int64",
         "type": "integer"
        },
        {
         "name": "brief",
         "rawType": "int64",
         "type": "integer"
        },
        {
         "name": "briefing",
         "rawType": "int64",
         "type": "integer"
        },
        {
         "name": "briefing new",
         "rawType": "int64",
         "type": "integer"
        },
        {
         "name": "briefing new york",
         "rawType": "int64",
         "type": "integer"
        },
        {
         "name": "brilliant",
         "rawType": "int64",
         "type": "integer"
        },
        {
         "name": "bring",
         "rawType": "int64",
         "type": "integer"
        },
        {
         "name": "bringing",
         "rawType": "int64",
         "type": "integer"
        },
        {
         "name": "brings",
         "rawType": "int64",
         "type": "integer"
        },
        {
         "name": "brink",
         "rawType": "int64",
         "type": "integer"
        },
        {
         "name": "britain",
         "rawType": "int64",
         "type": "integer"
        },
        {
         "name": "british",
         "rawType": "int64",
         "type": "integer"
        },
        {
         "name": "broadcast",
         "rawType": "int64",
         "type": "integer"
        },
        {
         "name": "broadway",
         "rawType": "int64",
         "type": "integer"
        },
        {
         "name": "broiles",
         "rawType": "int64",
         "type": "integer"
        },
        {
         "name": "broke",
         "rawType": "int64",
         "type": "integer"
        },
        {
         "name": "broken",
         "rawType": "int64",
         "type": "integer"
        },
        {
         "name": "bronx",
         "rawType": "int64",
         "type": "integer"
        },
        {
         "name": "brook",
         "rawType": "int64",
         "type": "integer"
        },
        {
         "name": "brooklyn",
         "rawType": "int64",
         "type": "integer"
        },
        {
         "name": "brooklyn new",
         "rawType": "int64",
         "type": "integer"
        },
        {
         "name": "brooklyn new york",
         "rawType": "int64",
         "type": "integer"
        },
        {
         "name": "brother",
         "rawType": "int64",
         "type": "integer"
        },
        {
         "name": "brotherhood",
         "rawType": "int64",
         "type": "integer"
        },
        {
         "name": "brown",
         "rawType": "int64",
         "type": "integer"
        },
        {
         "name": "brussels",
         "rawType": "int64",
         "type": "integer"
        },
        {
         "name": "brutal",
         "rawType": "int64",
         "type": "integer"
        },
        {
         "name": "bubble",
         "rawType": "int64",
         "type": "integer"
        },
        {
         "name": "budget",
         "rawType": "int64",
         "type": "integer"
        },
        {
         "name": "budget cut",
         "rawType": "int64",
         "type": "integer"
        },
        {
         "name": "buffalo",
         "rawType": "int64",
         "type": "integer"
        },
        {
         "name": "build",
         "rawType": "int64",
         "type": "integer"
        },
        {
         "name": "building",
         "rawType": "int64",
         "type": "integer"
        },
        {
         "name": "buildup",
         "rawType": "int64",
         "type": "integer"
        },
        {
         "name": "built",
         "rawType": "int64",
         "type": "integer"
        },
        {
         "name": "bullet",
         "rawType": "int64",
         "type": "integer"
        },
        {
         "name": "bully",
         "rawType": "int64",
         "type": "integer"
        },
        {
         "name": "bundy",
         "rawType": "int64",
         "type": "integer"
        },
        {
         "name": "bundy brother",
         "rawType": "int64",
         "type": "integer"
        },
        {
         "name": "bureaucrat",
         "rawType": "int64",
         "type": "integer"
        },
        {
         "name": "burial",
         "rawType": "int64",
         "type": "integer"
        },
        {
         "name": "burn",
         "rawType": "int64",
         "type": "integer"
        },
        {
         "name": "bus",
         "rawType": "int64",
         "type": "integer"
        },
        {
         "name": "bush",
         "rawType": "int64",
         "type": "integer"
        },
        {
         "name": "business",
         "rawType": "int64",
         "type": "integer"
        },
        {
         "name": "bust",
         "rawType": "int64",
         "type": "integer"
        },
        {
         "name": "busted",
         "rawType": "int64",
         "type": "integer"
        },
        {
         "name": "button",
         "rawType": "int64",
         "type": "integer"
        },
        {
         "name": "buy",
         "rawType": "int64",
         "type": "integer"
        },
        {
         "name": "buying",
         "rawType": "int64",
         "type": "integer"
        },
        {
         "name": "buzz",
         "rawType": "int64",
         "type": "integer"
        },
        {
         "name": "buzzfeed",
         "rawType": "int64",
         "type": "integer"
        },
        {
         "name": "cabinet",
         "rawType": "int64",
         "type": "integer"
        },
        {
         "name": "cabinet pick",
         "rawType": "int64",
         "type": "integer"
        },
        {
         "name": "cable",
         "rawType": "int64",
         "type": "integer"
        },
        {
         "name": "cafe",
         "rawType": "int64",
         "type": "integer"
        },
        {
         "name": "caitlyn",
         "rawType": "int64",
         "type": "integer"
        },
        {
         "name": "caitlyn jenner",
         "rawType": "int64",
         "type": "integer"
        },
        {
         "name": "calais",
         "rawType": "int64",
         "type": "integer"
        },
        {
         "name": "california",
         "rawType": "int64",
         "type": "integer"
        },
        {
         "name": "california today",
         "rawType": "int64",
         "type": "integer"
        },
        {
         "name": "call",
         "rawType": "int64",
         "type": "integer"
        },
        {
         "name": "call trump",
         "rawType": "int64",
         "type": "integer"
        },
        {
         "name": "called",
         "rawType": "int64",
         "type": "integer"
        },
        {
         "name": "calling",
         "rawType": "int64",
         "type": "integer"
        },
        {
         "name": "cam",
         "rawType": "int64",
         "type": "integer"
        },
        {
         "name": "came",
         "rawType": "int64",
         "type": "integer"
        },
        {
         "name": "camera",
         "rawType": "int64",
         "type": "integer"
        },
        {
         "name": "camp",
         "rawType": "int64",
         "type": "integer"
        },
        {
         "name": "campaign",
         "rawType": "int64",
         "type": "integer"
        },
        {
         "name": "campaign breitbart",
         "rawType": "int64",
         "type": "integer"
        },
        {
         "name": "campaign chair",
         "rawType": "int64",
         "type": "integer"
        },
        {
         "name": "campaign new",
         "rawType": "int64",
         "type": "integer"
        },
        {
         "name": "campaign new york",
         "rawType": "int64",
         "type": "integer"
        },
        {
         "name": "campus",
         "rawType": "int64",
         "type": "integer"
        },
        {
         "name": "campus breitbart",
         "rawType": "int64",
         "type": "integer"
        },
        {
         "name": "canada",
         "rawType": "int64",
         "type": "integer"
        },
        {
         "name": "canadian",
         "rawType": "int64",
         "type": "integer"
        },
        {
         "name": "cancel",
         "rawType": "int64",
         "type": "integer"
        },
        {
         "name": "cancelled",
         "rawType": "int64",
         "type": "integer"
        },
        {
         "name": "cancer",
         "rawType": "int64",
         "type": "integer"
        },
        {
         "name": "candidate",
         "rawType": "int64",
         "type": "integer"
        },
        {
         "name": "cannabis",
         "rawType": "int64",
         "type": "integer"
        },
        {
         "name": "cannot",
         "rawType": "int64",
         "type": "integer"
        },
        {
         "name": "capital",
         "rawType": "int64",
         "type": "integer"
        },
        {
         "name": "capitalism",
         "rawType": "int64",
         "type": "integer"
        },
        {
         "name": "capitol",
         "rawType": "int64",
         "type": "integer"
        },
        {
         "name": "capitol hill",
         "rawType": "int64",
         "type": "integer"
        },
        {
         "name": "capture",
         "rawType": "int64",
         "type": "integer"
        },
        {
         "name": "car",
         "rawType": "int64",
         "type": "integer"
        },
        {
         "name": "card",
         "rawType": "int64",
         "type": "integer"
        },
        {
         "name": "care",
         "rawType": "int64",
         "type": "integer"
        },
        {
         "name": "care act",
         "rawType": "int64",
         "type": "integer"
        },
        {
         "name": "care act new",
         "rawType": "int64",
         "type": "integer"
        },
        {
         "name": "care bill",
         "rawType": "int64",
         "type": "integer"
        },
        {
         "name": "care breitbart",
         "rawType": "int64",
         "type": "integer"
        },
        {
         "name": "career",
         "rawType": "int64",
         "type": "integer"
        },
        {
         "name": "carlson",
         "rawType": "int64",
         "type": "integer"
        },
        {
         "name": "carolina",
         "rawType": "int64",
         "type": "integer"
        },
        {
         "name": "carrie",
         "rawType": "int64",
         "type": "integer"
        },
        {
         "name": "carrie fisher",
         "rawType": "int64",
         "type": "integer"
        },
        {
         "name": "carrier",
         "rawType": "int64",
         "type": "integer"
        },
        {
         "name": "carry",
         "rawType": "int64",
         "type": "integer"
        },
        {
         "name": "carrying",
         "rawType": "int64",
         "type": "integer"
        },
        {
         "name": "cartel",
         "rawType": "int64",
         "type": "integer"
        },
        {
         "name": "case",
         "rawType": "int64",
         "type": "integer"
        },
        {
         "name": "case new",
         "rawType": "int64",
         "type": "integer"
        },
        {
         "name": "case new york",
         "rawType": "int64",
         "type": "integer"
        },
        {
         "name": "case testimony",
         "rawType": "int64",
         "type": "integer"
        },
        {
         "name": "case testimony pennsylvania",
         "rawType": "int64",
         "type": "integer"
        },
        {
         "name": "cash",
         "rawType": "int64",
         "type": "integer"
        },
        {
         "name": "cast",
         "rawType": "int64",
         "type": "integer"
        },
        {
         "name": "cast doubt",
         "rawType": "int64",
         "type": "integer"
        },
        {
         "name": "castro",
         "rawType": "int64",
         "type": "integer"
        },
        {
         "name": "casualty",
         "rawType": "int64",
         "type": "integer"
        },
        {
         "name": "cat",
         "rawType": "int64",
         "type": "integer"
        },
        {
         "name": "catch",
         "rawType": "int64",
         "type": "integer"
        },
        {
         "name": "catholic",
         "rawType": "int64",
         "type": "integer"
        },
        {
         "name": "caucus",
         "rawType": "int64",
         "type": "integer"
        },
        {
         "name": "caught",
         "rawType": "int64",
         "type": "integer"
        },
        {
         "name": "cause",
         "rawType": "int64",
         "type": "integer"
        },
        {
         "name": "caused",
         "rawType": "int64",
         "type": "integer"
        },
        {
         "name": "causing",
         "rawType": "int64",
         "type": "integer"
        },
        {
         "name": "cavalier",
         "rawType": "int64",
         "type": "integer"
        },
        {
         "name": "cave",
         "rawType": "int64",
         "type": "integer"
        },
        {
         "name": "cbs",
         "rawType": "int64",
         "type": "integer"
        },
        {
         "name": "cdc",
         "rawType": "int64",
         "type": "integer"
        },
        {
         "name": "cease",
         "rawType": "int64",
         "type": "integer"
        },
        {
         "name": "cease fire",
         "rawType": "int64",
         "type": "integer"
        },
        {
         "name": "ceiling",
         "rawType": "int64",
         "type": "integer"
        },
        {
         "name": "celebrate",
         "rawType": "int64",
         "type": "integer"
        },
        {
         "name": "celebrates",
         "rawType": "int64",
         "type": "integer"
        },
        {
         "name": "celebrating",
         "rawType": "int64",
         "type": "integer"
        },
        {
         "name": "celebration",
         "rawType": "int64",
         "type": "integer"
        },
        {
         "name": "celebrity",
         "rawType": "int64",
         "type": "integer"
        },
        {
         "name": "celebs",
         "rawType": "int64",
         "type": "integer"
        },
        {
         "name": "cell",
         "rawType": "int64",
         "type": "integer"
        },
        {
         "name": "censorship",
         "rawType": "int64",
         "type": "integer"
        },
        {
         "name": "cent",
         "rawType": "int64",
         "type": "integer"
        },
        {
         "name": "center",
         "rawType": "int64",
         "type": "integer"
        },
        {
         "name": "central",
         "rawType": "int64",
         "type": "integer"
        },
        {
         "name": "central bank",
         "rawType": "int64",
         "type": "integer"
        },
        {
         "name": "central italy",
         "rawType": "int64",
         "type": "integer"
        },
        {
         "name": "century",
         "rawType": "int64",
         "type": "integer"
        },
        {
         "name": "ceo",
         "rawType": "int64",
         "type": "integer"
        },
        {
         "name": "ceremony",
         "rawType": "int64",
         "type": "integer"
        },
        {
         "name": "chaffetz",
         "rawType": "int64",
         "type": "integer"
        },
        {
         "name": "chain",
         "rawType": "int64",
         "type": "integer"
        },
        {
         "name": "chair",
         "rawType": "int64",
         "type": "integer"
        },
        {
         "name": "chair active",
         "rawType": "int64",
         "type": "integer"
        },
        {
         "name": "chair active foreign",
         "rawType": "int64",
         "type": "integer"
        },
        {
         "name": "chairman",
         "rawType": "int64",
         "type": "integer"
        },
        {
         "name": "challenge",
         "rawType": "int64",
         "type": "integer"
        },
        {
         "name": "chamber",
         "rawType": "int64",
         "type": "integer"
        },
        {
         "name": "champion",
         "rawType": "int64",
         "type": "integer"
        },
        {
         "name": "championship",
         "rawType": "int64",
         "type": "integer"
        },
        {
         "name": "championship new",
         "rawType": "int64",
         "type": "integer"
        },
        {
         "name": "championship new york",
         "rawType": "int64",
         "type": "integer"
        },
        {
         "name": "chance",
         "rawType": "int64",
         "type": "integer"
        },
        {
         "name": "chancellor",
         "rawType": "int64",
         "type": "integer"
        },
        {
         "name": "change",
         "rawType": "int64",
         "type": "integer"
        },
        {
         "name": "change new",
         "rawType": "int64",
         "type": "integer"
        },
        {
         "name": "change new york",
         "rawType": "int64",
         "type": "integer"
        },
        {
         "name": "changed",
         "rawType": "int64",
         "type": "integer"
        },
        {
         "name": "changing",
         "rawType": "int64",
         "type": "integer"
        },
        {
         "name": "channel",
         "rawType": "int64",
         "type": "integer"
        },
        {
         "name": "chant",
         "rawType": "int64",
         "type": "integer"
        },
        {
         "name": "chaos",
         "rawType": "int64",
         "type": "integer"
        },
        {
         "name": "chaotic",
         "rawType": "int64",
         "type": "integer"
        },
        {
         "name": "character",
         "rawType": "int64",
         "type": "integer"
        },
        {
         "name": "charge",
         "rawType": "int64",
         "type": "integer"
        },
        {
         "name": "charge new",
         "rawType": "int64",
         "type": "integer"
        },
        {
         "name": "charge new york",
         "rawType": "int64",
         "type": "integer"
        },
        {
         "name": "charged",
         "rawType": "int64",
         "type": "integer"
        },
        {
         "name": "charity",
         "rawType": "int64",
         "type": "integer"
        },
        {
         "name": "charles",
         "rawType": "int64",
         "type": "integer"
        },
        {
         "name": "charleston",
         "rawType": "int64",
         "type": "integer"
        },
        {
         "name": "charlie",
         "rawType": "int64",
         "type": "integer"
        },
        {
         "name": "charlotte",
         "rawType": "int64",
         "type": "integer"
        },
        {
         "name": "chart",
         "rawType": "int64",
         "type": "integer"
        },
        {
         "name": "chart day",
         "rawType": "int64",
         "type": "integer"
        },
        {
         "name": "chase",
         "rawType": "int64",
         "type": "integer"
        },
        {
         "name": "cheat",
         "rawType": "int64",
         "type": "integer"
        },
        {
         "name": "check",
         "rawType": "int64",
         "type": "integer"
        },
        {
         "name": "checking",
         "rawType": "int64",
         "type": "integer"
        },
        {
         "name": "cheer",
         "rawType": "int64",
         "type": "integer"
        },
        {
         "name": "chef",
         "rawType": "int64",
         "type": "integer"
        },
        {
         "name": "chelsea",
         "rawType": "int64",
         "type": "integer"
        },
        {
         "name": "chelsea clinton",
         "rawType": "int64",
         "type": "integer"
        },
        {
         "name": "chelsea manning",
         "rawType": "int64",
         "type": "integer"
        },
        {
         "name": "chemical",
         "rawType": "int64",
         "type": "integer"
        },
        {
         "name": "chemical attack",
         "rawType": "int64",
         "type": "integer"
        },
        {
         "name": "chemical weapon",
         "rawType": "int64",
         "type": "integer"
        },
        {
         "name": "chicago",
         "rawType": "int64",
         "type": "integer"
        },
        {
         "name": "chicken",
         "rawType": "int64",
         "type": "integer"
        },
        {
         "name": "chief",
         "rawType": "int64",
         "type": "integer"
        },
        {
         "name": "child",
         "rawType": "int64",
         "type": "integer"
        },
        {
         "name": "child new",
         "rawType": "int64",
         "type": "integer"
        },
        {
         "name": "child new york",
         "rawType": "int64",
         "type": "integer"
        },
        {
         "name": "child rape",
         "rawType": "int64",
         "type": "integer"
        },
        {
         "name": "child sex",
         "rawType": "int64",
         "type": "integer"
        },
        {
         "name": "chill",
         "rawType": "int64",
         "type": "integer"
        },
        {
         "name": "chilling",
         "rawType": "int64",
         "type": "integer"
        },
        {
         "name": "china",
         "rawType": "int64",
         "type": "integer"
        },
        {
         "name": "china new",
         "rawType": "int64",
         "type": "integer"
        },
        {
         "name": "china new york",
         "rawType": "int64",
         "type": "integer"
        },
        {
         "name": "china sea",
         "rawType": "int64",
         "type": "integer"
        },
        {
         "name": "chinese",
         "rawType": "int64",
         "type": "integer"
        },
        {
         "name": "chip",
         "rawType": "int64",
         "type": "integer"
        },
        {
         "name": "choice",
         "rawType": "int64",
         "type": "integer"
        },
        {
         "name": "choose",
         "rawType": "int64",
         "type": "integer"
        },
        {
         "name": "chosen",
         "rawType": "int64",
         "type": "integer"
        },
        {
         "name": "chris",
         "rawType": "int64",
         "type": "integer"
        },
        {
         "name": "chris christie",
         "rawType": "int64",
         "type": "integer"
        },
        {
         "name": "christ",
         "rawType": "int64",
         "type": "integer"
        },
        {
         "name": "christian",
         "rawType": "int64",
         "type": "integer"
        },
        {
         "name": "christie",
         "rawType": "int64",
         "type": "integer"
        },
        {
         "name": "christmas",
         "rawType": "int64",
         "type": "integer"
        },
        {
         "name": "christopher",
         "rawType": "int64",
         "type": "integer"
        },
        {
         "name": "chuck",
         "rawType": "int64",
         "type": "integer"
        },
        {
         "name": "chuck todd",
         "rawType": "int64",
         "type": "integer"
        },
        {
         "name": "church",
         "rawType": "int64",
         "type": "integer"
        },
        {
         "name": "cia",
         "rawType": "int64",
         "type": "integer"
        },
        {
         "name": "circle",
         "rawType": "int64",
         "type": "integer"
        },
        {
         "name": "circuit",
         "rawType": "int64",
         "type": "integer"
        },
        {
         "name": "cite",
         "rawType": "int64",
         "type": "integer"
        },
        {
         "name": "citing",
         "rawType": "int64",
         "type": "integer"
        },
        {
         "name": "citizen",
         "rawType": "int64",
         "type": "integer"
        },
        {
         "name": "city",
         "rawType": "int64",
         "type": "integer"
        },
        {
         "name": "city new",
         "rawType": "int64",
         "type": "integer"
        },
        {
         "name": "city new york",
         "rawType": "int64",
         "type": "integer"
        },
        {
         "name": "civil",
         "rawType": "int64",
         "type": "integer"
        },
        {
         "name": "civil right",
         "rawType": "int64",
         "type": "integer"
        },
        {
         "name": "civil unrest",
         "rawType": "int64",
         "type": "integer"
        },
        {
         "name": "civil unrest survey",
         "rawType": "int64",
         "type": "integer"
        },
        {
         "name": "civil war",
         "rawType": "int64",
         "type": "integer"
        },
        {
         "name": "civilian",
         "rawType": "int64",
         "type": "integer"
        },
        {
         "name": "civilization",
         "rawType": "int64",
         "type": "integer"
        },
        {
         "name": "ck",
         "rawType": "int64",
         "type": "integer"
        },
        {
         "name": "cking",
         "rawType": "int64",
         "type": "integer"
        },
        {
         "name": "claim",
         "rawType": "int64",
         "type": "integer"
        },
        {
         "name": "claim new",
         "rawType": "int64",
         "type": "integer"
        },
        {
         "name": "claim new york",
         "rawType": "int64",
         "type": "integer"
        },
        {
         "name": "clash",
         "rawType": "int64",
         "type": "integer"
        },
        {
         "name": "class",
         "rawType": "int64",
         "type": "integer"
        },
        {
         "name": "classic",
         "rawType": "int64",
         "type": "integer"
        },
        {
         "name": "classified",
         "rawType": "int64",
         "type": "integer"
        },
        {
         "name": "classroom",
         "rawType": "int64",
         "type": "integer"
        },
        {
         "name": "clean",
         "rawType": "int64",
         "type": "integer"
        },
        {
         "name": "clear",
         "rawType": "int64",
         "type": "integer"
        },
        {
         "name": "clear vote",
         "rawType": "int64",
         "type": "integer"
        },
        {
         "name": "click",
         "rawType": "int64",
         "type": "integer"
        },
        {
         "name": "climate",
         "rawType": "int64",
         "type": "integer"
        },
        {
         "name": "climate change",
         "rawType": "int64",
         "type": "integer"
        },
        {
         "name": "climb",
         "rawType": "int64",
         "type": "integer"
        },
        {
         "name": "clinton",
         "rawType": "int64",
         "type": "integer"
        },
        {
         "name": "clinton aide",
         "rawType": "int64",
         "type": "integer"
        },
        {
         "name": "clinton campaign",
         "rawType": "int64",
         "type": "integer"
        },
        {
         "name": "clinton campaign chair",
         "rawType": "int64",
         "type": "integer"
        },
        {
         "name": "clinton crime",
         "rawType": "int64",
         "type": "integer"
        },
        {
         "name": "clinton crime family",
         "rawType": "int64",
         "type": "integer"
        },
        {
         "name": "clinton donald",
         "rawType": "int64",
         "type": "integer"
        },
        {
         "name": "clinton donald trump",
         "rawType": "int64",
         "type": "integer"
        },
        {
         "name": "clinton email",
         "rawType": "int64",
         "type": "integer"
        },
        {
         "name": "clinton email investigation",
         "rawType": "int64",
         "type": "integer"
        },
        {
         "name": "clinton foundation",
         "rawType": "int64",
         "type": "integer"
        },
        {
         "name": "clinton inc",
         "rawType": "int64",
         "type": "integer"
        },
        {
         "name": "clinton investigation",
         "rawType": "int64",
         "type": "integer"
        },
        {
         "name": "clinton lead",
         "rawType": "int64",
         "type": "integer"
        },
        {
         "name": "clinton new",
         "rawType": "int64",
         "type": "integer"
        },
        {
         "name": "clinton new york",
         "rawType": "int64",
         "type": "integer"
        },
        {
         "name": "clinton policy",
         "rawType": "int64",
         "type": "integer"
        },
        {
         "name": "clinton step",
         "rawType": "int64",
         "type": "integer"
        },
        {
         "name": "clinton supporter",
         "rawType": "int64",
         "type": "integer"
        },
        {
         "name": "clinton trump",
         "rawType": "int64",
         "type": "integer"
        },
        {
         "name": "clinton vote",
         "rawType": "int64",
         "type": "integer"
        },
        {
         "name": "clinton vote world",
         "rawType": "int64",
         "type": "integer"
        },
        {
         "name": "clinton win",
         "rawType": "int64",
         "type": "integer"
        },
        {
         "name": "clock",
         "rawType": "int64",
         "type": "integer"
        },
        {
         "name": "close",
         "rawType": "int64",
         "type": "integer"
        },
        {
         "name": "closed",
         "rawType": "int64",
         "type": "integer"
        },
        {
         "name": "closer",
         "rawType": "int64",
         "type": "integer"
        },
        {
         "name": "closing",
         "rawType": "int64",
         "type": "integer"
        },
        {
         "name": "clown",
         "rawType": "int64",
         "type": "integer"
        },
        {
         "name": "club",
         "rawType": "int64",
         "type": "integer"
        },
        {
         "name": "clue",
         "rawType": "int64",
         "type": "integer"
        },
        {
         "name": "cnn",
         "rawType": "int64",
         "type": "integer"
        },
        {
         "name": "co",
         "rawType": "int64",
         "type": "integer"
        },
        {
         "name": "coach",
         "rawType": "int64",
         "type": "integer"
        },
        {
         "name": "coal",
         "rawType": "int64",
         "type": "integer"
        },
        {
         "name": "coalition",
         "rawType": "int64",
         "type": "integer"
        },
        {
         "name": "coast",
         "rawType": "int64",
         "type": "integer"
        },
        {
         "name": "code",
         "rawType": "int64",
         "type": "integer"
        },
        {
         "name": "codesod",
         "rawType": "int64",
         "type": "integer"
        },
        {
         "name": "cold",
         "rawType": "int64",
         "type": "integer"
        },
        {
         "name": "cold war",
         "rawType": "int64",
         "type": "integer"
        },
        {
         "name": "colin",
         "rawType": "int64",
         "type": "integer"
        },
        {
         "name": "colin kaepernick",
         "rawType": "int64",
         "type": "integer"
        },
        {
         "name": "collapse",
         "rawType": "int64",
         "type": "integer"
        },
        {
         "name": "collection",
         "rawType": "int64",
         "type": "integer"
        },
        {
         "name": "collective",
         "rawType": "int64",
         "type": "integer"
        },
        {
         "name": "collective evolution",
         "rawType": "int64",
         "type": "integer"
        },
        {
         "name": "college",
         "rawType": "int64",
         "type": "integer"
        },
        {
         "name": "college student",
         "rawType": "int64",
         "type": "integer"
        },
        {
         "name": "collins",
         "rawType": "int64",
         "type": "integer"
        },
        {
         "name": "collusion",
         "rawType": "int64",
         "type": "integer"
        },
        {
         "name": "colombia",
         "rawType": "int64",
         "type": "integer"
        },
        {
         "name": "color",
         "rawType": "int64",
         "type": "integer"
        },
        {
         "name": "color revolution",
         "rawType": "int64",
         "type": "integer"
        },
        {
         "name": "colorado",
         "rawType": "int64",
         "type": "integer"
        },
        {
         "name": "com",
         "rawType": "int64",
         "type": "integer"
        },
        {
         "name": "combat",
         "rawType": "int64",
         "type": "integer"
        },
        {
         "name": "come",
         "rawType": "int64",
         "type": "integer"
        },
        {
         "name": "come home",
         "rawType": "int64",
         "type": "integer"
        },
        {
         "name": "comedy",
         "rawType": "int64",
         "type": "integer"
        },
        {
         "name": "comey",
         "rawType": "int64",
         "type": "integer"
        },
        {
         "name": "comey firing",
         "rawType": "int64",
         "type": "integer"
        },
        {
         "name": "comey letter",
         "rawType": "int64",
         "type": "integer"
        },
        {
         "name": "comic",
         "rawType": "int64",
         "type": "integer"
        },
        {
         "name": "coming",
         "rawType": "int64",
         "type": "integer"
        },
        {
         "name": "commander",
         "rawType": "int64",
         "type": "integer"
        },
        {
         "name": "comment",
         "rawType": "int64",
         "type": "integer"
        },
        {
         "name": "comment hillary",
         "rawType": "int64",
         "type": "integer"
        },
        {
         "name": "comment trump",
         "rawType": "int64",
         "type": "integer"
        },
        {
         "name": "commerce",
         "rawType": "int64",
         "type": "integer"
        },
        {
         "name": "commercial",
         "rawType": "int64",
         "type": "integer"
        },
        {
         "name": "commission",
         "rawType": "int64",
         "type": "integer"
        },
        {
         "name": "commission one",
         "rawType": "int64",
         "type": "integer"
        },
        {
         "name": "commission one want",
         "rawType": "int64",
         "type": "integer"
        },
        {
         "name": "commissioner",
         "rawType": "int64",
         "type": "integer"
        },
        {
         "name": "commit",
         "rawType": "int64",
         "type": "integer"
        },
        {
         "name": "committed",
         "rawType": "int64",
         "type": "integer"
        },
        {
         "name": "committee",
         "rawType": "int64",
         "type": "integer"
        },
        {
         "name": "common",
         "rawType": "int64",
         "type": "integer"
        },
        {
         "name": "communist",
         "rawType": "int64",
         "type": "integer"
        },
        {
         "name": "community",
         "rawType": "int64",
         "type": "integer"
        },
        {
         "name": "company",
         "rawType": "int64",
         "type": "integer"
        },
        {
         "name": "compare",
         "rawType": "int64",
         "type": "integer"
        },
        {
         "name": "competition",
         "rawType": "int64",
         "type": "integer"
        },
        {
         "name": "complaint",
         "rawType": "int64",
         "type": "integer"
        },
        {
         "name": "complaint fbi",
         "rawType": "int64",
         "type": "integer"
        },
        {
         "name": "complete",
         "rawType": "int64",
         "type": "integer"
        },
        {
         "name": "completely",
         "rawType": "int64",
         "type": "integer"
        },
        {
         "name": "computer",
         "rawType": "int64",
         "type": "integer"
        },
        {
         "name": "con",
         "rawType": "int64",
         "type": "integer"
        },
        {
         "name": "concept",
         "rawType": "int64",
         "type": "integer"
        },
        {
         "name": "concern",
         "rawType": "int64",
         "type": "integer"
        },
        {
         "name": "concerned",
         "rawType": "int64",
         "type": "integer"
        },
        {
         "name": "concerned election",
         "rawType": "int64",
         "type": "integer"
        },
        {
         "name": "concerned election violence",
         "rawType": "int64",
         "type": "integer"
        },
        {
         "name": "concert",
         "rawType": "int64",
         "type": "integer"
        },
        {
         "name": "concussion",
         "rawType": "int64",
         "type": "integer"
        },
        {
         "name": "condemns",
         "rawType": "int64",
         "type": "integer"
        },
        {
         "name": "conference",
         "rawType": "int64",
         "type": "integer"
        },
        {
         "name": "confidence",
         "rawType": "int64",
         "type": "integer"
        },
        {
         "name": "confirm",
         "rawType": "int64",
         "type": "integer"
        },
        {
         "name": "confirmation",
         "rawType": "int64",
         "type": "integer"
        },
        {
         "name": "confirmation hearing",
         "rawType": "int64",
         "type": "integer"
        },
        {
         "name": "confirmed",
         "rawType": "int64",
         "type": "integer"
        },
        {
         "name": "confirms",
         "rawType": "int64",
         "type": "integer"
        },
        {
         "name": "conflict",
         "rawType": "int64",
         "type": "integer"
        },
        {
         "name": "confront",
         "rawType": "int64",
         "type": "integer"
        },
        {
         "name": "confrontation",
         "rawType": "int64",
         "type": "integer"
        },
        {
         "name": "confronts",
         "rawType": "int64",
         "type": "integer"
        },
        {
         "name": "confusion",
         "rawType": "int64",
         "type": "integer"
        },
        {
         "name": "congress",
         "rawType": "int64",
         "type": "integer"
        },
        {
         "name": "congress new",
         "rawType": "int64",
         "type": "integer"
        },
        {
         "name": "congress new york",
         "rawType": "int64",
         "type": "integer"
        },
        {
         "name": "congressional",
         "rawType": "int64",
         "type": "integer"
        },
        {
         "name": "congressman",
         "rawType": "int64",
         "type": "integer"
        },
        {
         "name": "connecticut",
         "rawType": "int64",
         "type": "integer"
        },
        {
         "name": "connection",
         "rawType": "int64",
         "type": "integer"
        },
        {
         "name": "consent",
         "rawType": "int64",
         "type": "integer"
        },
        {
         "name": "consequence",
         "rawType": "int64",
         "type": "integer"
        },
        {
         "name": "conservative",
         "rawType": "int64",
         "type": "integer"
        },
        {
         "name": "conservative daily",
         "rawType": "int64",
         "type": "integer"
        },
        {
         "name": "conservative daily post",
         "rawType": "int64",
         "type": "integer"
        },
        {
         "name": "consider",
         "rawType": "int64",
         "type": "integer"
        },
        {
         "name": "considering",
         "rawType": "int64",
         "type": "integer"
        },
        {
         "name": "considers",
         "rawType": "int64",
         "type": "integer"
        },
        {
         "name": "conspiracy",
         "rawType": "int64",
         "type": "integer"
        },
        {
         "name": "conspiracy theory",
         "rawType": "int64",
         "type": "integer"
        },
        {
         "name": "constant",
         "rawType": "int64",
         "type": "integer"
        },
        {
         "name": "constitution",
         "rawType": "int64",
         "type": "integer"
        },
        {
         "name": "constitutional",
         "rawType": "int64",
         "type": "integer"
        },
        {
         "name": "construction",
         "rawType": "int64",
         "type": "integer"
        },
        {
         "name": "consumer",
         "rawType": "int64",
         "type": "integer"
        },
        {
         "name": "contain",
         "rawType": "int64",
         "type": "integer"
        },
        {
         "name": "contest",
         "rawType": "int64",
         "type": "integer"
        },
        {
         "name": "continue",
         "rawType": "int64",
         "type": "integer"
        },
        {
         "name": "continues",
         "rawType": "int64",
         "type": "integer"
        },
        {
         "name": "contract",
         "rawType": "int64",
         "type": "integer"
        },
        {
         "name": "contrarian",
         "rawType": "int64",
         "type": "integer"
        },
        {
         "name": "contrarian read",
         "rawType": "int64",
         "type": "integer"
        },
        {
         "name": "control",
         "rawType": "int64",
         "type": "integer"
        },
        {
         "name": "control new",
         "rawType": "int64",
         "type": "integer"
        },
        {
         "name": "control new york",
         "rawType": "int64",
         "type": "integer"
        },
        {
         "name": "controlled",
         "rawType": "int64",
         "type": "integer"
        },
        {
         "name": "controversial",
         "rawType": "int64",
         "type": "integer"
        },
        {
         "name": "controversy",
         "rawType": "int64",
         "type": "integer"
        },
        {
         "name": "convention",
         "rawType": "int64",
         "type": "integer"
        },
        {
         "name": "conversation",
         "rawType": "int64",
         "type": "integer"
        },
        {
         "name": "convicted",
         "rawType": "int64",
         "type": "integer"
        },
        {
         "name": "conviction",
         "rawType": "int64",
         "type": "integer"
        },
        {
         "name": "conway",
         "rawType": "int64",
         "type": "integer"
        },
        {
         "name": "cook",
         "rawType": "int64",
         "type": "integer"
        },
        {
         "name": "cooler",
         "rawType": "int64",
         "type": "integer"
        },
        {
         "name": "cooper",
         "rawType": "int64",
         "type": "integer"
        },
        {
         "name": "cop",
         "rawType": "int64",
         "type": "integer"
        },
        {
         "name": "cop killer",
         "rawType": "int64",
         "type": "integer"
        },
        {
         "name": "core",
         "rawType": "int64",
         "type": "integer"
        },
        {
         "name": "corporate",
         "rawType": "int64",
         "type": "integer"
        },
        {
         "name": "corporation",
         "rawType": "int64",
         "type": "integer"
        },
        {
         "name": "correctness",
         "rawType": "int64",
         "type": "integer"
        },
        {
         "name": "corrupt",
         "rawType": "int64",
         "type": "integer"
        },
        {
         "name": "corruption",
         "rawType": "int64",
         "type": "integer"
        },
        {
         "name": "cosby",
         "rawType": "int64",
         "type": "integer"
        },
        {
         "name": "cost",
         "rawType": "int64",
         "type": "integer"
        },
        {
         "name": "costume",
         "rawType": "int64",
         "type": "integer"
        },
        {
         "name": "cotton",
         "rawType": "int64",
         "type": "integer"
        },
        {
         "name": "couch",
         "rawType": "int64",
         "type": "integer"
        },
        {
         "name": "could",
         "rawType": "int64",
         "type": "integer"
        },
        {
         "name": "could go",
         "rawType": "int64",
         "type": "integer"
        },
        {
         "name": "coulter",
         "rawType": "int64",
         "type": "integer"
        },
        {
         "name": "council",
         "rawType": "int64",
         "type": "integer"
        },
        {
         "name": "count",
         "rawType": "int64",
         "type": "integer"
        },
        {
         "name": "counter",
         "rawType": "int64",
         "type": "integer"
        },
        {
         "name": "counting",
         "rawType": "int64",
         "type": "integer"
        },
        {
         "name": "country",
         "rawType": "int64",
         "type": "integer"
        },
        {
         "name": "country breitbart",
         "rawType": "int64",
         "type": "integer"
        },
        {
         "name": "country new",
         "rawType": "int64",
         "type": "integer"
        },
        {
         "name": "county",
         "rawType": "int64",
         "type": "integer"
        },
        {
         "name": "coup",
         "rawType": "int64",
         "type": "integer"
        },
        {
         "name": "couple",
         "rawType": "int64",
         "type": "integer"
        },
        {
         "name": "course",
         "rawType": "int64",
         "type": "integer"
        },
        {
         "name": "court",
         "rawType": "int64",
         "type": "integer"
        },
        {
         "name": "court block",
         "rawType": "int64",
         "type": "integer"
        },
        {
         "name": "court new",
         "rawType": "int64",
         "type": "integer"
        },
        {
         "name": "court new york",
         "rawType": "int64",
         "type": "integer"
        },
        {
         "name": "court rule",
         "rawType": "int64",
         "type": "integer"
        },
        {
         "name": "cover",
         "rawType": "int64",
         "type": "integer"
        },
        {
         "name": "coverage",
         "rawType": "int64",
         "type": "integer"
        },
        {
         "name": "covering",
         "rawType": "int64",
         "type": "integer"
        },
        {
         "name": "cowboy",
         "rawType": "int64",
         "type": "integer"
        },
        {
         "name": "cox",
         "rawType": "int64",
         "type": "integer"
        },
        {
         "name": "cpac",
         "rawType": "int64",
         "type": "integer"
        },
        {
         "name": "crack",
         "rawType": "int64",
         "type": "integer"
        },
        {
         "name": "crackdown",
         "rawType": "int64",
         "type": "integer"
        },
        {
         "name": "craig",
         "rawType": "int64",
         "type": "integer"
        },
        {
         "name": "craig robert",
         "rawType": "int64",
         "type": "integer"
        },
        {
         "name": "crash",
         "rawType": "int64",
         "type": "integer"
        },
        {
         "name": "crash new",
         "rawType": "int64",
         "type": "integer"
        },
        {
         "name": "crash new york",
         "rawType": "int64",
         "type": "integer"
        },
        {
         "name": "crazy",
         "rawType": "int64",
         "type": "integer"
        },
        {
         "name": "create",
         "rawType": "int64",
         "type": "integer"
        },
        {
         "name": "created",
         "rawType": "int64",
         "type": "integer"
        },
        {
         "name": "creates",
         "rawType": "int64",
         "type": "integer"
        },
        {
         "name": "creating",
         "rawType": "int64",
         "type": "integer"
        },
        {
         "name": "creator",
         "rawType": "int64",
         "type": "integer"
        },
        {
         "name": "credibility",
         "rawType": "int64",
         "type": "integer"
        },
        {
         "name": "credit",
         "rawType": "int64",
         "type": "integer"
        },
        {
         "name": "crime",
         "rawType": "int64",
         "type": "integer"
        },
        {
         "name": "crime breitbart",
         "rawType": "int64",
         "type": "integer"
        },
        {
         "name": "crime family",
         "rawType": "int64",
         "type": "integer"
        },
        {
         "name": "criminal",
         "rawType": "int64",
         "type": "integer"
        },
        {
         "name": "crisis",
         "rawType": "int64",
         "type": "integer"
        },
        {
         "name": "critic",
         "rawType": "int64",
         "type": "integer"
        },
        {
         "name": "critical",
         "rawType": "int64",
         "type": "integer"
        },
        {
         "name": "criticism",
         "rawType": "int64",
         "type": "integer"
        },
        {
         "name": "critique",
         "rawType": "int64",
         "type": "integer"
        },
        {
         "name": "crooked",
         "rawType": "int64",
         "type": "integer"
        },
        {
         "name": "crooked hillary",
         "rawType": "int64",
         "type": "integer"
        },
        {
         "name": "crop",
         "rawType": "int64",
         "type": "integer"
        },
        {
         "name": "cross",
         "rawType": "int64",
         "type": "integer"
        },
        {
         "name": "crossing",
         "rawType": "int64",
         "type": "integer"
        },
        {
         "name": "crowd",
         "rawType": "int64",
         "type": "integer"
        },
        {
         "name": "crown",
         "rawType": "int64",
         "type": "integer"
        },
        {
         "name": "cruise",
         "rawType": "int64",
         "type": "integer"
        },
        {
         "name": "crush",
         "rawType": "int64",
         "type": "integer"
        },
        {
         "name": "cruz",
         "rawType": "int64",
         "type": "integer"
        },
        {
         "name": "cry",
         "rawType": "int64",
         "type": "integer"
        },
        {
         "name": "cub",
         "rawType": "int64",
         "type": "integer"
        },
        {
         "name": "cuba",
         "rawType": "int64",
         "type": "integer"
        },
        {
         "name": "cuban",
         "rawType": "int64",
         "type": "integer"
        },
        {
         "name": "cultural",
         "rawType": "int64",
         "type": "integer"
        },
        {
         "name": "culture",
         "rawType": "int64",
         "type": "integer"
        },
        {
         "name": "cuomo",
         "rawType": "int64",
         "type": "integer"
        },
        {
         "name": "cup",
         "rawType": "int64",
         "type": "integer"
        },
        {
         "name": "curb",
         "rawType": "int64",
         "type": "integer"
        },
        {
         "name": "cure",
         "rawType": "int64",
         "type": "integer"
        },
        {
         "name": "currency",
         "rawType": "int64",
         "type": "integer"
        },
        {
         "name": "cursed",
         "rawType": "int64",
         "type": "integer"
        },
        {
         "name": "customer",
         "rawType": "int64",
         "type": "integer"
        },
        {
         "name": "cut",
         "rawType": "int64",
         "type": "integer"
        },
        {
         "name": "cutting",
         "rawType": "int64",
         "type": "integer"
        },
        {
         "name": "cyber",
         "rawType": "int64",
         "type": "integer"
        },
        {
         "name": "cycle",
         "rawType": "int64",
         "type": "integer"
        },
        {
         "name": "da",
         "rawType": "int64",
         "type": "integer"
        },
        {
         "name": "dad",
         "rawType": "int64",
         "type": "integer"
        },
        {
         "name": "daesh",
         "rawType": "int64",
         "type": "integer"
        },
        {
         "name": "daily",
         "rawType": "int64",
         "type": "integer"
        },
        {
         "name": "daily contrarian",
         "rawType": "int64",
         "type": "integer"
        },
        {
         "name": "daily contrarian read",
         "rawType": "int64",
         "type": "integer"
        },
        {
         "name": "daily post",
         "rawType": "int64",
         "type": "integer"
        },
        {
         "name": "dairy",
         "rawType": "int64",
         "type": "integer"
        },
        {
         "name": "dakota",
         "rawType": "int64",
         "type": "integer"
        },
        {
         "name": "dakota access",
         "rawType": "int64",
         "type": "integer"
        },
        {
         "name": "dakota access pipeline",
         "rawType": "int64",
         "type": "integer"
        },
        {
         "name": "dakota pipeline",
         "rawType": "int64",
         "type": "integer"
        },
        {
         "name": "dallas",
         "rawType": "int64",
         "type": "integer"
        },
        {
         "name": "damage",
         "rawType": "int64",
         "type": "integer"
        },
        {
         "name": "damaged",
         "rawType": "int64",
         "type": "integer"
        },
        {
         "name": "damaging",
         "rawType": "int64",
         "type": "integer"
        },
        {
         "name": "damascus",
         "rawType": "int64",
         "type": "integer"
        },
        {
         "name": "dan",
         "rawType": "int64",
         "type": "integer"
        },
        {
         "name": "dance",
         "rawType": "int64",
         "type": "integer"
        },
        {
         "name": "danger",
         "rawType": "int64",
         "type": "integer"
        },
        {
         "name": "dangerous",
         "rawType": "int64",
         "type": "integer"
        },
        {
         "name": "daniel",
         "rawType": "int64",
         "type": "integer"
        },
        {
         "name": "dapl",
         "rawType": "int64",
         "type": "integer"
        },
        {
         "name": "dapl protester",
         "rawType": "int64",
         "type": "integer"
        },
        {
         "name": "dark",
         "rawType": "int64",
         "type": "integer"
        },
        {
         "name": "darkness",
         "rawType": "int64",
         "type": "integer"
        },
        {
         "name": "data",
         "rawType": "int64",
         "type": "integer"
        },
        {
         "name": "database",
         "rawType": "int64",
         "type": "integer"
        },
        {
         "name": "date",
         "rawType": "int64",
         "type": "integer"
        },
        {
         "name": "daughter",
         "rawType": "int64",
         "type": "integer"
        },
        {
         "name": "dave",
         "rawType": "int64",
         "type": "integer"
        },
        {
         "name": "david",
         "rawType": "int64",
         "type": "integer"
        },
        {
         "name": "david duke",
         "rawType": "int64",
         "type": "integer"
        },
        {
         "name": "davis",
         "rawType": "int64",
         "type": "integer"
        },
        {
         "name": "davos",
         "rawType": "int64",
         "type": "integer"
        },
        {
         "name": "day",
         "rawType": "int64",
         "type": "integer"
        },
        {
         "name": "day breitbart",
         "rawType": "int64",
         "type": "integer"
        },
        {
         "name": "day election",
         "rawType": "int64",
         "type": "integer"
        },
        {
         "name": "day new",
         "rawType": "int64",
         "type": "integer"
        },
        {
         "name": "day new york",
         "rawType": "int64",
         "type": "integer"
        },
        {
         "name": "day old",
         "rawType": "int64",
         "type": "integer"
        },
        {
         "name": "dc",
         "rawType": "int64",
         "type": "integer"
        },
        {
         "name": "de",
         "rawType": "int64",
         "type": "integer"
        },
        {
         "name": "de blasio",
         "rawType": "int64",
         "type": "integer"
        },
        {
         "name": "de la",
         "rawType": "int64",
         "type": "integer"
        },
        {
         "name": "de los",
         "rawType": "int64",
         "type": "integer"
        },
        {
         "name": "de niro",
         "rawType": "int64",
         "type": "integer"
        },
        {
         "name": "dead",
         "rawType": "int64",
         "type": "integer"
        },
        {
         "name": "dead new",
         "rawType": "int64",
         "type": "integer"
        },
        {
         "name": "dead new york",
         "rawType": "int64",
         "type": "integer"
        },
        {
         "name": "deadly",
         "rawType": "int64",
         "type": "integer"
        },
        {
         "name": "deal",
         "rawType": "int64",
         "type": "integer"
        },
        {
         "name": "deal new",
         "rawType": "int64",
         "type": "integer"
        },
        {
         "name": "deal new york",
         "rawType": "int64",
         "type": "integer"
        },
        {
         "name": "dealing",
         "rawType": "int64",
         "type": "integer"
        },
        {
         "name": "dean",
         "rawType": "int64",
         "type": "integer"
        },
        {
         "name": "dear",
         "rawType": "int64",
         "type": "integer"
        },
        {
         "name": "death",
         "rawType": "int64",
         "type": "integer"
        },
        {
         "name": "death new",
         "rawType": "int64",
         "type": "integer"
        },
        {
         "name": "death new york",
         "rawType": "int64",
         "type": "integer"
        },
        {
         "name": "death threat",
         "rawType": "int64",
         "type": "integer"
        },
        {
         "name": "debate",
         "rawType": "int64",
         "type": "integer"
        },
        {
         "name": "debate donald",
         "rawType": "int64",
         "type": "integer"
        },
        {
         "name": "debate donald trump",
         "rawType": "int64",
         "type": "integer"
        },
        {
         "name": "debate new",
         "rawType": "int64",
         "type": "integer"
        },
        {
         "name": "debate new york",
         "rawType": "int64",
         "type": "integer"
        },
        {
         "name": "debbie",
         "rawType": "int64",
         "type": "integer"
        },
        {
         "name": "debbie menon",
         "rawType": "int64",
         "type": "integer"
        },
        {
         "name": "debbie reynolds",
         "rawType": "int64",
         "type": "integer"
        },
        {
         "name": "debt",
         "rawType": "int64",
         "type": "integer"
        },
        {
         "name": "debut",
         "rawType": "int64",
         "type": "integer"
        },
        {
         "name": "decade",
         "rawType": "int64",
         "type": "integer"
        },
        {
         "name": "decide",
         "rawType": "int64",
         "type": "integer"
        },
        {
         "name": "decision",
         "rawType": "int64",
         "type": "integer"
        },
        {
         "name": "declaration",
         "rawType": "int64",
         "type": "integer"
        },
        {
         "name": "declare",
         "rawType": "int64",
         "type": "integer"
        },
        {
         "name": "declared",
         "rawType": "int64",
         "type": "integer"
        },
        {
         "name": "declares",
         "rawType": "int64",
         "type": "integer"
        },
        {
         "name": "decline",
         "rawType": "int64",
         "type": "integer"
        },
        {
         "name": "deep",
         "rawType": "int64",
         "type": "integer"
        },
        {
         "name": "deep state",
         "rawType": "int64",
         "type": "integer"
        },
        {
         "name": "deeply",
         "rawType": "int64",
         "type": "integer"
        },
        {
         "name": "defeat",
         "rawType": "int64",
         "type": "integer"
        },
        {
         "name": "defend",
         "rawType": "int64",
         "type": "integer"
        },
        {
         "name": "defending",
         "rawType": "int64",
         "type": "integer"
        },
        {
         "name": "defends",
         "rawType": "int64",
         "type": "integer"
        },
        {
         "name": "defense",
         "rawType": "int64",
         "type": "integer"
        },
        {
         "name": "defiant",
         "rawType": "int64",
         "type": "integer"
        },
        {
         "name": "defies",
         "rawType": "int64",
         "type": "integer"
        },
        {
         "name": "define",
         "rawType": "int64",
         "type": "integer"
        },
        {
         "name": "del",
         "rawType": "int64",
         "type": "integer"
        },
        {
         "name": "delay",
         "rawType": "int64",
         "type": "integer"
        },
        {
         "name": "deleted",
         "rawType": "int64",
         "type": "integer"
        },
        {
         "name": "delingpole",
         "rawType": "int64",
         "type": "integer"
        },
        {
         "name": "deliver",
         "rawType": "int64",
         "type": "integer"
        },
        {
         "name": "dem",
         "rawType": "int64",
         "type": "integer"
        },
        {
         "name": "dem rep",
         "rawType": "int64",
         "type": "integer"
        },
        {
         "name": "dem sen",
         "rawType": "int64",
         "type": "integer"
        },
        {
         "name": "demand",
         "rawType": "int64",
         "type": "integer"
        },
        {
         "name": "democracy",
         "rawType": "int64",
         "type": "integer"
        },
        {
         "name": "democrat",
         "rawType": "int64",
         "type": "integer"
        },
        {
         "name": "democrat breitbart",
         "rawType": "int64",
         "type": "integer"
        },
        {
         "name": "democratic",
         "rawType": "int64",
         "type": "integer"
        },
        {
         "name": "democratic party",
         "rawType": "int64",
         "type": "integer"
        },
        {
         "name": "dems",
         "rawType": "int64",
         "type": "integer"
        },
        {
         "name": "denial",
         "rawType": "int64",
         "type": "integer"
        },
        {
         "name": "denied",
         "rawType": "int64",
         "type": "integer"
        },
        {
         "name": "denies",
         "rawType": "int64",
         "type": "integer"
        },
        {
         "name": "dennis",
         "rawType": "int64",
         "type": "integer"
        },
        {
         "name": "denounces",
         "rawType": "int64",
         "type": "integer"
        },
        {
         "name": "deny",
         "rawType": "int64",
         "type": "integer"
        },
        {
         "name": "department",
         "rawType": "int64",
         "type": "integer"
        },
        {
         "name": "departure",
         "rawType": "int64",
         "type": "integer"
        },
        {
         "name": "depends",
         "rawType": "int64",
         "type": "integer"
        },
        {
         "name": "deplorable",
         "rawType": "int64",
         "type": "integer"
        },
        {
         "name": "deplorables",
         "rawType": "int64",
         "type": "integer"
        },
        {
         "name": "deployed",
         "rawType": "int64",
         "type": "integer"
        },
        {
         "name": "deployment",
         "rawType": "int64",
         "type": "integer"
        },
        {
         "name": "deport",
         "rawType": "int64",
         "type": "integer"
        },
        {
         "name": "deportation",
         "rawType": "int64",
         "type": "integer"
        },
        {
         "name": "deported",
         "rawType": "int64",
         "type": "integer"
        },
        {
         "name": "depression",
         "rawType": "int64",
         "type": "integer"
        },
        {
         "name": "dept",
         "rawType": "int64",
         "type": "integer"
        },
        {
         "name": "deputy",
         "rawType": "int64",
         "type": "integer"
        },
        {
         "name": "describes",
         "rawType": "int64",
         "type": "integer"
        },
        {
         "name": "desert",
         "rawType": "int64",
         "type": "integer"
        },
        {
         "name": "deserve",
         "rawType": "int64",
         "type": "integer"
        },
        {
         "name": "deserves",
         "rawType": "int64",
         "type": "integer"
        },
        {
         "name": "design",
         "rawType": "int64",
         "type": "integer"
        },
        {
         "name": "designed",
         "rawType": "int64",
         "type": "integer"
        },
        {
         "name": "designed fail",
         "rawType": "int64",
         "type": "integer"
        },
        {
         "name": "designer",
         "rawType": "int64",
         "type": "integer"
        },
        {
         "name": "desperate",
         "rawType": "int64",
         "type": "integer"
        },
        {
         "name": "despite",
         "rawType": "int64",
         "type": "integer"
        },
        {
         "name": "destroy",
         "rawType": "int64",
         "type": "integer"
        },
        {
         "name": "destroyed",
         "rawType": "int64",
         "type": "integer"
        },
        {
         "name": "destroys",
         "rawType": "int64",
         "type": "integer"
        },
        {
         "name": "destruction",
         "rawType": "int64",
         "type": "integer"
        },
        {
         "name": "detail",
         "rawType": "int64",
         "type": "integer"
        },
        {
         "name": "detained",
         "rawType": "int64",
         "type": "integer"
        },
        {
         "name": "detroit",
         "rawType": "int64",
         "type": "integer"
        },
        {
         "name": "develop",
         "rawType": "int64",
         "type": "integer"
        },
        {
         "name": "developed",
         "rawType": "int64",
         "type": "integer"
        },
        {
         "name": "developer",
         "rawType": "int64",
         "type": "integer"
        },
        {
         "name": "development",
         "rawType": "int64",
         "type": "integer"
        },
        {
         "name": "device",
         "rawType": "int64",
         "type": "integer"
        },
        {
         "name": "device new",
         "rawType": "int64",
         "type": "integer"
        },
        {
         "name": "device new york",
         "rawType": "int64",
         "type": "integer"
        },
        {
         "name": "devil",
         "rawType": "int64",
         "type": "integer"
        },
        {
         "name": "devos",
         "rawType": "int64",
         "type": "integer"
        },
        {
         "name": "dhs",
         "rawType": "int64",
         "type": "integer"
        },
        {
         "name": "di",
         "rawType": "int64",
         "type": "integer"
        },
        {
         "name": "diabetes",
         "rawType": "int64",
         "type": "integer"
        },
        {
         "name": "dictator",
         "rawType": "int64",
         "type": "integer"
        },
        {
         "name": "die",
         "rawType": "int64",
         "type": "integer"
        },
        {
         "name": "died",
         "rawType": "int64",
         "type": "integer"
        },
        {
         "name": "diego",
         "rawType": "int64",
         "type": "integer"
        },
        {
         "name": "diet",
         "rawType": "int64",
         "type": "integer"
        },
        {
         "name": "difference",
         "rawType": "int64",
         "type": "integer"
        },
        {
         "name": "different",
         "rawType": "int64",
         "type": "integer"
        },
        {
         "name": "difficult",
         "rawType": "int64",
         "type": "integer"
        },
        {
         "name": "dig",
         "rawType": "int64",
         "type": "integer"
        },
        {
         "name": "digital",
         "rawType": "int64",
         "type": "integer"
        },
        {
         "name": "dilbert",
         "rawType": "int64",
         "type": "integer"
        },
        {
         "name": "dilma",
         "rawType": "int64",
         "type": "integer"
        },
        {
         "name": "dilma rousseff",
         "rawType": "int64",
         "type": "integer"
        },
        {
         "name": "dinner",
         "rawType": "int64",
         "type": "integer"
        },
        {
         "name": "dinucci",
         "rawType": "int64",
         "type": "integer"
        },
        {
         "name": "diplomat",
         "rawType": "int64",
         "type": "integer"
        },
        {
         "name": "direct",
         "rawType": "int64",
         "type": "integer"
        },
        {
         "name": "director",
         "rawType": "int64",
         "type": "integer"
        },
        {
         "name": "director comey",
         "rawType": "int64",
         "type": "integer"
        },
        {
         "name": "director james",
         "rawType": "int64",
         "type": "integer"
        },
        {
         "name": "director james comey",
         "rawType": "int64",
         "type": "integer"
        },
        {
         "name": "dirty",
         "rawType": "int64",
         "type": "integer"
        },
        {
         "name": "disaster",
         "rawType": "int64",
         "type": "integer"
        },
        {
         "name": "disclose",
         "rawType": "int64",
         "type": "integer"
        },
        {
         "name": "disclosure",
         "rawType": "int64",
         "type": "integer"
        },
        {
         "name": "discover",
         "rawType": "int64",
         "type": "integer"
        },
        {
         "name": "discovered",
         "rawType": "int64",
         "type": "integer"
        },
        {
         "name": "discovery",
         "rawType": "int64",
         "type": "integer"
        },
        {
         "name": "discrimination",
         "rawType": "int64",
         "type": "integer"
        },
        {
         "name": "discus",
         "rawType": "int64",
         "type": "integer"
        },
        {
         "name": "discussion",
         "rawType": "int64",
         "type": "integer"
        },
        {
         "name": "disease",
         "rawType": "int64",
         "type": "integer"
        },
        {
         "name": "disgraced",
         "rawType": "int64",
         "type": "integer"
        },
        {
         "name": "disgusting",
         "rawType": "int64",
         "type": "integer"
        },
        {
         "name": "disney",
         "rawType": "int64",
         "type": "integer"
        },
        {
         "name": "disorder",
         "rawType": "int64",
         "type": "integer"
        },
        {
         "name": "dispute",
         "rawType": "int64",
         "type": "integer"
        },
        {
         "name": "disputed",
         "rawType": "int64",
         "type": "integer"
        },
        {
         "name": "disrupt",
         "rawType": "int64",
         "type": "integer"
        },
        {
         "name": "distracted",
         "rawType": "int64",
         "type": "integer"
        },
        {
         "name": "district",
         "rawType": "int64",
         "type": "integer"
        },
        {
         "name": "diversity",
         "rawType": "int64",
         "type": "integer"
        },
        {
         "name": "divide",
         "rawType": "int64",
         "type": "integer"
        },
        {
         "name": "divided",
         "rawType": "int64",
         "type": "integer"
        },
        {
         "name": "division",
         "rawType": "int64",
         "type": "integer"
        },
        {
         "name": "divorce",
         "rawType": "int64",
         "type": "integer"
        },
        {
         "name": "dna",
         "rawType": "int64",
         "type": "integer"
        },
        {
         "name": "dnc",
         "rawType": "int64",
         "type": "integer"
        },
        {
         "name": "dnc chair",
         "rawType": "int64",
         "type": "integer"
        },
        {
         "name": "doctor",
         "rawType": "int64",
         "type": "integer"
        },
        {
         "name": "doctrine",
         "rawType": "int64",
         "type": "integer"
        },
        {
         "name": "document",
         "rawType": "int64",
         "type": "integer"
        },
        {
         "name": "document reveal",
         "rawType": "int64",
         "type": "integer"
        },
        {
         "name": "documentary",
         "rawType": "int64",
         "type": "integer"
        },
        {
         "name": "documentary illuminati",
         "rawType": "int64",
         "type": "integer"
        },
        {
         "name": "dog",
         "rawType": "int64",
         "type": "integer"
        },
        {
         "name": "doj",
         "rawType": "int64",
         "type": "integer"
        },
        {
         "name": "dollar",
         "rawType": "int64",
         "type": "integer"
        },
        {
         "name": "domestic",
         "rawType": "int64",
         "type": "integer"
        },
        {
         "name": "donald",
         "rawType": "int64",
         "type": "integer"
        },
        {
         "name": "donald trump",
         "rawType": "int64",
         "type": "integer"
        },
        {
         "name": "donald trump attack",
         "rawType": "int64",
         "type": "integer"
        },
        {
         "name": "donald trump breitbart",
         "rawType": "int64",
         "type": "integer"
        },
        {
         "name": "donald trump call",
         "rawType": "int64",
         "type": "integer"
        },
        {
         "name": "donald trump campaign",
         "rawType": "int64",
         "type": "integer"
        },
        {
         "name": "donald trump hillary",
         "rawType": "int64",
         "type": "integer"
        },
        {
         "name": "donald trump inauguration",
         "rawType": "int64",
         "type": "integer"
        },
        {
         "name": "donald trump new",
         "rawType": "int64",
         "type": "integer"
        },
        {
         "name": "donald trump president",
         "rawType": "int64",
         "type": "integer"
        },
        {
         "name": "donald trump russia",
         "rawType": "int64",
         "type": "integer"
        },
        {
         "name": "donald trump say",
         "rawType": "int64",
         "type": "integer"
        },
        {
         "name": "donald trump supporter",
         "rawType": "int64",
         "type": "integer"
        },
        {
         "name": "donald trump take",
         "rawType": "int64",
         "type": "integer"
        },
        {
         "name": "donald trump used",
         "rawType": "int64",
         "type": "integer"
        },
        {
         "name": "donald trump win",
         "rawType": "int64",
         "type": "integer"
        },
        {
         "name": "donation",
         "rawType": "int64",
         "type": "integer"
        },
        {
         "name": "done",
         "rawType": "int64",
         "type": "integer"
        },
        {
         "name": "donna",
         "rawType": "int64",
         "type": "integer"
        },
        {
         "name": "donna brazile",
         "rawType": "int64",
         "type": "integer"
        },
        {
         "name": "donor",
         "rawType": "int64",
         "type": "integer"
        },
        {
         "name": "doomed",
         "rawType": "int64",
         "type": "integer"
        },
        {
         "name": "door",
         "rawType": "int64",
         "type": "integer"
        },
        {
         "name": "doping",
         "rawType": "int64",
         "type": "integer"
        },
        {
         "name": "dossier",
         "rawType": "int64",
         "type": "integer"
        },
        {
         "name": "double",
         "rawType": "int64",
         "type": "integer"
        },
        {
         "name": "doubt",
         "rawType": "int64",
         "type": "integer"
        },
        {
         "name": "dow",
         "rawType": "int64",
         "type": "integer"
        },
        {
         "name": "dozen",
         "rawType": "int64",
         "type": "integer"
        },
        {
         "name": "dr",
         "rawType": "int64",
         "type": "integer"
        },
        {
         "name": "dr david",
         "rawType": "int64",
         "type": "integer"
        },
        {
         "name": "dr david duke",
         "rawType": "int64",
         "type": "integer"
        },
        {
         "name": "dr duke",
         "rawType": "int64",
         "type": "integer"
        },
        {
         "name": "dr eowyn",
         "rawType": "int64",
         "type": "integer"
        },
        {
         "name": "draft",
         "rawType": "int64",
         "type": "integer"
        },
        {
         "name": "drag",
         "rawType": "int64",
         "type": "integer"
        },
        {
         "name": "dragged",
         "rawType": "int64",
         "type": "integer"
        },
        {
         "name": "draw",
         "rawType": "int64",
         "type": "integer"
        },
        {
         "name": "dream",
         "rawType": "int64",
         "type": "integer"
        },
        {
         "name": "dress",
         "rawType": "int64",
         "type": "integer"
        },
        {
         "name": "dress like",
         "rawType": "int64",
         "type": "integer"
        },
        {
         "name": "drill",
         "rawType": "int64",
         "type": "integer"
        },
        {
         "name": "drink",
         "rawType": "int64",
         "type": "integer"
        },
        {
         "name": "drinking",
         "rawType": "int64",
         "type": "integer"
        },
        {
         "name": "drinking water",
         "rawType": "int64",
         "type": "integer"
        },
        {
         "name": "drive",
         "rawType": "int64",
         "type": "integer"
        },
        {
         "name": "driver",
         "rawType": "int64",
         "type": "integer"
        },
        {
         "name": "driving",
         "rawType": "int64",
         "type": "integer"
        },
        {
         "name": "driving car",
         "rawType": "int64",
         "type": "integer"
        },
        {
         "name": "drone",
         "rawType": "int64",
         "type": "integer"
        },
        {
         "name": "drop",
         "rawType": "int64",
         "type": "integer"
        },
        {
         "name": "dropping",
         "rawType": "int64",
         "type": "integer"
        },
        {
         "name": "drug",
         "rawType": "int64",
         "type": "integer"
        },
        {
         "name": "drug new",
         "rawType": "int64",
         "type": "integer"
        },
        {
         "name": "drug new york",
         "rawType": "int64",
         "type": "integer"
        },
        {
         "name": "drunk",
         "rawType": "int64",
         "type": "integer"
        },
        {
         "name": "dry",
         "rawType": "int64",
         "type": "integer"
        },
        {
         "name": "due",
         "rawType": "int64",
         "type": "integer"
        },
        {
         "name": "duke",
         "rawType": "int64",
         "type": "integer"
        },
        {
         "name": "dumb",
         "rawType": "int64",
         "type": "integer"
        },
        {
         "name": "dump",
         "rawType": "int64",
         "type": "integer"
        },
        {
         "name": "dust",
         "rawType": "int64",
         "type": "integer"
        },
        {
         "name": "dutch",
         "rawType": "int64",
         "type": "integer"
        },
        {
         "name": "duterte",
         "rawType": "int64",
         "type": "integer"
        },
        {
         "name": "duty",
         "rawType": "int64",
         "type": "integer"
        },
        {
         "name": "dy",
         "rawType": "int64",
         "type": "integer"
        },
        {
         "name": "dy new",
         "rawType": "int64",
         "type": "integer"
        },
        {
         "name": "dy new york",
         "rawType": "int64",
         "type": "integer"
        },
        {
         "name": "dying",
         "rawType": "int64",
         "type": "integer"
        },
        {
         "name": "dylan",
         "rawType": "int64",
         "type": "integer"
        },
        {
         "name": "dylann",
         "rawType": "int64",
         "type": "integer"
        },
        {
         "name": "dylann roof",
         "rawType": "int64",
         "type": "integer"
        },
        {
         "name": "ear",
         "rawType": "int64",
         "type": "integer"
        },
        {
         "name": "early",
         "rawType": "int64",
         "type": "integer"
        },
        {
         "name": "early voting",
         "rawType": "int64",
         "type": "integer"
        },
        {
         "name": "earth",
         "rawType": "int64",
         "type": "integer"
        },
        {
         "name": "earthquake",
         "rawType": "int64",
         "type": "integer"
        },
        {
         "name": "east",
         "rawType": "int64",
         "type": "integer"
        },
        {
         "name": "easter",
         "rawType": "int64",
         "type": "integer"
        },
        {
         "name": "eastern",
         "rawType": "int64",
         "type": "integer"
        },
        {
         "name": "eastern outlook",
         "rawType": "int64",
         "type": "integer"
        },
        {
         "name": "easy",
         "rawType": "int64",
         "type": "integer"
        },
        {
         "name": "eat",
         "rawType": "int64",
         "type": "integer"
        },
        {
         "name": "eating",
         "rawType": "int64",
         "type": "integer"
        },
        {
         "name": "echo",
         "rawType": "int64",
         "type": "integer"
        },
        {
         "name": "economic",
         "rawType": "int64",
         "type": "integer"
        },
        {
         "name": "economy",
         "rawType": "int64",
         "type": "integer"
        },
        {
         "name": "economy new",
         "rawType": "int64",
         "type": "integer"
        },
        {
         "name": "ed",
         "rawType": "int64",
         "type": "integer"
        },
        {
         "name": "edge",
         "rawType": "int64",
         "type": "integer"
        },
        {
         "name": "edition",
         "rawType": "int64",
         "type": "integer"
        },
        {
         "name": "editor",
         "rawType": "int64",
         "type": "integer"
        },
        {
         "name": "editor chief",
         "rawType": "int64",
         "type": "integer"
        },
        {
         "name": "editorial",
         "rawType": "int64",
         "type": "integer"
        },
        {
         "name": "education",
         "rawType": "int64",
         "type": "integer"
        },
        {
         "name": "edward",
         "rawType": "int64",
         "type": "integer"
        },
        {
         "name": "edward snowden",
         "rawType": "int64",
         "type": "integer"
        },
        {
         "name": "effect",
         "rawType": "int64",
         "type": "integer"
        },
        {
         "name": "effort",
         "rawType": "int64",
         "type": "integer"
        },
        {
         "name": "effort new",
         "rawType": "int64",
         "type": "integer"
        },
        {
         "name": "egg",
         "rawType": "int64",
         "type": "integer"
        },
        {
         "name": "egypt",
         "rawType": "int64",
         "type": "integer"
        },
        {
         "name": "egyptian",
         "rawType": "int64",
         "type": "integer"
        },
        {
         "name": "eight",
         "rawType": "int64",
         "type": "integer"
        },
        {
         "name": "ein",
         "rawType": "int64",
         "type": "integer"
        },
        {
         "name": "el",
         "rawType": "int64",
         "type": "integer"
        },
        {
         "name": "elect",
         "rawType": "int64",
         "type": "integer"
        },
        {
         "name": "elect trump",
         "rawType": "int64",
         "type": "integer"
        },
        {
         "name": "elect trump new",
         "rawType": "int64",
         "type": "integer"
        },
        {
         "name": "elected",
         "rawType": "int64",
         "type": "integer"
        },
        {
         "name": "election",
         "rawType": "int64",
         "type": "integer"
        },
        {
         "name": "election breitbart",
         "rawType": "int64",
         "type": "integer"
        },
        {
         "name": "election day",
         "rawType": "int64",
         "type": "integer"
        },
        {
         "name": "election day due",
         "rawType": "int64",
         "type": "integer"
        },
        {
         "name": "election fraud",
         "rawType": "int64",
         "type": "integer"
        },
        {
         "name": "election hillary",
         "rawType": "int64",
         "type": "integer"
        },
        {
         "name": "election hillary forced",
         "rawType": "int64",
         "type": "integer"
        },
        {
         "name": "election new",
         "rawType": "int64",
         "type": "integer"
        },
        {
         "name": "election new york",
         "rawType": "int64",
         "type": "integer"
        },
        {
         "name": "election night",
         "rawType": "int64",
         "type": "integer"
        },
        {
         "name": "election result",
         "rawType": "int64",
         "type": "integer"
        },
        {
         "name": "election rigged",
         "rawType": "int64",
         "type": "integer"
        },
        {
         "name": "election video",
         "rawType": "int64",
         "type": "integer"
        },
        {
         "name": "election violence",
         "rawType": "int64",
         "type": "integer"
        },
        {
         "name": "electoral",
         "rawType": "int64",
         "type": "integer"
        },
        {
         "name": "electoral college",
         "rawType": "int64",
         "type": "integer"
        },
        {
         "name": "electronic",
         "rawType": "int64",
         "type": "integer"
        },
        {
         "name": "electronic voting",
         "rawType": "int64",
         "type": "integer"
        },
        {
         "name": "electronic voting machine",
         "rawType": "int64",
         "type": "integer"
        },
        {
         "name": "elephant",
         "rawType": "int64",
         "type": "integer"
        },
        {
         "name": "elite",
         "rawType": "int64",
         "type": "integer"
        },
        {
         "name": "elizabeth",
         "rawType": "int64",
         "type": "integer"
        },
        {
         "name": "elizabeth warren",
         "rawType": "int64",
         "type": "integer"
        },
        {
         "name": "elon",
         "rawType": "int64",
         "type": "integer"
        },
        {
         "name": "elon musk",
         "rawType": "int64",
         "type": "integer"
        },
        {
         "name": "else",
         "rawType": "int64",
         "type": "integer"
        },
        {
         "name": "else new",
         "rawType": "int64",
         "type": "integer"
        },
        {
         "name": "else new york",
         "rawType": "int64",
         "type": "integer"
        },
        {
         "name": "email",
         "rawType": "int64",
         "type": "integer"
        },
        {
         "name": "email clinton",
         "rawType": "int64",
         "type": "integer"
        },
        {
         "name": "email investigation",
         "rawType": "int64",
         "type": "integer"
        },
        {
         "name": "email investigation end",
         "rawType": "int64",
         "type": "integer"
        },
        {
         "name": "email scandal",
         "rawType": "int64",
         "type": "integer"
        },
        {
         "name": "email show",
         "rawType": "int64",
         "type": "integer"
        },
        {
         "name": "embargo",
         "rawType": "int64",
         "type": "integer"
        },
        {
         "name": "embassy",
         "rawType": "int64",
         "type": "integer"
        },
        {
         "name": "embassy jerusalem",
         "rawType": "int64",
         "type": "integer"
        },
        {
         "name": "embrace",
         "rawType": "int64",
         "type": "integer"
        },
        {
         "name": "emergency",
         "rawType": "int64",
         "type": "integer"
        },
        {
         "name": "emerges",
         "rawType": "int64",
         "type": "integer"
        },
        {
         "name": "emerging",
         "rawType": "int64",
         "type": "integer"
        },
        {
         "name": "emf",
         "rawType": "int64",
         "type": "integer"
        },
        {
         "name": "emf damage",
         "rawType": "int64",
         "type": "integer"
        },
        {
         "name": "emf damage part",
         "rawType": "int64",
         "type": "integer"
        },
        {
         "name": "emission",
         "rawType": "int64",
         "type": "integer"
        },
        {
         "name": "emperor",
         "rawType": "int64",
         "type": "integer"
        },
        {
         "name": "empire",
         "rawType": "int64",
         "type": "integer"
        },
        {
         "name": "employee",
         "rawType": "int64",
         "type": "integer"
        },
        {
         "name": "empty",
         "rawType": "int64",
         "type": "integer"
        },
        {
         "name": "en",
         "rawType": "int64",
         "type": "integer"
        },
        {
         "name": "en el",
         "rawType": "int64",
         "type": "integer"
        },
        {
         "name": "encounter",
         "rawType": "int64",
         "type": "integer"
        },
        {
         "name": "end",
         "rawType": "int64",
         "type": "integer"
        },
        {
         "name": "end hillary",
         "rawType": "int64",
         "type": "integer"
        },
        {
         "name": "end hillary clinton",
         "rawType": "int64",
         "type": "integer"
        },
        {
         "name": "ending",
         "rawType": "int64",
         "type": "integer"
        },
        {
         "name": "endorse",
         "rawType": "int64",
         "type": "integer"
        },
        {
         "name": "endorsed",
         "rawType": "int64",
         "type": "integer"
        },
        {
         "name": "endorses",
         "rawType": "int64",
         "type": "integer"
        },
        {
         "name": "endorses hillary",
         "rawType": "int64",
         "type": "integer"
        },
        {
         "name": "endorses hillary clinton",
         "rawType": "int64",
         "type": "integer"
        },
        {
         "name": "enemy",
         "rawType": "int64",
         "type": "integer"
        },
        {
         "name": "energy",
         "rawType": "int64",
         "type": "integer"
        },
        {
         "name": "enforce",
         "rawType": "int64",
         "type": "integer"
        },
        {
         "name": "enforcement",
         "rawType": "int64",
         "type": "integer"
        },
        {
         "name": "england",
         "rawType": "int64",
         "type": "integer"
        },
        {
         "name": "england patriot",
         "rawType": "int64",
         "type": "integer"
        },
        {
         "name": "english",
         "rawType": "int64",
         "type": "integer"
        },
        {
         "name": "enough",
         "rawType": "int64",
         "type": "integer"
        },
        {
         "name": "enter",
         "rawType": "int64",
         "type": "integer"
        },
        {
         "name": "entering",
         "rawType": "int64",
         "type": "integer"
        },
        {
         "name": "enters",
         "rawType": "int64",
         "type": "integer"
        },
        {
         "name": "entertainment",
         "rawType": "int64",
         "type": "integer"
        },
        {
         "name": "entire",
         "rawType": "int64",
         "type": "integer"
        },
        {
         "name": "envoy",
         "rawType": "int64",
         "type": "integer"
        },
        {
         "name": "eowyn",
         "rawType": "int64",
         "type": "integer"
        },
        {
         "name": "epa",
         "rawType": "int64",
         "type": "integer"
        },
        {
         "name": "epic",
         "rawType": "int64",
         "type": "integer"
        },
        {
         "name": "epidemic",
         "rawType": "int64",
         "type": "integer"
        },
        {
         "name": "episode",
         "rawType": "int64",
         "type": "integer"
        },
        {
         "name": "equality",
         "rawType": "int64",
         "type": "integer"
        },
        {
         "name": "equity",
         "rawType": "int64",
         "type": "integer"
        },
        {
         "name": "er",
         "rawType": "int64",
         "type": "integer"
        },
        {
         "name": "era",
         "rawType": "int64",
         "type": "integer"
        },
        {
         "name": "era new",
         "rawType": "int64",
         "type": "integer"
        },
        {
         "name": "era new york",
         "rawType": "int64",
         "type": "integer"
        },
        {
         "name": "erdogan",
         "rawType": "int64",
         "type": "integer"
        },
        {
         "name": "eric",
         "rawType": "int64",
         "type": "integer"
        },
        {
         "name": "eric holder",
         "rawType": "int64",
         "type": "integer"
        },
        {
         "name": "error",
         "rawType": "int64",
         "type": "integer"
        },
        {
         "name": "escape",
         "rawType": "int64",
         "type": "integer"
        },
        {
         "name": "espn",
         "rawType": "int64",
         "type": "integer"
        },
        {
         "name": "establishment",
         "rawType": "int64",
         "type": "integer"
        },
        {
         "name": "estate",
         "rawType": "int64",
         "type": "integer"
        },
        {
         "name": "et",
         "rawType": "int64",
         "type": "integer"
        },
        {
         "name": "ethic",
         "rawType": "int64",
         "type": "integer"
        },
        {
         "name": "ethic office",
         "rawType": "int64",
         "type": "integer"
        },
        {
         "name": "eu",
         "rawType": "int64",
         "type": "integer"
        },
        {
         "name": "europe",
         "rawType": "int64",
         "type": "integer"
        },
        {
         "name": "european",
         "rawType": "int64",
         "type": "integer"
        },
        {
         "name": "evacuated",
         "rawType": "int64",
         "type": "integer"
        },
        {
         "name": "evacuation",
         "rawType": "int64",
         "type": "integer"
        },
        {
         "name": "evan",
         "rawType": "int64",
         "type": "integer"
        },
        {
         "name": "evan mcmullin",
         "rawType": "int64",
         "type": "integer"
        },
        {
         "name": "eve",
         "rawType": "int64",
         "type": "integer"
        },
        {
         "name": "even",
         "rawType": "int64",
         "type": "integer"
        },
        {
         "name": "evening",
         "rawType": "int64",
         "type": "integer"
        },
        {
         "name": "evening briefing",
         "rawType": "int64",
         "type": "integer"
        },
        {
         "name": "evening briefing new",
         "rawType": "int64",
         "type": "integer"
        },
        {
         "name": "event",
         "rawType": "int64",
         "type": "integer"
        },
        {
         "name": "event breitbart",
         "rawType": "int64",
         "type": "integer"
        },
        {
         "name": "ever",
         "rawType": "int64",
         "type": "integer"
        },
        {
         "name": "every",
         "rawType": "int64",
         "type": "integer"
        },
        {
         "name": "everyone",
         "rawType": "int64",
         "type": "integer"
        },
        {
         "name": "everything",
         "rawType": "int64",
         "type": "integer"
        },
        {
         "name": "everywhere",
         "rawType": "int64",
         "type": "integer"
        },
        {
         "name": "evidence",
         "rawType": "int64",
         "type": "integer"
        },
        {
         "name": "evil",
         "rawType": "int64",
         "type": "integer"
        },
        {
         "name": "evolution",
         "rawType": "int64",
         "type": "integer"
        },
        {
         "name": "ex",
         "rawType": "int64",
         "type": "integer"
        },
        {
         "name": "exactly",
         "rawType": "int64",
         "type": "integer"
        },
        {
         "name": "except",
         "rawType": "int64",
         "type": "integer"
        },
        {
         "name": "exchange",
         "rawType": "int64",
         "type": "integer"
        },
        {
         "name": "exclusive",
         "rawType": "int64",
         "type": "integer"
        },
        {
         "name": "executive",
         "rawType": "int64",
         "type": "integer"
        },
        {
         "name": "executive order",
         "rawType": "int64",
         "type": "integer"
        },
        {
         "name": "executive order breitbart",
         "rawType": "int64",
         "type": "integer"
        },
        {
         "name": "exercise",
         "rawType": "int64",
         "type": "integer"
        },
        {
         "name": "exit",
         "rawType": "int64",
         "type": "integer"
        },
        {
         "name": "expand",
         "rawType": "int64",
         "type": "integer"
        },
        {
         "name": "expansion",
         "rawType": "int64",
         "type": "integer"
        },
        {
         "name": "expect",
         "rawType": "int64",
         "type": "integer"
        },
        {
         "name": "expected",
         "rawType": "int64",
         "type": "integer"
        },
        {
         "name": "experience",
         "rawType": "int64",
         "type": "integer"
        },
        {
         "name": "expert",
         "rawType": "int64",
         "type": "integer"
        },
        {
         "name": "expert say",
         "rawType": "int64",
         "type": "integer"
        },
        {
         "name": "explained",
         "rawType": "int64",
         "type": "integer"
        },
        {
         "name": "explained new",
         "rawType": "int64",
         "type": "integer"
        },
        {
         "name": "explained new york",
         "rawType": "int64",
         "type": "integer"
        },
        {
         "name": "explains",
         "rawType": "int64",
         "type": "integer"
        },
        {
         "name": "explodes",
         "rawType": "int64",
         "type": "integer"
        },
        {
         "name": "explosion",
         "rawType": "int64",
         "type": "integer"
        },
        {
         "name": "explosive",
         "rawType": "int64",
         "type": "integer"
        },
        {
         "name": "expose",
         "rawType": "int64",
         "type": "integer"
        },
        {
         "name": "expose hillary",
         "rawType": "int64",
         "type": "integer"
        },
        {
         "name": "exposed",
         "rawType": "int64",
         "type": "integer"
        },
        {
         "name": "exposing",
         "rawType": "int64",
         "type": "integer"
        },
        {
         "name": "express",
         "rawType": "int64",
         "type": "integer"
        },
        {
         "name": "extend",
         "rawType": "int64",
         "type": "integer"
        },
        {
         "name": "extraordinary",
         "rawType": "int64",
         "type": "integer"
        },
        {
         "name": "extraterrestrial",
         "rawType": "int64",
         "type": "integer"
        },
        {
         "name": "extreme",
         "rawType": "int64",
         "type": "integer"
        },
        {
         "name": "extremist",
         "rawType": "int64",
         "type": "integer"
        },
        {
         "name": "eye",
         "rawType": "int64",
         "type": "integer"
        },
        {
         "name": "face",
         "rawType": "int64",
         "type": "integer"
        },
        {
         "name": "face new",
         "rawType": "int64",
         "type": "integer"
        },
        {
         "name": "facebook",
         "rawType": "int64",
         "type": "integer"
        },
        {
         "name": "facing",
         "rawType": "int64",
         "type": "integer"
        },
        {
         "name": "fact",
         "rawType": "int64",
         "type": "integer"
        },
        {
         "name": "fact check",
         "rawType": "int64",
         "type": "integer"
        },
        {
         "name": "faction",
         "rawType": "int64",
         "type": "integer"
        },
        {
         "name": "factory",
         "rawType": "int64",
         "type": "integer"
        },
        {
         "name": "fail",
         "rawType": "int64",
         "type": "integer"
        },
        {
         "name": "failed",
         "rawType": "int64",
         "type": "integer"
        },
        {
         "name": "failing",
         "rawType": "int64",
         "type": "integer"
        },
        {
         "name": "fails",
         "rawType": "int64",
         "type": "integer"
        },
        {
         "name": "failure",
         "rawType": "int64",
         "type": "integer"
        },
        {
         "name": "fair",
         "rawType": "int64",
         "type": "integer"
        },
        {
         "name": "faith",
         "rawType": "int64",
         "type": "integer"
        },
        {
         "name": "fake",
         "rawType": "int64",
         "type": "integer"
        },
        {
         "name": "fake news",
         "rawType": "int64",
         "type": "integer"
        },
        {
         "name": "fake news breitbart",
         "rawType": "int64",
         "type": "integer"
        },
        {
         "name": "fake news new",
         "rawType": "int64",
         "type": "integer"
        },
        {
         "name": "fall",
         "rawType": "int64",
         "type": "integer"
        },
        {
         "name": "falling",
         "rawType": "int64",
         "type": "integer"
        },
        {
         "name": "fallout",
         "rawType": "int64",
         "type": "integer"
        },
        {
         "name": "false",
         "rawType": "int64",
         "type": "integer"
        },
        {
         "name": "false flag",
         "rawType": "int64",
         "type": "integer"
        },
        {
         "name": "falsely",
         "rawType": "int64",
         "type": "integer"
        },
        {
         "name": "fame",
         "rawType": "int64",
         "type": "integer"
        },
        {
         "name": "family",
         "rawType": "int64",
         "type": "integer"
        },
        {
         "name": "famous",
         "rawType": "int64",
         "type": "integer"
        },
        {
         "name": "fan",
         "rawType": "int64",
         "type": "integer"
        },
        {
         "name": "fantasy",
         "rawType": "int64",
         "type": "integer"
        },
        {
         "name": "far",
         "rawType": "int64",
         "type": "integer"
        },
        {
         "name": "far right",
         "rawType": "int64",
         "type": "integer"
        },
        {
         "name": "farage",
         "rawType": "int64",
         "type": "integer"
        },
        {
         "name": "farewell",
         "rawType": "int64",
         "type": "integer"
        },
        {
         "name": "fargo",
         "rawType": "int64",
         "type": "integer"
        },
        {
         "name": "farm",
         "rawType": "int64",
         "type": "integer"
        },
        {
         "name": "farmer",
         "rawType": "int64",
         "type": "integer"
        },
        {
         "name": "fascism",
         "rawType": "int64",
         "type": "integer"
        },
        {
         "name": "fascist",
         "rawType": "int64",
         "type": "integer"
        },
        {
         "name": "fashion",
         "rawType": "int64",
         "type": "integer"
        },
        {
         "name": "fast",
         "rawType": "int64",
         "type": "integer"
        },
        {
         "name": "fat",
         "rawType": "int64",
         "type": "integer"
        },
        {
         "name": "fatal",
         "rawType": "int64",
         "type": "integer"
        },
        {
         "name": "fate",
         "rawType": "int64",
         "type": "integer"
        },
        {
         "name": "father",
         "rawType": "int64",
         "type": "integer"
        },
        {
         "name": "fault",
         "rawType": "int64",
         "type": "integer"
        },
        {
         "name": "favor",
         "rawType": "int64",
         "type": "integer"
        },
        {
         "name": "favorite",
         "rawType": "int64",
         "type": "integer"
        },
        {
         "name": "fbi",
         "rawType": "int64",
         "type": "integer"
        },
        {
         "name": "fbi agent",
         "rawType": "int64",
         "type": "integer"
        },
        {
         "name": "fbi director",
         "rawType": "int64",
         "type": "integer"
        },
        {
         "name": "fbi director comey",
         "rawType": "int64",
         "type": "integer"
        },
        {
         "name": "fbi director james",
         "rawType": "int64",
         "type": "integer"
        },
        {
         "name": "fbi email",
         "rawType": "int64",
         "type": "integer"
        },
        {
         "name": "fbi email investigation",
         "rawType": "int64",
         "type": "integer"
        },
        {
         "name": "fbi found",
         "rawType": "int64",
         "type": "integer"
        },
        {
         "name": "fbi investigation",
         "rawType": "int64",
         "type": "integer"
        },
        {
         "name": "fbi reopens",
         "rawType": "int64",
         "type": "integer"
        },
        {
         "name": "fbi reopens hillary",
         "rawType": "int64",
         "type": "integer"
        },
        {
         "name": "fda",
         "rawType": "int64",
         "type": "integer"
        },
        {
         "name": "fear",
         "rawType": "int64",
         "type": "integer"
        },
        {
         "name": "fear new",
         "rawType": "int64",
         "type": "integer"
        },
        {
         "name": "fear new york",
         "rawType": "int64",
         "type": "integer"
        },
        {
         "name": "fed",
         "rawType": "int64",
         "type": "integer"
        },
        {
         "name": "federal",
         "rawType": "int64",
         "type": "integer"
        },
        {
         "name": "federal government",
         "rawType": "int64",
         "type": "integer"
        },
        {
         "name": "federal judge",
         "rawType": "int64",
         "type": "integer"
        },
        {
         "name": "federal reserve",
         "rawType": "int64",
         "type": "integer"
        },
        {
         "name": "fee",
         "rawType": "int64",
         "type": "integer"
        },
        {
         "name": "feed",
         "rawType": "int64",
         "type": "integer"
        },
        {
         "name": "feel",
         "rawType": "int64",
         "type": "integer"
        },
        {
         "name": "feel like",
         "rawType": "int64",
         "type": "integer"
        },
        {
         "name": "feeling",
         "rawType": "int64",
         "type": "integer"
        },
        {
         "name": "fellow",
         "rawType": "int64",
         "type": "integer"
        },
        {
         "name": "fema",
         "rawType": "int64",
         "type": "integer"
        },
        {
         "name": "female",
         "rawType": "int64",
         "type": "integer"
        },
        {
         "name": "feminism",
         "rawType": "int64",
         "type": "integer"
        },
        {
         "name": "feminist",
         "rawType": "int64",
         "type": "integer"
        },
        {
         "name": "festival",
         "rawType": "int64",
         "type": "integer"
        },
        {
         "name": "feud",
         "rawType": "int64",
         "type": "integer"
        },
        {
         "name": "fidel",
         "rawType": "int64",
         "type": "integer"
        },
        {
         "name": "fidel castro",
         "rawType": "int64",
         "type": "integer"
        },
        {
         "name": "field",
         "rawType": "int64",
         "type": "integer"
        },
        {
         "name": "fifa",
         "rawType": "int64",
         "type": "integer"
        },
        {
         "name": "fifth",
         "rawType": "int64",
         "type": "integer"
        },
        {
         "name": "fight",
         "rawType": "int64",
         "type": "integer"
        },
        {
         "name": "fight back",
         "rawType": "int64",
         "type": "integer"
        },
        {
         "name": "fight new",
         "rawType": "int64",
         "type": "integer"
        },
        {
         "name": "fight new york",
         "rawType": "int64",
         "type": "integer"
        },
        {
         "name": "fight trump",
         "rawType": "int64",
         "type": "integer"
        },
        {
         "name": "fighter",
         "rawType": "int64",
         "type": "integer"
        },
        {
         "name": "fighting",
         "rawType": "int64",
         "type": "integer"
        },
        {
         "name": "figure",
         "rawType": "int64",
         "type": "integer"
        },
        {
         "name": "file",
         "rawType": "int64",
         "type": "integer"
        },
        {
         "name": "filed",
         "rawType": "int64",
         "type": "integer"
        },
        {
         "name": "filibuster",
         "rawType": "int64",
         "type": "integer"
        },
        {
         "name": "filing",
         "rawType": "int64",
         "type": "integer"
        },
        {
         "name": "filled",
         "rawType": "int64",
         "type": "integer"
        },
        {
         "name": "fillon",
         "rawType": "int64",
         "type": "integer"
        },
        {
         "name": "film",
         "rawType": "int64",
         "type": "integer"
        },
        {
         "name": "final",
         "rawType": "int64",
         "type": "integer"
        },
        {
         "name": "finally",
         "rawType": "int64",
         "type": "integer"
        },
        {
         "name": "finance",
         "rawType": "int64",
         "type": "integer"
        },
        {
         "name": "financial",
         "rawType": "int64",
         "type": "integer"
        },
        {
         "name": "find",
         "rawType": "int64",
         "type": "integer"
        },
        {
         "name": "find american",
         "rawType": "int64",
         "type": "integer"
        },
        {
         "name": "find american concerned",
         "rawType": "int64",
         "type": "integer"
        },
        {
         "name": "find new",
         "rawType": "int64",
         "type": "integer"
        },
        {
         "name": "find new york",
         "rawType": "int64",
         "type": "integer"
        },
        {
         "name": "finding",
         "rawType": "int64",
         "type": "integer"
        },
        {
         "name": "fine",
         "rawType": "int64",
         "type": "integer"
        },
        {
         "name": "finger",
         "rawType": "int64",
         "type": "integer"
        },
        {
         "name": "finish",
         "rawType": "int64",
         "type": "integer"
        },
        {
         "name": "finland",
         "rawType": "int64",
         "type": "integer"
        },
        {
         "name": "fire",
         "rawType": "int64",
         "type": "integer"
        },
        {
         "name": "fire new",
         "rawType": "int64",
         "type": "integer"
        },
        {
         "name": "fire new york",
         "rawType": "int64",
         "type": "integer"
        },
        {
         "name": "fired",
         "rawType": "int64",
         "type": "integer"
        },
        {
         "name": "firing",
         "rawType": "int64",
         "type": "integer"
        },
        {
         "name": "firm",
         "rawType": "int64",
         "type": "integer"
        },
        {
         "name": "first",
         "rawType": "int64",
         "type": "integer"
        },
        {
         "name": "first day",
         "rawType": "int64",
         "type": "integer"
        },
        {
         "name": "first lady",
         "rawType": "int64",
         "type": "integer"
        },
        {
         "name": "first new",
         "rawType": "int64",
         "type": "integer"
        },
        {
         "name": "first new york",
         "rawType": "int64",
         "type": "integer"
        },
        {
         "name": "first time",
         "rawType": "int64",
         "type": "integer"
        },
        {
         "name": "fisher",
         "rawType": "int64",
         "type": "integer"
        },
        {
         "name": "fit",
         "rawType": "int64",
         "type": "integer"
        },
        {
         "name": "five",
         "rawType": "int64",
         "type": "integer"
        },
        {
         "name": "fix",
         "rawType": "int64",
         "type": "integer"
        },
        {
         "name": "fixer",
         "rawType": "int64",
         "type": "integer"
        },
        {
         "name": "flag",
         "rawType": "int64",
         "type": "integer"
        },
        {
         "name": "flare",
         "rawType": "int64",
         "type": "integer"
        },
        {
         "name": "flash",
         "rawType": "int64",
         "type": "integer"
        },
        {
         "name": "flashback",
         "rawType": "int64",
         "type": "integer"
        },
        {
         "name": "flat",
         "rawType": "int64",
         "type": "integer"
        },
        {
         "name": "flee",
         "rawType": "int64",
         "type": "integer"
        },
        {
         "name": "flight",
         "rawType": "int64",
         "type": "integer"
        },
        {
         "name": "flight new",
         "rawType": "int64",
         "type": "integer"
        },
        {
         "name": "flight new york",
         "rawType": "int64",
         "type": "integer"
        },
        {
         "name": "flint",
         "rawType": "int64",
         "type": "integer"
        },
        {
         "name": "flip",
         "rawType": "int64",
         "type": "integer"
        },
        {
         "name": "flood",
         "rawType": "int64",
         "type": "integer"
        },
        {
         "name": "flooding",
         "rawType": "int64",
         "type": "integer"
        },
        {
         "name": "floor",
         "rawType": "int64",
         "type": "integer"
        },
        {
         "name": "flop",
         "rawType": "int64",
         "type": "integer"
        },
        {
         "name": "florida",
         "rawType": "int64",
         "type": "integer"
        },
        {
         "name": "fly",
         "rawType": "int64",
         "type": "integer"
        },
        {
         "name": "fly zone",
         "rawType": "int64",
         "type": "integer"
        },
        {
         "name": "flying",
         "rawType": "int64",
         "type": "integer"
        },
        {
         "name": "flynn",
         "rawType": "int64",
         "type": "integer"
        },
        {
         "name": "fmr",
         "rawType": "int64",
         "type": "integer"
        },
        {
         "name": "focus",
         "rawType": "int64",
         "type": "integer"
        },
        {
         "name": "foe",
         "rawType": "int64",
         "type": "integer"
        },
        {
         "name": "follow",
         "rawType": "int64",
         "type": "integer"
        },
        {
         "name": "following",
         "rawType": "int64",
         "type": "integer"
        },
        {
         "name": "food",
         "rawType": "int64",
         "type": "integer"
        },
        {
         "name": "fool",
         "rawType": "int64",
         "type": "integer"
        },
        {
         "name": "foot",
         "rawType": "int64",
         "type": "integer"
        },
        {
         "name": "footage",
         "rawType": "int64",
         "type": "integer"
        },
        {
         "name": "football",
         "rawType": "int64",
         "type": "integer"
        },
        {
         "name": "force",
         "rawType": "int64",
         "type": "integer"
        },
        {
         "name": "forced",
         "rawType": "int64",
         "type": "integer"
        },
        {
         "name": "ford",
         "rawType": "int64",
         "type": "integer"
        },
        {
         "name": "forecast",
         "rawType": "int64",
         "type": "integer"
        },
        {
         "name": "foreign",
         "rawType": "int64",
         "type": "integer"
        },
        {
         "name": "foreign agent",
         "rawType": "int64",
         "type": "integer"
        },
        {
         "name": "foreign agent saudi",
         "rawType": "int64",
         "type": "integer"
        },
        {
         "name": "foreign policy",
         "rawType": "int64",
         "type": "integer"
        },
        {
         "name": "forest",
         "rawType": "int64",
         "type": "integer"
        },
        {
         "name": "forever",
         "rawType": "int64",
         "type": "integer"
        },
        {
         "name": "forget",
         "rawType": "int64",
         "type": "integer"
        },
        {
         "name": "forgotten",
         "rawType": "int64",
         "type": "integer"
        },
        {
         "name": "form",
         "rawType": "int64",
         "type": "integer"
        },
        {
         "name": "formally",
         "rawType": "int64",
         "type": "integer"
        },
        {
         "name": "former",
         "rawType": "int64",
         "type": "integer"
        },
        {
         "name": "former congressman",
         "rawType": "int64",
         "type": "integer"
        },
        {
         "name": "fort",
         "rawType": "int64",
         "type": "integer"
        },
        {
         "name": "fortune",
         "rawType": "int64",
         "type": "integer"
        },
        {
         "name": "fortune new",
         "rawType": "int64",
         "type": "integer"
        },
        {
         "name": "fortune new york",
         "rawType": "int64",
         "type": "integer"
        },
        {
         "name": "forward",
         "rawType": "int64",
         "type": "integer"
        },
        {
         "name": "foster",
         "rawType": "int64",
         "type": "integer"
        },
        {
         "name": "found",
         "rawType": "int64",
         "type": "integer"
        },
        {
         "name": "found dead",
         "rawType": "int64",
         "type": "integer"
        },
        {
         "name": "found guilty",
         "rawType": "int64",
         "type": "integer"
        },
        {
         "name": "found new",
         "rawType": "int64",
         "type": "integer"
        },
        {
         "name": "found new york",
         "rawType": "int64",
         "type": "integer"
        },
        {
         "name": "foundation",
         "rawType": "int64",
         "type": "integer"
        },
        {
         "name": "foundation donor",
         "rawType": "int64",
         "type": "integer"
        },
        {
         "name": "founder",
         "rawType": "int64",
         "type": "integer"
        },
        {
         "name": "four",
         "rawType": "int64",
         "type": "integer"
        },
        {
         "name": "fourth",
         "rawType": "int64",
         "type": "integer"
        },
        {
         "name": "fox",
         "rawType": "int64",
         "type": "integer"
        },
        {
         "name": "fox news",
         "rawType": "int64",
         "type": "integer"
        },
        {
         "name": "fracking",
         "rawType": "int64",
         "type": "integer"
        },
        {
         "name": "fran",
         "rawType": "int64",
         "type": "integer"
        },
        {
         "name": "fran ois",
         "rawType": "int64",
         "type": "integer"
        },
        {
         "name": "fran ois fillon",
         "rawType": "int64",
         "type": "integer"
        },
        {
         "name": "france",
         "rawType": "int64",
         "type": "integer"
        },
        {
         "name": "france new",
         "rawType": "int64",
         "type": "integer"
        },
        {
         "name": "francis",
         "rawType": "int64",
         "type": "integer"
        },
        {
         "name": "francisco",
         "rawType": "int64",
         "type": "integer"
        },
        {
         "name": "frank",
         "rawType": "int64",
         "type": "integer"
        },
        {
         "name": "frank gaffney",
         "rawType": "int64",
         "type": "integer"
        },
        {
         "name": "franken",
         "rawType": "int64",
         "type": "integer"
        },
        {
         "name": "fraud",
         "rawType": "int64",
         "type": "integer"
        },
        {
         "name": "fraud investigation",
         "rawType": "int64",
         "type": "integer"
        },
        {
         "name": "fray",
         "rawType": "int64",
         "type": "integer"
        },
        {
         "name": "freak",
         "rawType": "int64",
         "type": "integer"
        },
        {
         "name": "freddie",
         "rawType": "int64",
         "type": "integer"
        },
        {
         "name": "freddie gray",
         "rawType": "int64",
         "type": "integer"
        },
        {
         "name": "free",
         "rawType": "int64",
         "type": "integer"
        },
        {
         "name": "free speech",
         "rawType": "int64",
         "type": "integer"
        },
        {
         "name": "freedom",
         "rawType": "int64",
         "type": "integer"
        },
        {
         "name": "freedom caucus",
         "rawType": "int64",
         "type": "integer"
        },
        {
         "name": "freedom rider",
         "rawType": "int64",
         "type": "integer"
        },
        {
         "name": "freeze",
         "rawType": "int64",
         "type": "integer"
        },
        {
         "name": "freezing",
         "rawType": "int64",
         "type": "integer"
        },
        {
         "name": "french",
         "rawType": "int64",
         "type": "integer"
        },
        {
         "name": "french election",
         "rawType": "int64",
         "type": "integer"
        },
        {
         "name": "french presidential",
         "rawType": "int64",
         "type": "integer"
        },
        {
         "name": "fresh",
         "rawType": "int64",
         "type": "integer"
        },
        {
         "name": "friday",
         "rawType": "int64",
         "type": "integer"
        },
        {
         "name": "friday evening",
         "rawType": "int64",
         "type": "integer"
        },
        {
         "name": "friday evening briefing",
         "rawType": "int64",
         "type": "integer"
        },
        {
         "name": "friday mailbag",
         "rawType": "int64",
         "type": "integer"
        },
        {
         "name": "friend",
         "rawType": "int64",
         "type": "integer"
        },
        {
         "name": "friendly",
         "rawType": "int64",
         "type": "integer"
        },
        {
         "name": "front",
         "rawType": "int64",
         "type": "integer"
        },
        {
         "name": "fuel",
         "rawType": "int64",
         "type": "integer"
        },
        {
         "name": "fueled",
         "rawType": "int64",
         "type": "integer"
        },
        {
         "name": "fukushima",
         "rawType": "int64",
         "type": "integer"
        },
        {
         "name": "full",
         "rawType": "int64",
         "type": "integer"
        },
        {
         "name": "full day",
         "rawType": "int64",
         "type": "integer"
        },
        {
         "name": "full day office",
         "rawType": "int64",
         "type": "integer"
        },
        {
         "name": "fully",
         "rawType": "int64",
         "type": "integer"
        },
        {
         "name": "fun",
         "rawType": "int64",
         "type": "integer"
        },
        {
         "name": "fund",
         "rawType": "int64",
         "type": "integer"
        },
        {
         "name": "funded",
         "rawType": "int64",
         "type": "integer"
        },
        {
         "name": "funding",
         "rawType": "int64",
         "type": "integer"
        },
        {
         "name": "funeral",
         "rawType": "int64",
         "type": "integer"
        },
        {
         "name": "funny",
         "rawType": "int64",
         "type": "integer"
        },
        {
         "name": "furious",
         "rawType": "int64",
         "type": "integer"
        },
        {
         "name": "future",
         "rawType": "int64",
         "type": "integer"
        },
        {
         "name": "future breitbart",
         "rawType": "int64",
         "type": "integer"
        },
        {
         "name": "gaffney",
         "rawType": "int64",
         "type": "integer"
        },
        {
         "name": "gaga",
         "rawType": "int64",
         "type": "integer"
        },
        {
         "name": "gain",
         "rawType": "int64",
         "type": "integer"
        },
        {
         "name": "galaxy",
         "rawType": "int64",
         "type": "integer"
        },
        {
         "name": "galaxy note",
         "rawType": "int64",
         "type": "integer"
        },
        {
         "name": "game",
         "rawType": "int64",
         "type": "integer"
        },
        {
         "name": "game breitbart",
         "rawType": "int64",
         "type": "integer"
        },
        {
         "name": "game new",
         "rawType": "int64",
         "type": "integer"
        },
        {
         "name": "game new york",
         "rawType": "int64",
         "type": "integer"
        },
        {
         "name": "game throne",
         "rawType": "int64",
         "type": "integer"
        },
        {
         "name": "game throne season",
         "rawType": "int64",
         "type": "integer"
        },
        {
         "name": "gang",
         "rawType": "int64",
         "type": "integer"
        },
        {
         "name": "gang member",
         "rawType": "int64",
         "type": "integer"
        },
        {
         "name": "gap",
         "rawType": "int64",
         "type": "integer"
        },
        {
         "name": "garbage",
         "rawType": "int64",
         "type": "integer"
        },
        {
         "name": "garden",
         "rawType": "int64",
         "type": "integer"
        },
        {
         "name": "garner",
         "rawType": "int64",
         "type": "integer"
        },
        {
         "name": "gary",
         "rawType": "int64",
         "type": "integer"
        },
        {
         "name": "gary johnson",
         "rawType": "int64",
         "type": "integer"
        },
        {
         "name": "gas",
         "rawType": "int64",
         "type": "integer"
        },
        {
         "name": "gave",
         "rawType": "int64",
         "type": "integer"
        },
        {
         "name": "gawker",
         "rawType": "int64",
         "type": "integer"
        },
        {
         "name": "gay",
         "rawType": "int64",
         "type": "integer"
        },
        {
         "name": "gaza",
         "rawType": "int64",
         "type": "integer"
        },
        {
         "name": "geller",
         "rawType": "int64",
         "type": "integer"
        },
        {
         "name": "gender",
         "rawType": "int64",
         "type": "integer"
        },
        {
         "name": "gene",
         "rawType": "int64",
         "type": "integer"
        },
        {
         "name": "general",
         "rawType": "int64",
         "type": "integer"
        },
        {
         "name": "generation",
         "rawType": "int64",
         "type": "integer"
        },
        {
         "name": "genetically",
         "rawType": "int64",
         "type": "integer"
        },
        {
         "name": "genius",
         "rawType": "int64",
         "type": "integer"
        },
        {
         "name": "genocide",
         "rawType": "int64",
         "type": "integer"
        },
        {
         "name": "george",
         "rawType": "int64",
         "type": "integer"
        },
        {
         "name": "george michael",
         "rawType": "int64",
         "type": "integer"
        },
        {
         "name": "george soros",
         "rawType": "int64",
         "type": "integer"
        },
        {
         "name": "georgetown",
         "rawType": "int64",
         "type": "integer"
        },
        {
         "name": "georgia",
         "rawType": "int64",
         "type": "integer"
        },
        {
         "name": "german",
         "rawType": "int64",
         "type": "integer"
        },
        {
         "name": "germany",
         "rawType": "int64",
         "type": "integer"
        },
        {
         "name": "get",
         "rawType": "int64",
         "type": "integer"
        },
        {
         "name": "get back",
         "rawType": "int64",
         "type": "integer"
        },
        {
         "name": "get new",
         "rawType": "int64",
         "type": "integer"
        },
        {
         "name": "get ready",
         "rawType": "int64",
         "type": "integer"
        },
        {
         "name": "get ready civil",
         "rawType": "int64",
         "type": "integer"
        },
        {
         "name": "getting",
         "rawType": "int64",
         "type": "integer"
        },
        {
         "name": "ghost",
         "rawType": "int64",
         "type": "integer"
        },
        {
         "name": "giant",
         "rawType": "int64",
         "type": "integer"
        },
        {
         "name": "gift",
         "rawType": "int64",
         "type": "integer"
        },
        {
         "name": "gingrich",
         "rawType": "int64",
         "type": "integer"
        },
        {
         "name": "girl",
         "rawType": "int64",
         "type": "integer"
        },
        {
         "name": "giuliani",
         "rawType": "int64",
         "type": "integer"
        },
        {
         "name": "give",
         "rawType": "int64",
         "type": "integer"
        },
        {
         "name": "given",
         "rawType": "int64",
         "type": "integer"
        },
        {
         "name": "giving",
         "rawType": "int64",
         "type": "integer"
        },
        {
         "name": "glass",
         "rawType": "int64",
         "type": "integer"
        },
        {
         "name": "glenn",
         "rawType": "int64",
         "type": "integer"
        },
        {
         "name": "glitch",
         "rawType": "int64",
         "type": "integer"
        },
        {
         "name": "global",
         "rawType": "int64",
         "type": "integer"
        },
        {
         "name": "global warming",
         "rawType": "int64",
         "type": "integer"
        },
        {
         "name": "globalism",
         "rawType": "int64",
         "type": "integer"
        },
        {
         "name": "globalist",
         "rawType": "int64",
         "type": "integer"
        },
        {
         "name": "globalists",
         "rawType": "int64",
         "type": "integer"
        },
        {
         "name": "globalization",
         "rawType": "int64",
         "type": "integer"
        },
        {
         "name": "globe",
         "rawType": "int64",
         "type": "integer"
        },
        {
         "name": "gm",
         "rawType": "int64",
         "type": "integer"
        },
        {
         "name": "gmo",
         "rawType": "int64",
         "type": "integer"
        },
        {
         "name": "go",
         "rawType": "int64",
         "type": "integer"
        },
        {
         "name": "go back",
         "rawType": "int64",
         "type": "integer"
        },
        {
         "name": "go full",
         "rawType": "int64",
         "type": "integer"
        },
        {
         "name": "go new",
         "rawType": "int64",
         "type": "integer"
        },
        {
         "name": "goal",
         "rawType": "int64",
         "type": "integer"
        },
        {
         "name": "god",
         "rawType": "int64",
         "type": "integer"
        },
        {
         "name": "gohmert",
         "rawType": "int64",
         "type": "integer"
        },
        {
         "name": "going",
         "rawType": "int64",
         "type": "integer"
        },
        {
         "name": "gold",
         "rawType": "int64",
         "type": "integer"
        },
        {
         "name": "gold silver",
         "rawType": "int64",
         "type": "integer"
        },
        {
         "name": "golden",
         "rawType": "int64",
         "type": "integer"
        },
        {
         "name": "golden globe",
         "rawType": "int64",
         "type": "integer"
        },
        {
         "name": "golden state",
         "rawType": "int64",
         "type": "integer"
        },
        {
         "name": "golden state warrior",
         "rawType": "int64",
         "type": "integer"
        },
        {
         "name": "goldman",
         "rawType": "int64",
         "type": "integer"
        },
        {
         "name": "goldman sachs",
         "rawType": "int64",
         "type": "integer"
        },
        {
         "name": "golf",
         "rawType": "int64",
         "type": "integer"
        },
        {
         "name": "gone",
         "rawType": "int64",
         "type": "integer"
        },
        {
         "name": "good",
         "rawType": "int64",
         "type": "integer"
        },
        {
         "name": "goodell",
         "rawType": "int64",
         "type": "integer"
        },
        {
         "name": "google",
         "rawType": "int64",
         "type": "integer"
        },
        {
         "name": "gop",
         "rawType": "int64",
         "type": "integer"
        },
        {
         "name": "gop rep",
         "rawType": "int64",
         "type": "integer"
        },
        {
         "name": "gop sen",
         "rawType": "int64",
         "type": "integer"
        },
        {
         "name": "gorka",
         "rawType": "int64",
         "type": "integer"
        },
        {
         "name": "gorsuch",
         "rawType": "int64",
         "type": "integer"
        },
        {
         "name": "gorsuch breitbart",
         "rawType": "int64",
         "type": "integer"
        },
        {
         "name": "got",
         "rawType": "int64",
         "type": "integer"
        },
        {
         "name": "gov",
         "rawType": "int64",
         "type": "integer"
        },
        {
         "name": "government",
         "rawType": "int64",
         "type": "integer"
        },
        {
         "name": "government new",
         "rawType": "int64",
         "type": "integer"
        },
        {
         "name": "government new york",
         "rawType": "int64",
         "type": "integer"
        },
        {
         "name": "governor",
         "rawType": "int64",
         "type": "integer"
        },
        {
         "name": "govt",
         "rawType": "int64",
         "type": "integer"
        },
        {
         "name": "grab",
         "rawType": "int64",
         "type": "integer"
        },
        {
         "name": "grabbing",
         "rawType": "int64",
         "type": "integer"
        },
        {
         "name": "grabbing musket",
         "rawType": "int64",
         "type": "integer"
        },
        {
         "name": "graham",
         "rawType": "int64",
         "type": "integer"
        },
        {
         "name": "grammys",
         "rawType": "int64",
         "type": "integer"
        },
        {
         "name": "grand",
         "rawType": "int64",
         "type": "integer"
        },
        {
         "name": "grave",
         "rawType": "int64",
         "type": "integer"
        },
        {
         "name": "gray",
         "rawType": "int64",
         "type": "integer"
        },
        {
         "name": "great",
         "rawType": "int64",
         "type": "integer"
        },
        {
         "name": "great story",
         "rawType": "int64",
         "type": "integer"
        },
        {
         "name": "greatest",
         "rawType": "int64",
         "type": "integer"
        },
        {
         "name": "greece",
         "rawType": "int64",
         "type": "integer"
        },
        {
         "name": "greek",
         "rawType": "int64",
         "type": "integer"
        },
        {
         "name": "green",
         "rawType": "int64",
         "type": "integer"
        },
        {
         "name": "grid",
         "rawType": "int64",
         "type": "integer"
        },
        {
         "name": "griffin",
         "rawType": "int64",
         "type": "integer"
        },
        {
         "name": "grip",
         "rawType": "int64",
         "type": "integer"
        },
        {
         "name": "ground",
         "rawType": "int64",
         "type": "integer"
        },
        {
         "name": "group",
         "rawType": "int64",
         "type": "integer"
        },
        {
         "name": "grow",
         "rawType": "int64",
         "type": "integer"
        },
        {
         "name": "growing",
         "rawType": "int64",
         "type": "integer"
        },
        {
         "name": "grows",
         "rawType": "int64",
         "type": "integer"
        },
        {
         "name": "growth",
         "rawType": "int64",
         "type": "integer"
        },
        {
         "name": "gruber",
         "rawType": "int64",
         "type": "integer"
        },
        {
         "name": "guard",
         "rawType": "int64",
         "type": "integer"
        },
        {
         "name": "guardian",
         "rawType": "int64",
         "type": "integer"
        },
        {
         "name": "guardian liberty",
         "rawType": "int64",
         "type": "integer"
        },
        {
         "name": "guardian liberty voice",
         "rawType": "int64",
         "type": "integer"
        },
        {
         "name": "guess",
         "rawType": "int64",
         "type": "integer"
        },
        {
         "name": "guest",
         "rawType": "int64",
         "type": "integer"
        },
        {
         "name": "guez",
         "rawType": "int64",
         "type": "integer"
        },
        {
         "name": "guide",
         "rawType": "int64",
         "type": "integer"
        },
        {
         "name": "guilt",
         "rawType": "int64",
         "type": "integer"
        },
        {
         "name": "guilty",
         "rawType": "int64",
         "type": "integer"
        },
        {
         "name": "gulf",
         "rawType": "int64",
         "type": "integer"
        },
        {
         "name": "gun",
         "rawType": "int64",
         "type": "integer"
        },
        {
         "name": "gun control",
         "rawType": "int64",
         "type": "integer"
        },
        {
         "name": "gunfire",
         "rawType": "int64",
         "type": "integer"
        },
        {
         "name": "gunman",
         "rawType": "int64",
         "type": "integer"
        },
        {
         "name": "guy",
         "rawType": "int64",
         "type": "integer"
        },
        {
         "name": "habit",
         "rawType": "int64",
         "type": "integer"
        },
        {
         "name": "hack",
         "rawType": "int64",
         "type": "integer"
        },
        {
         "name": "hack wikileaks",
         "rawType": "int64",
         "type": "integer"
        },
        {
         "name": "hacked",
         "rawType": "int64",
         "type": "integer"
        },
        {
         "name": "hacker",
         "rawType": "int64",
         "type": "integer"
        },
        {
         "name": "hacking",
         "rawType": "int64",
         "type": "integer"
        },
        {
         "name": "hacking new",
         "rawType": "int64",
         "type": "integer"
        },
        {
         "name": "hacking new york",
         "rawType": "int64",
         "type": "integer"
        },
        {
         "name": "hail",
         "rawType": "int64",
         "type": "integer"
        },
        {
         "name": "hair",
         "rawType": "int64",
         "type": "integer"
        },
        {
         "name": "haiti",
         "rawType": "int64",
         "type": "integer"
        },
        {
         "name": "haley",
         "rawType": "int64",
         "type": "integer"
        },
        {
         "name": "half",
         "rawType": "int64",
         "type": "integer"
        },
        {
         "name": "hall",
         "rawType": "int64",
         "type": "integer"
        },
        {
         "name": "halloween",
         "rawType": "int64",
         "type": "integer"
        },
        {
         "name": "halt",
         "rawType": "int64",
         "type": "integer"
        },
        {
         "name": "hamas",
         "rawType": "int64",
         "type": "integer"
        },
        {
         "name": "hamilton",
         "rawType": "int64",
         "type": "integer"
        },
        {
         "name": "hammer",
         "rawType": "int64",
         "type": "integer"
        },
        {
         "name": "hampshire",
         "rawType": "int64",
         "type": "integer"
        },
        {
         "name": "hand",
         "rawType": "int64",
         "type": "integer"
        },
        {
         "name": "handler",
         "rawType": "int64",
         "type": "integer"
        },
        {
         "name": "hannity",
         "rawType": "int64",
         "type": "integer"
        },
        {
         "name": "happen",
         "rawType": "int64",
         "type": "integer"
        },
        {
         "name": "happened",
         "rawType": "int64",
         "type": "integer"
        },
        {
         "name": "happening",
         "rawType": "int64",
         "type": "integer"
        },
        {
         "name": "happens",
         "rawType": "int64",
         "type": "integer"
        },
        {
         "name": "happy",
         "rawType": "int64",
         "type": "integer"
        },
        {
         "name": "haram",
         "rawType": "int64",
         "type": "integer"
        },
        {
         "name": "harassment",
         "rawType": "int64",
         "type": "integer"
        },
        {
         "name": "harbor",
         "rawType": "int64",
         "type": "integer"
        },
        {
         "name": "hard",
         "rawType": "int64",
         "type": "integer"
        },
        {
         "name": "harder",
         "rawType": "int64",
         "type": "integer"
        },
        {
         "name": "harry",
         "rawType": "int64",
         "type": "integer"
        },
        {
         "name": "harry reid",
         "rawType": "int64",
         "type": "integer"
        },
        {
         "name": "harsh",
         "rawType": "int64",
         "type": "integer"
        },
        {
         "name": "harvard",
         "rawType": "int64",
         "type": "integer"
        },
        {
         "name": "harvey",
         "rawType": "int64",
         "type": "integer"
        },
        {
         "name": "hat",
         "rawType": "int64",
         "type": "integer"
        },
        {
         "name": "hate",
         "rawType": "int64",
         "type": "integer"
        },
        {
         "name": "hate crime",
         "rawType": "int64",
         "type": "integer"
        },
        {
         "name": "hate speech",
         "rawType": "int64",
         "type": "integer"
        },
        {
         "name": "hater",
         "rawType": "int64",
         "type": "integer"
        },
        {
         "name": "hatred",
         "rawType": "int64",
         "type": "integer"
        },
        {
         "name": "hawk",
         "rawType": "int64",
         "type": "integer"
        },
        {
         "name": "hbo",
         "rawType": "int64",
         "type": "integer"
        },
        {
         "name": "head",
         "rawType": "int64",
         "type": "integer"
        },
        {
         "name": "headed",
         "rawType": "int64",
         "type": "integer"
        },
        {
         "name": "headline",
         "rawType": "int64",
         "type": "integer"
        },
        {
         "name": "heal",
         "rawType": "int64",
         "type": "integer"
        },
        {
         "name": "healing",
         "rawType": "int64",
         "type": "integer"
        },
        {
         "name": "health",
         "rawType": "int64",
         "type": "integer"
        },
        {
         "name": "health bill",
         "rawType": "int64",
         "type": "integer"
        },
        {
         "name": "health care",
         "rawType": "int64",
         "type": "integer"
        },
        {
         "name": "health care bill",
         "rawType": "int64",
         "type": "integer"
        },
        {
         "name": "health law",
         "rawType": "int64",
         "type": "integer"
        },
        {
         "name": "healthcare",
         "rawType": "int64",
         "type": "integer"
        },
        {
         "name": "healthcare bill",
         "rawType": "int64",
         "type": "integer"
        },
        {
         "name": "healthy",
         "rawType": "int64",
         "type": "integer"
        },
        {
         "name": "hear",
         "rawType": "int64",
         "type": "integer"
        },
        {
         "name": "heard",
         "rawType": "int64",
         "type": "integer"
        },
        {
         "name": "hearing",
         "rawType": "int64",
         "type": "integer"
        },
        {
         "name": "hearing new",
         "rawType": "int64",
         "type": "integer"
        },
        {
         "name": "hearing new york",
         "rawType": "int64",
         "type": "integer"
        },
        {
         "name": "heart",
         "rawType": "int64",
         "type": "integer"
        },
        {
         "name": "heart new",
         "rawType": "int64",
         "type": "integer"
        },
        {
         "name": "heart new york",
         "rawType": "int64",
         "type": "integer"
        },
        {
         "name": "heat",
         "rawType": "int64",
         "type": "integer"
        },
        {
         "name": "heavy",
         "rawType": "int64",
         "type": "integer"
        },
        {
         "name": "hedge",
         "rawType": "int64",
         "type": "integer"
        },
        {
         "name": "hedge fund",
         "rawType": "int64",
         "type": "integer"
        },
        {
         "name": "held",
         "rawType": "int64",
         "type": "integer"
        },
        {
         "name": "hell",
         "rawType": "int64",
         "type": "integer"
        },
        {
         "name": "help",
         "rawType": "int64",
         "type": "integer"
        },
        {
         "name": "help new",
         "rawType": "int64",
         "type": "integer"
        },
        {
         "name": "help new york",
         "rawType": "int64",
         "type": "integer"
        },
        {
         "name": "helped",
         "rawType": "int64",
         "type": "integer"
        },
        {
         "name": "helping",
         "rawType": "int64",
         "type": "integer"
        },
        {
         "name": "hemisphere",
         "rawType": "int64",
         "type": "integer"
        },
        {
         "name": "herb",
         "rawType": "int64",
         "type": "integer"
        },
        {
         "name": "hero",
         "rawType": "int64",
         "type": "integer"
        },
        {
         "name": "hidden",
         "rawType": "int64",
         "type": "integer"
        },
        {
         "name": "hide",
         "rawType": "int64",
         "type": "integer"
        },
        {
         "name": "hiding",
         "rawType": "int64",
         "type": "integer"
        },
        {
         "name": "high",
         "rawType": "int64",
         "type": "integer"
        },
        {
         "name": "high school",
         "rawType": "int64",
         "type": "integer"
        },
        {
         "name": "higher",
         "rawType": "int64",
         "type": "integer"
        },
        {
         "name": "highest",
         "rawType": "int64",
         "type": "integer"
        },
        {
         "name": "highlight",
         "rawType": "int64",
         "type": "integer"
        },
        {
         "name": "hijab",
         "rawType": "int64",
         "type": "integer"
        },
        {
         "name": "hike",
         "rawType": "int64",
         "type": "integer"
        },
        {
         "name": "hilarious",
         "rawType": "int64",
         "type": "integer"
        },
        {
         "name": "hill",
         "rawType": "int64",
         "type": "integer"
        },
        {
         "name": "hillary",
         "rawType": "int64",
         "type": "integer"
        },
        {
         "name": "hillary campaign",
         "rawType": "int64",
         "type": "integer"
        },
        {
         "name": "hillary clinton",
         "rawType": "int64",
         "type": "integer"
        },
        {
         "name": "hillary clinton campaign",
         "rawType": "int64",
         "type": "integer"
        },
        {
         "name": "hillary clinton donald",
         "rawType": "int64",
         "type": "integer"
        },
        {
         "name": "hillary clinton email",
         "rawType": "int64",
         "type": "integer"
        },
        {
         "name": "hillary clinton new",
         "rawType": "int64",
         "type": "integer"
        },
        {
         "name": "hillary clinton vote",
         "rawType": "int64",
         "type": "integer"
        },
        {
         "name": "hillary email",
         "rawType": "int64",
         "type": "integer"
        },
        {
         "name": "hillary forced",
         "rawType": "int64",
         "type": "integer"
        },
        {
         "name": "hillary investigation",
         "rawType": "int64",
         "type": "integer"
        },
        {
         "name": "hillary supporter",
         "rawType": "int64",
         "type": "integer"
        },
        {
         "name": "hillary win",
         "rawType": "int64",
         "type": "integer"
        },
        {
         "name": "hint",
         "rawType": "int64",
         "type": "integer"
        },
        {
         "name": "hire",
         "rawType": "int64",
         "type": "integer"
        },
        {
         "name": "hiring",
         "rawType": "int64",
         "type": "integer"
        },
        {
         "name": "hispanic",
         "rawType": "int64",
         "type": "integer"
        },
        {
         "name": "historic",
         "rawType": "int64",
         "type": "integer"
        },
        {
         "name": "history",
         "rawType": "int64",
         "type": "integer"
        },
        {
         "name": "history new",
         "rawType": "int64",
         "type": "integer"
        },
        {
         "name": "history new york",
         "rawType": "int64",
         "type": "integer"
        },
        {
         "name": "hit",
         "rawType": "int64",
         "type": "integer"
        },
        {
         "name": "hit new",
         "rawType": "int64",
         "type": "integer"
        },
        {
         "name": "hitler",
         "rawType": "int64",
         "type": "integer"
        },
        {
         "name": "hoax",
         "rawType": "int64",
         "type": "integer"
        },
        {
         "name": "hockey",
         "rawType": "int64",
         "type": "integer"
        },
        {
         "name": "hold",
         "rawType": "int64",
         "type": "integer"
        },
        {
         "name": "holder",
         "rawType": "int64",
         "type": "integer"
        },
        {
         "name": "holding",
         "rawType": "int64",
         "type": "integer"
        },
        {
         "name": "hole",
         "rawType": "int64",
         "type": "integer"
        },
        {
         "name": "holiday",
         "rawType": "int64",
         "type": "integer"
        },
        {
         "name": "hollywood",
         "rawType": "int64",
         "type": "integer"
        },
        {
         "name": "hollywood star",
         "rawType": "int64",
         "type": "integer"
        },
        {
         "name": "holocaust",
         "rawType": "int64",
         "type": "integer"
        },
        {
         "name": "home",
         "rawType": "int64",
         "type": "integer"
        },
        {
         "name": "home new",
         "rawType": "int64",
         "type": "integer"
        },
        {
         "name": "home new york",
         "rawType": "int64",
         "type": "integer"
        },
        {
         "name": "homeland",
         "rawType": "int64",
         "type": "integer"
        },
        {
         "name": "homeland security",
         "rawType": "int64",
         "type": "integer"
        },
        {
         "name": "homeless",
         "rawType": "int64",
         "type": "integer"
        },
        {
         "name": "hometown",
         "rawType": "int64",
         "type": "integer"
        },
        {
         "name": "honest",
         "rawType": "int64",
         "type": "integer"
        },
        {
         "name": "hong",
         "rawType": "int64",
         "type": "integer"
        },
        {
         "name": "hong kong",
         "rawType": "int64",
         "type": "integer"
        },
        {
         "name": "honor",
         "rawType": "int64",
         "type": "integer"
        },
        {
         "name": "hope",
         "rawType": "int64",
         "type": "integer"
        },
        {
         "name": "horizon",
         "rawType": "int64",
         "type": "integer"
        },
        {
         "name": "horror",
         "rawType": "int64",
         "type": "integer"
        },
        {
         "name": "horse",
         "rawType": "int64",
         "type": "integer"
        },
        {
         "name": "hospital",
         "rawType": "int64",
         "type": "integer"
        },
        {
         "name": "host",
         "rawType": "int64",
         "type": "integer"
        },
        {
         "name": "hostage",
         "rawType": "int64",
         "type": "integer"
        },
        {
         "name": "hot",
         "rawType": "int64",
         "type": "integer"
        },
        {
         "name": "hotel",
         "rawType": "int64",
         "type": "integer"
        },
        {
         "name": "hour",
         "rawType": "int64",
         "type": "integer"
        },
        {
         "name": "house",
         "rawType": "int64",
         "type": "integer"
        },
        {
         "name": "house breitbart",
         "rawType": "int64",
         "type": "integer"
        },
        {
         "name": "house new",
         "rawType": "int64",
         "type": "integer"
        },
        {
         "name": "house new york",
         "rawType": "int64",
         "type": "integer"
        },
        {
         "name": "house republican",
         "rawType": "int64",
         "type": "integer"
        },
        {
         "name": "housing",
         "rawType": "int64",
         "type": "integer"
        },
        {
         "name": "houston",
         "rawType": "int64",
         "type": "integer"
        },
        {
         "name": "hq",
         "rawType": "int64",
         "type": "integer"
        },
        {
         "name": "huge",
         "rawType": "int64",
         "type": "integer"
        },
        {
         "name": "huma",
         "rawType": "int64",
         "type": "integer"
        },
        {
         "name": "huma abedin",
         "rawType": "int64",
         "type": "integer"
        },
        {
         "name": "human",
         "rawType": "int64",
         "type": "integer"
        },
        {
         "name": "human complacency",
         "rawType": "int64",
         "type": "integer"
        },
        {
         "name": "human complacency servitude",
         "rawType": "int64",
         "type": "integer"
        },
        {
         "name": "human right",
         "rawType": "int64",
         "type": "integer"
        },
        {
         "name": "human right council",
         "rawType": "int64",
         "type": "integer"
        },
        {
         "name": "humanitarian",
         "rawType": "int64",
         "type": "integer"
        },
        {
         "name": "humanity",
         "rawType": "int64",
         "type": "integer"
        },
        {
         "name": "humiliated",
         "rawType": "int64",
         "type": "integer"
        },
        {
         "name": "humor",
         "rawType": "int64",
         "type": "integer"
        },
        {
         "name": "hundred",
         "rawType": "int64",
         "type": "integer"
        },
        {
         "name": "hungary",
         "rawType": "int64",
         "type": "integer"
        },
        {
         "name": "hunger",
         "rawType": "int64",
         "type": "integer"
        },
        {
         "name": "hunt",
         "rawType": "int64",
         "type": "integer"
        },
        {
         "name": "hurricane",
         "rawType": "int64",
         "type": "integer"
        },
        {
         "name": "hurt",
         "rawType": "int64",
         "type": "integer"
        },
        {
         "name": "husband",
         "rawType": "int64",
         "type": "integer"
        },
        {
         "name": "hybrid",
         "rawType": "int64",
         "type": "integer"
        },
        {
         "name": "hypocrisy",
         "rawType": "int64",
         "type": "integer"
        },
        {
         "name": "ice",
         "rawType": "int64",
         "type": "integer"
        },
        {
         "name": "iceland",
         "rawType": "int64",
         "type": "integer"
        },
        {
         "name": "icon",
         "rawType": "int64",
         "type": "integer"
        },
        {
         "name": "id",
         "rawType": "int64",
         "type": "integer"
        },
        {
         "name": "idea",
         "rawType": "int64",
         "type": "integer"
        },
        {
         "name": "identity",
         "rawType": "int64",
         "type": "integer"
        },
        {
         "name": "idiot",
         "rawType": "int64",
         "type": "integer"
        },
        {
         "name": "ignore",
         "rawType": "int64",
         "type": "integer"
        },
        {
         "name": "ignored",
         "rawType": "int64",
         "type": "integer"
        },
        {
         "name": "ii",
         "rawType": "int64",
         "type": "integer"
        },
        {
         "name": "iii",
         "rawType": "int64",
         "type": "integer"
        },
        {
         "name": "ill",
         "rawType": "int64",
         "type": "integer"
        },
        {
         "name": "illegal",
         "rawType": "int64",
         "type": "integer"
        },
        {
         "name": "illegal alien",
         "rawType": "int64",
         "type": "integer"
        },
        {
         "name": "illegal alien muslim",
         "rawType": "int64",
         "type": "integer"
        },
        {
         "name": "illegal immigrant",
         "rawType": "int64",
         "type": "integer"
        },
        {
         "name": "illegal immigration",
         "rawType": "int64",
         "type": "integer"
        },
        {
         "name": "illegally",
         "rawType": "int64",
         "type": "integer"
        },
        {
         "name": "illegals",
         "rawType": "int64",
         "type": "integer"
        },
        {
         "name": "illness",
         "rawType": "int64",
         "type": "integer"
        },
        {
         "name": "illuminati",
         "rawType": "int64",
         "type": "integer"
        },
        {
         "name": "image",
         "rawType": "int64",
         "type": "integer"
        },
        {
         "name": "imam",
         "rawType": "int64",
         "type": "integer"
        },
        {
         "name": "immigrant",
         "rawType": "int64",
         "type": "integer"
        },
        {
         "name": "immigration",
         "rawType": "int64",
         "type": "integer"
        },
        {
         "name": "immigration order",
         "rawType": "int64",
         "type": "integer"
        },
        {
         "name": "immigration policy",
         "rawType": "int64",
         "type": "integer"
        },
        {
         "name": "impact",
         "rawType": "int64",
         "type": "integer"
        },
        {
         "name": "impeach",
         "rawType": "int64",
         "type": "integer"
        },
        {
         "name": "impeached",
         "rawType": "int64",
         "type": "integer"
        },
        {
         "name": "impeachment",
         "rawType": "int64",
         "type": "integer"
        },
        {
         "name": "import",
         "rawType": "int64",
         "type": "integer"
        },
        {
         "name": "important",
         "rawType": "int64",
         "type": "integer"
        },
        {
         "name": "impossible",
         "rawType": "int64",
         "type": "integer"
        },
        {
         "name": "improve",
         "rawType": "int64",
         "type": "integer"
        },
        {
         "name": "inappropriate",
         "rawType": "int64",
         "type": "integer"
        },
        {
         "name": "inaugural",
         "rawType": "int64",
         "type": "integer"
        },
        {
         "name": "inauguration",
         "rawType": "int64",
         "type": "integer"
        },
        {
         "name": "inc",
         "rawType": "int64",
         "type": "integer"
        },
        {
         "name": "incite",
         "rawType": "int64",
         "type": "integer"
        },
        {
         "name": "incite violence",
         "rawType": "int64",
         "type": "integer"
        },
        {
         "name": "include",
         "rawType": "int64",
         "type": "integer"
        },
        {
         "name": "includes",
         "rawType": "int64",
         "type": "integer"
        },
        {
         "name": "including",
         "rawType": "int64",
         "type": "integer"
        },
        {
         "name": "income",
         "rawType": "int64",
         "type": "integer"
        },
        {
         "name": "increase",
         "rawType": "int64",
         "type": "integer"
        },
        {
         "name": "increasing",
         "rawType": "int64",
         "type": "integer"
        },
        {
         "name": "incredible",
         "rawType": "int64",
         "type": "integer"
        },
        {
         "name": "independence",
         "rawType": "int64",
         "type": "integer"
        },
        {
         "name": "independent",
         "rawType": "int64",
         "type": "integer"
        },
        {
         "name": "index",
         "rawType": "int64",
         "type": "integer"
        },
        {
         "name": "india",
         "rawType": "int64",
         "type": "integer"
        },
        {
         "name": "indian",
         "rawType": "int64",
         "type": "integer"
        },
        {
         "name": "indiana",
         "rawType": "int64",
         "type": "integer"
        },
        {
         "name": "indicted",
         "rawType": "int64",
         "type": "integer"
        },
        {
         "name": "indictment",
         "rawType": "int64",
         "type": "integer"
        },
        {
         "name": "individual",
         "rawType": "int64",
         "type": "integer"
        },
        {
         "name": "industry",
         "rawType": "int64",
         "type": "integer"
        },
        {
         "name": "inequality",
         "rawType": "int64",
         "type": "integer"
        },
        {
         "name": "infection",
         "rawType": "int64",
         "type": "integer"
        },
        {
         "name": "infidel",
         "rawType": "int64",
         "type": "integer"
        },
        {
         "name": "influence",
         "rawType": "int64",
         "type": "integer"
        },
        {
         "name": "influx",
         "rawType": "int64",
         "type": "integer"
        },
        {
         "name": "info",
         "rawType": "int64",
         "type": "integer"
        },
        {
         "name": "infographic",
         "rawType": "int64",
         "type": "integer"
        },
        {
         "name": "information",
         "rawType": "int64",
         "type": "integer"
        },
        {
         "name": "infrastructure",
         "rawType": "int64",
         "type": "integer"
        },
        {
         "name": "injured",
         "rawType": "int64",
         "type": "integer"
        },
        {
         "name": "injures",
         "rawType": "int64",
         "type": "integer"
        },
        {
         "name": "injury",
         "rawType": "int64",
         "type": "integer"
        },
        {
         "name": "inmate",
         "rawType": "int64",
         "type": "integer"
        },
        {
         "name": "inner",
         "rawType": "int64",
         "type": "integer"
        },
        {
         "name": "innocent",
         "rawType": "int64",
         "type": "integer"
        },
        {
         "name": "inquiry",
         "rawType": "int64",
         "type": "integer"
        },
        {
         "name": "inquiry new",
         "rawType": "int64",
         "type": "integer"
        },
        {
         "name": "inquiry new york",
         "rawType": "int64",
         "type": "integer"
        },
        {
         "name": "insane",
         "rawType": "int64",
         "type": "integer"
        },
        {
         "name": "inside",
         "rawType": "int64",
         "type": "integer"
        },
        {
         "name": "insider",
         "rawType": "int64",
         "type": "integer"
        },
        {
         "name": "inspired",
         "rawType": "int64",
         "type": "integer"
        },
        {
         "name": "instagram",
         "rawType": "int64",
         "type": "integer"
        },
        {
         "name": "instead",
         "rawType": "int64",
         "type": "integer"
        },
        {
         "name": "insult",
         "rawType": "int64",
         "type": "integer"
        },
        {
         "name": "insurance",
         "rawType": "int64",
         "type": "integer"
        },
        {
         "name": "integrity",
         "rawType": "int64",
         "type": "integer"
        },
        {
         "name": "intel",
         "rawType": "int64",
         "type": "integer"
        },
        {
         "name": "intelligence",
         "rawType": "int64",
         "type": "integer"
        },
        {
         "name": "intent",
         "rawType": "int64",
         "type": "integer"
        },
        {
         "name": "interest",
         "rawType": "int64",
         "type": "integer"
        },
        {
         "name": "interest rate",
         "rawType": "int64",
         "type": "integer"
        },
        {
         "name": "interesting",
         "rawType": "int64",
         "type": "integer"
        },
        {
         "name": "interfering",
         "rawType": "int64",
         "type": "integer"
        },
        {
         "name": "interior",
         "rawType": "int64",
         "type": "integer"
        },
        {
         "name": "internal",
         "rawType": "int64",
         "type": "integer"
        },
        {
         "name": "international",
         "rawType": "int64",
         "type": "integer"
        },
        {
         "name": "internet",
         "rawType": "int64",
         "type": "integer"
        },
        {
         "name": "interview",
         "rawType": "int64",
         "type": "integer"
        },
        {
         "name": "intimidation",
         "rawType": "int64",
         "type": "integer"
        },
        {
         "name": "introduces",
         "rawType": "int64",
         "type": "integer"
        },
        {
         "name": "invader",
         "rawType": "int64",
         "type": "integer"
        },
        {
         "name": "invasion",
         "rawType": "int64",
         "type": "integer"
        },
        {
         "name": "investigate",
         "rawType": "int64",
         "type": "integer"
        },
        {
         "name": "investigating",
         "rawType": "int64",
         "type": "integer"
        },
        {
         "name": "investigation",
         "rawType": "int64",
         "type": "integer"
        },
        {
         "name": "investigation breitbart",
         "rawType": "int64",
         "type": "integer"
        },
        {
         "name": "investigation clinton",
         "rawType": "int64",
         "type": "integer"
        },
        {
         "name": "investigation end",
         "rawType": "int64",
         "type": "integer"
        },
        {
         "name": "investigation end hillary",
         "rawType": "int64",
         "type": "integer"
        },
        {
         "name": "investigation new",
         "rawType": "int64",
         "type": "integer"
        },
        {
         "name": "investigator",
         "rawType": "int64",
         "type": "integer"
        },
        {
         "name": "investor",
         "rawType": "int64",
         "type": "integer"
        },
        {
         "name": "invisible",
         "rawType": "int64",
         "type": "integer"
        },
        {
         "name": "invite",
         "rawType": "int64",
         "type": "integer"
        },
        {
         "name": "invited",
         "rawType": "int64",
         "type": "integer"
        },
        {
         "name": "involved",
         "rawType": "int64",
         "type": "integer"
        },
        {
         "name": "involving",
         "rawType": "int64",
         "type": "integer"
        },
        {
         "name": "iowa",
         "rawType": "int64",
         "type": "integer"
        },
        {
         "name": "iphone",
         "rawType": "int64",
         "type": "integer"
        },
        {
         "name": "iran",
         "rawType": "int64",
         "type": "integer"
        },
        {
         "name": "iran deal",
         "rawType": "int64",
         "type": "integer"
        },
        {
         "name": "iran nuclear",
         "rawType": "int64",
         "type": "integer"
        },
        {
         "name": "iranian",
         "rawType": "int64",
         "type": "integer"
        },
        {
         "name": "iraq",
         "rawType": "int64",
         "type": "integer"
        },
        {
         "name": "iraqi",
         "rawType": "int64",
         "type": "integer"
        },
        {
         "name": "iraqi force",
         "rawType": "int64",
         "type": "integer"
        },
        {
         "name": "ireland",
         "rawType": "int64",
         "type": "integer"
        },
        {
         "name": "irish",
         "rawType": "int64",
         "type": "integer"
        },
        {
         "name": "irs",
         "rawType": "int64",
         "type": "integer"
        },
        {
         "name": "isi",
         "rawType": "int64",
         "type": "integer"
        },
        {
         "name": "isi new",
         "rawType": "int64",
         "type": "integer"
        },
        {
         "name": "isi new york",
         "rawType": "int64",
         "type": "integer"
        },
        {
         "name": "islam",
         "rawType": "int64",
         "type": "integer"
        },
        {
         "name": "islamic",
         "rawType": "int64",
         "type": "integer"
        },
        {
         "name": "islamic state",
         "rawType": "int64",
         "type": "integer"
        },
        {
         "name": "islamic state supporter",
         "rawType": "int64",
         "type": "integer"
        },
        {
         "name": "islamist",
         "rawType": "int64",
         "type": "integer"
        },
        {
         "name": "islamophobia",
         "rawType": "int64",
         "type": "integer"
        },
        {
         "name": "island",
         "rawType": "int64",
         "type": "integer"
        },
        {
         "name": "isolation",
         "rawType": "int64",
         "type": "integer"
        },
        {
         "name": "israel",
         "rawType": "int64",
         "type": "integer"
        },
        {
         "name": "israeli",
         "rawType": "int64",
         "type": "integer"
        },
        {
         "name": "issue",
         "rawType": "int64",
         "type": "integer"
        },
        {
         "name": "issue new",
         "rawType": "int64",
         "type": "integer"
        },
        {
         "name": "issue new york",
         "rawType": "int64",
         "type": "integer"
        },
        {
         "name": "ist",
         "rawType": "int64",
         "type": "integer"
        },
        {
         "name": "istanbul",
         "rawType": "int64",
         "type": "integer"
        },
        {
         "name": "italian",
         "rawType": "int64",
         "type": "integer"
        },
        {
         "name": "italy",
         "rawType": "int64",
         "type": "integer"
        },
        {
         "name": "ivanka",
         "rawType": "int64",
         "type": "integer"
        },
        {
         "name": "ivanka trump",
         "rawType": "int64",
         "type": "integer"
        },
        {
         "name": "jack",
         "rawType": "int64",
         "type": "integer"
        },
        {
         "name": "jackson",
         "rawType": "int64",
         "type": "integer"
        },
        {
         "name": "jail",
         "rawType": "int64",
         "type": "integer"
        },
        {
         "name": "jailed",
         "rawType": "int64",
         "type": "integer"
        },
        {
         "name": "james",
         "rawType": "int64",
         "type": "integer"
        },
        {
         "name": "james comey",
         "rawType": "int64",
         "type": "integer"
        },
        {
         "name": "jane",
         "rawType": "int64",
         "type": "integer"
        },
        {
         "name": "japan",
         "rawType": "int64",
         "type": "integer"
        },
        {
         "name": "japanese",
         "rawType": "int64",
         "type": "integer"
        },
        {
         "name": "jared",
         "rawType": "int64",
         "type": "integer"
        },
        {
         "name": "jared kushner",
         "rawType": "int64",
         "type": "integer"
        },
        {
         "name": "jason",
         "rawType": "int64",
         "type": "integer"
        },
        {
         "name": "jason chaffetz",
         "rawType": "int64",
         "type": "integer"
        },
        {
         "name": "jay",
         "rawType": "int64",
         "type": "integer"
        },
        {
         "name": "jazz",
         "rawType": "int64",
         "type": "integer"
        },
        {
         "name": "jeanine",
         "rawType": "int64",
         "type": "integer"
        },
        {
         "name": "jeff",
         "rawType": "int64",
         "type": "integer"
        },
        {
         "name": "jeff session",
         "rawType": "int64",
         "type": "integer"
        },
        {
         "name": "jeffrey",
         "rawType": "int64",
         "type": "integer"
        },
        {
         "name": "jenner",
         "rawType": "int64",
         "type": "integer"
        },
        {
         "name": "jerry",
         "rawType": "int64",
         "type": "integer"
        },
        {
         "name": "jerry brown",
         "rawType": "int64",
         "type": "integer"
        },
        {
         "name": "jersey",
         "rawType": "int64",
         "type": "integer"
        },
        {
         "name": "jerusalem",
         "rawType": "int64",
         "type": "integer"
        },
        {
         "name": "jerusalem illegally",
         "rawType": "int64",
         "type": "integer"
        },
        {
         "name": "jerusalem illegally occupied",
         "rawType": "int64",
         "type": "integer"
        },
        {
         "name": "jesus",
         "rawType": "int64",
         "type": "integer"
        },
        {
         "name": "jesus christ",
         "rawType": "int64",
         "type": "integer"
        },
        {
         "name": "jet",
         "rawType": "int64",
         "type": "integer"
        },
        {
         "name": "jew",
         "rawType": "int64",
         "type": "integer"
        },
        {
         "name": "jewish",
         "rawType": "int64",
         "type": "integer"
        },
        {
         "name": "jihad",
         "rawType": "int64",
         "type": "integer"
        },
        {
         "name": "jihadi",
         "rawType": "int64",
         "type": "integer"
        },
        {
         "name": "jihadis",
         "rawType": "int64",
         "type": "integer"
        },
        {
         "name": "jihadist",
         "rawType": "int64",
         "type": "integer"
        },
        {
         "name": "jill",
         "rawType": "int64",
         "type": "integer"
        },
        {
         "name": "jill stein",
         "rawType": "int64",
         "type": "integer"
        },
        {
         "name": "jim",
         "rawType": "int64",
         "type": "integer"
        },
        {
         "name": "jimmy",
         "rawType": "int64",
         "type": "integer"
        },
        {
         "name": "jinping",
         "rawType": "int64",
         "type": "integer"
        },
        {
         "name": "jo",
         "rawType": "int64",
         "type": "integer"
        },
        {
         "name": "job",
         "rawType": "int64",
         "type": "integer"
        },
        {
         "name": "job breitbart",
         "rawType": "int64",
         "type": "integer"
        },
        {
         "name": "job new",
         "rawType": "int64",
         "type": "integer"
        },
        {
         "name": "job new york",
         "rawType": "int64",
         "type": "integer"
        },
        {
         "name": "joe",
         "rawType": "int64",
         "type": "integer"
        },
        {
         "name": "john",
         "rawType": "int64",
         "type": "integer"
        },
        {
         "name": "john bolton",
         "rawType": "int64",
         "type": "integer"
        },
        {
         "name": "john kerry",
         "rawType": "int64",
         "type": "integer"
        },
        {
         "name": "john mccain",
         "rawType": "int64",
         "type": "integer"
        },
        {
         "name": "john podesta",
         "rawType": "int64",
         "type": "integer"
        },
        {
         "name": "johnson",
         "rawType": "int64",
         "type": "integer"
        },
        {
         "name": "johnson johnson",
         "rawType": "int64",
         "type": "integer"
        },
        {
         "name": "join",
         "rawType": "int64",
         "type": "integer"
        },
        {
         "name": "joined",
         "rawType": "int64",
         "type": "integer"
        },
        {
         "name": "joint",
         "rawType": "int64",
         "type": "integer"
        },
        {
         "name": "joke",
         "rawType": "int64",
         "type": "integer"
        },
        {
         "name": "jolie",
         "rawType": "int64",
         "type": "integer"
        },
        {
         "name": "jon",
         "rawType": "int64",
         "type": "integer"
        },
        {
         "name": "jones",
         "rawType": "int64",
         "type": "integer"
        },
        {
         "name": "jong",
         "rawType": "int64",
         "type": "integer"
        },
        {
         "name": "jong nam",
         "rawType": "int64",
         "type": "integer"
        },
        {
         "name": "jong un",
         "rawType": "int64",
         "type": "integer"
        },
        {
         "name": "jordan",
         "rawType": "int64",
         "type": "integer"
        },
        {
         "name": "journal",
         "rawType": "int64",
         "type": "integer"
        },
        {
         "name": "journalist",
         "rawType": "int64",
         "type": "integer"
        },
        {
         "name": "journey",
         "rawType": "int64",
         "type": "integer"
        },
        {
         "name": "joy",
         "rawType": "int64",
         "type": "integer"
        },
        {
         "name": "joy behar",
         "rawType": "int64",
         "type": "integer"
        },
        {
         "name": "joy reid",
         "rawType": "int64",
         "type": "integer"
        },
        {
         "name": "jr",
         "rawType": "int64",
         "type": "integer"
        },
        {
         "name": "judge",
         "rawType": "int64",
         "type": "integer"
        },
        {
         "name": "judge jeanine",
         "rawType": "int64",
         "type": "integer"
        },
        {
         "name": "judgment",
         "rawType": "int64",
         "type": "integer"
        },
        {
         "name": "judicial",
         "rawType": "int64",
         "type": "integer"
        },
        {
         "name": "judiciary",
         "rawType": "int64",
         "type": "integer"
        },
        {
         "name": "julian",
         "rawType": "int64",
         "type": "integer"
        },
        {
         "name": "julian assange",
         "rawType": "int64",
         "type": "integer"
        },
        {
         "name": "jump",
         "rawType": "int64",
         "type": "integer"
        },
        {
         "name": "jungle",
         "rawType": "int64",
         "type": "integer"
        },
        {
         "name": "junk",
         "rawType": "int64",
         "type": "integer"
        },
        {
         "name": "jupiter",
         "rawType": "int64",
         "type": "integer"
        },
        {
         "name": "jury",
         "rawType": "int64",
         "type": "integer"
        },
        {
         "name": "justice",
         "rawType": "int64",
         "type": "integer"
        },
        {
         "name": "justice department",
         "rawType": "int64",
         "type": "integer"
        },
        {
         "name": "justice dept",
         "rawType": "int64",
         "type": "integer"
        },
        {
         "name": "justin",
         "rawType": "int64",
         "type": "integer"
        },
        {
         "name": "justin trudeau",
         "rawType": "int64",
         "type": "integer"
        },
        {
         "name": "kabul",
         "rawType": "int64",
         "type": "integer"
        },
        {
         "name": "kaepernick",
         "rawType": "int64",
         "type": "integer"
        },
        {
         "name": "kaine",
         "rawType": "int64",
         "type": "integer"
        },
        {
         "name": "kansa",
         "rawType": "int64",
         "type": "integer"
        },
        {
         "name": "kanye",
         "rawType": "int64",
         "type": "integer"
        },
        {
         "name": "kanye west",
         "rawType": "int64",
         "type": "integer"
        },
        {
         "name": "kasich",
         "rawType": "int64",
         "type": "integer"
        },
        {
         "name": "kathy",
         "rawType": "int64",
         "type": "integer"
        },
        {
         "name": "kathy griffin",
         "rawType": "int64",
         "type": "integer"
        },
        {
         "name": "keefe",
         "rawType": "int64",
         "type": "integer"
        },
        {
         "name": "keep",
         "rawType": "int64",
         "type": "integer"
        },
        {
         "name": "keeping",
         "rawType": "int64",
         "type": "integer"
        },
        {
         "name": "keith",
         "rawType": "int64",
         "type": "integer"
        },
        {
         "name": "kellogg",
         "rawType": "int64",
         "type": "integer"
        },
        {
         "name": "kelly",
         "rawType": "int64",
         "type": "integer"
        },
        {
         "name": "kellyanne",
         "rawType": "int64",
         "type": "integer"
        },
        {
         "name": "kellyanne conway",
         "rawType": "int64",
         "type": "integer"
        },
        {
         "name": "ken",
         "rawType": "int64",
         "type": "integer"
        },
        {
         "name": "kennedy",
         "rawType": "int64",
         "type": "integer"
        },
        {
         "name": "kenya",
         "rawType": "int64",
         "type": "integer"
        },
        {
         "name": "kerry",
         "rawType": "int64",
         "type": "integer"
        },
        {
         "name": "kevin",
         "rawType": "int64",
         "type": "integer"
        },
        {
         "name": "key",
         "rawType": "int64",
         "type": "integer"
        },
        {
         "name": "keystone",
         "rawType": "int64",
         "type": "integer"
        },
        {
         "name": "khan",
         "rawType": "int64",
         "type": "integer"
        },
        {
         "name": "kick",
         "rawType": "int64",
         "type": "integer"
        },
        {
         "name": "kicked",
         "rawType": "int64",
         "type": "integer"
        },
        {
         "name": "kicked un",
         "rawType": "int64",
         "type": "integer"
        },
        {
         "name": "kicked un human",
         "rawType": "int64",
         "type": "integer"
        },
        {
         "name": "kid",
         "rawType": "int64",
         "type": "integer"
        },
        {
         "name": "kidnapped",
         "rawType": "int64",
         "type": "integer"
        },
        {
         "name": "kidnapping",
         "rawType": "int64",
         "type": "integer"
        },
        {
         "name": "kiev",
         "rawType": "int64",
         "type": "integer"
        },
        {
         "name": "kill",
         "rawType": "int64",
         "type": "integer"
        },
        {
         "name": "kill cancer",
         "rawType": "int64",
         "type": "integer"
        },
        {
         "name": "kill least",
         "rawType": "int64",
         "type": "integer"
        },
        {
         "name": "killary",
         "rawType": "int64",
         "type": "integer"
        },
        {
         "name": "killary reign",
         "rawType": "int64",
         "type": "integer"
        },
        {
         "name": "killary reign terror",
         "rawType": "int64",
         "type": "integer"
        },
        {
         "name": "killed",
         "rawType": "int64",
         "type": "integer"
        },
        {
         "name": "killer",
         "rawType": "int64",
         "type": "integer"
        },
        {
         "name": "killing",
         "rawType": "int64",
         "type": "integer"
        },
        {
         "name": "killing new",
         "rawType": "int64",
         "type": "integer"
        },
        {
         "name": "killing new york",
         "rawType": "int64",
         "type": "integer"
        },
        {
         "name": "kim",
         "rawType": "int64",
         "type": "integer"
        },
        {
         "name": "kim jong",
         "rawType": "int64",
         "type": "integer"
        },
        {
         "name": "kim jong nam",
         "rawType": "int64",
         "type": "integer"
        },
        {
         "name": "kim jong un",
         "rawType": "int64",
         "type": "integer"
        },
        {
         "name": "kind",
         "rawType": "int64",
         "type": "integer"
        },
        {
         "name": "king",
         "rawType": "int64",
         "type": "integer"
        },
        {
         "name": "kiss",
         "rawType": "int64",
         "type": "integer"
        },
        {
         "name": "kitchen",
         "rawType": "int64",
         "type": "integer"
        },
        {
         "name": "kkk",
         "rawType": "int64",
         "type": "integer"
        },
        {
         "name": "knew",
         "rawType": "int64",
         "type": "integer"
        },
        {
         "name": "knife",
         "rawType": "int64",
         "type": "integer"
        },
        {
         "name": "know",
         "rawType": "int64",
         "type": "integer"
        },
        {
         "name": "know know",
         "rawType": "int64",
         "type": "integer"
        },
        {
         "name": "know new",
         "rawType": "int64",
         "type": "integer"
        },
        {
         "name": "know new york",
         "rawType": "int64",
         "type": "integer"
        },
        {
         "name": "known",
         "rawType": "int64",
         "type": "integer"
        },
        {
         "name": "koch",
         "rawType": "int64",
         "type": "integer"
        },
        {
         "name": "kong",
         "rawType": "int64",
         "type": "integer"
        },
        {
         "name": "korea",
         "rawType": "int64",
         "type": "integer"
        },
        {
         "name": "korean",
         "rawType": "int64",
         "type": "integer"
        },
        {
         "name": "kremlin",
         "rawType": "int64",
         "type": "integer"
        },
        {
         "name": "kurdish",
         "rawType": "int64",
         "type": "integer"
        },
        {
         "name": "kushner",
         "rawType": "int64",
         "type": "integer"
        },
        {
         "name": "la",
         "rawType": "int64",
         "type": "integer"
        },
        {
         "name": "la la",
         "rawType": "int64",
         "type": "integer"
        },
        {
         "name": "la la land",
         "rawType": "int64",
         "type": "integer"
        },
        {
         "name": "la land",
         "rawType": "int64",
         "type": "integer"
        },
        {
         "name": "label",
         "rawType": "int64",
         "type": "integer"
        },
        {
         "name": "labor",
         "rawType": "int64",
         "type": "integer"
        },
        {
         "name": "labour",
         "rawType": "int64",
         "type": "integer"
        },
        {
         "name": "lack",
         "rawType": "int64",
         "type": "integer"
        },
        {
         "name": "laden",
         "rawType": "int64",
         "type": "integer"
        },
        {
         "name": "lady",
         "rawType": "int64",
         "type": "integer"
        },
        {
         "name": "lady gaga",
         "rawType": "int64",
         "type": "integer"
        },
        {
         "name": "lago",
         "rawType": "int64",
         "type": "integer"
        },
        {
         "name": "lake",
         "rawType": "int64",
         "type": "integer"
        },
        {
         "name": "land",
         "rawType": "int64",
         "type": "integer"
        },
        {
         "name": "landing",
         "rawType": "int64",
         "type": "integer"
        },
        {
         "name": "landmark",
         "rawType": "int64",
         "type": "integer"
        },
        {
         "name": "landslide",
         "rawType": "int64",
         "type": "integer"
        },
        {
         "name": "lane",
         "rawType": "int64",
         "type": "integer"
        },
        {
         "name": "language",
         "rawType": "int64",
         "type": "integer"
        },
        {
         "name": "laptop",
         "rawType": "int64",
         "type": "integer"
        },
        {
         "name": "large",
         "rawType": "int64",
         "type": "integer"
        },
        {
         "name": "largest",
         "rawType": "int64",
         "type": "integer"
        },
        {
         "name": "larry",
         "rawType": "int64",
         "type": "integer"
        },
        {
         "name": "last",
         "rawType": "int64",
         "type": "integer"
        },
        {
         "name": "last year",
         "rawType": "int64",
         "type": "integer"
        },
        {
         "name": "late",
         "rawType": "int64",
         "type": "integer"
        },
        {
         "name": "later",
         "rawType": "int64",
         "type": "integer"
        },
        {
         "name": "latest",
         "rawType": "int64",
         "type": "integer"
        },
        {
         "name": "latin",
         "rawType": "int64",
         "type": "integer"
        },
        {
         "name": "latino",
         "rawType": "int64",
         "type": "integer"
        },
        {
         "name": "laugh",
         "rawType": "int64",
         "type": "integer"
        },
        {
         "name": "launch",
         "rawType": "int64",
         "type": "integer"
        },
        {
         "name": "launched",
         "rawType": "int64",
         "type": "integer"
        },
        {
         "name": "law",
         "rawType": "int64",
         "type": "integer"
        },
        {
         "name": "law breitbart",
         "rawType": "int64",
         "type": "integer"
        },
        {
         "name": "law enforcement",
         "rawType": "int64",
         "type": "integer"
        },
        {
         "name": "law new",
         "rawType": "int64",
         "type": "integer"
        },
        {
         "name": "law new york",
         "rawType": "int64",
         "type": "integer"
        },
        {
         "name": "lawmaker",
         "rawType": "int64",
         "type": "integer"
        },
        {
         "name": "lawsuit",
         "rawType": "int64",
         "type": "integer"
        },
        {
         "name": "lawyer",
         "rawType": "int64",
         "type": "integer"
        },
        {
         "name": "lawyer say",
         "rawType": "int64",
         "type": "integer"
        },
        {
         "name": "layoff",
         "rawType": "int64",
         "type": "integer"
        },
        {
         "name": "le",
         "rawType": "int64",
         "type": "integer"
        },
        {
         "name": "le pen",
         "rawType": "int64",
         "type": "integer"
        },
        {
         "name": "lead",
         "rawType": "int64",
         "type": "integer"
        },
        {
         "name": "leader",
         "rawType": "int64",
         "type": "integer"
        },
        {
         "name": "leader new",
         "rawType": "int64",
         "type": "integer"
        },
        {
         "name": "leader new york",
         "rawType": "int64",
         "type": "integer"
        },
        {
         "name": "leadership",
         "rawType": "int64",
         "type": "integer"
        },
        {
         "name": "leading",
         "rawType": "int64",
         "type": "integer"
        },
        {
         "name": "leaf",
         "rawType": "int64",
         "type": "integer"
        },
        {
         "name": "league",
         "rawType": "int64",
         "type": "integer"
        },
        {
         "name": "leak",
         "rawType": "int64",
         "type": "integer"
        },
        {
         "name": "leaked",
         "rawType": "int64",
         "type": "integer"
        },
        {
         "name": "leaked email",
         "rawType": "int64",
         "type": "integer"
        },
        {
         "name": "leaking",
         "rawType": "int64",
         "type": "integer"
        },
        {
         "name": "learn",
         "rawType": "int64",
         "type": "integer"
        },
        {
         "name": "learned",
         "rawType": "int64",
         "type": "integer"
        },
        {
         "name": "learned hillary",
         "rawType": "int64",
         "type": "integer"
        },
        {
         "name": "learning",
         "rawType": "int64",
         "type": "integer"
        },
        {
         "name": "learns",
         "rawType": "int64",
         "type": "integer"
        },
        {
         "name": "least",
         "rawType": "int64",
         "type": "integer"
        },
        {
         "name": "leave",
         "rawType": "int64",
         "type": "integer"
        },
        {
         "name": "leave country",
         "rawType": "int64",
         "type": "integer"
        },
        {
         "name": "leaving",
         "rawType": "int64",
         "type": "integer"
        },
        {
         "name": "led",
         "rawType": "int64",
         "type": "integer"
        },
        {
         "name": "lee",
         "rawType": "int64",
         "type": "integer"
        },
        {
         "name": "left",
         "rawType": "int64",
         "type": "integer"
        },
        {
         "name": "left behind",
         "rawType": "int64",
         "type": "integer"
        },
        {
         "name": "left wing",
         "rawType": "int64",
         "type": "integer"
        },
        {
         "name": "leftist",
         "rawType": "int64",
         "type": "integer"
        },
        {
         "name": "leg",
         "rawType": "int64",
         "type": "integer"
        },
        {
         "name": "legacy",
         "rawType": "int64",
         "type": "integer"
        },
        {
         "name": "legal",
         "rawType": "int64",
         "type": "integer"
        },
        {
         "name": "legalized",
         "rawType": "int64",
         "type": "integer"
        },
        {
         "name": "legend",
         "rawType": "int64",
         "type": "integer"
        },
        {
         "name": "legislation",
         "rawType": "int64",
         "type": "integer"
        },
        {
         "name": "legislature",
         "rawType": "int64",
         "type": "integer"
        },
        {
         "name": "lemon",
         "rawType": "int64",
         "type": "integer"
        },
        {
         "name": "less",
         "rawType": "int64",
         "type": "integer"
        },
        {
         "name": "lesson",
         "rawType": "int64",
         "type": "integer"
        },
        {
         "name": "let",
         "rawType": "int64",
         "type": "integer"
        },
        {
         "name": "letter",
         "rawType": "int64",
         "type": "integer"
        },
        {
         "name": "level",
         "rawType": "int64",
         "type": "integer"
        },
        {
         "name": "levin",
         "rawType": "int64",
         "type": "integer"
        },
        {
         "name": "lgbt",
         "rawType": "int64",
         "type": "integer"
        },
        {
         "name": "liar",
         "rawType": "int64",
         "type": "integer"
        },
        {
         "name": "liberal",
         "rawType": "int64",
         "type": "integer"
        },
        {
         "name": "liberal medium",
         "rawType": "int64",
         "type": "integer"
        },
        {
         "name": "libertarian",
         "rawType": "int64",
         "type": "integer"
        },
        {
         "name": "liberty",
         "rawType": "int64",
         "type": "integer"
        },
        {
         "name": "liberty voice",
         "rawType": "int64",
         "type": "integer"
        },
        {
         "name": "liberty writer",
         "rawType": "int64",
         "type": "integer"
        },
        {
         "name": "liberty writer news",
         "rawType": "int64",
         "type": "integer"
        },
        {
         "name": "libya",
         "rawType": "int64",
         "type": "integer"
        },
        {
         "name": "license",
         "rawType": "int64",
         "type": "integer"
        },
        {
         "name": "lie",
         "rawType": "int64",
         "type": "integer"
        },
        {
         "name": "lied",
         "rawType": "int64",
         "type": "integer"
        },
        {
         "name": "life",
         "rawType": "int64",
         "type": "integer"
        },
        {
         "name": "life matter",
         "rawType": "int64",
         "type": "integer"
        },
        {
         "name": "life new",
         "rawType": "int64",
         "type": "integer"
        },
        {
         "name": "life new york",
         "rawType": "int64",
         "type": "integer"
        },
        {
         "name": "lift",
         "rawType": "int64",
         "type": "integer"
        },
        {
         "name": "lifting",
         "rawType": "int64",
         "type": "integer"
        },
        {
         "name": "light",
         "rawType": "int64",
         "type": "integer"
        },
        {
         "name": "like",
         "rawType": "int64",
         "type": "integer"
        },
        {
         "name": "like supposed",
         "rawType": "int64",
         "type": "integer"
        },
        {
         "name": "like supposed picture",
         "rawType": "int64",
         "type": "integer"
        },
        {
         "name": "like trump",
         "rawType": "int64",
         "type": "integer"
        },
        {
         "name": "likely",
         "rawType": "int64",
         "type": "integer"
        },
        {
         "name": "limbaugh",
         "rawType": "int64",
         "type": "integer"
        },
        {
         "name": "limit",
         "rawType": "int64",
         "type": "integer"
        },
        {
         "name": "limiting",
         "rawType": "int64",
         "type": "integer"
        },
        {
         "name": "linda",
         "rawType": "int64",
         "type": "integer"
        },
        {
         "name": "linda sarsour",
         "rawType": "int64",
         "type": "integer"
        },
        {
         "name": "lindsay",
         "rawType": "int64",
         "type": "integer"
        },
        {
         "name": "line",
         "rawType": "int64",
         "type": "integer"
        },
        {
         "name": "line new",
         "rawType": "int64",
         "type": "integer"
        },
        {
         "name": "line new york",
         "rawType": "int64",
         "type": "integer"
        },
        {
         "name": "lining",
         "rawType": "int64",
         "type": "integer"
        },
        {
         "name": "link",
         "rawType": "int64",
         "type": "integer"
        },
        {
         "name": "linked",
         "rawType": "int64",
         "type": "integer"
        },
        {
         "name": "lion",
         "rawType": "int64",
         "type": "integer"
        },
        {
         "name": "lip",
         "rawType": "int64",
         "type": "integer"
        },
        {
         "name": "list",
         "rawType": "int64",
         "type": "integer"
        },
        {
         "name": "listen",
         "rawType": "int64",
         "type": "integer"
        },
        {
         "name": "lite",
         "rawType": "int64",
         "type": "integer"
        },
        {
         "name": "little",
         "rawType": "int64",
         "type": "integer"
        },
        {
         "name": "live",
         "rawType": "int64",
         "type": "integer"
        },
        {
         "name": "live tv",
         "rawType": "int64",
         "type": "integer"
        },
        {
         "name": "living",
         "rawType": "int64",
         "type": "integer"
        },
        {
         "name": "lo",
         "rawType": "int64",
         "type": "integer"
        },
        {
         "name": "loan",
         "rawType": "int64",
         "type": "integer"
        },
        {
         "name": "lobby",
         "rawType": "int64",
         "type": "integer"
        },
        {
         "name": "local",
         "rawType": "int64",
         "type": "integer"
        },
        {
         "name": "lochte",
         "rawType": "int64",
         "type": "integer"
        },
        {
         "name": "lock",
         "rawType": "int64",
         "type": "integer"
        },
        {
         "name": "london",
         "rawType": "int64",
         "type": "integer"
        },
        {
         "name": "london attack",
         "rawType": "int64",
         "type": "integer"
        },
        {
         "name": "london terror",
         "rawType": "int64",
         "type": "integer"
        },
        {
         "name": "long",
         "rawType": "int64",
         "type": "integer"
        },
        {
         "name": "longer",
         "rawType": "int64",
         "type": "integer"
        },
        {
         "name": "look",
         "rawType": "int64",
         "type": "integer"
        },
        {
         "name": "look like",
         "rawType": "int64",
         "type": "integer"
        },
        {
         "name": "look like supposed",
         "rawType": "int64",
         "type": "integer"
        },
        {
         "name": "looking",
         "rawType": "int64",
         "type": "integer"
        },
        {
         "name": "loretta",
         "rawType": "int64",
         "type": "integer"
        },
        {
         "name": "loretta lynch",
         "rawType": "int64",
         "type": "integer"
        },
        {
         "name": "los",
         "rawType": "int64",
         "type": "integer"
        },
        {
         "name": "los angeles",
         "rawType": "int64",
         "type": "integer"
        },
        {
         "name": "lose",
         "rawType": "int64",
         "type": "integer"
        },
        {
         "name": "loser",
         "rawType": "int64",
         "type": "integer"
        },
        {
         "name": "loses",
         "rawType": "int64",
         "type": "integer"
        },
        {
         "name": "loses grabbing",
         "rawType": "int64",
         "type": "integer"
        },
        {
         "name": "loses grabbing musket",
         "rawType": "int64",
         "type": "integer"
        },
        {
         "name": "losing",
         "rawType": "int64",
         "type": "integer"
        },
        {
         "name": "loss",
         "rawType": "int64",
         "type": "integer"
        },
        {
         "name": "lost",
         "rawType": "int64",
         "type": "integer"
        },
        {
         "name": "lot",
         "rawType": "int64",
         "type": "integer"
        },
        {
         "name": "louis",
         "rawType": "int64",
         "type": "integer"
        },
        {
         "name": "louisiana",
         "rawType": "int64",
         "type": "integer"
        },
        {
         "name": "love",
         "rawType": "int64",
         "type": "integer"
        },
        {
         "name": "love new",
         "rawType": "int64",
         "type": "integer"
        },
        {
         "name": "love new york",
         "rawType": "int64",
         "type": "integer"
        },
        {
         "name": "loved",
         "rawType": "int64",
         "type": "integer"
        },
        {
         "name": "lover",
         "rawType": "int64",
         "type": "integer"
        },
        {
         "name": "loving",
         "rawType": "int64",
         "type": "integer"
        },
        {
         "name": "low",
         "rawType": "int64",
         "type": "integer"
        },
        {
         "name": "lower",
         "rawType": "int64",
         "type": "integer"
        },
        {
         "name": "luck",
         "rawType": "int64",
         "type": "integer"
        },
        {
         "name": "luxury",
         "rawType": "int64",
         "type": "integer"
        },
        {
         "name": "lying",
         "rawType": "int64",
         "type": "integer"
        },
        {
         "name": "lynch",
         "rawType": "int64",
         "type": "integer"
        },
        {
         "name": "machine",
         "rawType": "int64",
         "type": "integer"
        },
        {
         "name": "machine new",
         "rawType": "int64",
         "type": "integer"
        },
        {
         "name": "machine new york",
         "rawType": "int64",
         "type": "integer"
        },
        {
         "name": "macron",
         "rawType": "int64",
         "type": "integer"
        },
        {
         "name": "mad",
         "rawType": "int64",
         "type": "integer"
        },
        {
         "name": "maddow",
         "rawType": "int64",
         "type": "integer"
        },
        {
         "name": "made",
         "rawType": "int64",
         "type": "integer"
        },
        {
         "name": "madonna",
         "rawType": "int64",
         "type": "integer"
        },
        {
         "name": "maduro",
         "rawType": "int64",
         "type": "integer"
        },
        {
         "name": "magazine",
         "rawType": "int64",
         "type": "integer"
        },
        {
         "name": "magic",
         "rawType": "int64",
         "type": "integer"
        },
        {
         "name": "maher",
         "rawType": "int64",
         "type": "integer"
        },
        {
         "name": "mail",
         "rawType": "int64",
         "type": "integer"
        },
        {
         "name": "main",
         "rawType": "int64",
         "type": "integer"
        },
        {
         "name": "maine",
         "rawType": "int64",
         "type": "integer"
        },
        {
         "name": "mainstream",
         "rawType": "int64",
         "type": "integer"
        },
        {
         "name": "mainstream medium",
         "rawType": "int64",
         "type": "integer"
        },
        {
         "name": "major",
         "rawType": "int64",
         "type": "integer"
        },
        {
         "name": "majority",
         "rawType": "int64",
         "type": "integer"
        },
        {
         "name": "make",
         "rawType": "int64",
         "type": "integer"
        },
        {
         "name": "make america",
         "rawType": "int64",
         "type": "integer"
        },
        {
         "name": "make america great",
         "rawType": "int64",
         "type": "integer"
        },
        {
         "name": "making",
         "rawType": "int64",
         "type": "integer"
        },
        {
         "name": "malaysia",
         "rawType": "int64",
         "type": "integer"
        },
        {
         "name": "male",
         "rawType": "int64",
         "type": "integer"
        },
        {
         "name": "malheur",
         "rawType": "int64",
         "type": "integer"
        },
        {
         "name": "malheur wildlife",
         "rawType": "int64",
         "type": "integer"
        },
        {
         "name": "malheur wildlife refuge",
         "rawType": "int64",
         "type": "integer"
        },
        {
         "name": "man",
         "rawType": "int64",
         "type": "integer"
        },
        {
         "name": "manager",
         "rawType": "int64",
         "type": "integer"
        },
        {
         "name": "manchester",
         "rawType": "int64",
         "type": "integer"
        },
        {
         "name": "mandate",
         "rawType": "int64",
         "type": "integer"
        },
        {
         "name": "manhattan",
         "rawType": "int64",
         "type": "integer"
        },
        {
         "name": "manlio",
         "rawType": "int64",
         "type": "integer"
        },
        {
         "name": "manlio dinucci",
         "rawType": "int64",
         "type": "integer"
        },
        {
         "name": "manning",
         "rawType": "int64",
         "type": "integer"
        },
        {
         "name": "manuel",
         "rawType": "int64",
         "type": "integer"
        },
        {
         "name": "manufacturing",
         "rawType": "int64",
         "type": "integer"
        },
        {
         "name": "many",
         "rawType": "int64",
         "type": "integer"
        },
        {
         "name": "map",
         "rawType": "int64",
         "type": "integer"
        },
        {
         "name": "mar",
         "rawType": "int64",
         "type": "integer"
        },
        {
         "name": "mar lago",
         "rawType": "int64",
         "type": "integer"
        },
        {
         "name": "marathon",
         "rawType": "int64",
         "type": "integer"
        },
        {
         "name": "march",
         "rawType": "int64",
         "type": "integer"
        },
        {
         "name": "marijuana",
         "rawType": "int64",
         "type": "integer"
        },
        {
         "name": "marine",
         "rawType": "int64",
         "type": "integer"
        },
        {
         "name": "marine le",
         "rawType": "int64",
         "type": "integer"
        },
        {
         "name": "marine le pen",
         "rawType": "int64",
         "type": "integer"
        },
        {
         "name": "mario",
         "rawType": "int64",
         "type": "integer"
        },
        {
         "name": "mark",
         "rawType": "int64",
         "type": "integer"
        },
        {
         "name": "mark zuckerberg",
         "rawType": "int64",
         "type": "integer"
        },
        {
         "name": "market",
         "rawType": "int64",
         "type": "integer"
        },
        {
         "name": "marlow",
         "rawType": "int64",
         "type": "integer"
        },
        {
         "name": "marriage",
         "rawType": "int64",
         "type": "integer"
        },
        {
         "name": "martin",
         "rawType": "int64",
         "type": "integer"
        },
        {
         "name": "marvel",
         "rawType": "int64",
         "type": "integer"
        },
        {
         "name": "mary",
         "rawType": "int64",
         "type": "integer"
        },
        {
         "name": "mass",
         "rawType": "int64",
         "type": "integer"
        },
        {
         "name": "massacre",
         "rawType": "int64",
         "type": "integer"
        },
        {
         "name": "massive",
         "rawType": "int64",
         "type": "integer"
        },
        {
         "name": "master",
         "rawType": "int64",
         "type": "integer"
        },
        {
         "name": "math",
         "rawType": "int64",
         "type": "integer"
        },
        {
         "name": "matter",
         "rawType": "int64",
         "type": "integer"
        },
        {
         "name": "matthew",
         "rawType": "int64",
         "type": "integer"
        },
        {
         "name": "mattis",
         "rawType": "int64",
         "type": "integer"
        },
        {
         "name": "maxine",
         "rawType": "int64",
         "type": "integer"
        },
        {
         "name": "maxine water",
         "rawType": "int64",
         "type": "integer"
        },
        {
         "name": "may",
         "rawType": "int64",
         "type": "integer"
        },
        {
         "name": "maybe",
         "rawType": "int64",
         "type": "integer"
        },
        {
         "name": "mayor",
         "rawType": "int64",
         "type": "integer"
        },
        {
         "name": "mayor de",
         "rawType": "int64",
         "type": "integer"
        },
        {
         "name": "mayor de blasio",
         "rawType": "int64",
         "type": "integer"
        },
        {
         "name": "mccain",
         "rawType": "int64",
         "type": "integer"
        },
        {
         "name": "mcconnell",
         "rawType": "int64",
         "type": "integer"
        },
        {
         "name": "mcmullin",
         "rawType": "int64",
         "type": "integer"
        },
        {
         "name": "mean",
         "rawType": "int64",
         "type": "integer"
        },
        {
         "name": "measure",
         "rawType": "int64",
         "type": "integer"
        },
        {
         "name": "medicaid",
         "rawType": "int64",
         "type": "integer"
        },
        {
         "name": "medical",
         "rawType": "int64",
         "type": "integer"
        },
        {
         "name": "medical marijuana",
         "rawType": "int64",
         "type": "integer"
        },
        {
         "name": "medicine",
         "rawType": "int64",
         "type": "integer"
        },
        {
         "name": "meditation",
         "rawType": "int64",
         "type": "integer"
        },
        {
         "name": "mediterranean",
         "rawType": "int64",
         "type": "integer"
        },
        {
         "name": "medium",
         "rawType": "int64",
         "type": "integer"
        },
        {
         "name": "medium breitbart",
         "rawType": "int64",
         "type": "integer"
        },
        {
         "name": "medium new",
         "rawType": "int64",
         "type": "integer"
        },
        {
         "name": "medium new york",
         "rawType": "int64",
         "type": "integer"
        },
        {
         "name": "meet",
         "rawType": "int64",
         "type": "integer"
        },
        {
         "name": "meeting",
         "rawType": "int64",
         "type": "integer"
        },
        {
         "name": "megyn",
         "rawType": "int64",
         "type": "integer"
        },
        {
         "name": "megyn kelly",
         "rawType": "int64",
         "type": "integer"
        },
        {
         "name": "melania",
         "rawType": "int64",
         "type": "integer"
        },
        {
         "name": "melania trump",
         "rawType": "int64",
         "type": "integer"
        },
        {
         "name": "melt",
         "rawType": "int64",
         "type": "integer"
        },
        {
         "name": "member",
         "rawType": "int64",
         "type": "integer"
        },
        {
         "name": "meme",
         "rawType": "int64",
         "type": "integer"
        },
        {
         "name": "memo",
         "rawType": "int64",
         "type": "integer"
        },
        {
         "name": "memorial",
         "rawType": "int64",
         "type": "integer"
        },
        {
         "name": "memorial day",
         "rawType": "int64",
         "type": "integer"
        },
        {
         "name": "memory",
         "rawType": "int64",
         "type": "integer"
        },
        {
         "name": "men",
         "rawType": "int64",
         "type": "integer"
        },
        {
         "name": "menon",
         "rawType": "int64",
         "type": "integer"
        },
        {
         "name": "mental",
         "rawType": "int64",
         "type": "integer"
        },
        {
         "name": "mentally",
         "rawType": "int64",
         "type": "integer"
        },
        {
         "name": "merger",
         "rawType": "int64",
         "type": "integer"
        },
        {
         "name": "merkel",
         "rawType": "int64",
         "type": "integer"
        },
        {
         "name": "meryl",
         "rawType": "int64",
         "type": "integer"
        },
        {
         "name": "meryl streep",
         "rawType": "int64",
         "type": "integer"
        },
        {
         "name": "mess",
         "rawType": "int64",
         "type": "integer"
        },
        {
         "name": "message",
         "rawType": "int64",
         "type": "integer"
        },
        {
         "name": "met",
         "rawType": "int64",
         "type": "integer"
        },
        {
         "name": "meter",
         "rawType": "int64",
         "type": "integer"
        },
        {
         "name": "meter case",
         "rawType": "int64",
         "type": "integer"
        },
        {
         "name": "meter case testimony",
         "rawType": "int64",
         "type": "integer"
        },
        {
         "name": "method",
         "rawType": "int64",
         "type": "integer"
        },
        {
         "name": "metro",
         "rawType": "int64",
         "type": "integer"
        },
        {
         "name": "mets",
         "rawType": "int64",
         "type": "integer"
        },
        {
         "name": "mexican",
         "rawType": "int64",
         "type": "integer"
        },
        {
         "name": "mexican border",
         "rawType": "int64",
         "type": "integer"
        },
        {
         "name": "mexican cartel",
         "rawType": "int64",
         "type": "integer"
        },
        {
         "name": "mexico",
         "rawType": "int64",
         "type": "integer"
        },
        {
         "name": "meyssan",
         "rawType": "int64",
         "type": "integer"
        },
        {
         "name": "miami",
         "rawType": "int64",
         "type": "integer"
        },
        {
         "name": "michael",
         "rawType": "int64",
         "type": "integer"
        },
        {
         "name": "michael flynn",
         "rawType": "int64",
         "type": "integer"
        },
        {
         "name": "michael moore",
         "rawType": "int64",
         "type": "integer"
        },
        {
         "name": "michael phelps",
         "rawType": "int64",
         "type": "integer"
        },
        {
         "name": "michelle",
         "rawType": "int64",
         "type": "integer"
        },
        {
         "name": "michelle obama",
         "rawType": "int64",
         "type": "integer"
        },
        {
         "name": "michigan",
         "rawType": "int64",
         "type": "integer"
        },
        {
         "name": "microsoft",
         "rawType": "int64",
         "type": "integer"
        },
        {
         "name": "middle",
         "rawType": "int64",
         "type": "integer"
        },
        {
         "name": "middle class",
         "rawType": "int64",
         "type": "integer"
        },
        {
         "name": "middle east",
         "rawType": "int64",
         "type": "integer"
        },
        {
         "name": "might",
         "rawType": "int64",
         "type": "integer"
        },
        {
         "name": "migrant",
         "rawType": "int64",
         "type": "integer"
        },
        {
         "name": "migrant crisis",
         "rawType": "int64",
         "type": "integer"
        },
        {
         "name": "migration",
         "rawType": "int64",
         "type": "integer"
        },
        {
         "name": "mike",
         "rawType": "int64",
         "type": "integer"
        },
        {
         "name": "mike penny",
         "rawType": "int64",
         "type": "integer"
        },
        {
         "name": "mile",
         "rawType": "int64",
         "type": "integer"
        },
        {
         "name": "militant",
         "rawType": "int64",
         "type": "integer"
        },
        {
         "name": "militarized",
         "rawType": "int64",
         "type": "integer"
        },
        {
         "name": "militarized police",
         "rawType": "int64",
         "type": "integer"
        },
        {
         "name": "military",
         "rawType": "int64",
         "type": "integer"
        },
        {
         "name": "military base",
         "rawType": "int64",
         "type": "integer"
        },
        {
         "name": "militia",
         "rawType": "int64",
         "type": "integer"
        },
        {
         "name": "milk",
         "rawType": "int64",
         "type": "integer"
        },
        {
         "name": "millennials",
         "rawType": "int64",
         "type": "integer"
        },
        {
         "name": "miller",
         "rawType": "int64",
         "type": "integer"
        },
        {
         "name": "million",
         "rawType": "int64",
         "type": "integer"
        },
        {
         "name": "million dollar",
         "rawType": "int64",
         "type": "integer"
        },
        {
         "name": "million new",
         "rawType": "int64",
         "type": "integer"
        },
        {
         "name": "million new york",
         "rawType": "int64",
         "type": "integer"
        },
        {
         "name": "milo",
         "rawType": "int64",
         "type": "integer"
        },
        {
         "name": "milo event",
         "rawType": "int64",
         "type": "integer"
        },
        {
         "name": "mind",
         "rawType": "int64",
         "type": "integer"
        },
        {
         "name": "miner",
         "rawType": "int64",
         "type": "integer"
        },
        {
         "name": "mining",
         "rawType": "int64",
         "type": "integer"
        },
        {
         "name": "minister",
         "rawType": "int64",
         "type": "integer"
        },
        {
         "name": "minnesota",
         "rawType": "int64",
         "type": "integer"
        },
        {
         "name": "minor",
         "rawType": "int64",
         "type": "integer"
        },
        {
         "name": "minority",
         "rawType": "int64",
         "type": "integer"
        },
        {
         "name": "minute",
         "rawType": "int64",
         "type": "integer"
        },
        {
         "name": "mirror",
         "rawType": "int64",
         "type": "integer"
        },
        {
         "name": "misconduct",
         "rawType": "int64",
         "type": "integer"
        },
        {
         "name": "misleading",
         "rawType": "int64",
         "type": "integer"
        },
        {
         "name": "miss",
         "rawType": "int64",
         "type": "integer"
        },
        {
         "name": "missed",
         "rawType": "int64",
         "type": "integer"
        },
        {
         "name": "missed new",
         "rawType": "int64",
         "type": "integer"
        },
        {
         "name": "missed new york",
         "rawType": "int64",
         "type": "integer"
        },
        {
         "name": "missile",
         "rawType": "int64",
         "type": "integer"
        },
        {
         "name": "missing",
         "rawType": "int64",
         "type": "integer"
        },
        {
         "name": "mission",
         "rawType": "int64",
         "type": "integer"
        },
        {
         "name": "mississippi",
         "rawType": "int64",
         "type": "integer"
        },
        {
         "name": "mistake",
         "rawType": "int64",
         "type": "integer"
        },
        {
         "name": "mit",
         "rawType": "int64",
         "type": "integer"
        },
        {
         "name": "mitch",
         "rawType": "int64",
         "type": "integer"
        },
        {
         "name": "mitch mcconnell",
         "rawType": "int64",
         "type": "integer"
        },
        {
         "name": "mitchell",
         "rawType": "int64",
         "type": "integer"
        },
        {
         "name": "mitt",
         "rawType": "int64",
         "type": "integer"
        },
        {
         "name": "mitt romney",
         "rawType": "int64",
         "type": "integer"
        },
        {
         "name": "mlb",
         "rawType": "int64",
         "type": "integer"
        },
        {
         "name": "mnuchin",
         "rawType": "int64",
         "type": "integer"
        },
        {
         "name": "mob",
         "rawType": "int64",
         "type": "integer"
        },
        {
         "name": "mobilize",
         "rawType": "int64",
         "type": "integer"
        },
        {
         "name": "mock",
         "rawType": "int64",
         "type": "integer"
        },
        {
         "name": "model",
         "rawType": "int64",
         "type": "integer"
        },
        {
         "name": "model new",
         "rawType": "int64",
         "type": "integer"
        },
        {
         "name": "model new york",
         "rawType": "int64",
         "type": "integer"
        },
        {
         "name": "moderate",
         "rawType": "int64",
         "type": "integer"
        },
        {
         "name": "modern",
         "rawType": "int64",
         "type": "integer"
        },
        {
         "name": "modi",
         "rawType": "int64",
         "type": "integer"
        },
        {
         "name": "mom",
         "rawType": "int64",
         "type": "integer"
        },
        {
         "name": "moment",
         "rawType": "int64",
         "type": "integer"
        },
        {
         "name": "monday",
         "rawType": "int64",
         "type": "integer"
        },
        {
         "name": "monday briefing",
         "rawType": "int64",
         "type": "integer"
        },
        {
         "name": "monday evening",
         "rawType": "int64",
         "type": "integer"
        },
        {
         "name": "monday evening briefing",
         "rawType": "int64",
         "type": "integer"
        },
        {
         "name": "monetary",
         "rawType": "int64",
         "type": "integer"
        },
        {
         "name": "money",
         "rawType": "int64",
         "type": "integer"
        },
        {
         "name": "monkey",
         "rawType": "int64",
         "type": "integer"
        },
        {
         "name": "monopoly",
         "rawType": "int64",
         "type": "integer"
        },
        {
         "name": "monsanto",
         "rawType": "int64",
         "type": "integer"
        },
        {
         "name": "monster",
         "rawType": "int64",
         "type": "integer"
        },
        {
         "name": "month",
         "rawType": "int64",
         "type": "integer"
        },
        {
         "name": "month new",
         "rawType": "int64",
         "type": "integer"
        },
        {
         "name": "month new york",
         "rawType": "int64",
         "type": "integer"
        },
        {
         "name": "moon",
         "rawType": "int64",
         "type": "integer"
        },
        {
         "name": "moonlight",
         "rawType": "int64",
         "type": "integer"
        },
        {
         "name": "moore",
         "rawType": "int64",
         "type": "integer"
        },
        {
         "name": "moral",
         "rawType": "int64",
         "type": "integer"
        },
        {
         "name": "morning",
         "rawType": "int64",
         "type": "integer"
        },
        {
         "name": "morning briefing",
         "rawType": "int64",
         "type": "integer"
        },
        {
         "name": "morning briefing new",
         "rawType": "int64",
         "type": "integer"
        },
        {
         "name": "mortgage",
         "rawType": "int64",
         "type": "integer"
        },
        {
         "name": "moscow",
         "rawType": "int64",
         "type": "integer"
        },
        {
         "name": "mosque",
         "rawType": "int64",
         "type": "integer"
        },
        {
         "name": "mostly",
         "rawType": "int64",
         "type": "integer"
        },
        {
         "name": "mosul",
         "rawType": "int64",
         "type": "integer"
        },
        {
         "name": "mosul isi",
         "rawType": "int64",
         "type": "integer"
        },
        {
         "name": "mother",
         "rawType": "int64",
         "type": "integer"
        },
        {
         "name": "mount",
         "rawType": "int64",
         "type": "integer"
        },
        {
         "name": "mouth",
         "rawType": "int64",
         "type": "integer"
        },
        {
         "name": "move",
         "rawType": "int64",
         "type": "integer"
        },
        {
         "name": "movement",
         "rawType": "int64",
         "type": "integer"
        },
        {
         "name": "movie",
         "rawType": "int64",
         "type": "integer"
        },
        {
         "name": "moving",
         "rawType": "int64",
         "type": "integer"
        },
        {
         "name": "moving embassy",
         "rawType": "int64",
         "type": "integer"
        },
        {
         "name": "mp",
         "rawType": "int64",
         "type": "integer"
        },
        {
         "name": "mr",
         "rawType": "int64",
         "type": "integer"
        },
        {
         "name": "msm",
         "rawType": "int64",
         "type": "integer"
        },
        {
         "name": "msnbc",
         "rawType": "int64",
         "type": "integer"
        },
        {
         "name": "much",
         "rawType": "int64",
         "type": "integer"
        },
        {
         "name": "mueller",
         "rawType": "int64",
         "type": "integer"
        },
        {
         "name": "muhammad",
         "rawType": "int64",
         "type": "integer"
        },
        {
         "name": "muhammad ali",
         "rawType": "int64",
         "type": "integer"
        },
        {
         "name": "multiple",
         "rawType": "int64",
         "type": "integer"
        },
        {
         "name": "mulvaney",
         "rawType": "int64",
         "type": "integer"
        },
        {
         "name": "murder",
         "rawType": "int64",
         "type": "integer"
        },
        {
         "name": "murder suspect",
         "rawType": "int64",
         "type": "integer"
        },
        {
         "name": "murdered",
         "rawType": "int64",
         "type": "integer"
        },
        {
         "name": "murdering",
         "rawType": "int64",
         "type": "integer"
        },
        {
         "name": "museum",
         "rawType": "int64",
         "type": "integer"
        },
        {
         "name": "music",
         "rawType": "int64",
         "type": "integer"
        },
        {
         "name": "musk",
         "rawType": "int64",
         "type": "integer"
        },
        {
         "name": "musket",
         "rawType": "int64",
         "type": "integer"
        },
        {
         "name": "muslim",
         "rawType": "int64",
         "type": "integer"
        },
        {
         "name": "muslim invader",
         "rawType": "int64",
         "type": "integer"
        },
        {
         "name": "muslim migrant",
         "rawType": "int64",
         "type": "integer"
        },
        {
         "name": "muslim refugee",
         "rawType": "int64",
         "type": "integer"
        },
        {
         "name": "must",
         "rawType": "int64",
         "type": "integer"
        },
        {
         "name": "must see",
         "rawType": "int64",
         "type": "integer"
        },
        {
         "name": "mysterious",
         "rawType": "int64",
         "type": "integer"
        },
        {
         "name": "mystery",
         "rawType": "int64",
         "type": "integer"
        },
        {
         "name": "myth",
         "rawType": "int64",
         "type": "integer"
        },
        {
         "name": "nafta",
         "rawType": "int64",
         "type": "integer"
        },
        {
         "name": "nam",
         "rawType": "int64",
         "type": "integer"
        },
        {
         "name": "name",
         "rawType": "int64",
         "type": "integer"
        },
        {
         "name": "named",
         "rawType": "int64",
         "type": "integer"
        },
        {
         "name": "naming",
         "rawType": "int64",
         "type": "integer"
        },
        {
         "name": "narrative",
         "rawType": "int64",
         "type": "integer"
        },
        {
         "name": "nasa",
         "rawType": "int64",
         "type": "integer"
        },
        {
         "name": "nasty",
         "rawType": "int64",
         "type": "integer"
        },
        {
         "name": "nation",
         "rawType": "int64",
         "type": "integer"
        },
        {
         "name": "national",
         "rawType": "int64",
         "type": "integer"
        },
        {
         "name": "national anthem",
         "rawType": "int64",
         "type": "integer"
        },
        {
         "name": "national bird",
         "rawType": "int64",
         "type": "integer"
        },
        {
         "name": "national security",
         "rawType": "int64",
         "type": "integer"
        },
        {
         "name": "national security adviser",
         "rawType": "int64",
         "type": "integer"
        },
        {
         "name": "nationalism",
         "rawType": "int64",
         "type": "integer"
        },
        {
         "name": "nationalist",
         "rawType": "int64",
         "type": "integer"
        },
        {
         "name": "nationwide",
         "rawType": "int64",
         "type": "integer"
        },
        {
         "name": "native",
         "rawType": "int64",
         "type": "integer"
        },
        {
         "name": "native american",
         "rawType": "int64",
         "type": "integer"
        },
        {
         "name": "nato",
         "rawType": "int64",
         "type": "integer"
        },
        {
         "name": "natural",
         "rawType": "int64",
         "type": "integer"
        },
        {
         "name": "nature",
         "rawType": "int64",
         "type": "integer"
        },
        {
         "name": "naval",
         "rawType": "int64",
         "type": "integer"
        },
        {
         "name": "navy",
         "rawType": "int64",
         "type": "integer"
        },
        {
         "name": "navy seal",
         "rawType": "int64",
         "type": "integer"
        },
        {
         "name": "nazi",
         "rawType": "int64",
         "type": "integer"
        },
        {
         "name": "nbc",
         "rawType": "int64",
         "type": "integer"
        },
        {
         "name": "nc",
         "rawType": "int64",
         "type": "integer"
        },
        {
         "name": "ncaa",
         "rawType": "int64",
         "type": "integer"
        },
        {
         "name": "nd",
         "rawType": "int64",
         "type": "integer"
        },
        {
         "name": "near",
         "rawType": "int64",
         "type": "integer"
        },
        {
         "name": "nearly",
         "rawType": "int64",
         "type": "integer"
        },
        {
         "name": "nears",
         "rawType": "int64",
         "type": "integer"
        },
        {
         "name": "necessary",
         "rawType": "int64",
         "type": "integer"
        },
        {
         "name": "need",
         "rawType": "int64",
         "type": "integer"
        },
        {
         "name": "need know",
         "rawType": "int64",
         "type": "integer"
        },
        {
         "name": "needed",
         "rawType": "int64",
         "type": "integer"
        },
        {
         "name": "negative",
         "rawType": "int64",
         "type": "integer"
        },
        {
         "name": "neighborhood",
         "rawType": "int64",
         "type": "integer"
        },
        {
         "name": "neil",
         "rawType": "int64",
         "type": "integer"
        },
        {
         "name": "neil gorsuch",
         "rawType": "int64",
         "type": "integer"
        },
        {
         "name": "nerve",
         "rawType": "int64",
         "type": "integer"
        },
        {
         "name": "net",
         "rawType": "int64",
         "type": "integer"
        },
        {
         "name": "netanyahu",
         "rawType": "int64",
         "type": "integer"
        },
        {
         "name": "netflix",
         "rawType": "int64",
         "type": "integer"
        },
        {
         "name": "network",
         "rawType": "int64",
         "type": "integer"
        },
        {
         "name": "nevada",
         "rawType": "int64",
         "type": "integer"
        },
        {
         "name": "never",
         "rawType": "int64",
         "type": "integer"
        },
        {
         "name": "new",
         "rawType": "int64",
         "type": "integer"
        },
        {
         "name": "new clinton",
         "rawType": "int64",
         "type": "integer"
        },
        {
         "name": "new eastern",
         "rawType": "int64",
         "type": "integer"
        },
        {
         "name": "new eastern outlook",
         "rawType": "int64",
         "type": "integer"
        },
        {
         "name": "new email",
         "rawType": "int64",
         "type": "integer"
        },
        {
         "name": "new england",
         "rawType": "int64",
         "type": "integer"
        },
        {
         "name": "new england patriot",
         "rawType": "int64",
         "type": "integer"
        },
        {
         "name": "new era",
         "rawType": "int64",
         "type": "integer"
        },
        {
         "name": "new evidence",
         "rawType": "int64",
         "type": "integer"
        },
        {
         "name": "new fbi",
         "rawType": "int64",
         "type": "integer"
        },
        {
         "name": "new fbi email",
         "rawType": "int64",
         "type": "integer"
        },
        {
         "name": "new hampshire",
         "rawType": "int64",
         "type": "integer"
        },
        {
         "name": "new hillary",
         "rawType": "int64",
         "type": "integer"
        },
        {
         "name": "new jersey",
         "rawType": "int64",
         "type": "integer"
        },
        {
         "name": "new leader",
         "rawType": "int64",
         "type": "integer"
        },
        {
         "name": "new moon",
         "rawType": "int64",
         "type": "integer"
        },
        {
         "name": "new orleans",
         "rawType": "int64",
         "type": "integer"
        },
        {
         "name": "new poll",
         "rawType": "int64",
         "type": "integer"
        },
        {
         "name": "new poll show",
         "rawType": "int64",
         "type": "integer"
        },
        {
         "name": "new president",
         "rawType": "int64",
         "type": "integer"
        },
        {
         "name": "new reality",
         "rawType": "int64",
         "type": "integer"
        },
        {
         "name": "new report",
         "rawType": "int64",
         "type": "integer"
        },
        {
         "name": "new rule",
         "rawType": "int64",
         "type": "integer"
        },
        {
         "name": "new solar",
         "rawType": "int64",
         "type": "integer"
        },
        {
         "name": "new trump",
         "rawType": "int64",
         "type": "integer"
        },
        {
         "name": "new video",
         "rawType": "int64",
         "type": "integer"
        },
        {
         "name": "new way",
         "rawType": "int64",
         "type": "integer"
        },
        {
         "name": "new wikileaks",
         "rawType": "int64",
         "type": "integer"
        },
        {
         "name": "new world",
         "rawType": "int64",
         "type": "integer"
        },
        {
         "name": "new world order",
         "rawType": "int64",
         "type": "integer"
        },
        {
         "name": "new year",
         "rawType": "int64",
         "type": "integer"
        },
        {
         "name": "new year eve",
         "rawType": "int64",
         "type": "integer"
        },
        {
         "name": "new york",
         "rawType": "int64",
         "type": "integer"
        },
        {
         "name": "new york city",
         "rawType": "int64",
         "type": "integer"
        },
        {
         "name": "new york new",
         "rawType": "int64",
         "type": "integer"
        },
        {
         "name": "new york state",
         "rawType": "int64",
         "type": "integer"
        },
        {
         "name": "new york time",
         "rawType": "int64",
         "type": "integer"
        },
        {
         "name": "new yorker",
         "rawType": "int64",
         "type": "integer"
        },
        {
         "name": "new yorkers",
         "rawType": "int64",
         "type": "integer"
        },
        {
         "name": "new zealand",
         "rawType": "int64",
         "type": "integer"
        },
        {
         "name": "newly",
         "rawType": "int64",
         "type": "integer"
        },
        {
         "name": "news",
         "rawType": "int64",
         "type": "integer"
        },
        {
         "name": "news breitbart",
         "rawType": "int64",
         "type": "integer"
        },
        {
         "name": "news daily",
         "rawType": "int64",
         "type": "integer"
        },
        {
         "name": "news medium",
         "rawType": "int64",
         "type": "integer"
        },
        {
         "name": "news new",
         "rawType": "int64",
         "type": "integer"
        },
        {
         "name": "news new york",
         "rawType": "int64",
         "type": "integer"
        },
        {
         "name": "news trump",
         "rawType": "int64",
         "type": "integer"
        },
        {
         "name": "newspaper",
         "rawType": "int64",
         "type": "integer"
        },
        {
         "name": "newsticker",
         "rawType": "int64",
         "type": "integer"
        },
        {
         "name": "newt",
         "rawType": "int64",
         "type": "integer"
        },
        {
         "name": "next",
         "rawType": "int64",
         "type": "integer"
        },
        {
         "name": "next week",
         "rawType": "int64",
         "type": "integer"
        },
        {
         "name": "next year",
         "rawType": "int64",
         "type": "integer"
        },
        {
         "name": "nfl",
         "rawType": "int64",
         "type": "integer"
        },
        {
         "name": "nice",
         "rawType": "int64",
         "type": "integer"
        },
        {
         "name": "nigerian",
         "rawType": "int64",
         "type": "integer"
        },
        {
         "name": "night",
         "rawType": "int64",
         "type": "integer"
        },
        {
         "name": "night live",
         "rawType": "int64",
         "type": "integer"
        },
        {
         "name": "night new",
         "rawType": "int64",
         "type": "integer"
        },
        {
         "name": "night new york",
         "rawType": "int64",
         "type": "integer"
        },
        {
         "name": "nightclub",
         "rawType": "int64",
         "type": "integer"
        },
        {
         "name": "nightmare",
         "rawType": "int64",
         "type": "integer"
        },
        {
         "name": "nikki",
         "rawType": "int64",
         "type": "integer"
        },
        {
         "name": "nikki haley",
         "rawType": "int64",
         "type": "integer"
        },
        {
         "name": "nine",
         "rawType": "int64",
         "type": "integer"
        },
        {
         "name": "nintendo",
         "rawType": "int64",
         "type": "integer"
        },
        {
         "name": "nintendo switch",
         "rawType": "int64",
         "type": "integer"
        },
        {
         "name": "niro",
         "rawType": "int64",
         "type": "integer"
        },
        {
         "name": "nobel",
         "rawType": "int64",
         "type": "integer"
        },
        {
         "name": "nobel prize",
         "rawType": "int64",
         "type": "integer"
        },
        {
         "name": "nobody",
         "rawType": "int64",
         "type": "integer"
        },
        {
         "name": "noise",
         "rawType": "int64",
         "type": "integer"
        },
        {
         "name": "nomi",
         "rawType": "int64",
         "type": "integer"
        },
        {
         "name": "nomi prins",
         "rawType": "int64",
         "type": "integer"
        },
        {
         "name": "nominates",
         "rawType": "int64",
         "type": "integer"
        },
        {
         "name": "nomination",
         "rawType": "int64",
         "type": "integer"
        },
        {
         "name": "nomination new",
         "rawType": "int64",
         "type": "integer"
        },
        {
         "name": "nomination new york",
         "rawType": "int64",
         "type": "integer"
        },
        {
         "name": "nominee",
         "rawType": "int64",
         "type": "integer"
        },
        {
         "name": "nominee fbi",
         "rawType": "int64",
         "type": "integer"
        },
        {
         "name": "nominee fbi email",
         "rawType": "int64",
         "type": "integer"
        },
        {
         "name": "non",
         "rawType": "int64",
         "type": "integer"
        },
        {
         "name": "none",
         "rawType": "int64",
         "type": "integer"
        },
        {
         "name": "normal",
         "rawType": "int64",
         "type": "integer"
        },
        {
         "name": "north",
         "rawType": "int64",
         "type": "integer"
        },
        {
         "name": "north carolina",
         "rawType": "int64",
         "type": "integer"
        },
        {
         "name": "north dakota",
         "rawType": "int64",
         "type": "integer"
        },
        {
         "name": "north korea",
         "rawType": "int64",
         "type": "integer"
        },
        {
         "name": "north korean",
         "rawType": "int64",
         "type": "integer"
        },
        {
         "name": "northern",
         "rawType": "int64",
         "type": "integer"
        },
        {
         "name": "norway",
         "rawType": "int64",
         "type": "integer"
        },
        {
         "name": "note",
         "rawType": "int64",
         "type": "integer"
        },
        {
         "name": "nothing",
         "rawType": "int64",
         "type": "integer"
        },
        {
         "name": "nothing politics",
         "rawType": "int64",
         "type": "integer"
        },
        {
         "name": "nothing politics new",
         "rawType": "int64",
         "type": "integer"
        },
        {
         "name": "notice",
         "rawType": "int64",
         "type": "integer"
        },
        {
         "name": "notre",
         "rawType": "int64",
         "type": "integer"
        },
        {
         "name": "notre dame",
         "rawType": "int64",
         "type": "integer"
        },
        {
         "name": "nov",
         "rawType": "int64",
         "type": "integer"
        },
        {
         "name": "november",
         "rawType": "int64",
         "type": "integer"
        },
        {
         "name": "november daily",
         "rawType": "int64",
         "type": "integer"
        },
        {
         "name": "november daily contrarian",
         "rawType": "int64",
         "type": "integer"
        },
        {
         "name": "nowhere",
         "rawType": "int64",
         "type": "integer"
        },
        {
         "name": "noyola",
         "rawType": "int64",
         "type": "integer"
        },
        {
         "name": "noyola rodr",
         "rawType": "int64",
         "type": "integer"
        },
        {
         "name": "noyola rodr guez",
         "rawType": "int64",
         "type": "integer"
        },
        {
         "name": "nsa",
         "rawType": "int64",
         "type": "integer"
        },
        {
         "name": "nuclear",
         "rawType": "int64",
         "type": "integer"
        },
        {
         "name": "nuclear deal",
         "rawType": "int64",
         "type": "integer"
        },
        {
         "name": "nuclear option",
         "rawType": "int64",
         "type": "integer"
        },
        {
         "name": "nuclear war",
         "rawType": "int64",
         "type": "integer"
        },
        {
         "name": "nuclear weapon",
         "rawType": "int64",
         "type": "integer"
        },
        {
         "name": "nude",
         "rawType": "int64",
         "type": "integer"
        },
        {
         "name": "nuke",
         "rawType": "int64",
         "type": "integer"
        },
        {
         "name": "number",
         "rawType": "int64",
         "type": "integer"
        },
        {
         "name": "nunes",
         "rawType": "int64",
         "type": "integer"
        },
        {
         "name": "nut",
         "rawType": "int64",
         "type": "integer"
        },
        {
         "name": "nwo",
         "rawType": "int64",
         "type": "integer"
        },
        {
         "name": "ny",
         "rawType": "int64",
         "type": "integer"
        },
        {
         "name": "nyc",
         "rawType": "int64",
         "type": "integer"
        },
        {
         "name": "nypd",
         "rawType": "int64",
         "type": "integer"
        },
        {
         "name": "nyt",
         "rawType": "int64",
         "type": "integer"
        },
        {
         "name": "oakland",
         "rawType": "int64",
         "type": "integer"
        },
        {
         "name": "oath",
         "rawType": "int64",
         "type": "integer"
        },
        {
         "name": "obama",
         "rawType": "int64",
         "type": "integer"
        },
        {
         "name": "obama admin",
         "rawType": "int64",
         "type": "integer"
        },
        {
         "name": "obama administration",
         "rawType": "int64",
         "type": "integer"
        },
        {
         "name": "obama breitbart",
         "rawType": "int64",
         "type": "integer"
        },
        {
         "name": "obama delay",
         "rawType": "int64",
         "type": "integer"
        },
        {
         "name": "obama delay suspend",
         "rawType": "int64",
         "type": "integer"
        },
        {
         "name": "obama doj",
         "rawType": "int64",
         "type": "integer"
        },
        {
         "name": "obama era",
         "rawType": "int64",
         "type": "integer"
        },
        {
         "name": "obama health",
         "rawType": "int64",
         "type": "integer"
        },
        {
         "name": "obama hillary",
         "rawType": "int64",
         "type": "integer"
        },
        {
         "name": "obama new",
         "rawType": "int64",
         "type": "integer"
        },
        {
         "name": "obama new york",
         "rawType": "int64",
         "type": "integer"
        },
        {
         "name": "obama pardon",
         "rawType": "int64",
         "type": "integer"
        },
        {
         "name": "obama presidency",
         "rawType": "int64",
         "type": "integer"
        },
        {
         "name": "obama replacement",
         "rawType": "int64",
         "type": "integer"
        },
        {
         "name": "obama replacement nominee",
         "rawType": "int64",
         "type": "integer"
        },
        {
         "name": "obama say",
         "rawType": "int64",
         "type": "integer"
        },
        {
         "name": "obama tell",
         "rawType": "int64",
         "type": "integer"
        },
        {
         "name": "obamacare",
         "rawType": "int64",
         "type": "integer"
        },
        {
         "name": "obamacare architect",
         "rawType": "int64",
         "type": "integer"
        },
        {
         "name": "obamacare breitbart",
         "rawType": "int64",
         "type": "integer"
        },
        {
         "name": "obamacare designed",
         "rawType": "int64",
         "type": "integer"
        },
        {
         "name": "obamacare designed fail",
         "rawType": "int64",
         "type": "integer"
        },
        {
         "name": "obamacare lite",
         "rawType": "int64",
         "type": "integer"
        },
        {
         "name": "obamacare repeal",
         "rawType": "int64",
         "type": "integer"
        },
        {
         "name": "obamacare replacement",
         "rawType": "int64",
         "type": "integer"
        },
        {
         "name": "obese",
         "rawType": "int64",
         "type": "integer"
        },
        {
         "name": "object",
         "rawType": "int64",
         "type": "integer"
        },
        {
         "name": "obstruction",
         "rawType": "int64",
         "type": "integer"
        },
        {
         "name": "ocean",
         "rawType": "int64",
         "type": "integer"
        },
        {
         "name": "oct",
         "rawType": "int64",
         "type": "integer"
        },
        {
         "name": "october",
         "rawType": "int64",
         "type": "integer"
        },
        {
         "name": "october surprise",
         "rawType": "int64",
         "type": "integer"
        },
        {
         "name": "odds",
         "rawType": "int64",
         "type": "integer"
        },
        {
         "name": "offensive",
         "rawType": "int64",
         "type": "integer"
        },
        {
         "name": "offer",
         "rawType": "int64",
         "type": "integer"
        },
        {
         "name": "offered",
         "rawType": "int64",
         "type": "integer"
        },
        {
         "name": "offering",
         "rawType": "int64",
         "type": "integer"
        },
        {
         "name": "office",
         "rawType": "int64",
         "type": "integer"
        },
        {
         "name": "office breitbart",
         "rawType": "int64",
         "type": "integer"
        },
        {
         "name": "office new",
         "rawType": "int64",
         "type": "integer"
        },
        {
         "name": "office new york",
         "rawType": "int64",
         "type": "integer"
        },
        {
         "name": "officer",
         "rawType": "int64",
         "type": "integer"
        },
        {
         "name": "officer new",
         "rawType": "int64",
         "type": "integer"
        },
        {
         "name": "officer new york",
         "rawType": "int64",
         "type": "integer"
        },
        {
         "name": "official",
         "rawType": "int64",
         "type": "integer"
        },
        {
         "name": "official say",
         "rawType": "int64",
         "type": "integer"
        },
        {
         "name": "official say new",
         "rawType": "int64",
         "type": "integer"
        },
        {
         "name": "officially",
         "rawType": "int64",
         "type": "integer"
        },
        {
         "name": "offset",
         "rawType": "int64",
         "type": "integer"
        },
        {
         "name": "often",
         "rawType": "int64",
         "type": "integer"
        },
        {
         "name": "oh",
         "rawType": "int64",
         "type": "integer"
        },
        {
         "name": "ohio",
         "rawType": "int64",
         "type": "integer"
        },
        {
         "name": "oil",
         "rawType": "int64",
         "type": "integer"
        },
        {
         "name": "oil gas",
         "rawType": "int64",
         "type": "integer"
        },
        {
         "name": "ois",
         "rawType": "int64",
         "type": "integer"
        },
        {
         "name": "ois fillon",
         "rawType": "int64",
         "type": "integer"
        },
        {
         "name": "oklahoma",
         "rawType": "int64",
         "type": "integer"
        },
        {
         "name": "old",
         "rawType": "int64",
         "type": "integer"
        },
        {
         "name": "old girl",
         "rawType": "int64",
         "type": "integer"
        },
        {
         "name": "oldest",
         "rawType": "int64",
         "type": "integer"
        },
        {
         "name": "oligarchy",
         "rawType": "int64",
         "type": "integer"
        },
        {
         "name": "olympic",
         "rawType": "int64",
         "type": "integer"
        },
        {
         "name": "olympics",
         "rawType": "int64",
         "type": "integer"
        },
        {
         "name": "one",
         "rawType": "int64",
         "type": "integer"
        },
        {
         "name": "one day",
         "rawType": "int64",
         "type": "integer"
        },
        {
         "name": "one new",
         "rawType": "int64",
         "type": "integer"
        },
        {
         "name": "one new york",
         "rawType": "int64",
         "type": "integer"
        },
        {
         "name": "one step",
         "rawType": "int64",
         "type": "integer"
        },
        {
         "name": "one want",
         "rawType": "int64",
         "type": "integer"
        },
        {
         "name": "one want acknowledge",
         "rawType": "int64",
         "type": "integer"
        },
        {
         "name": "online",
         "rawType": "int64",
         "type": "integer"
        },
        {
         "name": "open",
         "rawType": "int64",
         "type": "integer"
        },
        {
         "name": "open border",
         "rawType": "int64",
         "type": "integer"
        },
        {
         "name": "open letter",
         "rawType": "int64",
         "type": "integer"
        },
        {
         "name": "open new",
         "rawType": "int64",
         "type": "integer"
        },
        {
         "name": "open new york",
         "rawType": "int64",
         "type": "integer"
        },
        {
         "name": "open thread",
         "rawType": "int64",
         "type": "integer"
        },
        {
         "name": "opened",
         "rawType": "int64",
         "type": "integer"
        },
        {
         "name": "opening",
         "rawType": "int64",
         "type": "integer"
        },
        {
         "name": "operation",
         "rawType": "int64",
         "type": "integer"
        },
        {
         "name": "operative",
         "rawType": "int64",
         "type": "integer"
        },
        {
         "name": "opinion",
         "rawType": "int64",
         "type": "integer"
        },
        {
         "name": "opinion conservative",
         "rawType": "int64",
         "type": "integer"
        },
        {
         "name": "opponent",
         "rawType": "int64",
         "type": "integer"
        },
        {
         "name": "oppose",
         "rawType": "int64",
         "type": "integer"
        },
        {
         "name": "opposition",
         "rawType": "int64",
         "type": "integer"
        },
        {
         "name": "optimism",
         "rawType": "int64",
         "type": "integer"
        },
        {
         "name": "option",
         "rawType": "int64",
         "type": "integer"
        },
        {
         "name": "orange",
         "rawType": "int64",
         "type": "integer"
        },
        {
         "name": "order",
         "rawType": "int64",
         "type": "integer"
        },
        {
         "name": "order breitbart",
         "rawType": "int64",
         "type": "integer"
        },
        {
         "name": "order new",
         "rawType": "int64",
         "type": "integer"
        },
        {
         "name": "order new york",
         "rawType": "int64",
         "type": "integer"
        },
        {
         "name": "ordered",
         "rawType": "int64",
         "type": "integer"
        },
        {
         "name": "oregon",
         "rawType": "int64",
         "type": "integer"
        },
        {
         "name": "oregon standoff",
         "rawType": "int64",
         "type": "integer"
        },
        {
         "name": "organic",
         "rawType": "int64",
         "type": "integer"
        },
        {
         "name": "organizer",
         "rawType": "int64",
         "type": "integer"
        },
        {
         "name": "original",
         "rawType": "int64",
         "type": "integer"
        },
        {
         "name": "orlando",
         "rawType": "int64",
         "type": "integer"
        },
        {
         "name": "orlando shooting",
         "rawType": "int64",
         "type": "integer"
        },
        {
         "name": "oroville",
         "rawType": "int64",
         "type": "integer"
        },
        {
         "name": "oscar",
         "rawType": "int64",
         "type": "integer"
        },
        {
         "name": "others",
         "rawType": "int64",
         "type": "integer"
        },
        {
         "name": "outbreak",
         "rawType": "int64",
         "type": "integer"
        },
        {
         "name": "outcome",
         "rawType": "int64",
         "type": "integer"
        },
        {
         "name": "outdated",
         "rawType": "int64",
         "type": "integer"
        },
        {
         "name": "outlook",
         "rawType": "int64",
         "type": "integer"
        },
        {
         "name": "outrage",
         "rawType": "int64",
         "type": "integer"
        },
        {
         "name": "outside",
         "rawType": "int64",
         "type": "integer"
        },
        {
         "name": "oval",
         "rawType": "int64",
         "type": "integer"
        },
        {
         "name": "oval office",
         "rawType": "int64",
         "type": "integer"
        },
        {
         "name": "overhaul",
         "rawType": "int64",
         "type": "integer"
        },
        {
         "name": "overseas",
         "rawType": "int64",
         "type": "integer"
        },
        {
         "name": "overturn",
         "rawType": "int64",
         "type": "integer"
        },
        {
         "name": "overwhelming",
         "rawType": "int64",
         "type": "integer"
        },
        {
         "name": "owned",
         "rawType": "int64",
         "type": "integer"
        },
        {
         "name": "owner",
         "rawType": "int64",
         "type": "integer"
        },
        {
         "name": "oz",
         "rawType": "int64",
         "type": "integer"
        },
        {
         "name": "pa",
         "rawType": "int64",
         "type": "integer"
        },
        {
         "name": "pac",
         "rawType": "int64",
         "type": "integer"
        },
        {
         "name": "pacific",
         "rawType": "int64",
         "type": "integer"
        },
        {
         "name": "pack",
         "rawType": "int64",
         "type": "integer"
        },
        {
         "name": "page",
         "rawType": "int64",
         "type": "integer"
        },
        {
         "name": "paid",
         "rawType": "int64",
         "type": "integer"
        },
        {
         "name": "pain",
         "rawType": "int64",
         "type": "integer"
        },
        {
         "name": "painful",
         "rawType": "int64",
         "type": "integer"
        },
        {
         "name": "paint",
         "rawType": "int64",
         "type": "integer"
        },
        {
         "name": "painting",
         "rawType": "int64",
         "type": "integer"
        },
        {
         "name": "pakistan",
         "rawType": "int64",
         "type": "integer"
        },
        {
         "name": "pakistani",
         "rawType": "int64",
         "type": "integer"
        },
        {
         "name": "palestine",
         "rawType": "int64",
         "type": "integer"
        },
        {
         "name": "palestinian",
         "rawType": "int64",
         "type": "integer"
        },
        {
         "name": "palin",
         "rawType": "int64",
         "type": "integer"
        },
        {
         "name": "palm",
         "rawType": "int64",
         "type": "integer"
        },
        {
         "name": "pamela",
         "rawType": "int64",
         "type": "integer"
        },
        {
         "name": "pamela geller",
         "rawType": "int64",
         "type": "integer"
        },
        {
         "name": "panel",
         "rawType": "int64",
         "type": "integer"
        },
        {
         "name": "panic",
         "rawType": "int64",
         "type": "integer"
        },
        {
         "name": "panther",
         "rawType": "int64",
         "type": "integer"
        },
        {
         "name": "paper",
         "rawType": "int64",
         "type": "integer"
        },
        {
         "name": "para",
         "rawType": "int64",
         "type": "integer"
        },
        {
         "name": "parade",
         "rawType": "int64",
         "type": "integer"
        },
        {
         "name": "pardon",
         "rawType": "int64",
         "type": "integer"
        },
        {
         "name": "parent",
         "rawType": "int64",
         "type": "integer"
        },
        {
         "name": "parenthood",
         "rawType": "int64",
         "type": "integer"
        },
        {
         "name": "paris",
         "rawType": "int64",
         "type": "integer"
        },
        {
         "name": "paris agreement",
         "rawType": "int64",
         "type": "integer"
        },
        {
         "name": "paris climate",
         "rawType": "int64",
         "type": "integer"
        },
        {
         "name": "park",
         "rawType": "int64",
         "type": "integer"
        },
        {
         "name": "parliament",
         "rawType": "int64",
         "type": "integer"
        },
        {
         "name": "part",
         "rawType": "int64",
         "type": "integer"
        },
        {
         "name": "partisan",
         "rawType": "int64",
         "type": "integer"
        },
        {
         "name": "party",
         "rawType": "int64",
         "type": "integer"
        },
        {
         "name": "party new",
         "rawType": "int64",
         "type": "integer"
        },
        {
         "name": "party new york",
         "rawType": "int64",
         "type": "integer"
        },
        {
         "name": "pas",
         "rawType": "int64",
         "type": "integer"
        },
        {
         "name": "pass",
         "rawType": "int64",
         "type": "integer"
        },
        {
         "name": "passed",
         "rawType": "int64",
         "type": "integer"
        },
        {
         "name": "passenger",
         "rawType": "int64",
         "type": "integer"
        },
        {
         "name": "past",
         "rawType": "int64",
         "type": "integer"
        },
        {
         "name": "pastor",
         "rawType": "int64",
         "type": "integer"
        },
        {
         "name": "pat",
         "rawType": "int64",
         "type": "integer"
        },
        {
         "name": "path",
         "rawType": "int64",
         "type": "integer"
        },
        {
         "name": "path new",
         "rawType": "int64",
         "type": "integer"
        },
        {
         "name": "path new york",
         "rawType": "int64",
         "type": "integer"
        },
        {
         "name": "patient",
         "rawType": "int64",
         "type": "integer"
        },
        {
         "name": "patriot",
         "rawType": "int64",
         "type": "integer"
        },
        {
         "name": "patriot act",
         "rawType": "int64",
         "type": "integer"
        },
        {
         "name": "patrol",
         "rawType": "int64",
         "type": "integer"
        },
        {
         "name": "patrol agent",
         "rawType": "int64",
         "type": "integer"
        },
        {
         "name": "pattern",
         "rawType": "int64",
         "type": "integer"
        },
        {
         "name": "paul",
         "rawType": "int64",
         "type": "integer"
        },
        {
         "name": "paul craig",
         "rawType": "int64",
         "type": "integer"
        },
        {
         "name": "paul craig robert",
         "rawType": "int64",
         "type": "integer"
        },
        {
         "name": "paul ryan",
         "rawType": "int64",
         "type": "integer"
        },
        {
         "name": "paul ryan obamacare",
         "rawType": "int64",
         "type": "integer"
        },
        {
         "name": "pay",
         "rawType": "int64",
         "type": "integer"
        },
        {
         "name": "pay million",
         "rawType": "int64",
         "type": "integer"
        },
        {
         "name": "pay play",
         "rawType": "int64",
         "type": "integer"
        },
        {
         "name": "payer",
         "rawType": "int64",
         "type": "integer"
        },
        {
         "name": "payment",
         "rawType": "int64",
         "type": "integer"
        },
        {
         "name": "payroll",
         "rawType": "int64",
         "type": "integer"
        },
        {
         "name": "peace",
         "rawType": "int64",
         "type": "integer"
        },
        {
         "name": "peaceful",
         "rawType": "int64",
         "type": "integer"
        },
        {
         "name": "peanut",
         "rawType": "int64",
         "type": "integer"
        },
        {
         "name": "pearl",
         "rawType": "int64",
         "type": "integer"
        },
        {
         "name": "pearl harbor",
         "rawType": "int64",
         "type": "integer"
        },
        {
         "name": "pedophile",
         "rawType": "int64",
         "type": "integer"
        },
        {
         "name": "pelosi",
         "rawType": "int64",
         "type": "integer"
        },
        {
         "name": "pen",
         "rawType": "int64",
         "type": "integer"
        },
        {
         "name": "penalty",
         "rawType": "int64",
         "type": "integer"
        },
        {
         "name": "penn",
         "rawType": "int64",
         "type": "integer"
        },
        {
         "name": "pennsylvania",
         "rawType": "int64",
         "type": "integer"
        },
        {
         "name": "pennsylvania public",
         "rawType": "int64",
         "type": "integer"
        },
        {
         "name": "pennsylvania public utility",
         "rawType": "int64",
         "type": "integer"
        },
        {
         "name": "penny",
         "rawType": "int64",
         "type": "integer"
        },
        {
         "name": "pentagon",
         "rawType": "int64",
         "type": "integer"
        },
        {
         "name": "people",
         "rawType": "int64",
         "type": "integer"
        },
        {
         "name": "people breitbart",
         "rawType": "int64",
         "type": "integer"
        },
        {
         "name": "people new",
         "rawType": "int64",
         "type": "integer"
        },
        {
         "name": "people new york",
         "rawType": "int64",
         "type": "integer"
        },
        {
         "name": "pepsi",
         "rawType": "int64",
         "type": "integer"
        },
        {
         "name": "per",
         "rawType": "int64",
         "type": "integer"
        },
        {
         "name": "percent",
         "rawType": "int64",
         "type": "integer"
        },
        {
         "name": "perfect",
         "rawType": "int64",
         "type": "integer"
        },
        {
         "name": "performance",
         "rawType": "int64",
         "type": "integer"
        },
        {
         "name": "perhaps",
         "rawType": "int64",
         "type": "integer"
        },
        {
         "name": "peril",
         "rawType": "int64",
         "type": "integer"
        },
        {
         "name": "person",
         "rawType": "int64",
         "type": "integer"
        },
        {
         "name": "personal",
         "rawType": "int64",
         "type": "integer"
        },
        {
         "name": "perspective",
         "rawType": "int64",
         "type": "integer"
        },
        {
         "name": "pet",
         "rawType": "int64",
         "type": "integer"
        },
        {
         "name": "peter",
         "rawType": "int64",
         "type": "integer"
        },
        {
         "name": "petition",
         "rawType": "int64",
         "type": "integer"
        },
        {
         "name": "pharma",
         "rawType": "int64",
         "type": "integer"
        },
        {
         "name": "phase",
         "rawType": "int64",
         "type": "integer"
        },
        {
         "name": "phelps",
         "rawType": "int64",
         "type": "integer"
        },
        {
         "name": "phil",
         "rawType": "int64",
         "type": "integer"
        },
        {
         "name": "philadelphia",
         "rawType": "int64",
         "type": "integer"
        },
        {
         "name": "philippine",
         "rawType": "int64",
         "type": "integer"
        },
        {
         "name": "phone",
         "rawType": "int64",
         "type": "integer"
        },
        {
         "name": "phony",
         "rawType": "int64",
         "type": "integer"
        },
        {
         "name": "photo",
         "rawType": "int64",
         "type": "integer"
        },
        {
         "name": "physical",
         "rawType": "int64",
         "type": "integer"
        },
        {
         "name": "physicist",
         "rawType": "int64",
         "type": "integer"
        },
        {
         "name": "pick",
         "rawType": "int64",
         "type": "integer"
        },
        {
         "name": "picture",
         "rawType": "int64",
         "type": "integer"
        },
        {
         "name": "picture real",
         "rawType": "int64",
         "type": "integer"
        },
        {
         "name": "picture real extraterrestrial",
         "rawType": "int64",
         "type": "integer"
        },
        {
         "name": "piece",
         "rawType": "int64",
         "type": "integer"
        },
        {
         "name": "pig",
         "rawType": "int64",
         "type": "integer"
        },
        {
         "name": "pilger",
         "rawType": "int64",
         "type": "integer"
        },
        {
         "name": "pill",
         "rawType": "int64",
         "type": "integer"
        },
        {
         "name": "pilot",
         "rawType": "int64",
         "type": "integer"
        },
        {
         "name": "pink",
         "rawType": "int64",
         "type": "integer"
        },
        {
         "name": "pinkerton",
         "rawType": "int64",
         "type": "integer"
        },
        {
         "name": "pipeline",
         "rawType": "int64",
         "type": "integer"
        },
        {
         "name": "pipeline protest",
         "rawType": "int64",
         "type": "integer"
        },
        {
         "name": "pipeline protester",
         "rawType": "int64",
         "type": "integer"
        },
        {
         "name": "pirate",
         "rawType": "int64",
         "type": "integer"
        },
        {
         "name": "pitch",
         "rawType": "int64",
         "type": "integer"
        },
        {
         "name": "place",
         "rawType": "int64",
         "type": "integer"
        },
        {
         "name": "plan",
         "rawType": "int64",
         "type": "integer"
        },
        {
         "name": "plan new",
         "rawType": "int64",
         "type": "integer"
        },
        {
         "name": "plan new york",
         "rawType": "int64",
         "type": "integer"
        },
        {
         "name": "plane",
         "rawType": "int64",
         "type": "integer"
        },
        {
         "name": "planet",
         "rawType": "int64",
         "type": "integer"
        },
        {
         "name": "planned",
         "rawType": "int64",
         "type": "integer"
        },
        {
         "name": "planned parenthood",
         "rawType": "int64",
         "type": "integer"
        },
        {
         "name": "planning",
         "rawType": "int64",
         "type": "integer"
        },
        {
         "name": "plant",
         "rawType": "int64",
         "type": "integer"
        },
        {
         "name": "plastic",
         "rawType": "int64",
         "type": "integer"
        },
        {
         "name": "play",
         "rawType": "int64",
         "type": "integer"
        },
        {
         "name": "player",
         "rawType": "int64",
         "type": "integer"
        },
        {
         "name": "playing",
         "rawType": "int64",
         "type": "integer"
        },
        {
         "name": "playlist",
         "rawType": "int64",
         "type": "integer"
        },
        {
         "name": "playoff",
         "rawType": "int64",
         "type": "integer"
        },
        {
         "name": "pleads",
         "rawType": "int64",
         "type": "integer"
        },
        {
         "name": "pleads guilty",
         "rawType": "int64",
         "type": "integer"
        },
        {
         "name": "pledge",
         "rawType": "int64",
         "type": "integer"
        },
        {
         "name": "plot",
         "rawType": "int64",
         "type": "integer"
        },
        {
         "name": "plow",
         "rawType": "int64",
         "type": "integer"
        },
        {
         "name": "plummet",
         "rawType": "int64",
         "type": "integer"
        },
        {
         "name": "plus",
         "rawType": "int64",
         "type": "integer"
        },
        {
         "name": "pm",
         "rawType": "int64",
         "type": "integer"
        },
        {
         "name": "pm water",
         "rawType": "int64",
         "type": "integer"
        },
        {
         "name": "pm water cooler",
         "rawType": "int64",
         "type": "integer"
        },
        {
         "name": "podcast",
         "rawType": "int64",
         "type": "integer"
        },
        {
         "name": "podesta",
         "rawType": "int64",
         "type": "integer"
        },
        {
         "name": "podesta email",
         "rawType": "int64",
         "type": "integer"
        },
        {
         "name": "podestaemails",
         "rawType": "int64",
         "type": "integer"
        },
        {
         "name": "point",
         "rawType": "int64",
         "type": "integer"
        },
        {
         "name": "poised",
         "rawType": "int64",
         "type": "integer"
        },
        {
         "name": "poland",
         "rawType": "int64",
         "type": "integer"
        },
        {
         "name": "police",
         "rawType": "int64",
         "type": "integer"
        },
        {
         "name": "police arrest",
         "rawType": "int64",
         "type": "integer"
        },
        {
         "name": "police chief",
         "rawType": "int64",
         "type": "integer"
        },
        {
         "name": "police new",
         "rawType": "int64",
         "type": "integer"
        },
        {
         "name": "police officer",
         "rawType": "int64",
         "type": "integer"
        },
        {
         "name": "police officer new",
         "rawType": "int64",
         "type": "integer"
        },
        {
         "name": "police say",
         "rawType": "int64",
         "type": "integer"
        },
        {
         "name": "police say new",
         "rawType": "int64",
         "type": "integer"
        },
        {
         "name": "policy",
         "rawType": "int64",
         "type": "integer"
        },
        {
         "name": "policy breitbart",
         "rawType": "int64",
         "type": "integer"
        },
        {
         "name": "policy new",
         "rawType": "int64",
         "type": "integer"
        },
        {
         "name": "policy new york",
         "rawType": "int64",
         "type": "integer"
        },
        {
         "name": "political",
         "rawType": "int64",
         "type": "integer"
        },
        {
         "name": "political correctness",
         "rawType": "int64",
         "type": "integer"
        },
        {
         "name": "politician",
         "rawType": "int64",
         "type": "integer"
        },
        {
         "name": "politics",
         "rawType": "int64",
         "type": "integer"
        },
        {
         "name": "politics new",
         "rawType": "int64",
         "type": "integer"
        },
        {
         "name": "politics new york",
         "rawType": "int64",
         "type": "integer"
        },
        {
         "name": "poll",
         "rawType": "int64",
         "type": "integer"
        },
        {
         "name": "poll show",
         "rawType": "int64",
         "type": "integer"
        },
        {
         "name": "polling",
         "rawType": "int64",
         "type": "integer"
        },
        {
         "name": "polling station",
         "rawType": "int64",
         "type": "integer"
        },
        {
         "name": "pollution",
         "rawType": "int64",
         "type": "integer"
        },
        {
         "name": "pool",
         "rawType": "int64",
         "type": "integer"
        },
        {
         "name": "poor",
         "rawType": "int64",
         "type": "integer"
        },
        {
         "name": "pop",
         "rawType": "int64",
         "type": "integer"
        },
        {
         "name": "pope",
         "rawType": "int64",
         "type": "integer"
        },
        {
         "name": "pope francis",
         "rawType": "int64",
         "type": "integer"
        },
        {
         "name": "popular",
         "rawType": "int64",
         "type": "integer"
        },
        {
         "name": "popular vote",
         "rawType": "int64",
         "type": "integer"
        },
        {
         "name": "population",
         "rawType": "int64",
         "type": "integer"
        },
        {
         "name": "populism",
         "rawType": "int64",
         "type": "integer"
        },
        {
         "name": "populist",
         "rawType": "int64",
         "type": "integer"
        },
        {
         "name": "por",
         "rawType": "int64",
         "type": "integer"
        },
        {
         "name": "porn",
         "rawType": "int64",
         "type": "integer"
        },
        {
         "name": "port",
         "rawType": "int64",
         "type": "integer"
        },
        {
         "name": "portrait",
         "rawType": "int64",
         "type": "integer"
        },
        {
         "name": "pose",
         "rawType": "int64",
         "type": "integer"
        },
        {
         "name": "position",
         "rawType": "int64",
         "type": "integer"
        },
        {
         "name": "positive",
         "rawType": "int64",
         "type": "integer"
        },
        {
         "name": "possibility",
         "rawType": "int64",
         "type": "integer"
        },
        {
         "name": "possible",
         "rawType": "int64",
         "type": "integer"
        },
        {
         "name": "possibly",
         "rawType": "int64",
         "type": "integer"
        },
        {
         "name": "post",
         "rawType": "int64",
         "type": "integer"
        },
        {
         "name": "post election",
         "rawType": "int64",
         "type": "integer"
        },
        {
         "name": "post new",
         "rawType": "int64",
         "type": "integer"
        },
        {
         "name": "post new york",
         "rawType": "int64",
         "type": "integer"
        },
        {
         "name": "poster",
         "rawType": "int64",
         "type": "integer"
        },
        {
         "name": "posting",
         "rawType": "int64",
         "type": "integer"
        },
        {
         "name": "pot",
         "rawType": "int64",
         "type": "integer"
        },
        {
         "name": "potato",
         "rawType": "int64",
         "type": "integer"
        },
        {
         "name": "potential",
         "rawType": "int64",
         "type": "integer"
        },
        {
         "name": "potus",
         "rawType": "int64",
         "type": "integer"
        },
        {
         "name": "pound",
         "rawType": "int64",
         "type": "integer"
        },
        {
         "name": "powder",
         "rawType": "int64",
         "type": "integer"
        },
        {
         "name": "power",
         "rawType": "int64",
         "type": "integer"
        },
        {
         "name": "power new",
         "rawType": "int64",
         "type": "integer"
        },
        {
         "name": "power new york",
         "rawType": "int64",
         "type": "integer"
        },
        {
         "name": "powerful",
         "rawType": "int64",
         "type": "integer"
        },
        {
         "name": "powerful earthquake",
         "rawType": "int64",
         "type": "integer"
        },
        {
         "name": "practice",
         "rawType": "int64",
         "type": "integer"
        },
        {
         "name": "praise",
         "rawType": "int64",
         "type": "integer"
        },
        {
         "name": "pray",
         "rawType": "int64",
         "type": "integer"
        },
        {
         "name": "prayer",
         "rawType": "int64",
         "type": "integer"
        },
        {
         "name": "pre",
         "rawType": "int64",
         "type": "integer"
        },
        {
         "name": "predicted",
         "rawType": "int64",
         "type": "integer"
        },
        {
         "name": "prediction",
         "rawType": "int64",
         "type": "integer"
        },
        {
         "name": "predicts",
         "rawType": "int64",
         "type": "integer"
        },
        {
         "name": "pregnant",
         "rawType": "int64",
         "type": "integer"
        },
        {
         "name": "premier",
         "rawType": "int64",
         "type": "integer"
        },
        {
         "name": "premium",
         "rawType": "int64",
         "type": "integer"
        },
        {
         "name": "prep",
         "rawType": "int64",
         "type": "integer"
        },
        {
         "name": "prepare",
         "rawType": "int64",
         "type": "integer"
        },
        {
         "name": "prepares",
         "rawType": "int64",
         "type": "integer"
        },
        {
         "name": "preparing",
         "rawType": "int64",
         "type": "integer"
        },
        {
         "name": "prepping",
         "rawType": "int64",
         "type": "integer"
        },
        {
         "name": "prescription",
         "rawType": "int64",
         "type": "integer"
        },
        {
         "name": "presence",
         "rawType": "int64",
         "type": "integer"
        },
        {
         "name": "presidency",
         "rawType": "int64",
         "type": "integer"
        },
        {
         "name": "president",
         "rawType": "int64",
         "type": "integer"
        },
        {
         "name": "president breitbart",
         "rawType": "int64",
         "type": "integer"
        },
        {
         "name": "president donald",
         "rawType": "int64",
         "type": "integer"
        },
        {
         "name": "president donald trump",
         "rawType": "int64",
         "type": "integer"
        },
        {
         "name": "president elect",
         "rawType": "int64",
         "type": "integer"
        },
        {
         "name": "president elect trump",
         "rawType": "int64",
         "type": "integer"
        },
        {
         "name": "president new",
         "rawType": "int64",
         "type": "integer"
        },
        {
         "name": "president new york",
         "rawType": "int64",
         "type": "integer"
        },
        {
         "name": "president obama",
         "rawType": "int64",
         "type": "integer"
        },
        {
         "name": "president trump",
         "rawType": "int64",
         "type": "integer"
        },
        {
         "name": "presidential",
         "rawType": "int64",
         "type": "integer"
        },
        {
         "name": "presidential candidate",
         "rawType": "int64",
         "type": "integer"
        },
        {
         "name": "presidential debate",
         "rawType": "int64",
         "type": "integer"
        },
        {
         "name": "presidential election",
         "rawType": "int64",
         "type": "integer"
        },
        {
         "name": "presidential race",
         "rawType": "int64",
         "type": "integer"
        },
        {
         "name": "press",
         "rawType": "int64",
         "type": "integer"
        },
        {
         "name": "press breitbart",
         "rawType": "int64",
         "type": "integer"
        },
        {
         "name": "press conference",
         "rawType": "int64",
         "type": "integer"
        },
        {
         "name": "pressure",
         "rawType": "int64",
         "type": "integer"
        },
        {
         "name": "pretty",
         "rawType": "int64",
         "type": "integer"
        },
        {
         "name": "prevent",
         "rawType": "int64",
         "type": "integer"
        },
        {
         "name": "preview",
         "rawType": "int64",
         "type": "integer"
        },
        {
         "name": "previously",
         "rawType": "int64",
         "type": "integer"
        },
        {
         "name": "price",
         "rawType": "int64",
         "type": "integer"
        },
        {
         "name": "pride",
         "rawType": "int64",
         "type": "integer"
        },
        {
         "name": "priebus",
         "rawType": "int64",
         "type": "integer"
        },
        {
         "name": "primary",
         "rawType": "int64",
         "type": "integer"
        },
        {
         "name": "primary new",
         "rawType": "int64",
         "type": "integer"
        },
        {
         "name": "primary new york",
         "rawType": "int64",
         "type": "integer"
        },
        {
         "name": "prime",
         "rawType": "int64",
         "type": "integer"
        },
        {
         "name": "prime minister",
         "rawType": "int64",
         "type": "integer"
        },
        {
         "name": "prince",
         "rawType": "int64",
         "type": "integer"
        },
        {
         "name": "principal",
         "rawType": "int64",
         "type": "integer"
        },
        {
         "name": "priority",
         "rawType": "int64",
         "type": "integer"
        },
        {
         "name": "prison",
         "rawType": "int64",
         "type": "integer"
        },
        {
         "name": "prison new",
         "rawType": "int64",
         "type": "integer"
        },
        {
         "name": "prison new york",
         "rawType": "int64",
         "type": "integer"
        },
        {
         "name": "prisoner",
         "rawType": "int64",
         "type": "integer"
        },
        {
         "name": "privacy",
         "rawType": "int64",
         "type": "integer"
        },
        {
         "name": "private",
         "rawType": "int64",
         "type": "integer"
        },
        {
         "name": "private email",
         "rawType": "int64",
         "type": "integer"
        },
        {
         "name": "private equity",
         "rawType": "int64",
         "type": "integer"
        },
        {
         "name": "privilege",
         "rawType": "int64",
         "type": "integer"
        },
        {
         "name": "prize",
         "rawType": "int64",
         "type": "integer"
        },
        {
         "name": "pro",
         "rawType": "int64",
         "type": "integer"
        },
        {
         "name": "pro life",
         "rawType": "int64",
         "type": "integer"
        },
        {
         "name": "pro trump",
         "rawType": "int64",
         "type": "integer"
        },
        {
         "name": "probably",
         "rawType": "int64",
         "type": "integer"
        },
        {
         "name": "probe",
         "rawType": "int64",
         "type": "integer"
        },
        {
         "name": "problem",
         "rawType": "int64",
         "type": "integer"
        },
        {
         "name": "problem new",
         "rawType": "int64",
         "type": "integer"
        },
        {
         "name": "problem new york",
         "rawType": "int64",
         "type": "integer"
        },
        {
         "name": "process",
         "rawType": "int64",
         "type": "integer"
        },
        {
         "name": "producer",
         "rawType": "int64",
         "type": "integer"
        },
        {
         "name": "product",
         "rawType": "int64",
         "type": "integer"
        },
        {
         "name": "prof",
         "rawType": "int64",
         "type": "integer"
        },
        {
         "name": "professor",
         "rawType": "int64",
         "type": "integer"
        },
        {
         "name": "profile",
         "rawType": "int64",
         "type": "integer"
        },
        {
         "name": "profit",
         "rawType": "int64",
         "type": "integer"
        },
        {
         "name": "program",
         "rawType": "int64",
         "type": "integer"
        },
        {
         "name": "program unveiled",
         "rawType": "int64",
         "type": "integer"
        },
        {
         "name": "program unveiled project",
         "rawType": "int64",
         "type": "integer"
        },
        {
         "name": "progress",
         "rawType": "int64",
         "type": "integer"
        },
        {
         "name": "progressive",
         "rawType": "int64",
         "type": "integer"
        },
        {
         "name": "project",
         "rawType": "int64",
         "type": "integer"
        },
        {
         "name": "project veritas",
         "rawType": "int64",
         "type": "integer"
        },
        {
         "name": "promise",
         "rawType": "int64",
         "type": "integer"
        },
        {
         "name": "promised",
         "rawType": "int64",
         "type": "integer"
        },
        {
         "name": "promote",
         "rawType": "int64",
         "type": "integer"
        },
        {
         "name": "promotes",
         "rawType": "int64",
         "type": "integer"
        },
        {
         "name": "prompt",
         "rawType": "int64",
         "type": "integer"
        },
        {
         "name": "proof",
         "rawType": "int64",
         "type": "integer"
        },
        {
         "name": "propaganda",
         "rawType": "int64",
         "type": "integer"
        },
        {
         "name": "property",
         "rawType": "int64",
         "type": "integer"
        },
        {
         "name": "proposal",
         "rawType": "int64",
         "type": "integer"
        },
        {
         "name": "proposes",
         "rawType": "int64",
         "type": "integer"
        },
        {
         "name": "proposing",
         "rawType": "int64",
         "type": "integer"
        },
        {
         "name": "proposing rigging",
         "rawType": "int64",
         "type": "integer"
        },
        {
         "name": "prosecute",
         "rawType": "int64",
         "type": "integer"
        },
        {
         "name": "prosecuted",
         "rawType": "int64",
         "type": "integer"
        },
        {
         "name": "prosecution",
         "rawType": "int64",
         "type": "integer"
        },
        {
         "name": "prosecutor",
         "rawType": "int64",
         "type": "integer"
        },
        {
         "name": "prosecutor say",
         "rawType": "int64",
         "type": "integer"
        },
        {
         "name": "protect",
         "rawType": "int64",
         "type": "integer"
        },
        {
         "name": "protecting",
         "rawType": "int64",
         "type": "integer"
        },
        {
         "name": "protection",
         "rawType": "int64",
         "type": "integer"
        },
        {
         "name": "protector",
         "rawType": "int64",
         "type": "integer"
        },
        {
         "name": "protest",
         "rawType": "int64",
         "type": "integer"
        },
        {
         "name": "protest trump",
         "rawType": "int64",
         "type": "integer"
        },
        {
         "name": "protester",
         "rawType": "int64",
         "type": "integer"
        },
        {
         "name": "protester clash",
         "rawType": "int64",
         "type": "integer"
        },
        {
         "name": "prove",
         "rawType": "int64",
         "type": "integer"
        },
        {
         "name": "pruitt",
         "rawType": "int64",
         "type": "integer"
        },
        {
         "name": "ptsd",
         "rawType": "int64",
         "type": "integer"
        },
        {
         "name": "public",
         "rawType": "int64",
         "type": "integer"
        },
        {
         "name": "public school",
         "rawType": "int64",
         "type": "integer"
        },
        {
         "name": "public utility",
         "rawType": "int64",
         "type": "integer"
        },
        {
         "name": "public utility commission",
         "rawType": "int64",
         "type": "integer"
        },
        {
         "name": "publisher",
         "rawType": "int64",
         "type": "integer"
        },
        {
         "name": "pull",
         "rawType": "int64",
         "type": "integer"
        },
        {
         "name": "pulse",
         "rawType": "int64",
         "type": "integer"
        },
        {
         "name": "punch",
         "rawType": "int64",
         "type": "integer"
        },
        {
         "name": "punish",
         "rawType": "int64",
         "type": "integer"
        },
        {
         "name": "puppet",
         "rawType": "int64",
         "type": "integer"
        },
        {
         "name": "purchase",
         "rawType": "int64",
         "type": "integer"
        },
        {
         "name": "purpose",
         "rawType": "int64",
         "type": "integer"
        },
        {
         "name": "push",
         "rawType": "int64",
         "type": "integer"
        },
        {
         "name": "pushed",
         "rawType": "int64",
         "type": "integer"
        },
        {
         "name": "pushing",
         "rawType": "int64",
         "type": "integer"
        },
        {
         "name": "pussy",
         "rawType": "int64",
         "type": "integer"
        },
        {
         "name": "put",
         "rawType": "int64",
         "type": "integer"
        },
        {
         "name": "putin",
         "rawType": "int64",
         "type": "integer"
        },
        {
         "name": "putting",
         "rawType": "int64",
         "type": "integer"
        },
        {
         "name": "qaeda",
         "rawType": "int64",
         "type": "integer"
        },
        {
         "name": "qu",
         "rawType": "int64",
         "type": "integer"
        },
        {
         "name": "quake",
         "rawType": "int64",
         "type": "integer"
        },
        {
         "name": "quarter",
         "rawType": "int64",
         "type": "integer"
        },
        {
         "name": "quarterback",
         "rawType": "int64",
         "type": "integer"
        },
        {
         "name": "que",
         "rawType": "int64",
         "type": "integer"
        },
        {
         "name": "quebec",
         "rawType": "int64",
         "type": "integer"
        },
        {
         "name": "queen",
         "rawType": "int64",
         "type": "integer"
        },
        {
         "name": "queen elizabeth",
         "rawType": "int64",
         "type": "integer"
        },
        {
         "name": "question",
         "rawType": "int64",
         "type": "integer"
        },
        {
         "name": "question new",
         "rawType": "int64",
         "type": "integer"
        },
        {
         "name": "question new york",
         "rawType": "int64",
         "type": "integer"
        },
        {
         "name": "question trump",
         "rawType": "int64",
         "type": "integer"
        },
        {
         "name": "quick",
         "rawType": "int64",
         "type": "integer"
        },
        {
         "name": "quickly",
         "rawType": "int64",
         "type": "integer"
        },
        {
         "name": "quiet",
         "rawType": "int64",
         "type": "integer"
        },
        {
         "name": "quietly",
         "rawType": "int64",
         "type": "integer"
        },
        {
         "name": "quit",
         "rawType": "int64",
         "type": "integer"
        },
        {
         "name": "quits",
         "rawType": "int64",
         "type": "integer"
        },
        {
         "name": "rabbi",
         "rawType": "int64",
         "type": "integer"
        },
        {
         "name": "race",
         "rawType": "int64",
         "type": "integer"
        },
        {
         "name": "race new",
         "rawType": "int64",
         "type": "integer"
        },
        {
         "name": "race new york",
         "rawType": "int64",
         "type": "integer"
        },
        {
         "name": "rachel",
         "rawType": "int64",
         "type": "integer"
        },
        {
         "name": "rachel maddow",
         "rawType": "int64",
         "type": "integer"
        },
        {
         "name": "racial",
         "rawType": "int64",
         "type": "integer"
        },
        {
         "name": "racism",
         "rawType": "int64",
         "type": "integer"
        },
        {
         "name": "racist",
         "rawType": "int64",
         "type": "integer"
        },
        {
         "name": "radical",
         "rawType": "int64",
         "type": "integer"
        },
        {
         "name": "radio",
         "rawType": "int64",
         "type": "integer"
        },
        {
         "name": "radio derb",
         "rawType": "int64",
         "type": "integer"
        },
        {
         "name": "radio host",
         "rawType": "int64",
         "type": "integer"
        },
        {
         "name": "rage",
         "rawType": "int64",
         "type": "integer"
        },
        {
         "name": "raid",
         "rawType": "int64",
         "type": "integer"
        },
        {
         "name": "rail",
         "rawType": "int64",
         "type": "integer"
        },
        {
         "name": "rain",
         "rawType": "int64",
         "type": "integer"
        },
        {
         "name": "raise",
         "rawType": "int64",
         "type": "integer"
        },
        {
         "name": "raised",
         "rawType": "int64",
         "type": "integer"
        },
        {
         "name": "raising",
         "rawType": "int64",
         "type": "integer"
        },
        {
         "name": "rake",
         "rawType": "int64",
         "type": "integer"
        },
        {
         "name": "rally",
         "rawType": "int64",
         "type": "integer"
        },
        {
         "name": "rally new",
         "rawType": "int64",
         "type": "integer"
        },
        {
         "name": "rally new york",
         "rawType": "int64",
         "type": "integer"
        },
        {
         "name": "ramp",
         "rawType": "int64",
         "type": "integer"
        },
        {
         "name": "rampage",
         "rawType": "int64",
         "type": "integer"
        },
        {
         "name": "ran",
         "rawType": "int64",
         "type": "integer"
        },
        {
         "name": "rand",
         "rawType": "int64",
         "type": "integer"
        },
        {
         "name": "rand paul",
         "rawType": "int64",
         "type": "integer"
        },
        {
         "name": "rant",
         "rawType": "int64",
         "type": "integer"
        },
        {
         "name": "rap",
         "rawType": "int64",
         "type": "integer"
        },
        {
         "name": "rape",
         "rawType": "int64",
         "type": "integer"
        },
        {
         "name": "raped",
         "rawType": "int64",
         "type": "integer"
        },
        {
         "name": "raping",
         "rawType": "int64",
         "type": "integer"
        },
        {
         "name": "rapist",
         "rawType": "int64",
         "type": "integer"
        },
        {
         "name": "rapper",
         "rawType": "int64",
         "type": "integer"
        },
        {
         "name": "raqqa",
         "rawType": "int64",
         "type": "integer"
        },
        {
         "name": "rare",
         "rawType": "int64",
         "type": "integer"
        },
        {
         "name": "rat",
         "rawType": "int64",
         "type": "integer"
        },
        {
         "name": "rate",
         "rawType": "int64",
         "type": "integer"
        },
        {
         "name": "rather",
         "rawType": "int64",
         "type": "integer"
        },
        {
         "name": "rating",
         "rawType": "int64",
         "type": "integer"
        },
        {
         "name": "rattle",
         "rawType": "int64",
         "type": "integer"
        },
        {
         "name": "raw",
         "rawType": "int64",
         "type": "integer"
        },
        {
         "name": "rd",
         "rawType": "int64",
         "type": "integer"
        },
        {
         "name": "reach",
         "rawType": "int64",
         "type": "integer"
        },
        {
         "name": "reach new",
         "rawType": "int64",
         "type": "integer"
        },
        {
         "name": "react",
         "rawType": "int64",
         "type": "integer"
        },
        {
         "name": "reaction",
         "rawType": "int64",
         "type": "integer"
        },
        {
         "name": "read",
         "rawType": "int64",
         "type": "integer"
        },
        {
         "name": "reader",
         "rawType": "int64",
         "type": "integer"
        },
        {
         "name": "reading",
         "rawType": "int64",
         "type": "integer"
        },
        {
         "name": "ready",
         "rawType": "int64",
         "type": "integer"
        },
        {
         "name": "ready civil",
         "rawType": "int64",
         "type": "integer"
        },
        {
         "name": "ready civil unrest",
         "rawType": "int64",
         "type": "integer"
        },
        {
         "name": "ready go",
         "rawType": "int64",
         "type": "integer"
        },
        {
         "name": "reagan",
         "rawType": "int64",
         "type": "integer"
        },
        {
         "name": "real",
         "rawType": "int64",
         "type": "integer"
        },
        {
         "name": "real extraterrestrial",
         "rawType": "int64",
         "type": "integer"
        },
        {
         "name": "real reason",
         "rawType": "int64",
         "type": "integer"
        },
        {
         "name": "reality",
         "rawType": "int64",
         "type": "integer"
        },
        {
         "name": "really",
         "rawType": "int64",
         "type": "integer"
        },
        {
         "name": "reason",
         "rawType": "int64",
         "type": "integer"
        },
        {
         "name": "rebel",
         "rawType": "int64",
         "type": "integer"
        },
        {
         "name": "recall",
         "rawType": "int64",
         "type": "integer"
        },
        {
         "name": "receive",
         "rawType": "int64",
         "type": "integer"
        },
        {
         "name": "received",
         "rawType": "int64",
         "type": "integer"
        },
        {
         "name": "receiving",
         "rawType": "int64",
         "type": "integer"
        },
        {
         "name": "recipe",
         "rawType": "int64",
         "type": "integer"
        },
        {
         "name": "record",
         "rawType": "int64",
         "type": "integer"
        },
        {
         "name": "recorded",
         "rawType": "int64",
         "type": "integer"
        },
        {
         "name": "recount",
         "rawType": "int64",
         "type": "integer"
        },
        {
         "name": "recover",
         "rawType": "int64",
         "type": "integer"
        },
        {
         "name": "recovery",
         "rawType": "int64",
         "type": "integer"
        },
        {
         "name": "red",
         "rawType": "int64",
         "type": "integer"
        },
        {
         "name": "reduce",
         "rawType": "int64",
         "type": "integer"
        },
        {
         "name": "referendum",
         "rawType": "int64",
         "type": "integer"
        },
        {
         "name": "reform",
         "rawType": "int64",
         "type": "integer"
        },
        {
         "name": "refuge",
         "rawType": "int64",
         "type": "integer"
        },
        {
         "name": "refugee",
         "rawType": "int64",
         "type": "integer"
        },
        {
         "name": "refuse",
         "rawType": "int64",
         "type": "integer"
        },
        {
         "name": "refusing",
         "rawType": "int64",
         "type": "integer"
        },
        {
         "name": "regime",
         "rawType": "int64",
         "type": "integer"
        },
        {
         "name": "regime change",
         "rawType": "int64",
         "type": "integer"
        },
        {
         "name": "region",
         "rawType": "int64",
         "type": "integer"
        },
        {
         "name": "regret",
         "rawType": "int64",
         "type": "integer"
        },
        {
         "name": "regulation",
         "rawType": "int64",
         "type": "integer"
        },
        {
         "name": "regulator",
         "rawType": "int64",
         "type": "integer"
        },
        {
         "name": "reid",
         "rawType": "int64",
         "type": "integer"
        },
        {
         "name": "reign",
         "rawType": "int64",
         "type": "integer"
        },
        {
         "name": "reilly",
         "rawType": "int64",
         "type": "integer"
        },
        {
         "name": "rein",
         "rawType": "int64",
         "type": "integer"
        },
        {
         "name": "reince",
         "rawType": "int64",
         "type": "integer"
        },
        {
         "name": "reince priebus",
         "rawType": "int64",
         "type": "integer"
        },
        {
         "name": "reject",
         "rawType": "int64",
         "type": "integer"
        },
        {
         "name": "rejected",
         "rawType": "int64",
         "type": "integer"
        },
        {
         "name": "related",
         "rawType": "int64",
         "type": "integer"
        },
        {
         "name": "relation",
         "rawType": "int64",
         "type": "integer"
        },
        {
         "name": "relationship",
         "rawType": "int64",
         "type": "integer"
        },
        {
         "name": "relative",
         "rawType": "int64",
         "type": "integer"
        },
        {
         "name": "release",
         "rawType": "int64",
         "type": "integer"
        },
        {
         "name": "released",
         "rawType": "int64",
         "type": "integer"
        },
        {
         "name": "relief",
         "rawType": "int64",
         "type": "integer"
        },
        {
         "name": "religion",
         "rawType": "int64",
         "type": "integer"
        },
        {
         "name": "religious",
         "rawType": "int64",
         "type": "integer"
        },
        {
         "name": "remain",
         "rawType": "int64",
         "type": "integer"
        },
        {
         "name": "remains",
         "rawType": "int64",
         "type": "integer"
        },
        {
         "name": "remark",
         "rawType": "int64",
         "type": "integer"
        },
        {
         "name": "remedy",
         "rawType": "int64",
         "type": "integer"
        },
        {
         "name": "remember",
         "rawType": "int64",
         "type": "integer"
        },
        {
         "name": "remove",
         "rawType": "int64",
         "type": "integer"
        },
        {
         "name": "removed",
         "rawType": "int64",
         "type": "integer"
        },
        {
         "name": "reno",
         "rawType": "int64",
         "type": "integer"
        },
        {
         "name": "reopened",
         "rawType": "int64",
         "type": "integer"
        },
        {
         "name": "reopening",
         "rawType": "int64",
         "type": "integer"
        },
        {
         "name": "reopens",
         "rawType": "int64",
         "type": "integer"
        },
        {
         "name": "reopens hillary",
         "rawType": "int64",
         "type": "integer"
        },
        {
         "name": "reopens hillary email",
         "rawType": "int64",
         "type": "integer"
        },
        {
         "name": "rep",
         "rawType": "int64",
         "type": "integer"
        },
        {
         "name": "repair",
         "rawType": "int64",
         "type": "integer"
        },
        {
         "name": "repeal",
         "rawType": "int64",
         "type": "integer"
        },
        {
         "name": "repeal breitbart",
         "rawType": "int64",
         "type": "integer"
        },
        {
         "name": "replace",
         "rawType": "int64",
         "type": "integer"
        },
        {
         "name": "replaced",
         "rawType": "int64",
         "type": "integer"
        },
        {
         "name": "replacement",
         "rawType": "int64",
         "type": "integer"
        },
        {
         "name": "replacement bill",
         "rawType": "int64",
         "type": "integer"
        },
        {
         "name": "replacement nominee",
         "rawType": "int64",
         "type": "integer"
        },
        {
         "name": "replacement nominee fbi",
         "rawType": "int64",
         "type": "integer"
        },
        {
         "name": "replacing",
         "rawType": "int64",
         "type": "integer"
        },
        {
         "name": "report",
         "rawType": "int64",
         "type": "integer"
        },
        {
         "name": "report fbi",
         "rawType": "int64",
         "type": "integer"
        },
        {
         "name": "report find",
         "rawType": "int64",
         "type": "integer"
        },
        {
         "name": "report new",
         "rawType": "int64",
         "type": "integer"
        },
        {
         "name": "report november",
         "rawType": "int64",
         "type": "integer"
        },
        {
         "name": "report obama",
         "rawType": "int64",
         "type": "integer"
        },
        {
         "name": "report say",
         "rawType": "int64",
         "type": "integer"
        },
        {
         "name": "report say new",
         "rawType": "int64",
         "type": "integer"
        },
        {
         "name": "report trump",
         "rawType": "int64",
         "type": "integer"
        },
        {
         "name": "reported",
         "rawType": "int64",
         "type": "integer"
        },
        {
         "name": "reporter",
         "rawType": "int64",
         "type": "integer"
        },
        {
         "name": "reporting",
         "rawType": "int64",
         "type": "integer"
        },
        {
         "name": "representative",
         "rawType": "int64",
         "type": "integer"
        },
        {
         "name": "republic",
         "rawType": "int64",
         "type": "integer"
        },
        {
         "name": "republican",
         "rawType": "int64",
         "type": "integer"
        },
        {
         "name": "republican new",
         "rawType": "int64",
         "type": "integer"
        },
        {
         "name": "republican new york",
         "rawType": "int64",
         "type": "integer"
        },
        {
         "name": "republican party",
         "rawType": "int64",
         "type": "integer"
        },
        {
         "name": "request",
         "rawType": "int64",
         "type": "integer"
        },
        {
         "name": "rescue",
         "rawType": "int64",
         "type": "integer"
        },
        {
         "name": "research",
         "rawType": "int64",
         "type": "integer"
        },
        {
         "name": "researcher",
         "rawType": "int64",
         "type": "integer"
        },
        {
         "name": "reserve",
         "rawType": "int64",
         "type": "integer"
        },
        {
         "name": "resident",
         "rawType": "int64",
         "type": "integer"
        },
        {
         "name": "resign",
         "rawType": "int64",
         "type": "integer"
        },
        {
         "name": "resignation",
         "rawType": "int64",
         "type": "integer"
        },
        {
         "name": "resigns",
         "rawType": "int64",
         "type": "integer"
        },
        {
         "name": "resist",
         "rawType": "int64",
         "type": "integer"
        },
        {
         "name": "resistance",
         "rawType": "int64",
         "type": "integer"
        },
        {
         "name": "resolution",
         "rawType": "int64",
         "type": "integer"
        },
        {
         "name": "respect",
         "rawType": "int64",
         "type": "integer"
        },
        {
         "name": "responds",
         "rawType": "int64",
         "type": "integer"
        },
        {
         "name": "response",
         "rawType": "int64",
         "type": "integer"
        },
        {
         "name": "response trump",
         "rawType": "int64",
         "type": "integer"
        },
        {
         "name": "responsibility",
         "rawType": "int64",
         "type": "integer"
        },
        {
         "name": "restaurant",
         "rawType": "int64",
         "type": "integer"
        },
        {
         "name": "restore",
         "rawType": "int64",
         "type": "integer"
        },
        {
         "name": "restriction",
         "rawType": "int64",
         "type": "integer"
        },
        {
         "name": "result",
         "rawType": "int64",
         "type": "integer"
        },
        {
         "name": "result breitbart",
         "rawType": "int64",
         "type": "integer"
        },
        {
         "name": "resume",
         "rawType": "int64",
         "type": "integer"
        },
        {
         "name": "retail",
         "rawType": "int64",
         "type": "integer"
        },
        {
         "name": "retake",
         "rawType": "int64",
         "type": "integer"
        },
        {
         "name": "retire",
         "rawType": "int64",
         "type": "integer"
        },
        {
         "name": "retirement",
         "rawType": "int64",
         "type": "integer"
        },
        {
         "name": "retreat",
         "rawType": "int64",
         "type": "integer"
        },
        {
         "name": "return",
         "rawType": "int64",
         "type": "integer"
        },
        {
         "name": "reveal",
         "rawType": "int64",
         "type": "integer"
        },
        {
         "name": "revealed",
         "rawType": "int64",
         "type": "integer"
        },
        {
         "name": "reveals",
         "rawType": "int64",
         "type": "integer"
        },
        {
         "name": "revelation",
         "rawType": "int64",
         "type": "integer"
        },
        {
         "name": "revenge",
         "rawType": "int64",
         "type": "integer"
        },
        {
         "name": "reversal",
         "rawType": "int64",
         "type": "integer"
        },
        {
         "name": "review",
         "rawType": "int64",
         "type": "integer"
        },
        {
         "name": "revolt",
         "rawType": "int64",
         "type": "integer"
        },
        {
         "name": "revolution",
         "rawType": "int64",
         "type": "integer"
        },
        {
         "name": "reward",
         "rawType": "int64",
         "type": "integer"
        },
        {
         "name": "rex",
         "rawType": "int64",
         "type": "integer"
        },
        {
         "name": "rex tillerson",
         "rawType": "int64",
         "type": "integer"
        },
        {
         "name": "reynolds",
         "rawType": "int64",
         "type": "integer"
        },
        {
         "name": "rhetoric",
         "rawType": "int64",
         "type": "integer"
        },
        {
         "name": "rice",
         "rawType": "int64",
         "type": "integer"
        },
        {
         "name": "rich",
         "rawType": "int64",
         "type": "integer"
        },
        {
         "name": "richard",
         "rawType": "int64",
         "type": "integer"
        },
        {
         "name": "rick",
         "rawType": "int64",
         "type": "integer"
        },
        {
         "name": "rid",
         "rawType": "int64",
         "type": "integer"
        },
        {
         "name": "ride",
         "rawType": "int64",
         "type": "integer"
        },
        {
         "name": "rider",
         "rawType": "int64",
         "type": "integer"
        },
        {
         "name": "ridiculous",
         "rawType": "int64",
         "type": "integer"
        },
        {
         "name": "rift",
         "rawType": "int64",
         "type": "integer"
        },
        {
         "name": "rig",
         "rawType": "int64",
         "type": "integer"
        },
        {
         "name": "rig election",
         "rawType": "int64",
         "type": "integer"
        },
        {
         "name": "rigged",
         "rawType": "int64",
         "type": "integer"
        },
        {
         "name": "rigged election",
         "rawType": "int64",
         "type": "integer"
        },
        {
         "name": "rigging",
         "rawType": "int64",
         "type": "integer"
        },
        {
         "name": "rigging election",
         "rawType": "int64",
         "type": "integer"
        },
        {
         "name": "right",
         "rawType": "int64",
         "type": "integer"
        },
        {
         "name": "right breitbart",
         "rawType": "int64",
         "type": "integer"
        },
        {
         "name": "right council",
         "rawType": "int64",
         "type": "integer"
        },
        {
         "name": "right new",
         "rawType": "int64",
         "type": "integer"
        },
        {
         "name": "right new york",
         "rawType": "int64",
         "type": "integer"
        },
        {
         "name": "right wing",
         "rawType": "int64",
         "type": "integer"
        },
        {
         "name": "ring",
         "rawType": "int64",
         "type": "integer"
        },
        {
         "name": "rio",
         "rawType": "int64",
         "type": "integer"
        },
        {
         "name": "rio olympics",
         "rawType": "int64",
         "type": "integer"
        },
        {
         "name": "riot",
         "rawType": "int64",
         "type": "integer"
        },
        {
         "name": "rip",
         "rawType": "int64",
         "type": "integer"
        },
        {
         "name": "rise",
         "rawType": "int64",
         "type": "integer"
        },
        {
         "name": "rising",
         "rawType": "int64",
         "type": "integer"
        },
        {
         "name": "risk",
         "rawType": "int64",
         "type": "integer"
        },
        {
         "name": "ritual",
         "rawType": "int64",
         "type": "integer"
        },
        {
         "name": "rival",
         "rawType": "int64",
         "type": "integer"
        },
        {
         "name": "river",
         "rawType": "int64",
         "type": "integer"
        },
        {
         "name": "road",
         "rawType": "int64",
         "type": "integer"
        },
        {
         "name": "robbery",
         "rawType": "int64",
         "type": "integer"
        },
        {
         "name": "robert",
         "rawType": "int64",
         "type": "integer"
        },
        {
         "name": "robert de",
         "rawType": "int64",
         "type": "integer"
        },
        {
         "name": "robert de niro",
         "rawType": "int64",
         "type": "integer"
        },
        {
         "name": "robot",
         "rawType": "int64",
         "type": "integer"
        },
        {
         "name": "rock",
         "rawType": "int64",
         "type": "integer"
        },
        {
         "name": "rock protest",
         "rawType": "int64",
         "type": "integer"
        },
        {
         "name": "rocket",
         "rawType": "int64",
         "type": "integer"
        },
        {
         "name": "rodr",
         "rawType": "int64",
         "type": "integer"
        },
        {
         "name": "rodr guez",
         "rawType": "int64",
         "type": "integer"
        },
        {
         "name": "rodrigo",
         "rawType": "int64",
         "type": "integer"
        },
        {
         "name": "rodrigo duterte",
         "rawType": "int64",
         "type": "integer"
        },
        {
         "name": "roger",
         "rawType": "int64",
         "type": "integer"
        },
        {
         "name": "roger ailes",
         "rawType": "int64",
         "type": "integer"
        },
        {
         "name": "roger stone",
         "rawType": "int64",
         "type": "integer"
        },
        {
         "name": "rogue",
         "rawType": "int64",
         "type": "integer"
        },
        {
         "name": "role",
         "rawType": "int64",
         "type": "integer"
        },
        {
         "name": "roll",
         "rawType": "int64",
         "type": "integer"
        },
        {
         "name": "rolling",
         "rawType": "int64",
         "type": "integer"
        },
        {
         "name": "roman",
         "rawType": "int64",
         "type": "integer"
        },
        {
         "name": "rome",
         "rawType": "int64",
         "type": "integer"
        },
        {
         "name": "romney",
         "rawType": "int64",
         "type": "integer"
        },
        {
         "name": "ron",
         "rawType": "int64",
         "type": "integer"
        },
        {
         "name": "ron paul",
         "rawType": "int64",
         "type": "integer"
        },
        {
         "name": "roof",
         "rawType": "int64",
         "type": "integer"
        },
        {
         "name": "room",
         "rawType": "int64",
         "type": "integer"
        },
        {
         "name": "root",
         "rawType": "int64",
         "type": "integer"
        },
        {
         "name": "rose",
         "rawType": "int64",
         "type": "integer"
        },
        {
         "name": "ross",
         "rawType": "int64",
         "type": "integer"
        },
        {
         "name": "rothschild",
         "rawType": "int64",
         "type": "integer"
        },
        {
         "name": "rouge",
         "rawType": "int64",
         "type": "integer"
        },
        {
         "name": "rough",
         "rawType": "int64",
         "type": "integer"
        },
        {
         "name": "round",
         "rawType": "int64",
         "type": "integer"
        },
        {
         "name": "rousseff",
         "rawType": "int64",
         "type": "integer"
        },
        {
         "name": "row",
         "rawType": "int64",
         "type": "integer"
        },
        {
         "name": "rt",
         "rawType": "int64",
         "type": "integer"
        },
        {
         "name": "rubio",
         "rawType": "int64",
         "type": "integer"
        },
        {
         "name": "ruin",
         "rawType": "int64",
         "type": "integer"
        },
        {
         "name": "ruined",
         "rawType": "int64",
         "type": "integer"
        },
        {
         "name": "rule",
         "rawType": "int64",
         "type": "integer"
        },
        {
         "name": "rule new",
         "rawType": "int64",
         "type": "integer"
        },
        {
         "name": "rule new york",
         "rawType": "int64",
         "type": "integer"
        },
        {
         "name": "ruling",
         "rawType": "int64",
         "type": "integer"
        },
        {
         "name": "run",
         "rawType": "int64",
         "type": "integer"
        },
        {
         "name": "run new",
         "rawType": "int64",
         "type": "integer"
        },
        {
         "name": "running",
         "rawType": "int64",
         "type": "integer"
        },
        {
         "name": "runway",
         "rawType": "int64",
         "type": "integer"
        },
        {
         "name": "rural",
         "rawType": "int64",
         "type": "integer"
        },
        {
         "name": "rush",
         "rawType": "int64",
         "type": "integer"
        },
        {
         "name": "rushed",
         "rawType": "int64",
         "type": "integer"
        },
        {
         "name": "russia",
         "rawType": "int64",
         "type": "integer"
        },
        {
         "name": "russia new",
         "rawType": "int64",
         "type": "integer"
        },
        {
         "name": "russia new york",
         "rawType": "int64",
         "type": "integer"
        },
        {
         "name": "russia probe",
         "rawType": "int64",
         "type": "integer"
        },
        {
         "name": "russian",
         "rawType": "int64",
         "type": "integer"
        },
        {
         "name": "russian envoy",
         "rawType": "int64",
         "type": "integer"
        },
        {
         "name": "russian hacking",
         "rawType": "int64",
         "type": "integer"
        },
        {
         "name": "russophobia",
         "rawType": "int64",
         "type": "integer"
        },
        {
         "name": "ryan",
         "rawType": "int64",
         "type": "integer"
        },
        {
         "name": "ryan lochte",
         "rawType": "int64",
         "type": "integer"
        },
        {
         "name": "ryan obamacare",
         "rawType": "int64",
         "type": "integer"
        },
        {
         "name": "ryancare",
         "rawType": "int64",
         "type": "integer"
        },
        {
         "name": "sabotage",
         "rawType": "int64",
         "type": "integer"
        },
        {
         "name": "sachs",
         "rawType": "int64",
         "type": "integer"
        },
        {
         "name": "safe",
         "rawType": "int64",
         "type": "integer"
        },
        {
         "name": "safety",
         "rawType": "int64",
         "type": "integer"
        },
        {
         "name": "said",
         "rawType": "int64",
         "type": "integer"
        },
        {
         "name": "saint",
         "rawType": "int64",
         "type": "integer"
        },
        {
         "name": "saker",
         "rawType": "int64",
         "type": "integer"
        },
        {
         "name": "salad",
         "rawType": "int64",
         "type": "integer"
        },
        {
         "name": "sale",
         "rawType": "int64",
         "type": "integer"
        },
        {
         "name": "sally",
         "rawType": "int64",
         "type": "integer"
        },
        {
         "name": "salute",
         "rawType": "int64",
         "type": "integer"
        },
        {
         "name": "samantha",
         "rawType": "int64",
         "type": "integer"
        },
        {
         "name": "samantha bee",
         "rawType": "int64",
         "type": "integer"
        },
        {
         "name": "samsung",
         "rawType": "int64",
         "type": "integer"
        },
        {
         "name": "san",
         "rawType": "int64",
         "type": "integer"
        },
        {
         "name": "san diego",
         "rawType": "int64",
         "type": "integer"
        },
        {
         "name": "san francisco",
         "rawType": "int64",
         "type": "integer"
        },
        {
         "name": "sanction",
         "rawType": "int64",
         "type": "integer"
        },
        {
         "name": "sanctuary",
         "rawType": "int64",
         "type": "integer"
        },
        {
         "name": "sanctuary campus",
         "rawType": "int64",
         "type": "integer"
        },
        {
         "name": "sanctuary city",
         "rawType": "int64",
         "type": "integer"
        },
        {
         "name": "sand",
         "rawType": "int64",
         "type": "integer"
        },
        {
         "name": "sander",
         "rawType": "int64",
         "type": "integer"
        },
        {
         "name": "santa",
         "rawType": "int64",
         "type": "integer"
        },
        {
         "name": "sarah",
         "rawType": "int64",
         "type": "integer"
        },
        {
         "name": "sarah palin",
         "rawType": "int64",
         "type": "integer"
        },
        {
         "name": "sarsour",
         "rawType": "int64",
         "type": "integer"
        },
        {
         "name": "satanic",
         "rawType": "int64",
         "type": "integer"
        },
        {
         "name": "saturday",
         "rawType": "int64",
         "type": "integer"
        },
        {
         "name": "saturday night",
         "rawType": "int64",
         "type": "integer"
        },
        {
         "name": "saturday night live",
         "rawType": "int64",
         "type": "integer"
        },
        {
         "name": "saudi",
         "rawType": "int64",
         "type": "integer"
        },
        {
         "name": "saudi arabia",
         "rawType": "int64",
         "type": "integer"
        },
        {
         "name": "saudi arabian",
         "rawType": "int64",
         "type": "integer"
        },
        {
         "name": "saudi arabian payroll",
         "rawType": "int64",
         "type": "integer"
        },
        {
         "name": "savage",
         "rawType": "int64",
         "type": "integer"
        },
        {
         "name": "save",
         "rawType": "int64",
         "type": "integer"
        },
        {
         "name": "saved",
         "rawType": "int64",
         "type": "integer"
        },
        {
         "name": "saving",
         "rawType": "int64",
         "type": "integer"
        },
        {
         "name": "saw",
         "rawType": "int64",
         "type": "integer"
        },
        {
         "name": "say",
         "rawType": "int64",
         "type": "integer"
        },
        {
         "name": "say hillary",
         "rawType": "int64",
         "type": "integer"
        },
        {
         "name": "say new",
         "rawType": "int64",
         "type": "integer"
        },
        {
         "name": "say new york",
         "rawType": "int64",
         "type": "integer"
        },
        {
         "name": "say russian",
         "rawType": "int64",
         "type": "integer"
        },
        {
         "name": "say trump",
         "rawType": "int64",
         "type": "integer"
        },
        {
         "name": "saying",
         "rawType": "int64",
         "type": "integer"
        },
        {
         "name": "scale",
         "rawType": "int64",
         "type": "integer"
        },
        {
         "name": "scalia",
         "rawType": "int64",
         "type": "integer"
        },
        {
         "name": "scam",
         "rawType": "int64",
         "type": "integer"
        },
        {
         "name": "scandal",
         "rawType": "int64",
         "type": "integer"
        },
        {
         "name": "scandal breitbart",
         "rawType": "int64",
         "type": "integer"
        },
        {
         "name": "scandal new",
         "rawType": "int64",
         "type": "integer"
        },
        {
         "name": "scandal new york",
         "rawType": "int64",
         "type": "integer"
        },
        {
         "name": "scandalous",
         "rawType": "int64",
         "type": "integer"
        },
        {
         "name": "scapegoat",
         "rawType": "int64",
         "type": "integer"
        },
        {
         "name": "scarborough",
         "rawType": "int64",
         "type": "integer"
        },
        {
         "name": "scare",
         "rawType": "int64",
         "type": "integer"
        },
        {
         "name": "scared",
         "rawType": "int64",
         "type": "integer"
        },
        {
         "name": "scary",
         "rawType": "int64",
         "type": "integer"
        },
        {
         "name": "scenario",
         "rawType": "int64",
         "type": "integer"
        },
        {
         "name": "scene",
         "rawType": "int64",
         "type": "integer"
        },
        {
         "name": "scheme",
         "rawType": "int64",
         "type": "integer"
        },
        {
         "name": "school",
         "rawType": "int64",
         "type": "integer"
        },
        {
         "name": "school new",
         "rawType": "int64",
         "type": "integer"
        },
        {
         "name": "school new york",
         "rawType": "int64",
         "type": "integer"
        },
        {
         "name": "schumer",
         "rawType": "int64",
         "type": "integer"
        },
        {
         "name": "schwarzenegger",
         "rawType": "int64",
         "type": "integer"
        },
        {
         "name": "science",
         "rawType": "int64",
         "type": "integer"
        },
        {
         "name": "scientist",
         "rawType": "int64",
         "type": "integer"
        },
        {
         "name": "scientist say",
         "rawType": "int64",
         "type": "integer"
        },
        {
         "name": "scold",
         "rawType": "int64",
         "type": "integer"
        },
        {
         "name": "score",
         "rawType": "int64",
         "type": "integer"
        },
        {
         "name": "scorpio",
         "rawType": "int64",
         "type": "integer"
        },
        {
         "name": "scotland",
         "rawType": "int64",
         "type": "integer"
        },
        {
         "name": "scott",
         "rawType": "int64",
         "type": "integer"
        },
        {
         "name": "scott pruitt",
         "rawType": "int64",
         "type": "integer"
        },
        {
         "name": "scotus",
         "rawType": "int64",
         "type": "integer"
        },
        {
         "name": "screen",
         "rawType": "int64",
         "type": "integer"
        },
        {
         "name": "scrutiny",
         "rawType": "int64",
         "type": "integer"
        },
        {
         "name": "se",
         "rawType": "int64",
         "type": "integer"
        },
        {
         "name": "sea",
         "rawType": "int64",
         "type": "integer"
        },
        {
         "name": "seal",
         "rawType": "int64",
         "type": "integer"
        },
        {
         "name": "sean",
         "rawType": "int64",
         "type": "integer"
        },
        {
         "name": "sean hannity",
         "rawType": "int64",
         "type": "integer"
        },
        {
         "name": "sean spicer",
         "rawType": "int64",
         "type": "integer"
        },
        {
         "name": "search",
         "rawType": "int64",
         "type": "integer"
        },
        {
         "name": "searching",
         "rawType": "int64",
         "type": "integer"
        },
        {
         "name": "season",
         "rawType": "int64",
         "type": "integer"
        },
        {
         "name": "season episode",
         "rawType": "int64",
         "type": "integer"
        },
        {
         "name": "season new",
         "rawType": "int64",
         "type": "integer"
        },
        {
         "name": "season new york",
         "rawType": "int64",
         "type": "integer"
        },
        {
         "name": "seat",
         "rawType": "int64",
         "type": "integer"
        },
        {
         "name": "seattle",
         "rawType": "int64",
         "type": "integer"
        },
        {
         "name": "second",
         "rawType": "int64",
         "type": "integer"
        },
        {
         "name": "secrecy",
         "rawType": "int64",
         "type": "integer"
        },
        {
         "name": "secret",
         "rawType": "int64",
         "type": "integer"
        },
        {
         "name": "secret service",
         "rawType": "int64",
         "type": "integer"
        },
        {
         "name": "secret spy",
         "rawType": "int64",
         "type": "integer"
        },
        {
         "name": "secretary",
         "rawType": "int64",
         "type": "integer"
        },
        {
         "name": "secretary new",
         "rawType": "int64",
         "type": "integer"
        },
        {
         "name": "secretary new york",
         "rawType": "int64",
         "type": "integer"
        },
        {
         "name": "secretary state",
         "rawType": "int64",
         "type": "integer"
        },
        {
         "name": "secretly",
         "rawType": "int64",
         "type": "integer"
        },
        {
         "name": "security",
         "rawType": "int64",
         "type": "integer"
        },
        {
         "name": "security adviser",
         "rawType": "int64",
         "type": "integer"
        },
        {
         "name": "see",
         "rawType": "int64",
         "type": "integer"
        },
        {
         "name": "seeing",
         "rawType": "int64",
         "type": "integer"
        },
        {
         "name": "seek",
         "rawType": "int64",
         "type": "integer"
        },
        {
         "name": "seeker",
         "rawType": "int64",
         "type": "integer"
        },
        {
         "name": "seeking",
         "rawType": "int64",
         "type": "integer"
        },
        {
         "name": "seems",
         "rawType": "int64",
         "type": "integer"
        },
        {
         "name": "seen",
         "rawType": "int64",
         "type": "integer"
        },
        {
         "name": "segregation",
         "rawType": "int64",
         "type": "integer"
        },
        {
         "name": "seizing",
         "rawType": "int64",
         "type": "integer"
        },
        {
         "name": "self",
         "rawType": "int64",
         "type": "integer"
        },
        {
         "name": "self driving",
         "rawType": "int64",
         "type": "integer"
        },
        {
         "name": "self driving car",
         "rawType": "int64",
         "type": "integer"
        },
        {
         "name": "sell",
         "rawType": "int64",
         "type": "integer"
        },
        {
         "name": "selling",
         "rawType": "int64",
         "type": "integer"
        },
        {
         "name": "semitic",
         "rawType": "int64",
         "type": "integer"
        },
        {
         "name": "semitism",
         "rawType": "int64",
         "type": "integer"
        },
        {
         "name": "sen",
         "rawType": "int64",
         "type": "integer"
        },
        {
         "name": "senate",
         "rawType": "int64",
         "type": "integer"
        },
        {
         "name": "senate breitbart",
         "rawType": "int64",
         "type": "integer"
        },
        {
         "name": "senator",
         "rawType": "int64",
         "type": "integer"
        },
        {
         "name": "send",
         "rawType": "int64",
         "type": "integer"
        },
        {
         "name": "sending",
         "rawType": "int64",
         "type": "integer"
        },
        {
         "name": "sends",
         "rawType": "int64",
         "type": "integer"
        },
        {
         "name": "senior",
         "rawType": "int64",
         "type": "integer"
        },
        {
         "name": "sense",
         "rawType": "int64",
         "type": "integer"
        },
        {
         "name": "sent",
         "rawType": "int64",
         "type": "integer"
        },
        {
         "name": "sentence",
         "rawType": "int64",
         "type": "integer"
        },
        {
         "name": "sentenced",
         "rawType": "int64",
         "type": "integer"
        },
        {
         "name": "serial",
         "rawType": "int64",
         "type": "integer"
        },
        {
         "name": "series",
         "rawType": "int64",
         "type": "integer"
        },
        {
         "name": "serious",
         "rawType": "int64",
         "type": "integer"
        },
        {
         "name": "seriously",
         "rawType": "int64",
         "type": "integer"
        },
        {
         "name": "serve",
         "rawType": "int64",
         "type": "integer"
        },
        {
         "name": "server",
         "rawType": "int64",
         "type": "integer"
        },
        {
         "name": "service",
         "rawType": "int64",
         "type": "integer"
        },
        {
         "name": "session",
         "rawType": "int64",
         "type": "integer"
        },
        {
         "name": "set",
         "rawType": "int64",
         "type": "integer"
        },
        {
         "name": "seth",
         "rawType": "int64",
         "type": "integer"
        },
        {
         "name": "seth meyers",
         "rawType": "int64",
         "type": "integer"
        },
        {
         "name": "setting",
         "rawType": "int64",
         "type": "integer"
        },
        {
         "name": "settle",
         "rawType": "int64",
         "type": "integer"
        },
        {
         "name": "settlement",
         "rawType": "int64",
         "type": "integer"
        },
        {
         "name": "settlement new",
         "rawType": "int64",
         "type": "integer"
        },
        {
         "name": "settlement new york",
         "rawType": "int64",
         "type": "integer"
        },
        {
         "name": "seven",
         "rawType": "int64",
         "type": "integer"
        },
        {
         "name": "several",
         "rawType": "int64",
         "type": "integer"
        },
        {
         "name": "severe",
         "rawType": "int64",
         "type": "integer"
        },
        {
         "name": "sex",
         "rawType": "int64",
         "type": "integer"
        },
        {
         "name": "sex scandal",
         "rawType": "int64",
         "type": "integer"
        },
        {
         "name": "sexism",
         "rawType": "int64",
         "type": "integer"
        },
        {
         "name": "sexist",
         "rawType": "int64",
         "type": "integer"
        },
        {
         "name": "sexting",
         "rawType": "int64",
         "type": "integer"
        },
        {
         "name": "sexting scandal",
         "rawType": "int64",
         "type": "integer"
        },
        {
         "name": "sexual",
         "rawType": "int64",
         "type": "integer"
        },
        {
         "name": "sexual abuse",
         "rawType": "int64",
         "type": "integer"
        },
        {
         "name": "sexual assault",
         "rawType": "int64",
         "type": "integer"
        },
        {
         "name": "sexually",
         "rawType": "int64",
         "type": "integer"
        },
        {
         "name": "sh",
         "rawType": "int64",
         "type": "integer"
        },
        {
         "name": "shadow",
         "rawType": "int64",
         "type": "integer"
        },
        {
         "name": "shadow government",
         "rawType": "int64",
         "type": "integer"
        },
        {
         "name": "shake",
         "rawType": "int64",
         "type": "integer"
        },
        {
         "name": "shaking",
         "rawType": "int64",
         "type": "integer"
        },
        {
         "name": "sham",
         "rawType": "int64",
         "type": "integer"
        },
        {
         "name": "shape",
         "rawType": "int64",
         "type": "integer"
        },
        {
         "name": "shaped",
         "rawType": "int64",
         "type": "integer"
        },
        {
         "name": "share",
         "rawType": "int64",
         "type": "integer"
        },
        {
         "name": "sharia",
         "rawType": "int64",
         "type": "integer"
        },
        {
         "name": "shark",
         "rawType": "int64",
         "type": "integer"
        },
        {
         "name": "sharp",
         "rawType": "int64",
         "type": "integer"
        },
        {
         "name": "sheep",
         "rawType": "int64",
         "type": "integer"
        },
        {
         "name": "shell",
         "rawType": "int64",
         "type": "integer"
        },
        {
         "name": "shelter",
         "rawType": "int64",
         "type": "integer"
        },
        {
         "name": "sheriff",
         "rawType": "int64",
         "type": "integer"
        },
        {
         "name": "shield",
         "rawType": "int64",
         "type": "integer"
        },
        {
         "name": "shift",
         "rawType": "int64",
         "type": "integer"
        },
        {
         "name": "shiite",
         "rawType": "int64",
         "type": "integer"
        },
        {
         "name": "ship",
         "rawType": "int64",
         "type": "integer"
        },
        {
         "name": "shirt",
         "rawType": "int64",
         "type": "integer"
        },
        {
         "name": "shock",
         "rawType": "int64",
         "type": "integer"
        },
        {
         "name": "shocked",
         "rawType": "int64",
         "type": "integer"
        },
        {
         "name": "shocker",
         "rawType": "int64",
         "type": "integer"
        },
        {
         "name": "shocking",
         "rawType": "int64",
         "type": "integer"
        },
        {
         "name": "shoe",
         "rawType": "int64",
         "type": "integer"
        },
        {
         "name": "shoot",
         "rawType": "int64",
         "type": "integer"
        },
        {
         "name": "shooter",
         "rawType": "int64",
         "type": "integer"
        },
        {
         "name": "shooting",
         "rawType": "int64",
         "type": "integer"
        },
        {
         "name": "shooting new",
         "rawType": "int64",
         "type": "integer"
        },
        {
         "name": "shooting new york",
         "rawType": "int64",
         "type": "integer"
        },
        {
         "name": "shop",
         "rawType": "int64",
         "type": "integer"
        },
        {
         "name": "shopping",
         "rawType": "int64",
         "type": "integer"
        },
        {
         "name": "short",
         "rawType": "int64",
         "type": "integer"
        },
        {
         "name": "shot",
         "rawType": "int64",
         "type": "integer"
        },
        {
         "name": "shot dead",
         "rawType": "int64",
         "type": "integer"
        },
        {
         "name": "shouting",
         "rawType": "int64",
         "type": "integer"
        },
        {
         "name": "show",
         "rawType": "int64",
         "type": "integer"
        },
        {
         "name": "show new",
         "rawType": "int64",
         "type": "integer"
        },
        {
         "name": "show new york",
         "rawType": "int64",
         "type": "integer"
        },
        {
         "name": "show trump",
         "rawType": "int64",
         "type": "integer"
        },
        {
         "name": "showing",
         "rawType": "int64",
         "type": "integer"
        },
        {
         "name": "shut",
         "rawType": "int64",
         "type": "integer"
        },
        {
         "name": "shutdown",
         "rawType": "int64",
         "type": "integer"
        },
        {
         "name": "shuts",
         "rawType": "int64",
         "type": "integer"
        },
        {
         "name": "sick",
         "rawType": "int64",
         "type": "integer"
        },
        {
         "name": "side",
         "rawType": "int64",
         "type": "integer"
        },
        {
         "name": "sie",
         "rawType": "int64",
         "type": "integer"
        },
        {
         "name": "sight",
         "rawType": "int64",
         "type": "integer"
        },
        {
         "name": "sign",
         "rawType": "int64",
         "type": "integer"
        },
        {
         "name": "signal",
         "rawType": "int64",
         "type": "integer"
        },
        {
         "name": "significantly",
         "rawType": "int64",
         "type": "integer"
        },
        {
         "name": "silence",
         "rawType": "int64",
         "type": "integer"
        },
        {
         "name": "silent",
         "rawType": "int64",
         "type": "integer"
        },
        {
         "name": "silicon",
         "rawType": "int64",
         "type": "integer"
        },
        {
         "name": "silicon valley",
         "rawType": "int64",
         "type": "integer"
        },
        {
         "name": "silver",
         "rawType": "int64",
         "type": "integer"
        },
        {
         "name": "simone",
         "rawType": "int64",
         "type": "integer"
        },
        {
         "name": "simple",
         "rawType": "int64",
         "type": "integer"
        },
        {
         "name": "simply",
         "rawType": "int64",
         "type": "integer"
        },
        {
         "name": "since",
         "rawType": "int64",
         "type": "integer"
        },
        {
         "name": "since cold",
         "rawType": "int64",
         "type": "integer"
        },
        {
         "name": "since cold war",
         "rawType": "int64",
         "type": "integer"
        },
        {
         "name": "singer",
         "rawType": "int64",
         "type": "integer"
        },
        {
         "name": "single",
         "rawType": "int64",
         "type": "integer"
        },
        {
         "name": "single payer",
         "rawType": "int64",
         "type": "integer"
        },
        {
         "name": "sioux",
         "rawType": "int64",
         "type": "integer"
        },
        {
         "name": "sister",
         "rawType": "int64",
         "type": "integer"
        },
        {
         "name": "site",
         "rawType": "int64",
         "type": "integer"
        },
        {
         "name": "sitting",
         "rawType": "int64",
         "type": "integer"
        },
        {
         "name": "situation",
         "rawType": "int64",
         "type": "integer"
        },
        {
         "name": "six",
         "rawType": "int64",
         "type": "integer"
        },
        {
         "name": "size",
         "rawType": "int64",
         "type": "integer"
        },
        {
         "name": "skin",
         "rawType": "int64",
         "type": "integer"
        },
        {
         "name": "skip",
         "rawType": "int64",
         "type": "integer"
        },
        {
         "name": "sky",
         "rawType": "int64",
         "type": "integer"
        },
        {
         "name": "slam",
         "rawType": "int64",
         "type": "integer"
        },
        {
         "name": "slash",
         "rawType": "int64",
         "type": "integer"
        },
        {
         "name": "slave",
         "rawType": "int64",
         "type": "integer"
        },
        {
         "name": "slavery",
         "rawType": "int64",
         "type": "integer"
        },
        {
         "name": "sleep",
         "rawType": "int64",
         "type": "integer"
        },
        {
         "name": "slip",
         "rawType": "int64",
         "type": "integer"
        },
        {
         "name": "slow",
         "rawType": "int64",
         "type": "integer"
        },
        {
         "name": "slur",
         "rawType": "int64",
         "type": "integer"
        },
        {
         "name": "slush",
         "rawType": "int64",
         "type": "integer"
        },
        {
         "name": "small",
         "rawType": "int64",
         "type": "integer"
        },
        {
         "name": "small town",
         "rawType": "int64",
         "type": "integer"
        },
        {
         "name": "smart",
         "rawType": "int64",
         "type": "integer"
        },
        {
         "name": "smart meter",
         "rawType": "int64",
         "type": "integer"
        },
        {
         "name": "smart meter case",
         "rawType": "int64",
         "type": "integer"
        },
        {
         "name": "smash",
         "rawType": "int64",
         "type": "integer"
        },
        {
         "name": "smear",
         "rawType": "int64",
         "type": "integer"
        },
        {
         "name": "smell",
         "rawType": "int64",
         "type": "integer"
        },
        {
         "name": "smith",
         "rawType": "int64",
         "type": "integer"
        },
        {
         "name": "smoking",
         "rawType": "int64",
         "type": "integer"
        },
        {
         "name": "smoking gun",
         "rawType": "int64",
         "type": "integer"
        },
        {
         "name": "smuggler",
         "rawType": "int64",
         "type": "integer"
        },
        {
         "name": "snap",
         "rawType": "int64",
         "type": "integer"
        },
        {
         "name": "snapchat",
         "rawType": "int64",
         "type": "integer"
        },
        {
         "name": "sniper",
         "rawType": "int64",
         "type": "integer"
        },
        {
         "name": "snl",
         "rawType": "int64",
         "type": "integer"
        },
        {
         "name": "snowden",
         "rawType": "int64",
         "type": "integer"
        },
        {
         "name": "soar",
         "rawType": "int64",
         "type": "integer"
        },
        {
         "name": "soccer",
         "rawType": "int64",
         "type": "integer"
        },
        {
         "name": "social",
         "rawType": "int64",
         "type": "integer"
        },
        {
         "name": "social justice",
         "rawType": "int64",
         "type": "integer"
        },
        {
         "name": "social medium",
         "rawType": "int64",
         "type": "integer"
        },
        {
         "name": "socialist",
         "rawType": "int64",
         "type": "integer"
        },
        {
         "name": "society",
         "rawType": "int64",
         "type": "integer"
        },
        {
         "name": "soda",
         "rawType": "int64",
         "type": "integer"
        },
        {
         "name": "software",
         "rawType": "int64",
         "type": "integer"
        },
        {
         "name": "solar",
         "rawType": "int64",
         "type": "integer"
        },
        {
         "name": "solar storm",
         "rawType": "int64",
         "type": "integer"
        },
        {
         "name": "sold",
         "rawType": "int64",
         "type": "integer"
        },
        {
         "name": "soldier",
         "rawType": "int64",
         "type": "integer"
        },
        {
         "name": "solution",
         "rawType": "int64",
         "type": "integer"
        },
        {
         "name": "solve",
         "rawType": "int64",
         "type": "integer"
        },
        {
         "name": "somali",
         "rawType": "int64",
         "type": "integer"
        },
        {
         "name": "someone",
         "rawType": "int64",
         "type": "integer"
        },
        {
         "name": "something",
         "rawType": "int64",
         "type": "integer"
        },
        {
         "name": "sometimes",
         "rawType": "int64",
         "type": "integer"
        },
        {
         "name": "son",
         "rawType": "int64",
         "type": "integer"
        },
        {
         "name": "son law",
         "rawType": "int64",
         "type": "integer"
        },
        {
         "name": "song",
         "rawType": "int64",
         "type": "integer"
        },
        {
         "name": "soon",
         "rawType": "int64",
         "type": "integer"
        },
        {
         "name": "soros",
         "rawType": "int64",
         "type": "integer"
        },
        {
         "name": "sorry",
         "rawType": "int64",
         "type": "integer"
        },
        {
         "name": "sort",
         "rawType": "int64",
         "type": "integer"
        },
        {
         "name": "sought",
         "rawType": "int64",
         "type": "integer"
        },
        {
         "name": "soul",
         "rawType": "int64",
         "type": "integer"
        },
        {
         "name": "sound",
         "rawType": "int64",
         "type": "integer"
        },
        {
         "name": "source",
         "rawType": "int64",
         "type": "integer"
        },
        {
         "name": "south",
         "rawType": "int64",
         "type": "integer"
        },
        {
         "name": "south africa",
         "rawType": "int64",
         "type": "integer"
        },
        {
         "name": "south carolina",
         "rawType": "int64",
         "type": "integer"
        },
        {
         "name": "south china",
         "rawType": "int64",
         "type": "integer"
        },
        {
         "name": "south china sea",
         "rawType": "int64",
         "type": "integer"
        },
        {
         "name": "south korea",
         "rawType": "int64",
         "type": "integer"
        },
        {
         "name": "south korean",
         "rawType": "int64",
         "type": "integer"
        },
        {
         "name": "southern",
         "rawType": "int64",
         "type": "integer"
        },
        {
         "name": "soviet",
         "rawType": "int64",
         "type": "integer"
        },
        {
         "name": "space",
         "rawType": "int64",
         "type": "integer"
        },
        {
         "name": "spacecraft",
         "rawType": "int64",
         "type": "integer"
        },
        {
         "name": "spacex",
         "rawType": "int64",
         "type": "integer"
        },
        {
         "name": "spain",
         "rawType": "int64",
         "type": "integer"
        },
        {
         "name": "spanish",
         "rawType": "int64",
         "type": "integer"
        },
        {
         "name": "spark",
         "rawType": "int64",
         "type": "integer"
        },
        {
         "name": "speak",
         "rawType": "int64",
         "type": "integer"
        },
        {
         "name": "speaker",
         "rawType": "int64",
         "type": "integer"
        },
        {
         "name": "speaks",
         "rawType": "int64",
         "type": "integer"
        },
        {
         "name": "special",
         "rawType": "int64",
         "type": "integer"
        },
        {
         "name": "special prosecutor",
         "rawType": "int64",
         "type": "integer"
        },
        {
         "name": "specie",
         "rawType": "int64",
         "type": "integer"
        },
        {
         "name": "speech",
         "rawType": "int64",
         "type": "integer"
        },
        {
         "name": "speech breitbart",
         "rawType": "int64",
         "type": "integer"
        },
        {
         "name": "speech new",
         "rawType": "int64",
         "type": "integer"
        },
        {
         "name": "speech new york",
         "rawType": "int64",
         "type": "integer"
        },
        {
         "name": "speed",
         "rawType": "int64",
         "type": "integer"
        },
        {
         "name": "spending",
         "rawType": "int64",
         "type": "integer"
        },
        {
         "name": "spent",
         "rawType": "int64",
         "type": "integer"
        },
        {
         "name": "spicer",
         "rawType": "int64",
         "type": "integer"
        },
        {
         "name": "spider",
         "rawType": "int64",
         "type": "integer"
        },
        {
         "name": "spike",
         "rawType": "int64",
         "type": "integer"
        },
        {
         "name": "spill",
         "rawType": "int64",
         "type": "integer"
        },
        {
         "name": "spin",
         "rawType": "int64",
         "type": "integer"
        },
        {
         "name": "spirit",
         "rawType": "int64",
         "type": "integer"
        },
        {
         "name": "spiritual",
         "rawType": "int64",
         "type": "integer"
        },
        {
         "name": "split",
         "rawType": "int64",
         "type": "integer"
        },
        {
         "name": "spokesman",
         "rawType": "int64",
         "type": "integer"
        },
        {
         "name": "sport",
         "rawType": "int64",
         "type": "integer"
        },
        {
         "name": "sport new",
         "rawType": "int64",
         "type": "integer"
        },
        {
         "name": "sport new york",
         "rawType": "int64",
         "type": "integer"
        },
        {
         "name": "spot",
         "rawType": "int64",
         "type": "integer"
        },
        {
         "name": "spotlight",
         "rawType": "int64",
         "type": "integer"
        },
        {
         "name": "spox",
         "rawType": "int64",
         "type": "integer"
        },
        {
         "name": "spread",
         "rawType": "int64",
         "type": "integer"
        },
        {
         "name": "spring",
         "rawType": "int64",
         "type": "integer"
        },
        {
         "name": "spurred",
         "rawType": "int64",
         "type": "integer"
        },
        {
         "name": "spy",
         "rawType": "int64",
         "type": "integer"
        },
        {
         "name": "spying",
         "rawType": "int64",
         "type": "integer"
        },
        {
         "name": "squad",
         "rawType": "int64",
         "type": "integer"
        },
        {
         "name": "square",
         "rawType": "int64",
         "type": "integer"
        },
        {
         "name": "st",
         "rawType": "int64",
         "type": "integer"
        },
        {
         "name": "stabbing",
         "rawType": "int64",
         "type": "integer"
        },
        {
         "name": "staff",
         "rawType": "int64",
         "type": "integer"
        },
        {
         "name": "staffer",
         "rawType": "int64",
         "type": "integer"
        },
        {
         "name": "stage",
         "rawType": "int64",
         "type": "integer"
        },
        {
         "name": "stake",
         "rawType": "int64",
         "type": "integer"
        },
        {
         "name": "stamp",
         "rawType": "int64",
         "type": "integer"
        },
        {
         "name": "stance",
         "rawType": "int64",
         "type": "integer"
        },
        {
         "name": "stand",
         "rawType": "int64",
         "type": "integer"
        },
        {
         "name": "standard",
         "rawType": "int64",
         "type": "integer"
        },
        {
         "name": "standing",
         "rawType": "int64",
         "type": "integer"
        },
        {
         "name": "standing rock",
         "rawType": "int64",
         "type": "integer"
        },
        {
         "name": "standing rock protest",
         "rawType": "int64",
         "type": "integer"
        },
        {
         "name": "standoff",
         "rawType": "int64",
         "type": "integer"
        },
        {
         "name": "star",
         "rawType": "int64",
         "type": "integer"
        },
        {
         "name": "star war",
         "rawType": "int64",
         "type": "integer"
        },
        {
         "name": "stark",
         "rawType": "int64",
         "type": "integer"
        },
        {
         "name": "start",
         "rawType": "int64",
         "type": "integer"
        },
        {
         "name": "started",
         "rawType": "int64",
         "type": "integer"
        },
        {
         "name": "state",
         "rawType": "int64",
         "type": "integer"
        },
        {
         "name": "state blue",
         "rawType": "int64",
         "type": "integer"
        },
        {
         "name": "state breitbart",
         "rawType": "int64",
         "type": "integer"
        },
        {
         "name": "state department",
         "rawType": "int64",
         "type": "integer"
        },
        {
         "name": "state dept",
         "rawType": "int64",
         "type": "integer"
        },
        {
         "name": "state new",
         "rawType": "int64",
         "type": "integer"
        },
        {
         "name": "state new york",
         "rawType": "int64",
         "type": "integer"
        },
        {
         "name": "state supporter",
         "rawType": "int64",
         "type": "integer"
        },
        {
         "name": "state university",
         "rawType": "int64",
         "type": "integer"
        },
        {
         "name": "state warrior",
         "rawType": "int64",
         "type": "integer"
        },
        {
         "name": "statement",
         "rawType": "int64",
         "type": "integer"
        },
        {
         "name": "station",
         "rawType": "int64",
         "type": "integer"
        },
        {
         "name": "statue",
         "rawType": "int64",
         "type": "integer"
        },
        {
         "name": "status",
         "rawType": "int64",
         "type": "integer"
        },
        {
         "name": "stay",
         "rawType": "int64",
         "type": "integer"
        },
        {
         "name": "steady",
         "rawType": "int64",
         "type": "integer"
        },
        {
         "name": "steal",
         "rawType": "int64",
         "type": "integer"
        },
        {
         "name": "steal election",
         "rawType": "int64",
         "type": "integer"
        },
        {
         "name": "stealing",
         "rawType": "int64",
         "type": "integer"
        },
        {
         "name": "steel",
         "rawType": "int64",
         "type": "integer"
        },
        {
         "name": "stein",
         "rawType": "int64",
         "type": "integer"
        },
        {
         "name": "step",
         "rawType": "int64",
         "type": "integer"
        },
        {
         "name": "step new",
         "rawType": "int64",
         "type": "integer"
        },
        {
         "name": "step new york",
         "rawType": "int64",
         "type": "integer"
        },
        {
         "name": "stephen",
         "rawType": "int64",
         "type": "integer"
        },
        {
         "name": "stephen bannon",
         "rawType": "int64",
         "type": "integer"
        },
        {
         "name": "steve",
         "rawType": "int64",
         "type": "integer"
        },
        {
         "name": "steve bannon",
         "rawType": "int64",
         "type": "integer"
        },
        {
         "name": "steven",
         "rawType": "int64",
         "type": "integer"
        },
        {
         "name": "steven broiles",
         "rawType": "int64",
         "type": "integer"
        },
        {
         "name": "stewart",
         "rawType": "int64",
         "type": "integer"
        },
        {
         "name": "stick",
         "rawType": "int64",
         "type": "integer"
        },
        {
         "name": "still",
         "rawType": "int64",
         "type": "integer"
        },
        {
         "name": "stock",
         "rawType": "int64",
         "type": "integer"
        },
        {
         "name": "stock market",
         "rawType": "int64",
         "type": "integer"
        },
        {
         "name": "stockholm",
         "rawType": "int64",
         "type": "integer"
        },
        {
         "name": "stolen",
         "rawType": "int64",
         "type": "integer"
        },
        {
         "name": "stone",
         "rawType": "int64",
         "type": "integer"
        },
        {
         "name": "stop",
         "rawType": "int64",
         "type": "integer"
        },
        {
         "name": "stopped",
         "rawType": "int64",
         "type": "integer"
        },
        {
         "name": "store",
         "rawType": "int64",
         "type": "integer"
        },
        {
         "name": "storm",
         "rawType": "int64",
         "type": "integer"
        },
        {
         "name": "story",
         "rawType": "int64",
         "type": "integer"
        },
        {
         "name": "story new",
         "rawType": "int64",
         "type": "integer"
        },
        {
         "name": "story new york",
         "rawType": "int64",
         "type": "integer"
        },
        {
         "name": "straight",
         "rawType": "int64",
         "type": "integer"
        },
        {
         "name": "strange",
         "rawType": "int64",
         "type": "integer"
        },
        {
         "name": "strategist",
         "rawType": "int64",
         "type": "integer"
        },
        {
         "name": "strategy",
         "rawType": "int64",
         "type": "integer"
        },
        {
         "name": "streaming",
         "rawType": "int64",
         "type": "integer"
        },
        {
         "name": "streep",
         "rawType": "int64",
         "type": "integer"
        },
        {
         "name": "street",
         "rawType": "int64",
         "type": "integer"
        },
        {
         "name": "street journal",
         "rawType": "int64",
         "type": "integer"
        },
        {
         "name": "street new",
         "rawType": "int64",
         "type": "integer"
        },
        {
         "name": "streisand",
         "rawType": "int64",
         "type": "integer"
        },
        {
         "name": "strength",
         "rawType": "int64",
         "type": "integer"
        },
        {
         "name": "stress",
         "rawType": "int64",
         "type": "integer"
        },
        {
         "name": "stretch",
         "rawType": "int64",
         "type": "integer"
        },
        {
         "name": "strict",
         "rawType": "int64",
         "type": "integer"
        },
        {
         "name": "strike",
         "rawType": "int64",
         "type": "integer"
        },
        {
         "name": "strike syria",
         "rawType": "int64",
         "type": "integer"
        },
        {
         "name": "strip",
         "rawType": "int64",
         "type": "integer"
        },
        {
         "name": "strong",
         "rawType": "int64",
         "type": "integer"
        },
        {
         "name": "stronghold",
         "rawType": "int64",
         "type": "integer"
        },
        {
         "name": "struggle",
         "rawType": "int64",
         "type": "integer"
        },
        {
         "name": "struggling",
         "rawType": "int64",
         "type": "integer"
        },
        {
         "name": "student",
         "rawType": "int64",
         "type": "integer"
        },
        {
         "name": "student new",
         "rawType": "int64",
         "type": "integer"
        },
        {
         "name": "student new york",
         "rawType": "int64",
         "type": "integer"
        },
        {
         "name": "study",
         "rawType": "int64",
         "type": "integer"
        },
        {
         "name": "study find",
         "rawType": "int64",
         "type": "integer"
        },
        {
         "name": "stuff",
         "rawType": "int64",
         "type": "integer"
        },
        {
         "name": "stunning",
         "rawType": "int64",
         "type": "integer"
        },
        {
         "name": "stupid",
         "rawType": "int64",
         "type": "integer"
        },
        {
         "name": "style",
         "rawType": "int64",
         "type": "integer"
        },
        {
         "name": "su",
         "rawType": "int64",
         "type": "integer"
        },
        {
         "name": "subject",
         "rawType": "int64",
         "type": "integer"
        },
        {
         "name": "subway",
         "rawType": "int64",
         "type": "integer"
        },
        {
         "name": "success",
         "rawType": "int64",
         "type": "integer"
        },
        {
         "name": "successful",
         "rawType": "int64",
         "type": "integer"
        },
        {
         "name": "suddenly",
         "rawType": "int64",
         "type": "integer"
        },
        {
         "name": "sue",
         "rawType": "int64",
         "type": "integer"
        },
        {
         "name": "sued",
         "rawType": "int64",
         "type": "integer"
        },
        {
         "name": "suffer",
         "rawType": "int64",
         "type": "integer"
        },
        {
         "name": "suffers",
         "rawType": "int64",
         "type": "integer"
        },
        {
         "name": "suggests",
         "rawType": "int64",
         "type": "integer"
        },
        {
         "name": "suicide",
         "rawType": "int64",
         "type": "integer"
        },
        {
         "name": "suit",
         "rawType": "int64",
         "type": "integer"
        },
        {
         "name": "summer",
         "rawType": "int64",
         "type": "integer"
        },
        {
         "name": "summit",
         "rawType": "int64",
         "type": "integer"
        },
        {
         "name": "sun",
         "rawType": "int64",
         "type": "integer"
        },
        {
         "name": "sunday",
         "rawType": "int64",
         "type": "integer"
        },
        {
         "name": "sunlight",
         "rawType": "int64",
         "type": "integer"
        },
        {
         "name": "super",
         "rawType": "int64",
         "type": "integer"
        },
        {
         "name": "super bowl",
         "rawType": "int64",
         "type": "integer"
        },
        {
         "name": "supermoon",
         "rawType": "int64",
         "type": "integer"
        },
        {
         "name": "supply",
         "rawType": "int64",
         "type": "integer"
        },
        {
         "name": "support",
         "rawType": "int64",
         "type": "integer"
        },
        {
         "name": "support new",
         "rawType": "int64",
         "type": "integer"
        },
        {
         "name": "supporter",
         "rawType": "int64",
         "type": "integer"
        },
        {
         "name": "supporting",
         "rawType": "int64",
         "type": "integer"
        },
        {
         "name": "supposed",
         "rawType": "int64",
         "type": "integer"
        },
        {
         "name": "supposed picture",
         "rawType": "int64",
         "type": "integer"
        },
        {
         "name": "supposed picture real",
         "rawType": "int64",
         "type": "integer"
        },
        {
         "name": "suppression",
         "rawType": "int64",
         "type": "integer"
        },
        {
         "name": "supreme",
         "rawType": "int64",
         "type": "integer"
        },
        {
         "name": "supreme court",
         "rawType": "int64",
         "type": "integer"
        },
        {
         "name": "supreme court new",
         "rawType": "int64",
         "type": "integer"
        },
        {
         "name": "sure",
         "rawType": "int64",
         "type": "integer"
        },
        {
         "name": "surge",
         "rawType": "int64",
         "type": "integer"
        },
        {
         "name": "surgery",
         "rawType": "int64",
         "type": "integer"
        },
        {
         "name": "surprise",
         "rawType": "int64",
         "type": "integer"
        },
        {
         "name": "surprised",
         "rawType": "int64",
         "type": "integer"
        },
        {
         "name": "surveillance",
         "rawType": "int64",
         "type": "integer"
        },
        {
         "name": "survey",
         "rawType": "int64",
         "type": "integer"
        },
        {
         "name": "survey find",
         "rawType": "int64",
         "type": "integer"
        },
        {
         "name": "survey find american",
         "rawType": "int64",
         "type": "integer"
        },
        {
         "name": "survival",
         "rawType": "int64",
         "type": "integer"
        },
        {
         "name": "survive",
         "rawType": "int64",
         "type": "integer"
        },
        {
         "name": "survivor",
         "rawType": "int64",
         "type": "integer"
        },
        {
         "name": "susan",
         "rawType": "int64",
         "type": "integer"
        },
        {
         "name": "susan rice",
         "rawType": "int64",
         "type": "integer"
        },
        {
         "name": "suspect",
         "rawType": "int64",
         "type": "integer"
        },
        {
         "name": "suspected",
         "rawType": "int64",
         "type": "integer"
        },
        {
         "name": "suspend",
         "rawType": "int64",
         "type": "integer"
        },
        {
         "name": "suspended",
         "rawType": "int64",
         "type": "integer"
        },
        {
         "name": "suspends",
         "rawType": "int64",
         "type": "integer"
        },
        {
         "name": "swamp",
         "rawType": "int64",
         "type": "integer"
        },
        {
         "name": "sweden",
         "rawType": "int64",
         "type": "integer"
        },
        {
         "name": "swedish",
         "rawType": "int64",
         "type": "integer"
        },
        {
         "name": "sweep",
         "rawType": "int64",
         "type": "integer"
        },
        {
         "name": "swift",
         "rawType": "int64",
         "type": "integer"
        },
        {
         "name": "swing",
         "rawType": "int64",
         "type": "integer"
        },
        {
         "name": "swing state",
         "rawType": "int64",
         "type": "integer"
        },
        {
         "name": "switch",
         "rawType": "int64",
         "type": "integer"
        },
        {
         "name": "syria",
         "rawType": "int64",
         "type": "integer"
        },
        {
         "name": "syria new",
         "rawType": "int64",
         "type": "integer"
        },
        {
         "name": "syria new york",
         "rawType": "int64",
         "type": "integer"
        },
        {
         "name": "syria war",
         "rawType": "int64",
         "type": "integer"
        },
        {
         "name": "syrian",
         "rawType": "int64",
         "type": "integer"
        },
        {
         "name": "syrian rebel",
         "rawType": "int64",
         "type": "integer"
        },
        {
         "name": "syrian refugee",
         "rawType": "int64",
         "type": "integer"
        },
        {
         "name": "syrian war",
         "rawType": "int64",
         "type": "integer"
        },
        {
         "name": "syrian war report",
         "rawType": "int64",
         "type": "integer"
        },
        {
         "name": "system",
         "rawType": "int64",
         "type": "integer"
        },
        {
         "name": "system new",
         "rawType": "int64",
         "type": "integer"
        },
        {
         "name": "system new york",
         "rawType": "int64",
         "type": "integer"
        },
        {
         "name": "tackle",
         "rawType": "int64",
         "type": "integer"
        },
        {
         "name": "tactic",
         "rawType": "int64",
         "type": "integer"
        },
        {
         "name": "taiwan",
         "rawType": "int64",
         "type": "integer"
        },
        {
         "name": "take",
         "rawType": "int64",
         "type": "integer"
        },
        {
         "name": "take aim",
         "rawType": "int64",
         "type": "integer"
        },
        {
         "name": "takeaway",
         "rawType": "int64",
         "type": "integer"
        },
        {
         "name": "taken",
         "rawType": "int64",
         "type": "integer"
        },
        {
         "name": "takeover",
         "rawType": "int64",
         "type": "integer"
        },
        {
         "name": "taking",
         "rawType": "int64",
         "type": "integer"
        },
        {
         "name": "talent",
         "rawType": "int64",
         "type": "integer"
        },
        {
         "name": "taliban",
         "rawType": "int64",
         "type": "integer"
        },
        {
         "name": "talk",
         "rawType": "int64",
         "type": "integer"
        },
        {
         "name": "talk new",
         "rawType": "int64",
         "type": "integer"
        },
        {
         "name": "talk new york",
         "rawType": "int64",
         "type": "integer"
        },
        {
         "name": "talking",
         "rawType": "int64",
         "type": "integer"
        },
        {
         "name": "tancredo",
         "rawType": "int64",
         "type": "integer"
        },
        {
         "name": "tank",
         "rawType": "int64",
         "type": "integer"
        },
        {
         "name": "tape",
         "rawType": "int64",
         "type": "integer"
        },
        {
         "name": "tapper",
         "rawType": "int64",
         "type": "integer"
        },
        {
         "name": "target",
         "rawType": "int64",
         "type": "integer"
        },
        {
         "name": "targeted",
         "rawType": "int64",
         "type": "integer"
        },
        {
         "name": "targeting",
         "rawType": "int64",
         "type": "integer"
        },
        {
         "name": "tax",
         "rawType": "int64",
         "type": "integer"
        },
        {
         "name": "tax new",
         "rawType": "int64",
         "type": "integer"
        },
        {
         "name": "tax new york",
         "rawType": "int64",
         "type": "integer"
        },
        {
         "name": "tax reform",
         "rawType": "int64",
         "type": "integer"
        },
        {
         "name": "tax return",
         "rawType": "int64",
         "type": "integer"
        },
        {
         "name": "taxpayer",
         "rawType": "int64",
         "type": "integer"
        },
        {
         "name": "taylor",
         "rawType": "int64",
         "type": "integer"
        },
        {
         "name": "tea",
         "rawType": "int64",
         "type": "integer"
        },
        {
         "name": "teacher",
         "rawType": "int64",
         "type": "integer"
        },
        {
         "name": "team",
         "rawType": "int64",
         "type": "integer"
        },
        {
         "name": "team new",
         "rawType": "int64",
         "type": "integer"
        },
        {
         "name": "team new york",
         "rawType": "int64",
         "type": "integer"
        },
        {
         "name": "tear",
         "rawType": "int64",
         "type": "integer"
        },
        {
         "name": "tebow",
         "rawType": "int64",
         "type": "integer"
        },
        {
         "name": "tech",
         "rawType": "int64",
         "type": "integer"
        },
        {
         "name": "technology",
         "rawType": "int64",
         "type": "integer"
        },
        {
         "name": "ted",
         "rawType": "int64",
         "type": "integer"
        },
        {
         "name": "ted cruz",
         "rawType": "int64",
         "type": "integer"
        },
        {
         "name": "teen",
         "rawType": "int64",
         "type": "integer"
        },
        {
         "name": "teenager",
         "rawType": "int64",
         "type": "integer"
        },
        {
         "name": "televisi",
         "rawType": "int64",
         "type": "integer"
        },
        {
         "name": "tell",
         "rawType": "int64",
         "type": "integer"
        },
        {
         "name": "telling",
         "rawType": "int64",
         "type": "integer"
        },
        {
         "name": "temperature",
         "rawType": "int64",
         "type": "integer"
        },
        {
         "name": "temple",
         "rawType": "int64",
         "type": "integer"
        },
        {
         "name": "ten",
         "rawType": "int64",
         "type": "integer"
        },
        {
         "name": "tension",
         "rawType": "int64",
         "type": "integer"
        },
        {
         "name": "term",
         "rawType": "int64",
         "type": "integer"
        },
        {
         "name": "term new",
         "rawType": "int64",
         "type": "integer"
        },
        {
         "name": "term new york",
         "rawType": "int64",
         "type": "integer"
        },
        {
         "name": "terrible",
         "rawType": "int64",
         "type": "integer"
        },
        {
         "name": "terrifying",
         "rawType": "int64",
         "type": "integer"
        },
        {
         "name": "territory",
         "rawType": "int64",
         "type": "integer"
        },
        {
         "name": "terror",
         "rawType": "int64",
         "type": "integer"
        },
        {
         "name": "terror attack",
         "rawType": "int64",
         "type": "integer"
        },
        {
         "name": "terrorism",
         "rawType": "int64",
         "type": "integer"
        },
        {
         "name": "terrorism breitbart",
         "rawType": "int64",
         "type": "integer"
        },
        {
         "name": "terrorist",
         "rawType": "int64",
         "type": "integer"
        },
        {
         "name": "terrorist attack",
         "rawType": "int64",
         "type": "integer"
        },
        {
         "name": "terry",
         "rawType": "int64",
         "type": "integer"
        },
        {
         "name": "tesla",
         "rawType": "int64",
         "type": "integer"
        },
        {
         "name": "test",
         "rawType": "int64",
         "type": "integer"
        },
        {
         "name": "test new",
         "rawType": "int64",
         "type": "integer"
        },
        {
         "name": "test new york",
         "rawType": "int64",
         "type": "integer"
        },
        {
         "name": "tested",
         "rawType": "int64",
         "type": "integer"
        },
        {
         "name": "testifies",
         "rawType": "int64",
         "type": "integer"
        },
        {
         "name": "testify",
         "rawType": "int64",
         "type": "integer"
        },
        {
         "name": "testimony",
         "rawType": "int64",
         "type": "integer"
        },
        {
         "name": "testimony pennsylvania",
         "rawType": "int64",
         "type": "integer"
        },
        {
         "name": "testimony pennsylvania public",
         "rawType": "int64",
         "type": "integer"
        },
        {
         "name": "testing",
         "rawType": "int64",
         "type": "integer"
        },
        {
         "name": "texas",
         "rawType": "int64",
         "type": "integer"
        },
        {
         "name": "texas border",
         "rawType": "int64",
         "type": "integer"
        },
        {
         "name": "text",
         "rawType": "int64",
         "type": "integer"
        },
        {
         "name": "th",
         "rawType": "int64",
         "type": "integer"
        },
        {
         "name": "thank",
         "rawType": "int64",
         "type": "integer"
        },
        {
         "name": "thanks",
         "rawType": "int64",
         "type": "integer"
        },
        {
         "name": "thanksgiving",
         "rawType": "int64",
         "type": "integer"
        },
        {
         "name": "theater",
         "rawType": "int64",
         "type": "integer"
        },
        {
         "name": "theory",
         "rawType": "int64",
         "type": "integer"
        },
        {
         "name": "therapy",
         "rawType": "int64",
         "type": "integer"
        },
        {
         "name": "theresa",
         "rawType": "int64",
         "type": "integer"
        },
        {
         "name": "theresa may",
         "rawType": "int64",
         "type": "integer"
        },
        {
         "name": "thierry",
         "rawType": "int64",
         "type": "integer"
        },
        {
         "name": "thierry meyssan",
         "rawType": "int64",
         "type": "integer"
        },
        {
         "name": "thing",
         "rawType": "int64",
         "type": "integer"
        },
        {
         "name": "thing learned",
         "rawType": "int64",
         "type": "integer"
        },
        {
         "name": "thing need",
         "rawType": "int64",
         "type": "integer"
        },
        {
         "name": "thing need know",
         "rawType": "int64",
         "type": "integer"
        },
        {
         "name": "thing new",
         "rawType": "int64",
         "type": "integer"
        },
        {
         "name": "thing new york",
         "rawType": "int64",
         "type": "integer"
        },
        {
         "name": "think",
         "rawType": "int64",
         "type": "integer"
        },
        {
         "name": "think tank",
         "rawType": "int64",
         "type": "integer"
        },
        {
         "name": "think would",
         "rawType": "int64",
         "type": "integer"
        },
        {
         "name": "think would look",
         "rawType": "int64",
         "type": "integer"
        },
        {
         "name": "third",
         "rawType": "int64",
         "type": "integer"
        },
        {
         "name": "thomas",
         "rawType": "int64",
         "type": "integer"
        },
        {
         "name": "though",
         "rawType": "int64",
         "type": "integer"
        },
        {
         "name": "thought",
         "rawType": "int64",
         "type": "integer"
        },
        {
         "name": "thousand",
         "rawType": "int64",
         "type": "integer"
        },
        {
         "name": "thousand wild",
         "rawType": "int64",
         "type": "integer"
        },
        {
         "name": "thread",
         "rawType": "int64",
         "type": "integer"
        },
        {
         "name": "threat",
         "rawType": "int64",
         "type": "integer"
        },
        {
         "name": "threaten",
         "rawType": "int64",
         "type": "integer"
        },
        {
         "name": "threatened",
         "rawType": "int64",
         "type": "integer"
        },
        {
         "name": "threatening",
         "rawType": "int64",
         "type": "integer"
        },
        {
         "name": "threatens",
         "rawType": "int64",
         "type": "integer"
        },
        {
         "name": "three",
         "rawType": "int64",
         "type": "integer"
        },
        {
         "name": "throne",
         "rawType": "int64",
         "type": "integer"
        },
        {
         "name": "throne season",
         "rawType": "int64",
         "type": "integer"
        },
        {
         "name": "throw",
         "rawType": "int64",
         "type": "integer"
        },
        {
         "name": "thrown",
         "rawType": "int64",
         "type": "integer"
        },
        {
         "name": "thug",
         "rawType": "int64",
         "type": "integer"
        },
        {
         "name": "thursday",
         "rawType": "int64",
         "type": "integer"
        },
        {
         "name": "thursday evening",
         "rawType": "int64",
         "type": "integer"
        },
        {
         "name": "thursday evening briefing",
         "rawType": "int64",
         "type": "integer"
        },
        {
         "name": "ticket",
         "rawType": "int64",
         "type": "integer"
        },
        {
         "name": "tide",
         "rawType": "int64",
         "type": "integer"
        },
        {
         "name": "tie",
         "rawType": "int64",
         "type": "integer"
        },
        {
         "name": "tie new",
         "rawType": "int64",
         "type": "integer"
        },
        {
         "name": "tie new york",
         "rawType": "int64",
         "type": "integer"
        },
        {
         "name": "tied",
         "rawType": "int64",
         "type": "integer"
        },
        {
         "name": "tiger",
         "rawType": "int64",
         "type": "integer"
        },
        {
         "name": "tightens",
         "rawType": "int64",
         "type": "integer"
        },
        {
         "name": "tillerson",
         "rawType": "int64",
         "type": "integer"
        },
        {
         "name": "tim",
         "rawType": "int64",
         "type": "integer"
        },
        {
         "name": "tim kaine",
         "rawType": "int64",
         "type": "integer"
        },
        {
         "name": "time",
         "rawType": "int64",
         "type": "integer"
        },
        {
         "name": "time high",
         "rawType": "int64",
         "type": "integer"
        },
        {
         "name": "time new",
         "rawType": "int64",
         "type": "integer"
        },
        {
         "name": "time new york",
         "rawType": "int64",
         "type": "integer"
        },
        {
         "name": "time since",
         "rawType": "int64",
         "type": "integer"
        },
        {
         "name": "time trump",
         "rawType": "int64",
         "type": "integer"
        },
        {
         "name": "time year",
         "rawType": "int64",
         "type": "integer"
        },
        {
         "name": "tiny",
         "rawType": "int64",
         "type": "integer"
        },
        {
         "name": "tip",
         "rawType": "int64",
         "type": "integer"
        },
        {
         "name": "tired",
         "rawType": "int64",
         "type": "integer"
        },
        {
         "name": "title",
         "rawType": "int64",
         "type": "integer"
        },
        {
         "name": "title new",
         "rawType": "int64",
         "type": "integer"
        },
        {
         "name": "title new york",
         "rawType": "int64",
         "type": "integer"
        },
        {
         "name": "toby",
         "rawType": "int64",
         "type": "integer"
        },
        {
         "name": "today",
         "rawType": "int64",
         "type": "integer"
        },
        {
         "name": "todd",
         "rawType": "int64",
         "type": "integer"
        },
        {
         "name": "toddler",
         "rawType": "int64",
         "type": "integer"
        },
        {
         "name": "together",
         "rawType": "int64",
         "type": "integer"
        },
        {
         "name": "together new",
         "rawType": "int64",
         "type": "integer"
        },
        {
         "name": "together new york",
         "rawType": "int64",
         "type": "integer"
        },
        {
         "name": "told",
         "rawType": "int64",
         "type": "integer"
        },
        {
         "name": "toll",
         "rawType": "int64",
         "type": "integer"
        },
        {
         "name": "tom",
         "rawType": "int64",
         "type": "integer"
        },
        {
         "name": "tom brady",
         "rawType": "int64",
         "type": "integer"
        },
        {
         "name": "tom cotton",
         "rawType": "int64",
         "type": "integer"
        },
        {
         "name": "tomb",
         "rawType": "int64",
         "type": "integer"
        },
        {
         "name": "tomorrow",
         "rawType": "int64",
         "type": "integer"
        },
        {
         "name": "ton",
         "rawType": "int64",
         "type": "integer"
        },
        {
         "name": "tony",
         "rawType": "int64",
         "type": "integer"
        },
        {
         "name": "took",
         "rawType": "int64",
         "type": "integer"
        },
        {
         "name": "tool",
         "rawType": "int64",
         "type": "integer"
        },
        {
         "name": "top",
         "rawType": "int64",
         "type": "integer"
        },
        {
         "name": "torture",
         "rawType": "int64",
         "type": "integer"
        },
        {
         "name": "tory",
         "rawType": "int64",
         "type": "integer"
        },
        {
         "name": "total",
         "rawType": "int64",
         "type": "integer"
        },
        {
         "name": "totally",
         "rawType": "int64",
         "type": "integer"
        },
        {
         "name": "touch",
         "rawType": "int64",
         "type": "integer"
        },
        {
         "name": "tour",
         "rawType": "int64",
         "type": "integer"
        },
        {
         "name": "tourist",
         "rawType": "int64",
         "type": "integer"
        },
        {
         "name": "tournament",
         "rawType": "int64",
         "type": "integer"
        },
        {
         "name": "toward",
         "rawType": "int64",
         "type": "integer"
        },
        {
         "name": "towards",
         "rawType": "int64",
         "type": "integer"
        },
        {
         "name": "tower",
         "rawType": "int64",
         "type": "integer"
        },
        {
         "name": "town",
         "rawType": "int64",
         "type": "integer"
        },
        {
         "name": "town hall",
         "rawType": "int64",
         "type": "integer"
        },
        {
         "name": "toxic",
         "rawType": "int64",
         "type": "integer"
        },
        {
         "name": "tpp",
         "rawType": "int64",
         "type": "integer"
        },
        {
         "name": "track",
         "rawType": "int64",
         "type": "integer"
        },
        {
         "name": "trade",
         "rawType": "int64",
         "type": "integer"
        },
        {
         "name": "trade deal",
         "rawType": "int64",
         "type": "integer"
        },
        {
         "name": "trading",
         "rawType": "int64",
         "type": "integer"
        },
        {
         "name": "traffic",
         "rawType": "int64",
         "type": "integer"
        },
        {
         "name": "trafficking",
         "rawType": "int64",
         "type": "integer"
        },
        {
         "name": "tragedy",
         "rawType": "int64",
         "type": "integer"
        },
        {
         "name": "trail",
         "rawType": "int64",
         "type": "integer"
        },
        {
         "name": "trailer",
         "rawType": "int64",
         "type": "integer"
        },
        {
         "name": "trailer breitbart",
         "rawType": "int64",
         "type": "integer"
        },
        {
         "name": "train",
         "rawType": "int64",
         "type": "integer"
        },
        {
         "name": "training",
         "rawType": "int64",
         "type": "integer"
        },
        {
         "name": "traitor",
         "rawType": "int64",
         "type": "integer"
        },
        {
         "name": "trans",
         "rawType": "int64",
         "type": "integer"
        },
        {
         "name": "transcript",
         "rawType": "int64",
         "type": "integer"
        },
        {
         "name": "transfer",
         "rawType": "int64",
         "type": "integer"
        },
        {
         "name": "transgender",
         "rawType": "int64",
         "type": "integer"
        },
        {
         "name": "transgender student",
         "rawType": "int64",
         "type": "integer"
        },
        {
         "name": "transition",
         "rawType": "int64",
         "type": "integer"
        },
        {
         "name": "trash",
         "rawType": "int64",
         "type": "integer"
        },
        {
         "name": "travel",
         "rawType": "int64",
         "type": "integer"
        },
        {
         "name": "travel ban",
         "rawType": "int64",
         "type": "integer"
        },
        {
         "name": "traveler",
         "rawType": "int64",
         "type": "integer"
        },
        {
         "name": "treason",
         "rawType": "int64",
         "type": "integer"
        },
        {
         "name": "treasury",
         "rawType": "int64",
         "type": "integer"
        },
        {
         "name": "treat",
         "rawType": "int64",
         "type": "integer"
        },
        {
         "name": "treating",
         "rawType": "int64",
         "type": "integer"
        },
        {
         "name": "treatment",
         "rawType": "int64",
         "type": "integer"
        },
        {
         "name": "treaty",
         "rawType": "int64",
         "type": "integer"
        },
        {
         "name": "tree",
         "rawType": "int64",
         "type": "integer"
        },
        {
         "name": "trend",
         "rawType": "int64",
         "type": "integer"
        },
        {
         "name": "trial",
         "rawType": "int64",
         "type": "integer"
        },
        {
         "name": "trial new",
         "rawType": "int64",
         "type": "integer"
        },
        {
         "name": "trial new york",
         "rawType": "int64",
         "type": "integer"
        },
        {
         "name": "tribute",
         "rawType": "int64",
         "type": "integer"
        },
        {
         "name": "trick",
         "rawType": "int64",
         "type": "integer"
        },
        {
         "name": "tried",
         "rawType": "int64",
         "type": "integer"
        },
        {
         "name": "trigger",
         "rawType": "int64",
         "type": "integer"
        },
        {
         "name": "trillion",
         "rawType": "int64",
         "type": "integer"
        },
        {
         "name": "trip",
         "rawType": "int64",
         "type": "integer"
        },
        {
         "name": "triumph",
         "rawType": "int64",
         "type": "integer"
        },
        {
         "name": "troll",
         "rawType": "int64",
         "type": "integer"
        },
        {
         "name": "troop",
         "rawType": "int64",
         "type": "integer"
        },
        {
         "name": "trouble",
         "rawType": "int64",
         "type": "integer"
        },
        {
         "name": "troubled",
         "rawType": "int64",
         "type": "integer"
        },
        {
         "name": "troubling",
         "rawType": "int64",
         "type": "integer"
        },
        {
         "name": "truck",
         "rawType": "int64",
         "type": "integer"
        },
        {
         "name": "trudeau",
         "rawType": "int64",
         "type": "integer"
        },
        {
         "name": "true",
         "rawType": "int64",
         "type": "integer"
        },
        {
         "name": "trump",
         "rawType": "int64",
         "type": "integer"
        },
        {
         "name": "trump administration",
         "rawType": "int64",
         "type": "integer"
        },
        {
         "name": "trump adviser",
         "rawType": "int64",
         "type": "integer"
        },
        {
         "name": "trump aide",
         "rawType": "int64",
         "type": "integer"
        },
        {
         "name": "trump attack",
         "rawType": "int64",
         "type": "integer"
        },
        {
         "name": "trump border",
         "rawType": "int64",
         "type": "integer"
        },
        {
         "name": "trump breitbart",
         "rawType": "int64",
         "type": "integer"
        },
        {
         "name": "trump budget",
         "rawType": "int64",
         "type": "integer"
        },
        {
         "name": "trump cabinet",
         "rawType": "int64",
         "type": "integer"
        },
        {
         "name": "trump call",
         "rawType": "int64",
         "type": "integer"
        },
        {
         "name": "trump campaign",
         "rawType": "int64",
         "type": "integer"
        },
        {
         "name": "trump celebrates",
         "rawType": "int64",
         "type": "integer"
        },
        {
         "name": "trump clinton",
         "rawType": "int64",
         "type": "integer"
        },
        {
         "name": "trump could",
         "rawType": "int64",
         "type": "integer"
        },
        {
         "name": "trump economic",
         "rawType": "int64",
         "type": "integer"
        },
        {
         "name": "trump elected",
         "rawType": "int64",
         "type": "integer"
        },
        {
         "name": "trump election",
         "rawType": "int64",
         "type": "integer"
        },
        {
         "name": "trump era",
         "rawType": "int64",
         "type": "integer"
        },
        {
         "name": "trump executive",
         "rawType": "int64",
         "type": "integer"
        },
        {
         "name": "trump face",
         "rawType": "int64",
         "type": "integer"
        },
        {
         "name": "trump family",
         "rawType": "int64",
         "type": "integer"
        },
        {
         "name": "trump first",
         "rawType": "int64",
         "type": "integer"
        },
        {
         "name": "trump first day",
         "rawType": "int64",
         "type": "integer"
        },
        {
         "name": "trump get",
         "rawType": "int64",
         "type": "integer"
        },
        {
         "name": "trump going",
         "rawType": "int64",
         "type": "integer"
        },
        {
         "name": "trump hillary",
         "rawType": "int64",
         "type": "integer"
        },
        {
         "name": "trump hillary clinton",
         "rawType": "int64",
         "type": "integer"
        },
        {
         "name": "trump hit",
         "rawType": "int64",
         "type": "integer"
        },
        {
         "name": "trump hollywood",
         "rawType": "int64",
         "type": "integer"
        },
        {
         "name": "trump immigration",
         "rawType": "int64",
         "type": "integer"
        },
        {
         "name": "trump immigration order",
         "rawType": "int64",
         "type": "integer"
        },
        {
         "name": "trump inauguration",
         "rawType": "int64",
         "type": "integer"
        },
        {
         "name": "trump israel",
         "rawType": "int64",
         "type": "integer"
        },
        {
         "name": "trump loses",
         "rawType": "int64",
         "type": "integer"
        },
        {
         "name": "trump loses grabbing",
         "rawType": "int64",
         "type": "integer"
        },
        {
         "name": "trump make",
         "rawType": "int64",
         "type": "integer"
        },
        {
         "name": "trump making",
         "rawType": "int64",
         "type": "integer"
        },
        {
         "name": "trump may",
         "rawType": "int64",
         "type": "integer"
        },
        {
         "name": "trump medium",
         "rawType": "int64",
         "type": "integer"
        },
        {
         "name": "trump meet",
         "rawType": "int64",
         "type": "integer"
        },
        {
         "name": "trump might",
         "rawType": "int64",
         "type": "integer"
        },
        {
         "name": "trump move",
         "rawType": "int64",
         "type": "integer"
        },
        {
         "name": "trump must",
         "rawType": "int64",
         "type": "integer"
        },
        {
         "name": "trump need",
         "rawType": "int64",
         "type": "integer"
        },
        {
         "name": "trump new",
         "rawType": "int64",
         "type": "integer"
        },
        {
         "name": "trump new york",
         "rawType": "int64",
         "type": "integer"
        },
        {
         "name": "trump nominee",
         "rawType": "int64",
         "type": "integer"
        },
        {
         "name": "trump offer",
         "rawType": "int64",
         "type": "integer"
        },
        {
         "name": "trump order",
         "rawType": "int64",
         "type": "integer"
        },
        {
         "name": "trump paris",
         "rawType": "int64",
         "type": "integer"
        },
        {
         "name": "trump pick",
         "rawType": "int64",
         "type": "integer"
        },
        {
         "name": "trump plan",
         "rawType": "int64",
         "type": "integer"
        },
        {
         "name": "trump presidency",
         "rawType": "int64",
         "type": "integer"
        },
        {
         "name": "trump president",
         "rawType": "int64",
         "type": "integer"
        },
        {
         "name": "trump promise",
         "rawType": "int64",
         "type": "integer"
        },
        {
         "name": "trump protest",
         "rawType": "int64",
         "type": "integer"
        },
        {
         "name": "trump protester",
         "rawType": "int64",
         "type": "integer"
        },
        {
         "name": "trump protester tool",
         "rawType": "int64",
         "type": "integer"
        },
        {
         "name": "trump push",
         "rawType": "int64",
         "type": "integer"
        },
        {
         "name": "trump put",
         "rawType": "int64",
         "type": "integer"
        },
        {
         "name": "trump putin",
         "rawType": "int64",
         "type": "integer"
        },
        {
         "name": "trump rally",
         "rawType": "int64",
         "type": "integer"
        },
        {
         "name": "trump right",
         "rawType": "int64",
         "type": "integer"
        },
        {
         "name": "trump russia",
         "rawType": "int64",
         "type": "integer"
        },
        {
         "name": "trump say",
         "rawType": "int64",
         "type": "integer"
        },
        {
         "name": "trump sign",
         "rawType": "int64",
         "type": "integer"
        },
        {
         "name": "trump speech",
         "rawType": "int64",
         "type": "integer"
        },
        {
         "name": "trump star",
         "rawType": "int64",
         "type": "integer"
        },
        {
         "name": "trump supporter",
         "rawType": "int64",
         "type": "integer"
        },
        {
         "name": "trump take",
         "rawType": "int64",
         "type": "integer"
        },
        {
         "name": "trump team",
         "rawType": "int64",
         "type": "integer"
        },
        {
         "name": "trump tell",
         "rawType": "int64",
         "type": "integer"
        },
        {
         "name": "trump time",
         "rawType": "int64",
         "type": "integer"
        },
        {
         "name": "trump tower",
         "rawType": "int64",
         "type": "integer"
        },
        {
         "name": "trump transition",
         "rawType": "int64",
         "type": "integer"
        },
        {
         "name": "trump travel",
         "rawType": "int64",
         "type": "integer"
        },
        {
         "name": "trump travel ban",
         "rawType": "int64",
         "type": "integer"
        },
        {
         "name": "trump truthfeed",
         "rawType": "int64",
         "type": "integer"
        },
        {
         "name": "trump tweet",
         "rawType": "int64",
         "type": "integer"
        },
        {
         "name": "trump twitter",
         "rawType": "int64",
         "type": "integer"
        },
        {
         "name": "trump us",
         "rawType": "int64",
         "type": "integer"
        },
        {
         "name": "trump used",
         "rawType": "int64",
         "type": "integer"
        },
        {
         "name": "trump victory",
         "rawType": "int64",
         "type": "integer"
        },
        {
         "name": "trump video",
         "rawType": "int64",
         "type": "integer"
        },
        {
         "name": "trump visit",
         "rawType": "int64",
         "type": "integer"
        },
        {
         "name": "trump voter",
         "rawType": "int64",
         "type": "integer"
        },
        {
         "name": "trump voting",
         "rawType": "int64",
         "type": "integer"
        },
        {
         "name": "trump vow",
         "rawType": "int64",
         "type": "integer"
        },
        {
         "name": "trump wall",
         "rawType": "int64",
         "type": "integer"
        },
        {
         "name": "trump want",
         "rawType": "int64",
         "type": "integer"
        },
        {
         "name": "trump warns",
         "rawType": "int64",
         "type": "integer"
        },
        {
         "name": "trump whistle",
         "rawType": "int64",
         "type": "integer"
        },
        {
         "name": "trump white",
         "rawType": "int64",
         "type": "integer"
        },
        {
         "name": "trump white house",
         "rawType": "int64",
         "type": "integer"
        },
        {
         "name": "trump win",
         "rawType": "int64",
         "type": "integer"
        },
        {
         "name": "trump winning",
         "rawType": "int64",
         "type": "integer"
        },
        {
         "name": "trump woman",
         "rawType": "int64",
         "type": "integer"
        },
        {
         "name": "trump world",
         "rawType": "int64",
         "type": "integer"
        },
        {
         "name": "trump would",
         "rawType": "int64",
         "type": "integer"
        },
        {
         "name": "trumpers",
         "rawType": "int64",
         "type": "integer"
        },
        {
         "name": "trust",
         "rawType": "int64",
         "type": "integer"
        },
        {
         "name": "truth",
         "rawType": "int64",
         "type": "integer"
        },
        {
         "name": "truth new",
         "rawType": "int64",
         "type": "integer"
        },
        {
         "name": "truth new york",
         "rawType": "int64",
         "type": "integer"
        },
        {
         "name": "truth trump",
         "rawType": "int64",
         "type": "integer"
        },
        {
         "name": "truthfeed",
         "rawType": "int64",
         "type": "integer"
        },
        {
         "name": "try",
         "rawType": "int64",
         "type": "integer"
        },
        {
         "name": "trying",
         "rawType": "int64",
         "type": "integer"
        },
        {
         "name": "trying steal",
         "rawType": "int64",
         "type": "integer"
        },
        {
         "name": "tu",
         "rawType": "int64",
         "type": "integer"
        },
        {
         "name": "tucker",
         "rawType": "int64",
         "type": "integer"
        },
        {
         "name": "tucker carlson",
         "rawType": "int64",
         "type": "integer"
        },
        {
         "name": "tuesday",
         "rawType": "int64",
         "type": "integer"
        },
        {
         "name": "tuesday briefing",
         "rawType": "int64",
         "type": "integer"
        },
        {
         "name": "tuesday briefing new",
         "rawType": "int64",
         "type": "integer"
        },
        {
         "name": "tuesday evening",
         "rawType": "int64",
         "type": "integer"
        },
        {
         "name": "tuesday evening briefing",
         "rawType": "int64",
         "type": "integer"
        },
        {
         "name": "tuition",
         "rawType": "int64",
         "type": "integer"
        },
        {
         "name": "tulsa",
         "rawType": "int64",
         "type": "integer"
        },
        {
         "name": "tumor",
         "rawType": "int64",
         "type": "integer"
        },
        {
         "name": "turf",
         "rawType": "int64",
         "type": "integer"
        },
        {
         "name": "turf new",
         "rawType": "int64",
         "type": "integer"
        },
        {
         "name": "turf new york",
         "rawType": "int64",
         "type": "integer"
        },
        {
         "name": "turkey",
         "rawType": "int64",
         "type": "integer"
        },
        {
         "name": "turkish",
         "rawType": "int64",
         "type": "integer"
        },
        {
         "name": "turmoil",
         "rawType": "int64",
         "type": "integer"
        },
        {
         "name": "turn",
         "rawType": "int64",
         "type": "integer"
        },
        {
         "name": "turn badge",
         "rawType": "int64",
         "type": "integer"
        },
        {
         "name": "turned",
         "rawType": "int64",
         "type": "integer"
        },
        {
         "name": "turner",
         "rawType": "int64",
         "type": "integer"
        },
        {
         "name": "turning",
         "rawType": "int64",
         "type": "integer"
        },
        {
         "name": "turnout",
         "rawType": "int64",
         "type": "integer"
        },
        {
         "name": "tv",
         "rawType": "int64",
         "type": "integer"
        },
        {
         "name": "tweet",
         "rawType": "int64",
         "type": "integer"
        },
        {
         "name": "twice",
         "rawType": "int64",
         "type": "integer"
        },
        {
         "name": "twin",
         "rawType": "int64",
         "type": "integer"
        },
        {
         "name": "twist",
         "rawType": "int64",
         "type": "integer"
        },
        {
         "name": "twitter",
         "rawType": "int64",
         "type": "integer"
        },
        {
         "name": "twitter breitbart",
         "rawType": "int64",
         "type": "integer"
        },
        {
         "name": "two",
         "rawType": "int64",
         "type": "integer"
        },
        {
         "name": "two year",
         "rawType": "int64",
         "type": "integer"
        },
        {
         "name": "type",
         "rawType": "int64",
         "type": "integer"
        },
        {
         "name": "tyranny",
         "rawType": "int64",
         "type": "integer"
        },
        {
         "name": "uber",
         "rawType": "int64",
         "type": "integer"
        },
        {
         "name": "uc",
         "rawType": "int64",
         "type": "integer"
        },
        {
         "name": "uc berkeley",
         "rawType": "int64",
         "type": "integer"
        },
        {
         "name": "uc davis",
         "rawType": "int64",
         "type": "integer"
        },
        {
         "name": "ufo",
         "rawType": "int64",
         "type": "integer"
        },
        {
         "name": "ugly",
         "rawType": "int64",
         "type": "integer"
        },
        {
         "name": "uk",
         "rawType": "int64",
         "type": "integer"
        },
        {
         "name": "uk child",
         "rawType": "int64",
         "type": "integer"
        },
        {
         "name": "ukraine",
         "rawType": "int64",
         "type": "integer"
        },
        {
         "name": "ukrainian",
         "rawType": "int64",
         "type": "integer"
        },
        {
         "name": "ultimate",
         "rawType": "int64",
         "type": "integer"
        },
        {
         "name": "un",
         "rawType": "int64",
         "type": "integer"
        },
        {
         "name": "un human",
         "rawType": "int64",
         "type": "integer"
        },
        {
         "name": "un human right",
         "rawType": "int64",
         "type": "integer"
        },
        {
         "name": "una",
         "rawType": "int64",
         "type": "integer"
        },
        {
         "name": "uncertain",
         "rawType": "int64",
         "type": "integer"
        },
        {
         "name": "uncertainty",
         "rawType": "int64",
         "type": "integer"
        },
        {
         "name": "uncovered",
         "rawType": "int64",
         "type": "integer"
        },
        {
         "name": "underground",
         "rawType": "int64",
         "type": "integer"
        },
        {
         "name": "undermine",
         "rawType": "int64",
         "type": "integer"
        },
        {
         "name": "undermining",
         "rawType": "int64",
         "type": "integer"
        },
        {
         "name": "understand",
         "rawType": "int64",
         "type": "integer"
        },
        {
         "name": "underway",
         "rawType": "int64",
         "type": "integer"
        },
        {
         "name": "undocumented",
         "rawType": "int64",
         "type": "integer"
        },
        {
         "name": "uneasy",
         "rawType": "int64",
         "type": "integer"
        },
        {
         "name": "uneducated",
         "rawType": "int64",
         "type": "integer"
        },
        {
         "name": "unemployment",
         "rawType": "int64",
         "type": "integer"
        },
        {
         "name": "unesco",
         "rawType": "int64",
         "type": "integer"
        },
        {
         "name": "union",
         "rawType": "int64",
         "type": "integer"
        },
        {
         "name": "unite",
         "rawType": "int64",
         "type": "integer"
        },
        {
         "name": "united",
         "rawType": "int64",
         "type": "integer"
        },
        {
         "name": "united airline",
         "rawType": "int64",
         "type": "integer"
        },
        {
         "name": "united state",
         "rawType": "int64",
         "type": "integer"
        },
        {
         "name": "unity",
         "rawType": "int64",
         "type": "integer"
        },
        {
         "name": "universal",
         "rawType": "int64",
         "type": "integer"
        },
        {
         "name": "universe",
         "rawType": "int64",
         "type": "integer"
        },
        {
         "name": "university",
         "rawType": "int64",
         "type": "integer"
        },
        {
         "name": "unlikely",
         "rawType": "int64",
         "type": "integer"
        },
        {
         "name": "unmasking",
         "rawType": "int64",
         "type": "integer"
        },
        {
         "name": "unprecedented",
         "rawType": "int64",
         "type": "integer"
        },
        {
         "name": "unrest",
         "rawType": "int64",
         "type": "integer"
        },
        {
         "name": "unrest survey",
         "rawType": "int64",
         "type": "integer"
        },
        {
         "name": "unrest survey find",
         "rawType": "int64",
         "type": "integer"
        },
        {
         "name": "unthinkable",
         "rawType": "int64",
         "type": "integer"
        },
        {
         "name": "unveiled",
         "rawType": "int64",
         "type": "integer"
        },
        {
         "name": "unveils",
         "rawType": "int64",
         "type": "integer"
        },
        {
         "name": "update",
         "rawType": "int64",
         "type": "integer"
        },
        {
         "name": "updated",
         "rawType": "int64",
         "type": "integer"
        },
        {
         "name": "upgrade",
         "rawType": "int64",
         "type": "integer"
        },
        {
         "name": "upholds",
         "rawType": "int64",
         "type": "integer"
        },
        {
         "name": "upon",
         "rawType": "int64",
         "type": "integer"
        },
        {
         "name": "upset",
         "rawType": "int64",
         "type": "integer"
        },
        {
         "name": "upside",
         "rawType": "int64",
         "type": "integer"
        },
        {
         "name": "urge",
         "rawType": "int64",
         "type": "integer"
        },
        {
         "name": "urged",
         "rawType": "int64",
         "type": "integer"
        },
        {
         "name": "urging",
         "rawType": "int64",
         "type": "integer"
        },
        {
         "name": "us",
         "rawType": "int64",
         "type": "integer"
        },
        {
         "name": "usa",
         "rawType": "int64",
         "type": "integer"
        },
        {
         "name": "usa today",
         "rawType": "int64",
         "type": "integer"
        },
        {
         "name": "usapoliticsnow",
         "rawType": "int64",
         "type": "integer"
        },
        {
         "name": "use",
         "rawType": "int64",
         "type": "integer"
        },
        {
         "name": "used",
         "rawType": "int64",
         "type": "integer"
        },
        {
         "name": "user",
         "rawType": "int64",
         "type": "integer"
        },
        {
         "name": "using",
         "rawType": "int64",
         "type": "integer"
        },
        {
         "name": "utility",
         "rawType": "int64",
         "type": "integer"
        },
        {
         "name": "utility commission",
         "rawType": "int64",
         "type": "integer"
        },
        {
         "name": "utility commission one",
         "rawType": "int64",
         "type": "integer"
        },
        {
         "name": "va",
         "rawType": "int64",
         "type": "integer"
        },
        {
         "name": "vacation",
         "rawType": "int64",
         "type": "integer"
        },
        {
         "name": "vacation new",
         "rawType": "int64",
         "type": "integer"
        },
        {
         "name": "vacation new york",
         "rawType": "int64",
         "type": "integer"
        },
        {
         "name": "vaccine",
         "rawType": "int64",
         "type": "integer"
        },
        {
         "name": "valley",
         "rawType": "int64",
         "type": "integer"
        },
        {
         "name": "value",
         "rawType": "int64",
         "type": "integer"
        },
        {
         "name": "van",
         "rawType": "int64",
         "type": "integer"
        },
        {
         "name": "vast",
         "rawType": "int64",
         "type": "integer"
        },
        {
         "name": "vatican",
         "rawType": "int64",
         "type": "integer"
        },
        {
         "name": "venezuela",
         "rawType": "int64",
         "type": "integer"
        },
        {
         "name": "venezuelan",
         "rawType": "int64",
         "type": "integer"
        },
        {
         "name": "verdict",
         "rawType": "int64",
         "type": "integer"
        },
        {
         "name": "veritas",
         "rawType": "int64",
         "type": "integer"
        },
        {
         "name": "version",
         "rawType": "int64",
         "type": "integer"
        },
        {
         "name": "vet",
         "rawType": "int64",
         "type": "integer"
        },
        {
         "name": "veteran",
         "rawType": "int64",
         "type": "integer"
        },
        {
         "name": "veto",
         "rawType": "int64",
         "type": "integer"
        },
        {
         "name": "vetting",
         "rawType": "int64",
         "type": "integer"
        },
        {
         "name": "via",
         "rawType": "int64",
         "type": "integer"
        },
        {
         "name": "vice",
         "rawType": "int64",
         "type": "integer"
        },
        {
         "name": "vice president",
         "rawType": "int64",
         "type": "integer"
        },
        {
         "name": "victim",
         "rawType": "int64",
         "type": "integer"
        },
        {
         "name": "victory",
         "rawType": "int64",
         "type": "integer"
        },
        {
         "name": "video",
         "rawType": "int64",
         "type": "integer"
        },
        {
         "name": "video show",
         "rawType": "int64",
         "type": "integer"
        },
        {
         "name": "vietnam",
         "rawType": "int64",
         "type": "integer"
        },
        {
         "name": "view",
         "rawType": "int64",
         "type": "integer"
        },
        {
         "name": "village",
         "rawType": "int64",
         "type": "integer"
        },
        {
         "name": "vineyard",
         "rawType": "int64",
         "type": "integer"
        },
        {
         "name": "vineyard saker",
         "rawType": "int64",
         "type": "integer"
        },
        {
         "name": "violate",
         "rawType": "int64",
         "type": "integer"
        },
        {
         "name": "violates",
         "rawType": "int64",
         "type": "integer"
        },
        {
         "name": "violence",
         "rawType": "int64",
         "type": "integer"
        },
        {
         "name": "violent",
         "rawType": "int64",
         "type": "integer"
        },
        {
         "name": "viral",
         "rawType": "int64",
         "type": "integer"
        },
        {
         "name": "virgil",
         "rawType": "int64",
         "type": "integer"
        },
        {
         "name": "virginia",
         "rawType": "int64",
         "type": "integer"
        },
        {
         "name": "virus",
         "rawType": "int64",
         "type": "integer"
        },
        {
         "name": "visa",
         "rawType": "int64",
         "type": "integer"
        },
        {
         "name": "vision",
         "rawType": "int64",
         "type": "integer"
        },
        {
         "name": "visit",
         "rawType": "int64",
         "type": "integer"
        },
        {
         "name": "visiting",
         "rawType": "int64",
         "type": "integer"
        },
        {
         "name": "vitamin",
         "rawType": "int64",
         "type": "integer"
        },
        {
         "name": "vladimir",
         "rawType": "int64",
         "type": "integer"
        },
        {
         "name": "vladimir putin",
         "rawType": "int64",
         "type": "integer"
        },
        {
         "name": "vogue",
         "rawType": "int64",
         "type": "integer"
        },
        {
         "name": "voice",
         "rawType": "int64",
         "type": "integer"
        },
        {
         "name": "volkswagen",
         "rawType": "int64",
         "type": "integer"
        },
        {
         "name": "volunteer",
         "rawType": "int64",
         "type": "integer"
        },
        {
         "name": "von",
         "rawType": "int64",
         "type": "integer"
        },
        {
         "name": "vote",
         "rawType": "int64",
         "type": "integer"
        },
        {
         "name": "vote breitbart",
         "rawType": "int64",
         "type": "integer"
        },
        {
         "name": "vote donald",
         "rawType": "int64",
         "type": "integer"
        },
        {
         "name": "vote donald trump",
         "rawType": "int64",
         "type": "integer"
        },
        {
         "name": "vote hillary",
         "rawType": "int64",
         "type": "integer"
        },
        {
         "name": "vote new",
         "rawType": "int64",
         "type": "integer"
        },
        {
         "name": "vote new york",
         "rawType": "int64",
         "type": "integer"
        },
        {
         "name": "vote recount",
         "rawType": "int64",
         "type": "integer"
        },
        {
         "name": "vote trump",
         "rawType": "int64",
         "type": "integer"
        },
        {
         "name": "vote warmonger",
         "rawType": "int64",
         "type": "integer"
        },
        {
         "name": "vote warmonger hillary",
         "rawType": "int64",
         "type": "integer"
        },
        {
         "name": "vote world",
         "rawType": "int64",
         "type": "integer"
        },
        {
         "name": "vote world war",
         "rawType": "int64",
         "type": "integer"
        },
        {
         "name": "voted",
         "rawType": "int64",
         "type": "integer"
        },
        {
         "name": "voter",
         "rawType": "int64",
         "type": "integer"
        },
        {
         "name": "voter fraud",
         "rawType": "int64",
         "type": "integer"
        },
        {
         "name": "voter suppression",
         "rawType": "int64",
         "type": "integer"
        },
        {
         "name": "voting",
         "rawType": "int64",
         "type": "integer"
        },
        {
         "name": "voting donald",
         "rawType": "int64",
         "type": "integer"
        },
        {
         "name": "voting donald trump",
         "rawType": "int64",
         "type": "integer"
        },
        {
         "name": "voting machine",
         "rawType": "int64",
         "type": "integer"
        },
        {
         "name": "voting trump",
         "rawType": "int64",
         "type": "integer"
        },
        {
         "name": "vow",
         "rawType": "int64",
         "type": "integer"
        },
        {
         "name": "vp",
         "rawType": "int64",
         "type": "integer"
        },
        {
         "name": "vulnerable",
         "rawType": "int64",
         "type": "integer"
        },
        {
         "name": "wade",
         "rawType": "int64",
         "type": "integer"
        },
        {
         "name": "wage",
         "rawType": "int64",
         "type": "integer"
        },
        {
         "name": "wait",
         "rawType": "int64",
         "type": "integer"
        },
        {
         "name": "wait new",
         "rawType": "int64",
         "type": "integer"
        },
        {
         "name": "wait new york",
         "rawType": "int64",
         "type": "integer"
        },
        {
         "name": "waiting",
         "rawType": "int64",
         "type": "integer"
        },
        {
         "name": "wake",
         "rawType": "int64",
         "type": "integer"
        },
        {
         "name": "walk",
         "rawType": "int64",
         "type": "integer"
        },
        {
         "name": "walk fame",
         "rawType": "int64",
         "type": "integer"
        },
        {
         "name": "walking",
         "rawType": "int64",
         "type": "integer"
        },
        {
         "name": "wall",
         "rawType": "int64",
         "type": "integer"
        },
        {
         "name": "wall breitbart",
         "rawType": "int64",
         "type": "integer"
        },
        {
         "name": "wall new",
         "rawType": "int64",
         "type": "integer"
        },
        {
         "name": "wall new york",
         "rawType": "int64",
         "type": "integer"
        },
        {
         "name": "wall street",
         "rawType": "int64",
         "type": "integer"
        },
        {
         "name": "wall street journal",
         "rawType": "int64",
         "type": "integer"
        },
        {
         "name": "want",
         "rawType": "int64",
         "type": "integer"
        },
        {
         "name": "want acknowledge",
         "rawType": "int64",
         "type": "integer"
        },
        {
         "name": "want acknowledge emf",
         "rawType": "int64",
         "type": "integer"
        },
        {
         "name": "want know",
         "rawType": "int64",
         "type": "integer"
        },
        {
         "name": "wanted",
         "rawType": "int64",
         "type": "integer"
        },
        {
         "name": "wapo",
         "rawType": "int64",
         "type": "integer"
        },
        {
         "name": "war",
         "rawType": "int64",
         "type": "integer"
        },
        {
         "name": "war crime",
         "rawType": "int64",
         "type": "integer"
        },
        {
         "name": "war ii",
         "rawType": "int64",
         "type": "integer"
        },
        {
         "name": "war iii",
         "rawType": "int64",
         "type": "integer"
        },
        {
         "name": "war new",
         "rawType": "int64",
         "type": "integer"
        },
        {
         "name": "war new york",
         "rawType": "int64",
         "type": "integer"
        },
        {
         "name": "war report",
         "rawType": "int64",
         "type": "integer"
        },
        {
         "name": "war report november",
         "rawType": "int64",
         "type": "integer"
        },
        {
         "name": "war russia",
         "rawType": "int64",
         "type": "integer"
        },
        {
         "name": "war syria",
         "rawType": "int64",
         "type": "integer"
        },
        {
         "name": "warming",
         "rawType": "int64",
         "type": "integer"
        },
        {
         "name": "warmonger",
         "rawType": "int64",
         "type": "integer"
        },
        {
         "name": "warmonger hillary",
         "rawType": "int64",
         "type": "integer"
        },
        {
         "name": "warmonger hillary clinton",
         "rawType": "int64",
         "type": "integer"
        },
        {
         "name": "warn",
         "rawType": "int64",
         "type": "integer"
        },
        {
         "name": "warned",
         "rawType": "int64",
         "type": "integer"
        },
        {
         "name": "warner",
         "rawType": "int64",
         "type": "integer"
        },
        {
         "name": "warning",
         "rawType": "int64",
         "type": "integer"
        },
        {
         "name": "warns",
         "rawType": "int64",
         "type": "integer"
        },
        {
         "name": "warrant",
         "rawType": "int64",
         "type": "integer"
        },
        {
         "name": "warren",
         "rawType": "int64",
         "type": "integer"
        },
        {
         "name": "warrior",
         "rawType": "int64",
         "type": "integer"
        },
        {
         "name": "wary",
         "rawType": "int64",
         "type": "integer"
        },
        {
         "name": "washington",
         "rawType": "int64",
         "type": "integer"
        },
        {
         "name": "washington new",
         "rawType": "int64",
         "type": "integer"
        },
        {
         "name": "washington new york",
         "rawType": "int64",
         "type": "integer"
        },
        {
         "name": "watch",
         "rawType": "int64",
         "type": "integer"
        },
        {
         "name": "watch hillary",
         "rawType": "int64",
         "type": "integer"
        },
        {
         "name": "watch trump",
         "rawType": "int64",
         "type": "integer"
        },
        {
         "name": "watching",
         "rawType": "int64",
         "type": "integer"
        },
        {
         "name": "water",
         "rawType": "int64",
         "type": "integer"
        },
        {
         "name": "water cooler",
         "rawType": "int64",
         "type": "integer"
        },
        {
         "name": "water new",
         "rawType": "int64",
         "type": "integer"
        },
        {
         "name": "water new york",
         "rawType": "int64",
         "type": "integer"
        },
        {
         "name": "water protector",
         "rawType": "int64",
         "type": "integer"
        },
        {
         "name": "watergate",
         "rawType": "int64",
         "type": "integer"
        },
        {
         "name": "wave",
         "rawType": "int64",
         "type": "integer"
        },
        {
         "name": "way",
         "rawType": "int64",
         "type": "integer"
        },
        {
         "name": "way new",
         "rawType": "int64",
         "type": "integer"
        },
        {
         "name": "way new york",
         "rawType": "int64",
         "type": "integer"
        },
        {
         "name": "weak",
         "rawType": "int64",
         "type": "integer"
        },
        {
         "name": "wealth",
         "rawType": "int64",
         "type": "integer"
        },
        {
         "name": "weapon",
         "rawType": "int64",
         "type": "integer"
        },
        {
         "name": "wear",
         "rawType": "int64",
         "type": "integer"
        },
        {
         "name": "wearing",
         "rawType": "int64",
         "type": "integer"
        },
        {
         "name": "weather",
         "rawType": "int64",
         "type": "integer"
        },
        {
         "name": "web",
         "rawType": "int64",
         "type": "integer"
        },
        {
         "name": "website",
         "rawType": "int64",
         "type": "integer"
        },
        {
         "name": "wedding",
         "rawType": "int64",
         "type": "integer"
        },
        {
         "name": "wednesday",
         "rawType": "int64",
         "type": "integer"
        },
        {
         "name": "wednesday briefing",
         "rawType": "int64",
         "type": "integer"
        },
        {
         "name": "wednesday briefing new",
         "rawType": "int64",
         "type": "integer"
        },
        {
         "name": "wednesday evening",
         "rawType": "int64",
         "type": "integer"
        },
        {
         "name": "wednesday evening briefing",
         "rawType": "int64",
         "type": "integer"
        },
        {
         "name": "week",
         "rawType": "int64",
         "type": "integer"
        },
        {
         "name": "week breitbart",
         "rawType": "int64",
         "type": "integer"
        },
        {
         "name": "week new",
         "rawType": "int64",
         "type": "integer"
        },
        {
         "name": "week new york",
         "rawType": "int64",
         "type": "integer"
        },
        {
         "name": "weekend",
         "rawType": "int64",
         "type": "integer"
        },
        {
         "name": "weekend briefing",
         "rawType": "int64",
         "type": "integer"
        },
        {
         "name": "weekend briefing new",
         "rawType": "int64",
         "type": "integer"
        },
        {
         "name": "weekend new",
         "rawType": "int64",
         "type": "integer"
        },
        {
         "name": "weekend new york",
         "rawType": "int64",
         "type": "integer"
        },
        {
         "name": "weighs",
         "rawType": "int64",
         "type": "integer"
        },
        {
         "name": "weight",
         "rawType": "int64",
         "type": "integer"
        },
        {
         "name": "weiner",
         "rawType": "int64",
         "type": "integer"
        },
        {
         "name": "weird",
         "rawType": "int64",
         "type": "integer"
        },
        {
         "name": "welcome",
         "rawType": "int64",
         "type": "integer"
        },
        {
         "name": "welfare",
         "rawType": "int64",
         "type": "integer"
        },
        {
         "name": "well",
         "rawType": "int64",
         "type": "integer"
        },
        {
         "name": "well fargo",
         "rawType": "int64",
         "type": "integer"
        },
        {
         "name": "went",
         "rawType": "int64",
         "type": "integer"
        },
        {
         "name": "west",
         "rawType": "int64",
         "type": "integer"
        },
        {
         "name": "west bank",
         "rawType": "int64",
         "type": "integer"
        },
        {
         "name": "western",
         "rawType": "int64",
         "type": "integer"
        },
        {
         "name": "wh",
         "rawType": "int64",
         "type": "integer"
        },
        {
         "name": "whatever",
         "rawType": "int64",
         "type": "integer"
        },
        {
         "name": "whistle",
         "rawType": "int64",
         "type": "integer"
        },
        {
         "name": "whistleblower",
         "rawType": "int64",
         "type": "integer"
        },
        {
         "name": "white",
         "rawType": "int64",
         "type": "integer"
        },
        {
         "name": "white house",
         "rawType": "int64",
         "type": "integer"
        },
        {
         "name": "white house breitbart",
         "rawType": "int64",
         "type": "integer"
        },
        {
         "name": "white house new",
         "rawType": "int64",
         "type": "integer"
        },
        {
         "name": "whole",
         "rawType": "int64",
         "type": "integer"
        },
        {
         "name": "whose",
         "rawType": "int64",
         "type": "integer"
        },
        {
         "name": "wider",
         "rawType": "int64",
         "type": "integer"
        },
        {
         "name": "wife",
         "rawType": "int64",
         "type": "integer"
        },
        {
         "name": "wikileaks",
         "rawType": "int64",
         "type": "integer"
        },
        {
         "name": "wikileaks clinton",
         "rawType": "int64",
         "type": "integer"
        },
        {
         "name": "wikileaks email",
         "rawType": "int64",
         "type": "integer"
        },
        {
         "name": "wikileaks hillary",
         "rawType": "int64",
         "type": "integer"
        },
        {
         "name": "wikileaks release",
         "rawType": "int64",
         "type": "integer"
        },
        {
         "name": "wild",
         "rawType": "int64",
         "type": "integer"
        },
        {
         "name": "wilder",
         "rawType": "int64",
         "type": "integer"
        },
        {
         "name": "wildlife",
         "rawType": "int64",
         "type": "integer"
        },
        {
         "name": "wildlife refuge",
         "rawType": "int64",
         "type": "integer"
        },
        {
         "name": "william",
         "rawType": "int64",
         "type": "integer"
        },
        {
         "name": "williams",
         "rawType": "int64",
         "type": "integer"
        },
        {
         "name": "win",
         "rawType": "int64",
         "type": "integer"
        },
        {
         "name": "win breitbart",
         "rawType": "int64",
         "type": "integer"
        },
        {
         "name": "win clinton",
         "rawType": "int64",
         "type": "integer"
        },
        {
         "name": "win election",
         "rawType": "int64",
         "type": "integer"
        },
        {
         "name": "win presidency",
         "rawType": "int64",
         "type": "integer"
        },
        {
         "name": "wind",
         "rawType": "int64",
         "type": "integer"
        },
        {
         "name": "window",
         "rawType": "int64",
         "type": "integer"
        },
        {
         "name": "wine",
         "rawType": "int64",
         "type": "integer"
        },
        {
         "name": "wing",
         "rawType": "int64",
         "type": "integer"
        },
        {
         "name": "winner",
         "rawType": "int64",
         "type": "integer"
        },
        {
         "name": "winning",
         "rawType": "int64",
         "type": "integer"
        },
        {
         "name": "winter",
         "rawType": "int64",
         "type": "integer"
        },
        {
         "name": "wire",
         "rawType": "int64",
         "type": "integer"
        },
        {
         "name": "wiretap",
         "rawType": "int64",
         "type": "integer"
        },
        {
         "name": "wisconsin",
         "rawType": "int64",
         "type": "integer"
        },
        {
         "name": "wish",
         "rawType": "int64",
         "type": "integer"
        },
        {
         "name": "withdraw",
         "rawType": "int64",
         "type": "integer"
        },
        {
         "name": "within",
         "rawType": "int64",
         "type": "integer"
        },
        {
         "name": "without",
         "rawType": "int64",
         "type": "integer"
        },
        {
         "name": "witness",
         "rawType": "int64",
         "type": "integer"
        },
        {
         "name": "wolf",
         "rawType": "int64",
         "type": "integer"
        },
        {
         "name": "woman",
         "rawType": "int64",
         "type": "integer"
        },
        {
         "name": "woman march",
         "rawType": "int64",
         "type": "integer"
        },
        {
         "name": "woman new",
         "rawType": "int64",
         "type": "integer"
        },
        {
         "name": "woman new york",
         "rawType": "int64",
         "type": "integer"
        },
        {
         "name": "woman wear",
         "rawType": "int64",
         "type": "integer"
        },
        {
         "name": "wonder",
         "rawType": "int64",
         "type": "integer"
        },
        {
         "name": "wood",
         "rawType": "int64",
         "type": "integer"
        },
        {
         "name": "word",
         "rawType": "int64",
         "type": "integer"
        },
        {
         "name": "work",
         "rawType": "int64",
         "type": "integer"
        },
        {
         "name": "worked",
         "rawType": "int64",
         "type": "integer"
        },
        {
         "name": "worker",
         "rawType": "int64",
         "type": "integer"
        },
        {
         "name": "working",
         "rawType": "int64",
         "type": "integer"
        },
        {
         "name": "working class",
         "rawType": "int64",
         "type": "integer"
        },
        {
         "name": "world",
         "rawType": "int64",
         "type": "integer"
        },
        {
         "name": "world first",
         "rawType": "int64",
         "type": "integer"
        },
        {
         "name": "world new",
         "rawType": "int64",
         "type": "integer"
        },
        {
         "name": "world new york",
         "rawType": "int64",
         "type": "integer"
        },
        {
         "name": "world order",
         "rawType": "int64",
         "type": "integer"
        },
        {
         "name": "world series",
         "rawType": "int64",
         "type": "integer"
        },
        {
         "name": "world war",
         "rawType": "int64",
         "type": "integer"
        },
        {
         "name": "world war ii",
         "rawType": "int64",
         "type": "integer"
        },
        {
         "name": "world war iii",
         "rawType": "int64",
         "type": "integer"
        },
        {
         "name": "worried",
         "rawType": "int64",
         "type": "integer"
        },
        {
         "name": "worry",
         "rawType": "int64",
         "type": "integer"
        },
        {
         "name": "worry new",
         "rawType": "int64",
         "type": "integer"
        },
        {
         "name": "worry new york",
         "rawType": "int64",
         "type": "integer"
        },
        {
         "name": "worse",
         "rawType": "int64",
         "type": "integer"
        },
        {
         "name": "worst",
         "rawType": "int64",
         "type": "integer"
        },
        {
         "name": "worth",
         "rawType": "int64",
         "type": "integer"
        },
        {
         "name": "would",
         "rawType": "int64",
         "type": "integer"
        },
        {
         "name": "would look",
         "rawType": "int64",
         "type": "integer"
        },
        {
         "name": "would look like",
         "rawType": "int64",
         "type": "integer"
        },
        {
         "name": "wound",
         "rawType": "int64",
         "type": "integer"
        },
        {
         "name": "wow",
         "rawType": "int64",
         "type": "integer"
        },
        {
         "name": "writer",
         "rawType": "int64",
         "type": "integer"
        },
        {
         "name": "writer news",
         "rawType": "int64",
         "type": "integer"
        },
        {
         "name": "writing",
         "rawType": "int64",
         "type": "integer"
        },
        {
         "name": "wrong",
         "rawType": "int64",
         "type": "integer"
        },
        {
         "name": "wrote",
         "rawType": "int64",
         "type": "integer"
        },
        {
         "name": "ww",
         "rawType": "int64",
         "type": "integer"
        },
        {
         "name": "xi",
         "rawType": "int64",
         "type": "integer"
        },
        {
         "name": "xi jinping",
         "rawType": "int64",
         "type": "integer"
        },
        {
         "name": "yahoo",
         "rawType": "int64",
         "type": "integer"
        },
        {
         "name": "yale",
         "rawType": "int64",
         "type": "integer"
        },
        {
         "name": "year",
         "rawType": "int64",
         "type": "integer"
        },
        {
         "name": "year ago",
         "rawType": "int64",
         "type": "integer"
        },
        {
         "name": "year breitbart",
         "rawType": "int64",
         "type": "integer"
        },
        {
         "name": "year eve",
         "rawType": "int64",
         "type": "integer"
        },
        {
         "name": "year later",
         "rawType": "int64",
         "type": "integer"
        },
        {
         "name": "year new",
         "rawType": "int64",
         "type": "integer"
        },
        {
         "name": "year new york",
         "rawType": "int64",
         "type": "integer"
        },
        {
         "name": "year old",
         "rawType": "int64",
         "type": "integer"
        },
        {
         "name": "year old girl",
         "rawType": "int64",
         "type": "integer"
        },
        {
         "name": "yemen",
         "rawType": "int64",
         "type": "integer"
        },
        {
         "name": "yes",
         "rawType": "int64",
         "type": "integer"
        },
        {
         "name": "yet",
         "rawType": "int64",
         "type": "integer"
        },
        {
         "name": "yet another",
         "rawType": "int64",
         "type": "integer"
        },
        {
         "name": "yiannopoulos",
         "rawType": "int64",
         "type": "integer"
        },
        {
         "name": "yield",
         "rawType": "int64",
         "type": "integer"
        },
        {
         "name": "yo",
         "rawType": "int64",
         "type": "integer"
        },
        {
         "name": "york",
         "rawType": "int64",
         "type": "integer"
        },
        {
         "name": "york city",
         "rawType": "int64",
         "type": "integer"
        },
        {
         "name": "york new",
         "rawType": "int64",
         "type": "integer"
        },
        {
         "name": "york new york",
         "rawType": "int64",
         "type": "integer"
        },
        {
         "name": "york time",
         "rawType": "int64",
         "type": "integer"
        },
        {
         "name": "yorkers",
         "rawType": "int64",
         "type": "integer"
        },
        {
         "name": "young",
         "rawType": "int64",
         "type": "integer"
        },
        {
         "name": "young people",
         "rawType": "int64",
         "type": "integer"
        },
        {
         "name": "youth",
         "rawType": "int64",
         "type": "integer"
        },
        {
         "name": "youtube",
         "rawType": "int64",
         "type": "integer"
        },
        {
         "name": "zealand",
         "rawType": "int64",
         "type": "integer"
        },
        {
         "name": "zero",
         "rawType": "int64",
         "type": "integer"
        },
        {
         "name": "zika",
         "rawType": "int64",
         "type": "integer"
        },
        {
         "name": "zika virus",
         "rawType": "int64",
         "type": "integer"
        },
        {
         "name": "zionist",
         "rawType": "int64",
         "type": "integer"
        },
        {
         "name": "zone",
         "rawType": "int64",
         "type": "integer"
        },
        {
         "name": "zone new",
         "rawType": "int64",
         "type": "integer"
        },
        {
         "name": "zone new york",
         "rawType": "int64",
         "type": "integer"
        },
        {
         "name": "zu",
         "rawType": "int64",
         "type": "integer"
        },
        {
         "name": "zuckerberg",
         "rawType": "int64",
         "type": "integer"
        }
       ],
       "ref": "269c5d0a-c781-4631-ac70-82515c06a819",
       "rows": [
        [
         "0",
         "0",
         "0",
         "0",
         "0",
         "0",
         "0",
         "0",
         "0",
         "0",
         "0",
         "0",
         "0",
         "0",
         "0",
         "0",
         "0",
         "0",
         "0",
         "0",
         "0",
         "0",
         "0",
         "0",
         "0",
         "0",
         "0",
         "0",
         "0",
         "0",
         "0",
         "0",
         "0",
         "0",
         "0",
         "0",
         "0",
         "0",
         "0",
         "0",
         "0",
         "0",
         "0",
         "0",
         "0",
         "0",
         "0",
         "0",
         "0",
         "0",
         "0",
         "0",
         "0",
         "0",
         "0",
         "0",
         "0",
         "0",
         "0",
         "0",
         "0",
         "0",
         "0",
         "0",
         "0",
         "0",
         "0",
         "0",
         "0",
         "0",
         "0",
         "0",
         "0",
         "0",
         "0",
         "0",
         "0",
         "0",
         "0",
         "0",
         "0",
         "0",
         "0",
         "0",
         "0",
         "0",
         "0",
         "0",
         "0",
         "0",
         "0",
         "0",
         "0",
         "0",
         "0",
         "0",
         "0",
         "0",
         "0",
         "0",
         "0",
         "0",
         "0",
         "0",
         "0",
         "0",
         "0",
         "0",
         "0",
         "0",
         "0",
         "0",
         "0",
         "0",
         "0",
         "0",
         "0",
         "0",
         "0",
         "0",
         "0",
         "0",
         "0",
         "0",
         "0",
         "0",
         "0",
         "0",
         "0",
         "0",
         "0",
         "0",
         "0",
         "0",
         "0",
         "0",
         "0",
         "0",
         "0",
         "0",
         "0",
         "0",
         "0",
         "0",
         "0",
         "0",
         "0",
         "0",
         "0",
         "0",
         "0",
         "0",
         "0",
         "0",
         "0",
         "0",
         "0",
         "0",
         "0",
         "0",
         "0",
         "0",
         "0",
         "0",
         "0",
         "0",
         "0",
         "0",
         "0",
         "0",
         "0",
         "0",
         "0",
         "0",
         "0",
         "0",
         "0",
         "0",
         "0",
         "0",
         "0",
         "0",
         "0",
         "0",
         "0",
         "0",
         "0",
         "0",
         "0",
         "0",
         "0",
         "0",
         "0",
         "0",
         "0",
         "0",
         "0",
         "0",
         "0",
         "0",
         "0",
         "0",
         "0",
         "0",
         "0",
         "0",
         "0",
         "0",
         "0",
         "0",
         "0",
         "0",
         "0",
         "0",
         "0",
         "0",
         "0",
         "0",
         "0",
         "0",
         "0",
         "0",
         "0",
         "0",
         "0",
         "0",
         "0",
         "0",
         "0",
         "0",
         "0",
         "0",
         "0",
         "0",
         "0",
         "0",
         "0",
         "0",
         "0",
         "0",
         "0",
         "0",
         "0",
         "0",
         "0",
         "0",
         "0",
         "0",
         "0",
         "0",
         "0",
         "0",
         "0",
         "0",
         "0",
         "0",
         "0",
         "0",
         "0",
         "0",
         "0",
         "0",
         "0",
         "0",
         "0",
         "0",
         "0",
         "0",
         "0",
         "0",
         "0",
         "0",
         "0",
         "0",
         "0",
         "0",
         "0",
         "0",
         "0",
         "0",
         "0",
         "0",
         "0",
         "0",
         "0",
         "0",
         "0",
         "0",
         "0",
         "0",
         "0",
         "0",
         "0",
         "0",
         "0",
         "0",
         "0",
         "0",
         "0",
         "0",
         "0",
         "0",
         "0",
         "0",
         "0",
         "0",
         "0",
         "0",
         "0",
         "0",
         "0",
         "0",
         "0",
         "0",
         "0",
         "0",
         "0",
         "0",
         "0",
         "0",
         "0",
         "0",
         "0",
         "0",
         "0",
         "0",
         "0",
         "0",
         "0",
         "0",
         "0",
         "0",
         "0",
         "0",
         "0",
         "0",
         "0",
         "0",
         "0",
         "0",
         "0",
         "0",
         "0",
         "0",
         "0",
         "0",
         "0",
         "0",
         "0",
         "0",
         "0",
         "0",
         "0",
         "0",
         "0",
         "0",
         "0",
         "0",
         "0",
         "0",
         "0",
         "0",
         "0",
         "0",
         "0",
         "0",
         "0",
         "0",
         "0",
         "0",
         "0",
         "0",
         "0",
         "0",
         "0",
         "0",
         "0",
         "0",
         "0",
         "0",
         "0",
         "0",
         "0",
         "0",
         "0",
         "0",
         "0",
         "0",
         "0",
         "0",
         "0",
         "0",
         "0",
         "0",
         "0",
         "0",
         "0",
         "0",
         "0",
         "0",
         "0",
         "0",
         "0",
         "0",
         "0",
         "0",
         "0",
         "0",
         "0",
         "0",
         "0",
         "0",
         "0",
         "0",
         "0",
         "0",
         "0",
         "0",
         "0",
         "0",
         "0",
         "0",
         "0",
         "0",
         "0",
         "0",
         "0",
         "0",
         "0",
         "0",
         "0",
         "0",
         "0",
         "0",
         "0",
         "0",
         "0",
         "0",
         "0",
         "0",
         "0",
         "0",
         "0",
         "0",
         "0",
         "0",
         "0",
         "0",
         "0",
         "0",
         "0",
         "0",
         "0",
         "0",
         "0",
         "0",
         "0",
         "0",
         "0",
         "0",
         "0",
         "0",
         "0",
         "0",
         "0",
         "0",
         "0",
         "0",
         "0",
         "0",
         "0",
         "0",
         "0",
         "0",
         "0",
         "0",
         "0",
         "0",
         "0",
         "0",
         "0",
         "0",
         "0",
         "0",
         "0",
         "0",
         "0",
         "0",
         "0",
         "0",
         "0",
         "0",
         "0",
         "0",
         "0",
         "0",
         "0",
         "0",
         "0",
         "0",
         "0",
         "0",
         "0",
         "0",
         "0",
         "0",
         "0",
         "0",
         "0",
         "0",
         "0",
         "0",
         "0",
         "0",
         "0",
         "0",
         "0",
         "0",
         "0",
         "0",
         "0",
         "0",
         "0",
         "0",
         "0",
         "0",
         "0",
         "0",
         "0",
         "0",
         "0",
         "0",
         "0",
         "0",
         "0",
         "0",
         "0",
         "0",
         "0",
         "0",
         "0",
         "0",
         "0",
         "0",
         "0",
         "0",
         "0",
         "0",
         "0",
         "0",
         "0",
         "0",
         "0",
         "0",
         "0",
         "0",
         "0",
         "0",
         "0",
         "0",
         "0",
         "0",
         "0",
         "0",
         "0",
         "0",
         "0",
         "0",
         "0",
         "0",
         "0",
         "0",
         "0",
         "0",
         "0",
         "0",
         "0",
         "0",
         "0",
         "0",
         "0",
         "0",
         "0",
         "0",
         "0",
         "0",
         "0",
         "0",
         "0",
         "0",
         "0",
         "0",
         "0",
         "0",
         "0",
         "0",
         "0",
         "0",
         "0",
         "0",
         "0",
         "0",
         "0",
         "0",
         "0",
         "0",
         "0",
         "0",
         "0",
         "0",
         "0",
         "0",
         "0",
         "0",
         "0",
         "0",
         "0",
         "0",
         "0",
         "0",
         "0",
         "0",
         "0",
         "0",
         "0",
         "0",
         "0",
         "0",
         "0",
         "0",
         "0",
         "0",
         "0",
         "0",
         "0",
         "0",
         "0",
         "0",
         "0",
         "0",
         "0",
         "0",
         "0",
         "0",
         "0",
         "0",
         "0",
         "0",
         "0",
         "0",
         "0",
         "0",
         "0",
         "0",
         "0",
         "0",
         "0",
         "0",
         "0",
         "0",
         "0",
         "0",
         "0",
         "0",
         "0",
         "0",
         "0",
         "0",
         "0",
         "0",
         "0",
         "0",
         "1",
         "0",
         "0",
         "0",
         "0",
         "0",
         "0",
         "0",
         "0",
         "0",
         "0",
         "0",
         "0",
         "0",
         "0",
         "0",
         "0",
         "0",
         "0",
         "0",
         "0",
         "0",
         "0",
         "0",
         "0",
         "0",
         "0",
         "0",
         "0",
         "0",
         "0",
         "0",
         "0",
         "0",
         "0",
         "0",
         "0",
         "0",
         "0",
         "0",
         "0",
         "0",
         "0",
         "0",
         "0",
         "0",
         "0",
         "0",
         "0",
         "0",
         "0",
         "0",
         "0",
         "0",
         "0",
         "0",
         "0",
         "0",
         "0",
         "0",
         "0",
         "0",
         "0",
         "0",
         "0",
         "0",
         "0",
         "0",
         "0",
         "0",
         "0",
         "0",
         "0",
         "0",
         "0",
         "0",
         "0",
         "0",
         "0",
         "0",
         "0",
         "0",
         "0",
         "0",
         "0",
         "0",
         "0",
         "0",
         "0",
         "0",
         "0",
         "0",
         "0",
         "0",
         "0",
         "0",
         "0",
         "0",
         "0",
         "0",
         "0",
         "0",
         "0",
         "0",
         "0",
         "0",
         "0",
         "0",
         "0",
         "0",
         "0",
         "0",
         "0",
         "0",
         "0",
         "0",
         "0",
         "0",
         "0",
         "0",
         "0",
         "0",
         "0",
         "0",
         "0",
         "0",
         "0",
         "0",
         "0",
         "0",
         "0",
         "0",
         "0",
         "0",
         "0",
         "0",
         "0",
         "0",
         "0",
         "0",
         "0",
         "0",
         "0",
         "0",
         "0",
         "0",
         "0",
         "0",
         "0",
         "0",
         "0",
         "0",
         "0",
         "0",
         "0",
         "0",
         "0",
         "0",
         "0",
         "0",
         "0",
         "0",
         "0",
         "0",
         "0",
         "0",
         "0",
         "0",
         "0",
         "0",
         "0",
         "0",
         "0",
         "0",
         "0",
         "0",
         "0",
         "0",
         "0",
         "0",
         "0",
         "0",
         "0",
         "0",
         "0",
         "0",
         "0",
         "0",
         "0",
         "0",
         "0",
         "0",
         "0",
         "0",
         "0",
         "0",
         "0",
         "0",
         "0",
         "0",
         "0",
         "0",
         "0",
         "0",
         "0",
         "0",
         "0",
         "0",
         "0",
         "0",
         "0",
         "0",
         "0",
         "0",
         "0",
         "0",
         "0",
         "0",
         "0",
         "0",
         "0",
         "0",
         "0",
         "0",
         "0",
         "0",
         "0",
         "0",
         "0",
         "0",
         "0",
         "0",
         "0",
         "0",
         "0",
         "0",
         "0",
         "0",
         "0",
         "0",
         "0",
         "0",
         "0",
         "0",
         "0",
         "0",
         "0",
         "0",
         "0",
         "0",
         "0",
         "0",
         "0",
         "0",
         "0",
         "0",
         "0",
         "0",
         "0",
         "0",
         "0",
         "0",
         "0",
         "0",
         "0",
         "0",
         "0",
         "0",
         "0",
         "0",
         "0",
         "0",
         "0",
         "0",
         "0",
         "0",
         "0",
         "0",
         "0",
         "0",
         "0",
         "0",
         "0",
         "0",
         "0",
         "0",
         "0",
         "0",
         "0",
         "0",
         "0",
         "0",
         "0",
         "0",
         "0",
         "0",
         "0",
         "0",
         "0",
         "0",
         "0",
         "0",
         "0",
         "0",
         "0",
         "0",
         "0",
         "0",
         "0",
         "0",
         "0",
         "0",
         "0",
         "0",
         "0",
         "0",
         "0",
         "0",
         "0",
         "0",
         "0",
         "0",
         "0",
         "0",
         "0",
         "0",
         "0",
         "0",
         "0",
         "0",
         "0",
         "0",
         "0",
         "0",
         "0",
         "0",
         "0",
         "0",
         "0",
         "0",
         "0",
         "0",
         "0",
         "0",
         "0",
         "0",
         "0",
         "0",
         "0",
         "0",
         "0",
         "0",
         "0",
         "0",
         "0",
         "0",
         "0",
         "0",
         "0",
         "0",
         "0",
         "0",
         "0",
         "0",
         "0",
         "0",
         "0",
         "0",
         "0",
         "0",
         "0",
         "0",
         "0",
         "0",
         "0",
         "0",
         "0",
         "0",
         "0",
         "0",
         "0",
         "0",
         "0",
         "0",
         "0",
         "0",
         "0",
         "0",
         "0",
         "0",
         "0",
         "0",
         "0",
         "0",
         "0",
         "0",
         "0",
         "0",
         "0",
         "0",
         "0",
         "0",
         "0",
         "0",
         "0",
         "0",
         "0",
         "0",
         "0",
         "0",
         "0",
         "0",
         "0",
         "0",
         "0",
         "0",
         "0",
         "0",
         "0",
         "0",
         "0",
         "0",
         "0",
         "0",
         "0",
         "0",
         "0",
         "0",
         "0",
         "0",
         "0",
         "0",
         "0",
         "0",
         "0",
         "0",
         "0",
         "0",
         "0",
         "0",
         "0",
         "0",
         "0",
         "0",
         "0",
         "0",
         "0",
         "0",
         "0",
         "0",
         "0",
         "0",
         "0",
         "0",
         "0",
         "0",
         "0",
         "0",
         "0",
         "0",
         "0",
         "0",
         "0",
         "0",
         "0",
         "0",
         "0",
         "0",
         "0",
         "0",
         "0",
         "0",
         "0",
         "0",
         "0",
         "0",
         "0",
         "0",
         "0",
         "0",
         "0",
         "0",
         "0",
         "0",
         "0",
         "0",
         "0",
         "0",
         "0",
         "0",
         "0",
         "0",
         "0",
         "0",
         "0",
         "0",
         "0",
         "0",
         "0",
         "0",
         "0",
         "0",
         "0",
         "0",
         "0",
         "0",
         "0",
         "0",
         "0",
         "0",
         "0",
         "0",
         "0",
         "0",
         "0",
         "0",
         "0",
         "0",
         "0",
         "0",
         "0",
         "0",
         "0",
         "0",
         "0",
         "0",
         "0",
         "0",
         "0",
         "0",
         "0",
         "0",
         "0",
         "0",
         "0",
         "0",
         "0",
         "0",
         "0",
         "0",
         "0",
         "0",
         "0",
         "0",
         "0",
         "0",
         "0",
         "0",
         "0",
         "0",
         "0",
         "0",
         "0",
         "0",
         "0",
         "0",
         "0",
         "0",
         "0",
         "0",
         "0",
         "0",
         "0",
         "0",
         "0",
         "0",
         "0",
         "0",
         "0",
         "0",
         "0",
         "0",
         "0",
         "0",
         "0",
         "0",
         "0",
         "0",
         "0",
         "0",
         "0",
         "0",
         "0",
         "0",
         "0",
         "0",
         "0",
         "0",
         "0",
         "0",
         "0",
         "0",
         "0",
         "0",
         "0",
         "0",
         "0",
         "0",
         "0",
         "0",
         "0",
         "0",
         "0",
         "0",
         "0",
         "0",
         "0",
         "0",
         "0",
         "0",
         "0",
         "0",
         "0",
         "0",
         "0",
         "0",
         "0",
         "0",
         "0",
         "0",
         "0",
         "0",
         "0",
         "0",
         "0",
         "0",
         "0",
         "0",
         "0",
         "0",
         "0",
         "0",
         "0",
         "0",
         "0",
         "0",
         "0",
         "0",
         "0",
         "0",
         "0",
         "0",
         "0",
         "0",
         "0",
         "0",
         "0",
         "0",
         "0",
         "0",
         "0",
         "0",
         "0",
         "0",
         "0",
         "0",
         "0",
         "0",
         "0",
         "0",
         "0",
         "0",
         "0",
         "0",
         "0",
         "0",
         "0",
         "0",
         "0",
         "0",
         "0",
         "0",
         "0",
         "0",
         "0",
         "0",
         "0",
         "0",
         "0",
         "0",
         "0",
         "0",
         "0",
         "0",
         "0",
         "0",
         "0",
         "0",
         "0",
         "0",
         "0",
         "0",
         "0",
         "0",
         "0",
         "0",
         "0",
         "0",
         "0",
         "0",
         "0",
         "0",
         "0",
         "0",
         "0",
         "0",
         "0",
         "0",
         "0",
         "0",
         "0",
         "0",
         "0",
         "0",
         "0",
         "0",
         "0",
         "0",
         "0",
         "0",
         "0",
         "0",
         "0",
         "0",
         "0",
         "0",
         "0",
         "0",
         "0",
         "0",
         "0",
         "0",
         "0",
         "0",
         "0",
         "0",
         "0",
         "0",
         "0",
         "0",
         "0",
         "0",
         "0",
         "0",
         "0",
         "0",
         "0",
         "0",
         "0",
         "0",
         "0",
         "0",
         "0",
         "0",
         "0",
         "0",
         "0",
         "0",
         "0",
         "0",
         "0",
         "0",
         "0",
         "0",
         "0",
         "0",
         "0",
         "0",
         "0",
         "0",
         "0",
         "0",
         "0",
         "0",
         "0",
         "0",
         "0",
         "0",
         "0",
         "0",
         "0",
         "0",
         "0",
         "0",
         "0",
         "0",
         "0",
         "0",
         "0",
         "0",
         "0",
         "0",
         "0",
         "0",
         "0",
         "0",
         "0",
         "0",
         "0",
         "0",
         "0",
         "0",
         "0",
         "0",
         "0",
         "0",
         "0",
         "0",
         "0",
         "0",
         "0",
         "0",
         "0",
         "0",
         "0",
         "0",
         "0",
         "0",
         "0",
         "0",
         "0",
         "0",
         "0",
         "0",
         "0",
         "0",
         "0",
         "0",
         "0",
         "0",
         "0",
         "0",
         "0",
         "0",
         "0",
         "0",
         "0",
         "0",
         "0",
         "0",
         "0",
         "0",
         "0",
         "0",
         "0",
         "0",
         "0",
         "0",
         "0",
         "0",
         "0",
         "0",
         "0",
         "0",
         "0",
         "0",
         "0",
         "0",
         "0",
         "0",
         "0",
         "0",
         "0",
         "0",
         "0",
         "0",
         "0",
         "0",
         "0",
         "0",
         "0",
         "0",
         "0",
         "0",
         "0",
         "0",
         "0",
         "0",
         "0",
         "0",
         "0",
         "0",
         "0",
         "0",
         "0",
         "0",
         "0",
         "0",
         "0",
         "0",
         "0",
         "0",
         "0",
         "0",
         "0",
         "0",
         "0",
         "0",
         "0",
         "0",
         "0",
         "0",
         "0",
         "0",
         "0",
         "0",
         "0",
         "0",
         "0",
         "0",
         "0",
         "0",
         "0",
         "0",
         "0",
         "0",
         "0",
         "0",
         "0",
         "0",
         "0",
         "0",
         "0",
         "0",
         "0",
         "0",
         "0",
         "0",
         "0",
         "0",
         "0",
         "0",
         "0",
         "0",
         "0",
         "0",
         "0",
         "0",
         "0",
         "0",
         "0",
         "0",
         "0",
         "0",
         "0",
         "0",
         "0",
         "0",
         "0",
         "0",
         "0",
         "0",
         "0",
         "0",
         "0",
         "0",
         "0",
         "0",
         "0",
         "0",
         "0",
         "0",
         "0",
         "0",
         "0",
         "0",
         "0",
         "0",
         "0",
         "0",
         "0",
         "0",
         "0",
         "0",
         "0",
         "0",
         "0",
         "0",
         "0",
         "0",
         "0",
         "0",
         "0",
         "0",
         "0",
         "0",
         "0",
         "0",
         "0",
         "0",
         "0",
         "0",
         "0",
         "0",
         "0",
         "0",
         "0",
         "0",
         "0",
         "0",
         "0",
         "0",
         "0",
         "0",
         "0",
         "0",
         "0",
         "0",
         "0",
         "0",
         "0",
         "0",
         "0",
         "0",
         "0",
         "0",
         "0",
         "0",
         "0",
         "0",
         "0",
         "0",
         "0",
         "0",
         "0",
         "0",
         "0",
         "0",
         "0",
         "0",
         "0",
         "0",
         "0",
         "0",
         "0",
         "0",
         "0",
         "0",
         "0",
         "0",
         "0",
         "0",
         "0",
         "0",
         "0",
         "0",
         "0",
         "0",
         "0",
         "0",
         "0",
         "0",
         "0",
         "0",
         "0",
         "0",
         "0",
         "0",
         "0",
         "0",
         "0",
         "0",
         "0",
         "0",
         "0",
         "0",
         "0",
         "0",
         "0",
         "0",
         "0",
         "0",
         "0",
         "0",
         "0",
         "0",
         "0",
         "0",
         "0",
         "0",
         "0",
         "0",
         "0",
         "0",
         "0",
         "0",
         "0",
         "0",
         "0",
         "0",
         "0",
         "0",
         "0",
         "0",
         "0",
         "0",
         "0",
         "0",
         "0",
         "0",
         "0",
         "0",
         "0",
         "0",
         "0",
         "0",
         "0",
         "0",
         "0",
         "0",
         "0",
         "0",
         "0",
         "0",
         "0",
         "0",
         "0",
         "0",
         "0",
         "0",
         "0",
         "0",
         "0",
         "0",
         "0",
         "0",
         "0",
         "0",
         "0",
         "0",
         "0",
         "0",
         "0",
         "0",
         "0",
         "0",
         "0",
         "0",
         "0",
         "0",
         "0",
         "0",
         "0",
         "0",
         "0",
         "0",
         "0",
         "0",
         "0",
         "0",
         "0",
         "0",
         "0",
         "0",
         "0",
         "0",
         "0",
         "0",
         "0",
         "0",
         "0",
         "0",
         "0",
         "0",
         "0",
         "0",
         "0",
         "0",
         "0",
         "0",
         "0",
         "0",
         "0",
         "0",
         "0",
         "0",
         "0",
         "0",
         "0",
         "0",
         "0",
         "0",
         "0",
         "0",
         "0",
         "0",
         "0",
         "0",
         "0",
         "0",
         "0",
         "0",
         "0",
         "0",
         "0",
         "0",
         "0",
         "0",
         "0",
         "0",
         "0",
         "0",
         "0",
         "0",
         "0",
         "0",
         "0",
         "0",
         "0",
         "0",
         "0",
         "0",
         "0",
         "0",
         "0",
         "0",
         "0",
         "0",
         "0",
         "0",
         "0",
         "0",
         "0",
         "0",
         "1",
         "0",
         "0",
         "0",
         "0",
         "0",
         "0",
         "0",
         "0",
         "0",
         "0",
         "0",
         "0",
         "0",
         "0",
         "0",
         "0",
         "0",
         "0",
         "1",
         "0",
         "0",
         "0",
         "0",
         "0",
         "0",
         "0",
         "0",
         "0",
         "0",
         "0",
         "0",
         "0",
         "0",
         "0",
         "0",
         "0",
         "0",
         "0",
         "0",
         "0",
         "0",
         "0",
         "0",
         "0",
         "0",
         "0",
         "0",
         "0",
         "0",
         "0",
         "0",
         "0",
         "0",
         "0",
         "0",
         "0",
         "0",
         "0",
         "0",
         "0",
         "0",
         "0",
         "0",
         "0",
         "0",
         "0",
         "0",
         "0",
         "0",
         "0",
         "0",
         "0",
         "0",
         "0",
         "0",
         "0",
         "0",
         "0",
         "0",
         "0",
         "0",
         "0",
         "0",
         "0",
         "0",
         "0",
         "0",
         "0",
         "0",
         "0",
         "0",
         "0",
         "0",
         "0",
         "0",
         "0",
         "0",
         "0",
         "0",
         "0",
         "0",
         "0",
         "0",
         "0",
         "0",
         "0",
         "0",
         "0",
         "0",
         "0",
         "0",
         "0",
         "0",
         "0",
         "0",
         "0",
         "0",
         "0",
         "0",
         "0",
         "0",
         "0",
         "0",
         "0",
         "0",
         "0",
         "0",
         "0",
         "0",
         "0",
         "0",
         "0",
         "0",
         "0",
         "0",
         "0",
         "0",
         "0",
         "0",
         "0",
         "0",
         "0",
         "0",
         "0",
         "0",
         "0",
         "0",
         "0",
         "0",
         "0",
         "0",
         "0",
         "0",
         "0",
         "0",
         "0",
         "0",
         "0",
         "0",
         "0",
         "0",
         "0",
         "0",
         "0",
         "0",
         "0",
         "0",
         "0",
         "0",
         "0",
         "0",
         "0",
         "0",
         "0",
         "0",
         "0",
         "0",
         "0",
         "0",
         "0",
         "0",
         "0",
         "0",
         "0",
         "0",
         "0",
         "0",
         "0",
         "0",
         "0",
         "0",
         "0",
         "0",
         "0",
         "0",
         "0",
         "0",
         "0",
         "0",
         "0",
         "0",
         "0",
         "0",
         "0",
         "0",
         "0",
         "0",
         "0",
         "0",
         "0",
         "0",
         "0",
         "0",
         "0",
         "0",
         "0",
         "0",
         "0",
         "0",
         "0",
         "0",
         "0",
         "0",
         "0",
         "0",
         "0",
         "0",
         "0",
         "0",
         "0",
         "0",
         "0",
         "0",
         "0",
         "0",
         "0",
         "0",
         "0",
         "0",
         "0",
         "0",
         "0",
         "0",
         "0",
         "0",
         "0",
         "0",
         "0",
         "0",
         "0",
         "0",
         "0",
         "0",
         "0",
         "0",
         "0",
         "0",
         "0",
         "0",
         "0",
         "0",
         "0",
         "0",
         "0",
         "0",
         "0",
         "0",
         "0",
         "0",
         "0",
         "0",
         "0",
         "0",
         "0",
         "0",
         "0",
         "0",
         "0",
         "0",
         "0",
         "0",
         "0",
         "0",
         "0",
         "0",
         "0",
         "0",
         "0",
         "0",
         "0",
         "0",
         "0",
         "0",
         "0",
         "0",
         "0",
         "0",
         "0",
         "0",
         "0",
         "0",
         "0",
         "0",
         "0",
         "0",
         "0",
         "0",
         "0",
         "0",
         "0",
         "0",
         "0",
         "0",
         "0",
         "0",
         "0",
         "0",
         "0",
         "0",
         "0",
         "0",
         "0",
         "0",
         "0",
         "0",
         "0",
         "0",
         "0",
         "0",
         "0",
         "0",
         "0",
         "0",
         "0",
         "0",
         "0",
         "0",
         "0",
         "0",
         "0",
         "0",
         "0",
         "0",
         "0",
         "0",
         "0",
         "0",
         "0",
         "0",
         "0",
         "0",
         "0",
         "0",
         "0",
         "0",
         "0",
         "0",
         "0",
         "0",
         "0",
         "0",
         "0",
         "0",
         "0",
         "0",
         "0",
         "0",
         "0",
         "0",
         "0",
         "0",
         "0",
         "0",
         "0",
         "0",
         "0",
         "0",
         "0",
         "0",
         "0",
         "0",
         "0",
         "0",
         "0",
         "0",
         "0",
         "0",
         "0",
         "0",
         "0",
         "0",
         "0",
         "0",
         "0",
         "0",
         "0",
         "0",
         "0",
         "0",
         "0",
         "0",
         "0",
         "0",
         "0",
         "0",
         "0",
         "0",
         "0",
         "0",
         "0",
         "0",
         "0",
         "0",
         "0",
         "0",
         "0",
         "0",
         "0",
         "0",
         "0",
         "0",
         "0",
         "0",
         "0",
         "0",
         "0",
         "0",
         "0",
         "0",
         "0",
         "0",
         "0",
         "0",
         "0",
         "0",
         "0",
         "0",
         "0",
         "0",
         "0",
         "0",
         "0",
         "0",
         "0",
         "0",
         "0",
         "0",
         "0",
         "0",
         "0",
         "0",
         "0",
         "0",
         "0",
         "0",
         "0",
         "0",
         "0",
         "0",
         "0",
         "0",
         "0",
         "0",
         "0",
         "0",
         "0",
         "0",
         "0",
         "0",
         "0",
         "0",
         "0",
         "0",
         "0",
         "0",
         "0",
         "0",
         "0",
         "0",
         "0",
         "0",
         "0",
         "0",
         "0",
         "0",
         "0",
         "0",
         "0",
         "0",
         "0",
         "0",
         "0",
         "0",
         "0",
         "0",
         "0",
         "0",
         "0",
         "0",
         "0",
         "0",
         "0",
         "0",
         "0",
         "0",
         "0",
         "0",
         "0",
         "0",
         "0",
         "0",
         "0",
         "0",
         "0",
         "0",
         "0",
         "0",
         "0",
         "0",
         "0",
         "0",
         "0",
         "0",
         "0",
         "0",
         "0",
         "0",
         "0",
         "0",
         "0",
         "0",
         "0",
         "0",
         "0",
         "0",
         "0",
         "0",
         "0",
         "0",
         "0",
         "0",
         "0",
         "0",
         "0",
         "0",
         "0",
         "0",
         "0",
         "0",
         "0",
         "0",
         "0",
         "0",
         "0",
         "0",
         "0",
         "0",
         "0",
         "0",
         "0",
         "0",
         "0",
         "0",
         "0",
         "0",
         "0",
         "0",
         "0",
         "0",
         "0",
         "0",
         "0",
         "0",
         "0",
         "0",
         "0",
         "0",
         "0",
         "0",
         "0",
         "0",
         "0",
         "0",
         "0",
         "0",
         "0",
         "0",
         "0",
         "0",
         "0",
         "0",
         "0",
         "0",
         "0",
         "0",
         "0",
         "0",
         "0",
         "0",
         "0",
         "0",
         "0",
         "0",
         "0",
         "0",
         "0",
         "0",
         "0",
         "0",
         "0",
         "0",
         "0",
         "0",
         "0",
         "0",
         "0",
         "0",
         "0",
         "0",
         "0",
         "0",
         "0",
         "0",
         "0",
         "0",
         "0",
         "0",
         "0",
         "0",
         "0",
         "0",
         "0",
         "0",
         "0",
         "0",
         "0",
         "0",
         "0",
         "0",
         "0",
         "0",
         "0",
         "0",
         "0",
         "0",
         "0",
         "0",
         "0",
         "0",
         "0",
         "0",
         "0",
         "0",
         "0",
         "0",
         "0",
         "0",
         "0",
         "0",
         "0",
         "0",
         "0",
         "0",
         "0",
         "0",
         "0",
         "0",
         "0",
         "0",
         "0",
         "0",
         "0",
         "0",
         "0",
         "0",
         "0",
         "0",
         "0",
         "0",
         "0",
         "0",
         "0",
         "0",
         "0",
         "0",
         "0",
         "0",
         "0",
         "0",
         "0",
         "0",
         "0",
         "0",
         "0",
         "0",
         "0",
         "0",
         "0",
         "0",
         "0",
         "0",
         "0",
         "0",
         "0",
         "0",
         "0",
         "0",
         "0",
         "0",
         "0",
         "0",
         "0",
         "0",
         "0",
         "0",
         "0",
         "0",
         "0",
         "0",
         "0",
         "0",
         "0",
         "0",
         "0",
         "0",
         "0",
         "0",
         "0",
         "0",
         "0",
         "0",
         "0",
         "0",
         "0",
         "0",
         "0",
         "0",
         "0",
         "0",
         "0",
         "0",
         "0",
         "0",
         "0",
         "0",
         "0",
         "0",
         "0",
         "0",
         "0",
         "0",
         "0",
         "0",
         "0",
         "0",
         "0",
         "0",
         "0",
         "0",
         "0",
         "0",
         "0",
         "0",
         "0",
         "0",
         "0",
         "0",
         "0",
         "0",
         "0",
         "0",
         "0",
         "0",
         "0",
         "0",
         "0",
         "0",
         "0",
         "0",
         "0",
         "0",
         "0",
         "0",
         "0",
         "0",
         "0",
         "0",
         "0",
         "0",
         "0",
         "0",
         "0",
         "0",
         "0",
         "0",
         "0",
         "0",
         "0",
         "0",
         "0",
         "0",
         "0",
         "0",
         "0",
         "0",
         "0",
         "0",
         "0",
         "0",
         "0",
         "0",
         "0",
         "0",
         "0",
         "0",
         "0",
         "0",
         "0",
         "0",
         "0",
         "0",
         "0",
         "0",
         "0",
         "0",
         "0",
         "0",
         "0",
         "0",
         "0",
         "0",
         "0",
         "0",
         "0",
         "0",
         "0",
         "0",
         "0",
         "0",
         "0",
         "0",
         "0",
         "0",
         "0",
         "0",
         "0",
         "0",
         "0",
         "0",
         "0",
         "0",
         "0",
         "0",
         "0",
         "0",
         "0",
         "0",
         "0",
         "0",
         "0",
         "0",
         "0",
         "0",
         "0",
         "0",
         "0",
         "0",
         "0",
         "0",
         "0",
         "0",
         "0",
         "0",
         "0",
         "0",
         "0",
         "0",
         "0",
         "0",
         "0",
         "0",
         "0",
         "0",
         "0",
         "0",
         "0",
         "0",
         "0",
         "0",
         "0",
         "0",
         "0",
         "0",
         "0",
         "0",
         "0",
         "0",
         "0",
         "0",
         "0",
         "0",
         "0",
         "0",
         "0",
         "0",
         "0",
         "0",
         "0",
         "0",
         "0",
         "0",
         "0",
         "0",
         "0",
         "0",
         "0",
         "0",
         "0",
         "0",
         "0",
         "0",
         "0",
         "0",
         "0",
         "0",
         "0",
         "0",
         "0",
         "0",
         "0",
         "0",
         "0",
         "0",
         "0",
         "0",
         "0",
         "0",
         "0",
         "0",
         "0",
         "0",
         "0",
         "0",
         "0",
         "0",
         "0",
         "0",
         "0",
         "0",
         "0",
         "0",
         "0",
         "0",
         "0",
         "0",
         "0",
         "0",
         "0",
         "0",
         "0",
         "0",
         "0",
         "0",
         "0",
         "0",
         "0",
         "0",
         "0",
         "0",
         "0",
         "0",
         "0",
         "0",
         "0",
         "0",
         "0",
         "0",
         "0",
         "0",
         "0",
         "0",
         "0",
         "0",
         "0",
         "0",
         "0",
         "0",
         "0",
         "0",
         "0",
         "0",
         "0",
         "0",
         "0",
         "0",
         "0",
         "0",
         "0",
         "0",
         "0",
         "0",
         "0",
         "0",
         "0",
         "0",
         "0",
         "0",
         "0",
         "0",
         "0",
         "0",
         "0",
         "0",
         "0",
         "0",
         "0",
         "0",
         "0",
         "0",
         "0",
         "0",
         "0",
         "0",
         "0",
         "0",
         "0",
         "0",
         "0",
         "0",
         "0",
         "0",
         "0",
         "0",
         "0",
         "0",
         "0",
         "0",
         "0",
         "0",
         "0",
         "0",
         "0",
         "0",
         "0",
         "0",
         "0",
         "0",
         "0",
         "0",
         "0",
         "0",
         "0",
         "0",
         "0",
         "0",
         "0",
         "0",
         "0",
         "0",
         "0",
         "0",
         "0",
         "0",
         "0",
         "0",
         "0",
         "0",
         "0",
         "0",
         "0",
         "0",
         "0",
         "0",
         "0",
         "0",
         "0",
         "0",
         "0",
         "0",
         "0",
         "0",
         "0",
         "0",
         "0",
         "0",
         "0",
         "0",
         "0",
         "0",
         "0",
         "0",
         "0",
         "0",
         "0",
         "0",
         "0",
         "0",
         "0",
         "0",
         "0",
         "0",
         "0",
         "0",
         "0",
         "0",
         "0",
         "0",
         "0",
         "0",
         "0",
         "0",
         "0",
         "0",
         "0",
         "0",
         "0",
         "0",
         "0",
         "0",
         "0",
         "0",
         "0",
         "0",
         "0",
         "0",
         "0",
         "0",
         "0",
         "0",
         "0",
         "0",
         "0",
         "0",
         "0",
         "0",
         "0",
         "0",
         "0",
         "0",
         "0",
         "0",
         "0",
         "0",
         "0",
         "0",
         "0",
         "0",
         "0",
         "0",
         "0",
         "0",
         "0",
         "0",
         "0",
         "0",
         "0",
         "0",
         "0",
         "0",
         "0",
         "0",
         "0",
         "0",
         "0",
         "0",
         "0",
         "0",
         "0",
         "0",
         "0",
         "0",
         "0",
         "0",
         "0",
         "0",
         "0",
         "0",
         "0",
         "0",
         "0",
         "0",
         "0",
         "0",
         "0",
         "0",
         "0",
         "0",
         "0",
         "0",
         "0",
         "0",
         "0",
         "0",
         "0",
         "0",
         "0",
         "0",
         "0",
         "0",
         "0",
         "0",
         "0",
         "0",
         "0",
         "0",
         "0",
         "0",
         "0",
         "0",
         "0",
         "0",
         "0",
         "0",
         "0",
         "0",
         "0",
         "0",
         "0",
         "0",
         "0",
         "0",
         "0",
         "0",
         "0",
         "0",
         "0",
         "0",
         "0",
         "0",
         "0",
         "0",
         "0",
         "0",
         "0",
         "0",
         "0",
         "0",
         "0",
         "0",
         "0",
         "0",
         "0",
         "0",
         "0",
         "0",
         "0",
         "0",
         "0",
         "0",
         "0",
         "0",
         "0",
         "0",
         "0",
         "0",
         "0",
         "0",
         "0",
         "0",
         "0",
         "0",
         "0",
         "0",
         "0",
         "0",
         "0",
         "0",
         "0",
         "0",
         "0",
         "0",
         "0",
         "0",
         "0",
         "0",
         "0",
         "0",
         "0",
         "0",
         "0",
         "0",
         "0",
         "0",
         "0",
         "0",
         "0",
         "0",
         "0",
         "0",
         "0",
         "0",
         "0",
         "0",
         "0",
         "0",
         "0",
         "0",
         "0",
         "0",
         "0",
         "0",
         "0",
         "0",
         "0",
         "0",
         "0",
         "0",
         "0",
         "0",
         "0",
         "0",
         "0",
         "0",
         "1",
         "0",
         "0",
         "0",
         "0",
         "0",
         "0",
         "0",
         "0",
         "0",
         "0",
         "0",
         "0",
         "0",
         "0",
         "0",
         "0",
         "0",
         "0",
         "0",
         "0",
         "0",
         "0",
         "0",
         "0",
         "0",
         "0",
         "0",
         "0",
         "0",
         "0",
         "0",
         "0",
         "0",
         "0",
         "0",
         "0",
         "0",
         "0",
         "0",
         "0",
         "0",
         "0",
         "0",
         "0",
         "0",
         "0",
         "0",
         "0",
         "0",
         "0",
         "0",
         "0",
         "0",
         "0",
         "0",
         "0",
         "0",
         "0",
         "0",
         "0",
         "0",
         "0",
         "0",
         "0",
         "0",
         "0",
         "0",
         "0",
         "0",
         "0",
         "0",
         "0",
         "0",
         "0",
         "0",
         "0",
         "0",
         "0",
         "0",
         "0",
         "0",
         "0",
         "0",
         "0",
         "0",
         "0",
         "0",
         "0",
         "0",
         "0",
         "0",
         "0",
         "0",
         "0",
         "0",
         "0",
         "0",
         "0",
         "0",
         "0",
         "0",
         "0",
         "0",
         "0",
         "0",
         "0",
         "0",
         "0",
         "0",
         "0",
         "0",
         "0",
         "0",
         "0",
         "0",
         "0",
         "0",
         "0",
         "0",
         "0",
         "0",
         "0",
         "0",
         "0",
         "0",
         "0",
         "0",
         "0",
         "0",
         "0",
         "0",
         "0",
         "0",
         "0",
         "0",
         "0",
         "0",
         "0",
         "0",
         "0",
         "0",
         "0",
         "0",
         "0",
         "0",
         "0",
         "0",
         "0",
         "0",
         "0",
         "0",
         "0",
         "0",
         "0",
         "0",
         "0",
         "0",
         "0",
         "0",
         "0",
         "0",
         "0",
         "0",
         "0",
         "0",
         "0",
         "0",
         "0",
         "0",
         "0",
         "0",
         "0",
         "0",
         "0",
         "0",
         "0",
         "0",
         "0",
         "0",
         "0",
         "0",
         "0",
         "0",
         "0",
         "0",
         "0",
         "0",
         "0",
         "0",
         "0",
         "0",
         "0",
         "0",
         "0",
         "0",
         "0",
         "0",
         "0",
         "0",
         "0",
         "0",
         "0",
         "0",
         "0",
         "0",
         "0",
         "0",
         "0",
         "0",
         "0",
         "0",
         "0",
         "0",
         "0",
         "0",
         "0",
         "0",
         "0",
         "0",
         "0",
         "0",
         "0",
         "0",
         "0",
         "0",
         "0",
         "0",
         "0",
         "0",
         "0",
         "0",
         "0",
         "0",
         "0",
         "0",
         "0",
         "0",
         "0",
         "0",
         "0",
         "0",
         "0",
         "0",
         "0",
         "0",
         "0",
         "0",
         "0",
         "0",
         "0",
         "0",
         "0",
         "0",
         "0",
         "0",
         "0",
         "0",
         "0",
         "0",
         "0",
         "0",
         "0",
         "0",
         "0",
         "0",
         "0",
         "0",
         "0",
         "0",
         "0",
         "0",
         "0",
         "0",
         "0",
         "0",
         "0",
         "0",
         "0",
         "0",
         "0",
         "0",
         "0",
         "0",
         "0",
         "0",
         "0",
         "0",
         "0",
         "0",
         "0",
         "0",
         "0",
         "0",
         "0",
         "0",
         "0",
         "0",
         "0",
         "0",
         "0",
         "0",
         "0",
         "0",
         "0",
         "0",
         "0",
         "0",
         "0",
         "0",
         "0",
         "0",
         "0",
         "0",
         "0",
         "0",
         "0",
         "0",
         "0",
         "0",
         "0",
         "0",
         "0",
         "0",
         "0",
         "0",
         "0",
         "0",
         "0",
         "0",
         "0",
         "0",
         "0",
         "0",
         "0",
         "0",
         "0",
         "0",
         "0",
         "0",
         "0",
         "0",
         "0",
         "0",
         "0",
         "0",
         "0",
         "0",
         "0",
         "0",
         "0",
         "0",
         "0",
         "0",
         "0",
         "0",
         "0",
         "0",
         "0",
         "0",
         "0",
         "0",
         "0",
         "0",
         "0",
         "0",
         "0",
         "0",
         "0",
         "0",
         "0",
         "0",
         "0",
         "0",
         "0",
         "0",
         "0",
         "0",
         "0",
         "0",
         "0",
         "0",
         "0",
         "0",
         "0",
         "0",
         "0",
         "0",
         "0",
         "0",
         "0",
         "0",
         "0",
         "0",
         "0",
         "0",
         "0",
         "0",
         "0",
         "0",
         "0",
         "0",
         "0",
         "0",
         "0",
         "0",
         "0",
         "0",
         "0",
         "0",
         "0",
         "0",
         "0",
         "0",
         "0",
         "0",
         "0",
         "0",
         "0",
         "0",
         "0",
         "0",
         "0",
         "0",
         "0",
         "0",
         "0",
         "0",
         "0",
         "0",
         "0",
         "0",
         "0",
         "0",
         "0",
         "0",
         "0",
         "0",
         "0",
         "0",
         "0",
         "0",
         "0",
         "0",
         "0",
         "0",
         "0",
         "0",
         "0",
         "0",
         "0",
         "0",
         "0",
         "0",
         "0",
         "0",
         "0",
         "0",
         "0",
         "0",
         "0",
         "0",
         "0",
         "0",
         "0",
         "0",
         "0",
         "0",
         "0",
         "0",
         "0",
         "0",
         "0",
         "0",
         "0",
         "0",
         "0",
         "0",
         "0",
         "0",
         "0",
         "0",
         "0",
         "0",
         "0",
         "0",
         "0",
         "0",
         "0",
         "0",
         "0",
         "0",
         "0",
         "0",
         "0",
         "0",
         "0",
         "0",
         "0",
         "0",
         "0",
         "0",
         "0",
         "0",
         "0",
         "0",
         "0",
         "0",
         "0",
         "0",
         "0",
         "0",
         "0",
         "0",
         "0",
         "0",
         "0",
         "0",
         "0",
         "0",
         "0",
         "0",
         "0",
         "0",
         "0",
         "0",
         "0",
         "0",
         "0",
         "0",
         "0",
         "0",
         "0",
         "0",
         "0",
         "0",
         "0",
         "0",
         "0",
         "0",
         "1",
         "0",
         "0",
         "0",
         "0",
         "0",
         "0",
         "0",
         "0",
         "0",
         "0",
         "0",
         "0",
         "0",
         "0",
         "0",
         "0",
         "0",
         "0",
         "0",
         "0",
         "0",
         "0",
         "0",
         "0",
         "0",
         "0",
         "0",
         "0",
         "0",
         "0",
         "0",
         "0",
         "0",
         "0",
         "0",
         "0",
         "0",
         "0",
         "0",
         "0",
         "0",
         "0",
         "0",
         "0",
         "0",
         "0",
         "0",
         "0",
         "0",
         "0",
         "0",
         "0",
         "0",
         "0",
         "0",
         "0",
         "0",
         "0",
         "0",
         "0",
         "0",
         "0",
         "0",
         "0",
         "0",
         "0",
         "0",
         "0",
         "0",
         "0",
         "0",
         "0",
         "0",
         "0",
         "0",
         "0",
         "0",
         "0",
         "0",
         "0",
         "0",
         "0",
         "0",
         "0",
         "0",
         "0",
         "0",
         "0",
         "0",
         "0",
         "0",
         "0",
         "0",
         "0",
         "0",
         "0",
         "0",
         "0",
         "0",
         "0",
         "0",
         "0",
         "0",
         "0",
         "0",
         "0",
         "0",
         "0",
         "0",
         "0",
         "0",
         "0",
         "0",
         "0",
         "0",
         "0",
         "0",
         "0",
         "0",
         "0",
         "0",
         "0",
         "0",
         "0",
         "0",
         "0",
         "0",
         "0",
         "0",
         "0",
         "0",
         "0",
         "0",
         "0",
         "0",
         "0",
         "0",
         "0",
         "0",
         "0",
         "0",
         "0",
         "0",
         "0",
         "0",
         "0",
         "0",
         "0",
         "0",
         "0",
         "0",
         "0",
         "0",
         "0",
         "0",
         "0",
         "0",
         "0",
         "0",
         "0",
         "0",
         "0",
         "0",
         "0",
         "0",
         "0",
         "0",
         "0",
         "0",
         "0",
         "0",
         "0",
         "0",
         "0",
         "0",
         "0",
         "0",
         "0",
         "0",
         "0",
         "0",
         "0",
         "0",
         "0",
         "0",
         "0",
         "0",
         "0",
         "0",
         "0",
         "0",
         "0",
         "0",
         "0",
         "0",
         "0",
         "0",
         "0",
         "0",
         "0",
         "0",
         "0",
         "0",
         "0",
         "0",
         "0",
         "0",
         "0",
         "0",
         "0",
         "0",
         "0",
         "0",
         "0",
         "0",
         "0",
         "0",
         "0",
         "0",
         "0",
         "0",
         "0",
         "0",
         "0",
         "0",
         "0",
         "0",
         "0",
         "0",
         "0",
         "0",
         "0",
         "0",
         "0",
         "0",
         "0",
         "0",
         "0",
         "0",
         "0",
         "0",
         "0",
         "0",
         "0",
         "0",
         "0",
         "0",
         "0",
         "0",
         "0",
         "0",
         "0",
         "0",
         "0",
         "0",
         "0",
         "0",
         "0",
         "0",
         "0",
         "0",
         "0",
         "0",
         "0",
         "0",
         "0",
         "0",
         "0",
         "0",
         "0",
         "0",
         "0",
         "0",
         "0",
         "0",
         "0",
         "0",
         "0",
         "0",
         "0",
         "0",
         "0",
         "0",
         "0",
         "0",
         "0",
         "0",
         "0",
         "0",
         "0",
         "0",
         "0",
         "0",
         "0",
         "0",
         "0",
         "0",
         "0",
         "0",
         "0",
         "0",
         "0",
         "0",
         "0",
         "0",
         "0",
         "0",
         "0",
         "0",
         "0",
         "0",
         "0",
         "0",
         "0",
         "0",
         "0",
         "0",
         "0",
         "0",
         "0",
         "0",
         "0",
         "0",
         "0",
         "0",
         "0",
         "0",
         "0",
         "0",
         "0",
         "0",
         "0",
         "0",
         "0",
         "0",
         "0",
         "0",
         "0",
         "0",
         "0",
         "0",
         "0",
         "0",
         "0",
         "0",
         "0",
         "0",
         "0",
         "0",
         "0",
         "0",
         "0",
         "0",
         "0",
         "0",
         "0",
         "0",
         "0",
         "0",
         "0",
         "0",
         "0",
         "0",
         "0",
         "0",
         "0",
         "0",
         "0",
         "0",
         "0",
         "0",
         "0",
         "0",
         "0",
         "0",
         "0",
         "0",
         "0",
         "0",
         "0",
         "0",
         "0",
         "0",
         "0",
         "0",
         "0",
         "0",
         "0",
         "0",
         "0",
         "0",
         "0",
         "0",
         "0",
         "0",
         "0",
         "0",
         "0",
         "0",
         "0",
         "0",
         "0",
         "0",
         "0",
         "0",
         "0",
         "0",
         "0",
         "0",
         "0",
         "0",
         "0",
         "0",
         "0",
         "0",
         "0",
         "0",
         "0",
         "0",
         "0",
         "0",
         "0",
         "0",
         "0",
         "0",
         "0",
         "0",
         "0",
         "0",
         "0",
         "0",
         "0",
         "0",
         "0",
         "0",
         "0",
         "0",
         "0",
         "0",
         "0",
         "0",
         "0",
         "0",
         "0",
         "0",
         "0",
         "0",
         "0",
         "0",
         "0",
         "0",
         "0",
         "0",
         "0",
         "0",
         "0",
         "0",
         "0",
         "0",
         "0",
         "0",
         "0",
         "0",
         "0",
         "0",
         "0",
         "0",
         "0",
         "0",
         "0",
         "0",
         "0",
         "0",
         "0",
         "0",
         "0",
         "0",
         "0",
         "0",
         "0",
         "0",
         "0",
         "0",
         "0",
         "0",
         "0",
         "0",
         "0",
         "0",
         "0",
         "0",
         "0",
         "0",
         "0",
         "0",
         "0",
         "0",
         "0",
         "0",
         "0",
         "0",
         "0",
         "0",
         "0",
         "0",
         "0",
         "0",
         "0",
         "0",
         "0",
         "0",
         "0",
         "0",
         "0",
         "0",
         "0",
         "0",
         "0",
         "0",
         "0",
         "0",
         "0",
         "0",
         "0",
         "0",
         "0",
         "0",
         "0",
         "0",
         "0",
         "0",
         "0",
         "0",
         "0",
         "0",
         "0",
         "0",
         "0",
         "0",
         "0",
         "0",
         "0",
         "0",
         "0",
         "0",
         "0",
         "0",
         "0",
         "0",
         "0",
         "0",
         "0",
         "0",
         "0",
         "0",
         "0",
         "0",
         "0",
         "0",
         "0",
         "0",
         "0",
         "0",
         "0",
         "0",
         "0",
         "0",
         "0",
         "0",
         "0",
         "0",
         "0",
         "0",
         "0",
         "0",
         "0",
         "0",
         "0",
         "0",
         "0",
         "0",
         "0",
         "0",
         "0",
         "0",
         "0",
         "0",
         "0",
         "0",
         "0",
         "0",
         "0",
         "0",
         "0",
         "0",
         "0",
         "0",
         "0",
         "0",
         "0",
         "0",
         "0",
         "0",
         "0",
         "0",
         "0",
         "0",
         "0",
         "0",
         "0",
         "0",
         "0",
         "0",
         "0",
         "0",
         "0",
         "0",
         "0",
         "0",
         "0",
         "0",
         "0",
         "0",
         "0",
         "0",
         "0",
         "0",
         "0",
         "0",
         "0",
         "0",
         "0",
         "0",
         "0",
         "0",
         "0",
         "0",
         "0",
         "0",
         "0",
         "0",
         "0",
         "0",
         "0",
         "0",
         "0",
         "0",
         "0",
         "0",
         "0",
         "0",
         "0",
         "0",
         "0",
         "0",
         "0",
         "0",
         "0",
         "0",
         "0",
         "0",
         "0",
         "0",
         "0",
         "0",
         "0",
         "0",
         "0",
         "0",
         "0",
         "0",
         "0",
         "0",
         "0",
         "0",
         "0",
         "0",
         "0",
         "0",
         "0",
         "0",
         "0",
         "0",
         "0",
         "0",
         "0",
         "0",
         "0",
         "0",
         "0",
         "0",
         "0",
         "0",
         "0",
         "0",
         "0",
         "0",
         "0",
         "0",
         "0",
         "0",
         "0",
         "0",
         "0",
         "0",
         "0",
         "0",
         "0",
         "0",
         "0",
         "0",
         "0",
         "0",
         "0",
         "0",
         "0",
         "0",
         "0",
         "0",
         "0",
         "0",
         "0",
         "0",
         "0",
         "0",
         "0",
         "0",
         "0",
         "0",
         "0",
         "0",
         "0",
         "0",
         "0",
         "0",
         "0",
         "0",
         "0",
         "0",
         "0",
         "0",
         "0",
         "0",
         "0",
         "0",
         "0",
         "0",
         "0",
         "0",
         "0",
         "0",
         "0",
         "0",
         "0",
         "0",
         "0",
         "0",
         "0",
         "0",
         "0",
         "0",
         "0",
         "0",
         "0",
         "0",
         "0",
         "0",
         "0",
         "0",
         "0",
         "0",
         "0",
         "0",
         "0",
         "0",
         "0",
         "0",
         "0",
         "0",
         "0",
         "0",
         "0",
         "0",
         "0",
         "0",
         "0",
         "0",
         "0",
         "0",
         "0",
         "0",
         "0",
         "0",
         "0",
         "0",
         "0",
         "0",
         "0",
         "0",
         "0",
         "0",
         "0",
         "0",
         "0",
         "0",
         "0",
         "0",
         "0",
         "0",
         "0",
         "0",
         "0",
         "0",
         "0",
         "0",
         "0",
         "0",
         "0",
         "0",
         "0",
         "0",
         "0",
         "0",
         "0",
         "0",
         "0",
         "0",
         "0",
         "0",
         "0",
         "0",
         "0",
         "0",
         "0",
         "0",
         "0",
         "0",
         "0",
         "0",
         "0",
         "0",
         "0",
         "0",
         "0",
         "0",
         "0",
         "0",
         "0",
         "0",
         "0",
         "0",
         "0",
         "0",
         "0",
         "0",
         "0",
         "0",
         "0",
         "0",
         "0",
         "0",
         "0",
         "0",
         "0",
         "0",
         "0",
         "0",
         "0",
         "0",
         "0",
         "0",
         "0",
         "0",
         "0",
         "0",
         "0",
         "0",
         "0",
         "0",
         "0",
         "0",
         "0",
         "0",
         "0",
         "0",
         "0",
         "0",
         "0",
         "0",
         "0",
         "0",
         "0",
         "0",
         "0",
         "0",
         "0",
         "0",
         "0",
         "0",
         "0",
         "0",
         "0",
         "0",
         "0",
         "0",
         "0",
         "0",
         "0",
         "0",
         "0",
         "0",
         "0",
         "0",
         "0",
         "0",
         "0",
         "0",
         "0",
         "0",
         "0",
         "0",
         "0",
         "0",
         "0",
         "0",
         "0",
         "0",
         "0",
         "0",
         "0",
         "0",
         "0",
         "0",
         "0",
         "0",
         "0",
         "0",
         "0",
         "0",
         "0",
         "0",
         "0",
         "0",
         "0",
         "0",
         "0",
         "0",
         "0",
         "0",
         "0",
         "0",
         "0",
         "0",
         "0",
         "0",
         "0",
         "0",
         "0",
         "0",
         "0",
         "0",
         "0",
         "0",
         "0",
         "0",
         "0",
         "0",
         "0",
         "0",
         "0",
         "0",
         "0",
         "0",
         "0",
         "0",
         "0",
         "0",
         "0",
         "0",
         "0",
         "0",
         "0",
         "0",
         "0",
         "0",
         "0",
         "0",
         "0",
         "0",
         "0",
         "0",
         "0",
         "0",
         "0",
         "0",
         "0",
         "0",
         "0",
         "0",
         "0",
         "0",
         "0",
         "0",
         "0",
         "0",
         "0",
         "0",
         "0",
         "0",
         "0",
         "0",
         "0",
         "0",
         "0",
         "0",
         "0",
         "0",
         "0",
         "0",
         "0",
         "0",
         "0",
         "0",
         "0",
         "0",
         "0",
         "0",
         "0",
         "0",
         "0",
         "0",
         "0",
         "0",
         "0",
         "0",
         "0",
         "0",
         "0",
         "0",
         "0",
         "0",
         "0",
         "0",
         "0",
         "0",
         "0",
         "0",
         "0",
         "0",
         "0",
         "0",
         "0",
         "0",
         "0",
         "0",
         "0",
         "0",
         "0",
         "0",
         "0",
         "0",
         "0",
         "0",
         "0",
         "0",
         "0",
         "0",
         "0",
         "0",
         "0",
         "0",
         "0",
         "0",
         "0",
         "0",
         "0",
         "0",
         "0",
         "0",
         "0",
         "0",
         "0",
         "0",
         "0",
         "0",
         "0",
         "0",
         "0",
         "0",
         "0",
         "0",
         "0",
         "0",
         "0",
         "0",
         "0",
         "0",
         "0",
         "0",
         "0",
         "0",
         "0",
         "0",
         "0",
         "0",
         "0",
         "0",
         "0",
         "0",
         "0",
         "0",
         "0",
         "0",
         "0",
         "0",
         "0",
         "0",
         "0",
         "0",
         "0",
         "0",
         "0",
         "0",
         "0",
         "0",
         "0",
         "0",
         "0",
         "0",
         "0",
         "0",
         "0",
         "0",
         "0",
         "0",
         "0",
         "0",
         "0",
         "0",
         "0",
         "0",
         "0",
         "0",
         "0",
         "0",
         "0",
         "0",
         "0",
         "0",
         "0",
         "0",
         "0",
         "0",
         "0",
         "0",
         "0",
         "0",
         "0",
         "0",
         "0",
         "0",
         "0",
         "0",
         "0",
         "0",
         "0",
         "0",
         "0",
         "0",
         "0",
         "0",
         "0",
         "0",
         "0",
         "0",
         "0",
         "0",
         "0",
         "0",
         "0",
         "0",
         "0",
         "0",
         "0",
         "0",
         "0",
         "0",
         "0",
         "0",
         "0",
         "0",
         "0",
         "0",
         "0",
         "0",
         "0",
         "0",
         "0",
         "0",
         "0",
         "0",
         "0",
         "0",
         "0",
         "0",
         "0",
         "0",
         "0",
         "0",
         "0",
         "0",
         "0",
         "0",
         "0",
         "0",
         "0",
         "0",
         "0",
         "0",
         "0",
         "0",
         "0",
         "0",
         "0",
         "0",
         "0",
         "0",
         "0",
         "0",
         "0",
         "0",
         "0",
         "0",
         "0",
         "0",
         "0",
         "1",
         "0",
         "0",
         "0",
         "0",
         "0",
         "0",
         "0",
         "0",
         "0",
         "0",
         "0",
         "0",
         "0"
        ],
        [
         "1",
         "0",
         "0",
         "0",
         "0",
         "0",
         "0",
         "0",
         "0",
         "0",
         "0",
         "0",
         "0",
         "0",
         "0",
         "0",
         "0",
         "0",
         "0",
         "0",
         "0",
         "0",
         "0",
         "0",
         "0",
         "0",
         "0",
         "0",
         "0",
         "0",
         "0",
         "0",
         "0",
         "0",
         "0",
         "0",
         "0",
         "0",
         "0",
         "0",
         "0",
         "0",
         "0",
         "0",
         "0",
         "0",
         "0",
         "0",
         "0",
         "0",
         "0",
         "0",
         "0",
         "0",
         "0",
         "0",
         "0",
         "0",
         "0",
         "0",
         "0",
         "0",
         "0",
         "0",
         "0",
         "0",
         "0",
         "0",
         "0",
         "0",
         "0",
         "0",
         "0",
         "0",
         "0",
         "0",
         "0",
         "0",
         "0",
         "0",
         "0",
         "0",
         "0",
         "0",
         "0",
         "0",
         "0",
         "0",
         "0",
         "0",
         "0",
         "0",
         "0",
         "0",
         "0",
         "0",
         "0",
         "0",
         "0",
         "0",
         "0",
         "0",
         "0",
         "0",
         "0",
         "0",
         "0",
         "0",
         "0",
         "0",
         "0",
         "0",
         "0",
         "0",
         "0",
         "0",
         "0",
         "0",
         "0",
         "0",
         "0",
         "0",
         "0",
         "0",
         "0",
         "0",
         "0",
         "0",
         "0",
         "0",
         "0",
         "0",
         "0",
         "0",
         "0",
         "0",
         "0",
         "0",
         "0",
         "0",
         "0",
         "0",
         "0",
         "0",
         "0",
         "0",
         "0",
         "0",
         "0",
         "0",
         "0",
         "0",
         "0",
         "0",
         "0",
         "0",
         "0",
         "0",
         "0",
         "0",
         "0",
         "0",
         "0",
         "0",
         "0",
         "0",
         "0",
         "0",
         "0",
         "0",
         "0",
         "0",
         "0",
         "0",
         "0",
         "0",
         "0",
         "0",
         "0",
         "0",
         "0",
         "0",
         "0",
         "0",
         "0",
         "0",
         "0",
         "0",
         "0",
         "0",
         "0",
         "0",
         "0",
         "0",
         "0",
         "0",
         "0",
         "0",
         "0",
         "0",
         "0",
         "0",
         "0",
         "0",
         "0",
         "0",
         "0",
         "0",
         "0",
         "0",
         "0",
         "0",
         "0",
         "0",
         "0",
         "0",
         "0",
         "0",
         "0",
         "0",
         "0",
         "0",
         "0",
         "0",
         "0",
         "0",
         "0",
         "0",
         "0",
         "0",
         "0",
         "0",
         "0",
         "0",
         "0",
         "0",
         "0",
         "0",
         "0",
         "0",
         "0",
         "0",
         "0",
         "0",
         "0",
         "0",
         "0",
         "0",
         "0",
         "0",
         "0",
         "0",
         "0",
         "0",
         "0",
         "0",
         "0",
         "0",
         "0",
         "0",
         "0",
         "0",
         "0",
         "0",
         "0",
         "0",
         "0",
         "0",
         "0",
         "0",
         "0",
         "0",
         "0",
         "0",
         "0",
         "0",
         "0",
         "0",
         "0",
         "0",
         "0",
         "0",
         "0",
         "0",
         "0",
         "0",
         "0",
         "0",
         "0",
         "0",
         "0",
         "0",
         "0",
         "0",
         "0",
         "0",
         "0",
         "0",
         "0",
         "0",
         "0",
         "0",
         "0",
         "0",
         "0",
         "0",
         "0",
         "0",
         "0",
         "0",
         "0",
         "0",
         "0",
         "0",
         "0",
         "0",
         "0",
         "0",
         "0",
         "0",
         "0",
         "0",
         "0",
         "0",
         "0",
         "0",
         "0",
         "0",
         "0",
         "0",
         "0",
         "0",
         "0",
         "0",
         "0",
         "0",
         "0",
         "0",
         "0",
         "0",
         "0",
         "0",
         "0",
         "0",
         "0",
         "0",
         "0",
         "0",
         "0",
         "0",
         "0",
         "0",
         "0",
         "0",
         "0",
         "0",
         "0",
         "0",
         "0",
         "0",
         "0",
         "0",
         "0",
         "0",
         "0",
         "0",
         "0",
         "0",
         "0",
         "0",
         "0",
         "0",
         "0",
         "0",
         "0",
         "0",
         "0",
         "0",
         "0",
         "0",
         "0",
         "0",
         "0",
         "0",
         "0",
         "0",
         "0",
         "0",
         "0",
         "0",
         "0",
         "0",
         "0",
         "0",
         "0",
         "0",
         "0",
         "0",
         "0",
         "0",
         "0",
         "0",
         "0",
         "0",
         "0",
         "0",
         "0",
         "0",
         "0",
         "0",
         "0",
         "0",
         "0",
         "0",
         "0",
         "0",
         "0",
         "0",
         "0",
         "0",
         "0",
         "0",
         "0",
         "0",
         "0",
         "0",
         "0",
         "0",
         "0",
         "0",
         "0",
         "0",
         "0",
         "0",
         "0",
         "0",
         "0",
         "0",
         "0",
         "0",
         "0",
         "0",
         "0",
         "0",
         "0",
         "0",
         "0",
         "0",
         "0",
         "0",
         "0",
         "0",
         "0",
         "0",
         "0",
         "0",
         "0",
         "0",
         "0",
         "0",
         "0",
         "0",
         "0",
         "0",
         "0",
         "0",
         "0",
         "0",
         "0",
         "0",
         "0",
         "0",
         "0",
         "0",
         "0",
         "0",
         "0",
         "0",
         "0",
         "0",
         "0",
         "0",
         "0",
         "0",
         "0",
         "0",
         "0",
         "0",
         "0",
         "0",
         "0",
         "0",
         "0",
         "0",
         "0",
         "0",
         "0",
         "0",
         "0",
         "0",
         "0",
         "0",
         "0",
         "0",
         "0",
         "0",
         "0",
         "0",
         "0",
         "0",
         "0",
         "0",
         "0",
         "0",
         "0",
         "0",
         "0",
         "0",
         "0",
         "0",
         "0",
         "0",
         "0",
         "0",
         "0",
         "0",
         "0",
         "0",
         "0",
         "0",
         "0",
         "0",
         "0",
         "0",
         "0",
         "0",
         "0",
         "0",
         "0",
         "0",
         "0",
         "0",
         "0",
         "0",
         "0",
         "0",
         "0",
         "0",
         "0",
         "0",
         "0",
         "0",
         "0",
         "0",
         "0",
         "0",
         "0",
         "0",
         "0",
         "0",
         "0",
         "0",
         "0",
         "0",
         "0",
         "0",
         "0",
         "0",
         "0",
         "0",
         "0",
         "0",
         "0",
         "0",
         "0",
         "0",
         "0",
         "0",
         "0",
         "0",
         "0",
         "0",
         "0",
         "0",
         "0",
         "0",
         "0",
         "0",
         "0",
         "0",
         "0",
         "0",
         "0",
         "0",
         "0",
         "0",
         "0",
         "0",
         "0",
         "0",
         "0",
         "0",
         "0",
         "0",
         "0",
         "0",
         "0",
         "0",
         "0",
         "0",
         "0",
         "0",
         "0",
         "0",
         "0",
         "0",
         "0",
         "0",
         "0",
         "0",
         "0",
         "0",
         "0",
         "0",
         "0",
         "0",
         "0",
         "0",
         "0",
         "0",
         "0",
         "0",
         "0",
         "0",
         "0",
         "0",
         "0",
         "0",
         "0",
         "0",
         "0",
         "0",
         "0",
         "0",
         "0",
         "0",
         "0",
         "0",
         "0",
         "0",
         "0",
         "0",
         "0",
         "0",
         "0",
         "0",
         "0",
         "0",
         "0",
         "0",
         "0",
         "0",
         "0",
         "0",
         "0",
         "0",
         "0",
         "0",
         "0",
         "0",
         "0",
         "0",
         "0",
         "0",
         "0",
         "0",
         "0",
         "0",
         "0",
         "0",
         "0",
         "0",
         "0",
         "0",
         "0",
         "0",
         "0",
         "0",
         "0",
         "0",
         "0",
         "0",
         "0",
         "0",
         "0",
         "0",
         "0",
         "0",
         "0",
         "0",
         "0",
         "0",
         "0",
         "0",
         "0",
         "0",
         "0",
         "0",
         "0",
         "0",
         "0",
         "0",
         "0",
         "0",
         "0",
         "0",
         "0",
         "0",
         "0",
         "0",
         "0",
         "0",
         "0",
         "0",
         "0",
         "0",
         "0",
         "0",
         "0",
         "0",
         "0",
         "0",
         "0",
         "0",
         "0",
         "0",
         "0",
         "0",
         "0",
         "0",
         "0",
         "0",
         "0",
         "0",
         "0",
         "0",
         "0",
         "0",
         "0",
         "0",
         "0",
         "0",
         "0",
         "0",
         "0",
         "0",
         "0",
         "0",
         "0",
         "0",
         "0",
         "0",
         "0",
         "0",
         "0",
         "0",
         "0",
         "0",
         "0",
         "0",
         "0",
         "0",
         "0",
         "0",
         "0",
         "0",
         "0",
         "0",
         "0",
         "0",
         "0",
         "0",
         "0",
         "0",
         "0",
         "0",
         "0",
         "0",
         "0",
         "0",
         "0",
         "0",
         "0",
         "0",
         "0",
         "0",
         "0",
         "0",
         "0",
         "0",
         "0",
         "0",
         "0",
         "0",
         "0",
         "0",
         "0",
         "0",
         "0",
         "0",
         "0",
         "0",
         "0",
         "0",
         "0",
         "0",
         "0",
         "0",
         "0",
         "0",
         "0",
         "0",
         "0",
         "0",
         "0",
         "0",
         "0",
         "0",
         "0",
         "0",
         "0",
         "0",
         "0",
         "0",
         "0",
         "0",
         "0",
         "0",
         "0",
         "0",
         "0",
         "0",
         "0",
         "0",
         "0",
         "0",
         "0",
         "0",
         "0",
         "0",
         "0",
         "0",
         "0",
         "0",
         "0",
         "0",
         "0",
         "0",
         "0",
         "0",
         "0",
         "0",
         "0",
         "0",
         "0",
         "0",
         "0",
         "0",
         "0",
         "0",
         "0",
         "0",
         "0",
         "0",
         "0",
         "0",
         "0",
         "0",
         "0",
         "0",
         "0",
         "0",
         "0",
         "0",
         "0",
         "0",
         "0",
         "0",
         "0",
         "0",
         "0",
         "0",
         "0",
         "0",
         "0",
         "0",
         "0",
         "0",
         "0",
         "0",
         "0",
         "0",
         "0",
         "0",
         "0",
         "0",
         "0",
         "0",
         "0",
         "0",
         "0",
         "0",
         "0",
         "0",
         "0",
         "0",
         "0",
         "0",
         "0",
         "0",
         "0",
         "0",
         "0",
         "0",
         "0",
         "0",
         "0",
         "0",
         "0",
         "0",
         "0",
         "0",
         "0",
         "0",
         "0",
         "0",
         "0",
         "0",
         "0",
         "0",
         "0",
         "0",
         "0",
         "0",
         "0",
         "0",
         "0",
         "0",
         "0",
         "0",
         "0",
         "0",
         "0",
         "0",
         "0",
         "0",
         "0",
         "0",
         "0",
         "0",
         "0",
         "0",
         "0",
         "0",
         "0",
         "0",
         "0",
         "0",
         "0",
         "0",
         "0",
         "0",
         "0",
         "0",
         "0",
         "0",
         "0",
         "0",
         "0",
         "0",
         "0",
         "0",
         "0",
         "0",
         "0",
         "0",
         "0",
         "0",
         "0",
         "0",
         "0",
         "0",
         "0",
         "0",
         "0",
         "0",
         "0",
         "0",
         "0",
         "0",
         "0",
         "0",
         "0",
         "0",
         "0",
         "0",
         "0",
         "0",
         "0",
         "0",
         "0",
         "0",
         "0",
         "0",
         "1",
         "0",
         "0",
         "0",
         "0",
         "0",
         "0",
         "0",
         "0",
         "0",
         "0",
         "0",
         "0",
         "0",
         "0",
         "0",
         "0",
         "0",
         "0",
         "0",
         "0",
         "0",
         "0",
         "0",
         "0",
         "0",
         "0",
         "0",
         "0",
         "0",
         "0",
         "0",
         "0",
         "0",
         "0",
         "0",
         "0",
         "0",
         "0",
         "0",
         "0",
         "0",
         "0",
         "0",
         "0",
         "0",
         "0",
         "0",
         "0",
         "0",
         "0",
         "0",
         "0",
         "0",
         "0",
         "0",
         "0",
         "0",
         "0",
         "0",
         "0",
         "0",
         "0",
         "0",
         "0",
         "0",
         "0",
         "0",
         "0",
         "0",
         "0",
         "0",
         "0",
         "0",
         "0",
         "0",
         "0",
         "0",
         "0",
         "0",
         "0",
         "0",
         "0",
         "0",
         "0",
         "0",
         "0",
         "0",
         "0",
         "0",
         "0",
         "0",
         "0",
         "0",
         "0",
         "0",
         "0",
         "0",
         "0",
         "0",
         "0",
         "0",
         "0",
         "0",
         "0",
         "0",
         "0",
         "0",
         "0",
         "0",
         "0",
         "0",
         "0",
         "0",
         "0",
         "0",
         "0",
         "0",
         "0",
         "1",
         "0",
         "0",
         "0",
         "0",
         "0",
         "0",
         "0",
         "0",
         "0",
         "0",
         "0",
         "0",
         "0",
         "0",
         "0",
         "0",
         "0",
         "0",
         "0",
         "0",
         "0",
         "0",
         "0",
         "0",
         "0",
         "0",
         "0",
         "0",
         "0",
         "0",
         "0",
         "0",
         "0",
         "0",
         "0",
         "0",
         "0",
         "0",
         "0",
         "0",
         "0",
         "0",
         "0",
         "0",
         "0",
         "0",
         "0",
         "0",
         "0",
         "0",
         "0",
         "0",
         "0",
         "0",
         "0",
         "0",
         "0",
         "0",
         "0",
         "0",
         "0",
         "0",
         "0",
         "0",
         "0",
         "0",
         "0",
         "0",
         "0",
         "0",
         "0",
         "0",
         "0",
         "0",
         "0",
         "0",
         "0",
         "0",
         "0",
         "0",
         "0",
         "0",
         "0",
         "0",
         "0",
         "0",
         "0",
         "0",
         "0",
         "0",
         "0",
         "0",
         "0",
         "0",
         "0",
         "0",
         "0",
         "0",
         "0",
         "0",
         "0",
         "0",
         "0",
         "0",
         "0",
         "0",
         "0",
         "0",
         "0",
         "0",
         "0",
         "0",
         "0",
         "0",
         "0",
         "0",
         "0",
         "0",
         "0",
         "0",
         "0",
         "0",
         "0",
         "0",
         "0",
         "0",
         "0",
         "0",
         "0",
         "0",
         "0",
         "0",
         "0",
         "0",
         "0",
         "0",
         "0",
         "0",
         "0",
         "0",
         "0",
         "0",
         "0",
         "0",
         "0",
         "0",
         "0",
         "0",
         "0",
         "0",
         "0",
         "0",
         "0",
         "0",
         "0",
         "0",
         "0",
         "0",
         "0",
         "0",
         "0",
         "0",
         "0",
         "0",
         "0",
         "0",
         "0",
         "0",
         "0",
         "0",
         "0",
         "0",
         "0",
         "0",
         "0",
         "0",
         "0",
         "0",
         "0",
         "0",
         "0",
         "0",
         "0",
         "0",
         "0",
         "0",
         "0",
         "0",
         "0",
         "0",
         "0",
         "0",
         "0",
         "0",
         "0",
         "0",
         "0",
         "0",
         "0",
         "0",
         "0",
         "0",
         "0",
         "0",
         "0",
         "0",
         "0",
         "0",
         "0",
         "0",
         "0",
         "0",
         "0",
         "0",
         "0",
         "0",
         "0",
         "0",
         "0",
         "0",
         "0",
         "0",
         "0",
         "0",
         "0",
         "0",
         "0",
         "0",
         "0",
         "0",
         "0",
         "0",
         "0",
         "0",
         "0",
         "0",
         "0",
         "0",
         "0",
         "0",
         "0",
         "0",
         "0",
         "0",
         "0",
         "0",
         "0",
         "0",
         "0",
         "0",
         "0",
         "0",
         "0",
         "0",
         "0",
         "0",
         "0",
         "0",
         "0",
         "0",
         "0",
         "0",
         "0",
         "0",
         "0",
         "0",
         "0",
         "0",
         "0",
         "0",
         "0",
         "0",
         "0",
         "0",
         "0",
         "0",
         "0",
         "0",
         "0",
         "0",
         "0",
         "0",
         "0",
         "0",
         "0",
         "0",
         "0",
         "0",
         "0",
         "0",
         "0",
         "0",
         "0",
         "0",
         "0",
         "0",
         "0",
         "0",
         "0",
         "0",
         "0",
         "0",
         "0",
         "0",
         "0",
         "0",
         "0",
         "0",
         "0",
         "0",
         "0",
         "0",
         "0",
         "0",
         "0",
         "0",
         "0",
         "0",
         "0",
         "0",
         "0",
         "0",
         "0",
         "0",
         "0",
         "0",
         "0",
         "0",
         "0",
         "0",
         "0",
         "0",
         "0",
         "0",
         "0",
         "0",
         "0",
         "0",
         "0",
         "0",
         "0",
         "0",
         "0",
         "0",
         "0",
         "0",
         "0",
         "0",
         "0",
         "0",
         "0",
         "0",
         "0",
         "0",
         "0",
         "0",
         "0",
         "0",
         "0",
         "1",
         "0",
         "0",
         "0",
         "0",
         "0",
         "0",
         "0",
         "0",
         "0",
         "0",
         "0",
         "0",
         "0",
         "0",
         "0",
         "0",
         "0",
         "0",
         "0",
         "0",
         "0",
         "0",
         "0",
         "0",
         "0",
         "0",
         "0",
         "0",
         "0",
         "1",
         "0",
         "0",
         "0",
         "0",
         "0",
         "0",
         "0",
         "0",
         "0",
         "0",
         "0",
         "0",
         "0",
         "0",
         "0",
         "0",
         "0",
         "0",
         "0",
         "0",
         "0",
         "0",
         "0",
         "0",
         "0",
         "0",
         "0",
         "0",
         "0",
         "0",
         "0",
         "0",
         "0",
         "0",
         "0",
         "0",
         "0",
         "0",
         "0",
         "0",
         "0",
         "0",
         "0",
         "0",
         "0",
         "0",
         "0",
         "0",
         "0",
         "0",
         "0",
         "0",
         "0",
         "0",
         "0",
         "0",
         "0",
         "0",
         "0",
         "0",
         "0",
         "0",
         "0",
         "0",
         "0",
         "0",
         "0",
         "0",
         "0",
         "0",
         "0",
         "0",
         "0",
         "0",
         "0",
         "0",
         "0",
         "0",
         "0",
         "0",
         "0",
         "0",
         "0",
         "0",
         "0",
         "0",
         "0",
         "0",
         "0",
         "0",
         "0",
         "0",
         "0",
         "0",
         "0",
         "0",
         "0",
         "0",
         "0",
         "0",
         "0",
         "0",
         "0",
         "0",
         "0",
         "0",
         "0",
         "0",
         "0",
         "0",
         "0",
         "0",
         "0",
         "0",
         "0",
         "0",
         "0",
         "0",
         "0",
         "0",
         "0",
         "0",
         "0",
         "0",
         "0",
         "0",
         "0",
         "0",
         "0",
         "0",
         "0",
         "0",
         "0",
         "0",
         "0",
         "0",
         "0",
         "0",
         "0",
         "0",
         "0",
         "0",
         "0",
         "0",
         "0",
         "0",
         "0",
         "0",
         "0",
         "0",
         "0",
         "0",
         "0",
         "0",
         "0",
         "0",
         "0",
         "0",
         "0",
         "0",
         "0",
         "0",
         "0",
         "0",
         "0",
         "0",
         "0",
         "0",
         "0",
         "0",
         "0",
         "0",
         "0",
         "0",
         "0",
         "0",
         "0",
         "0",
         "0",
         "0",
         "0",
         "0",
         "0",
         "0",
         "0",
         "0",
         "0",
         "0",
         "0",
         "0",
         "0",
         "0",
         "0",
         "0",
         "0",
         "0",
         "0",
         "0",
         "0",
         "0",
         "0",
         "0",
         "0",
         "0",
         "0",
         "0",
         "0",
         "0",
         "0",
         "0",
         "0",
         "0",
         "0",
         "0",
         "0",
         "0",
         "0",
         "0",
         "0",
         "0",
         "0",
         "0",
         "0",
         "0",
         "0",
         "0",
         "0",
         "0",
         "0",
         "0",
         "0",
         "0",
         "0",
         "0",
         "0",
         "0",
         "0",
         "0",
         "0",
         "0",
         "0",
         "0",
         "0",
         "0",
         "0",
         "0",
         "0",
         "0",
         "0",
         "0",
         "0",
         "0",
         "0",
         "0",
         "0",
         "0",
         "0",
         "0",
         "0",
         "0",
         "0",
         "0",
         "0",
         "0",
         "0",
         "0",
         "1",
         "0",
         "0",
         "0",
         "0",
         "0",
         "0",
         "0",
         "0",
         "0",
         "0",
         "0",
         "0",
         "0",
         "0",
         "0",
         "0",
         "0",
         "0",
         "0",
         "0",
         "0",
         "0",
         "0",
         "0",
         "0",
         "0",
         "0",
         "0",
         "0",
         "0",
         "0",
         "0",
         "0",
         "0",
         "0",
         "0",
         "0",
         "0",
         "0",
         "0",
         "0",
         "0",
         "0",
         "0",
         "0",
         "0",
         "0",
         "0",
         "0",
         "0",
         "0",
         "0",
         "0",
         "0",
         "0",
         "0",
         "0",
         "0",
         "0",
         "0",
         "0",
         "0",
         "0",
         "0",
         "0",
         "0",
         "0",
         "0",
         "0",
         "0",
         "0",
         "0",
         "0",
         "0",
         "0",
         "0",
         "0",
         "0",
         "0",
         "0",
         "0",
         "0",
         "0",
         "0",
         "0",
         "0",
         "0",
         "0",
         "0",
         "0",
         "0",
         "0",
         "0",
         "0",
         "0",
         "0",
         "0",
         "0",
         "0",
         "0",
         "0",
         "0",
         "0",
         "0",
         "0",
         "0",
         "0",
         "0",
         "0",
         "0",
         "0",
         "0",
         "0",
         "0",
         "0",
         "0",
         "0",
         "0",
         "0",
         "0",
         "0",
         "0",
         "0",
         "0",
         "0",
         "0",
         "0",
         "0",
         "0",
         "0",
         "0",
         "0",
         "0",
         "0",
         "0",
         "0",
         "0",
         "0",
         "0",
         "0",
         "0",
         "0",
         "0",
         "0",
         "0",
         "0",
         "0",
         "0",
         "0",
         "0",
         "0",
         "0",
         "0",
         "0",
         "0",
         "0",
         "0",
         "0",
         "0",
         "0",
         "0",
         "0",
         "0",
         "0",
         "0",
         "0",
         "0",
         "0",
         "0",
         "0",
         "0",
         "0",
         "0",
         "0",
         "0",
         "0",
         "0",
         "0",
         "0",
         "0",
         "0",
         "0",
         "0",
         "0",
         "0",
         "0",
         "0",
         "0",
         "0",
         "0",
         "0",
         "0",
         "0",
         "0",
         "0",
         "0",
         "0",
         "0",
         "0",
         "0",
         "0",
         "0",
         "0",
         "0",
         "0",
         "0",
         "0",
         "0",
         "0",
         "0",
         "0",
         "0",
         "0",
         "0",
         "0",
         "0",
         "0",
         "0",
         "0",
         "0",
         "0",
         "0",
         "0",
         "0",
         "0",
         "0",
         "0",
         "0",
         "0",
         "0",
         "0",
         "0",
         "0",
         "0",
         "0",
         "0",
         "0",
         "0",
         "0",
         "0",
         "0",
         "0",
         "0",
         "0",
         "0",
         "0",
         "0",
         "0",
         "0",
         "0",
         "0",
         "0",
         "0",
         "0",
         "0",
         "0",
         "0",
         "0",
         "0",
         "0",
         "0",
         "0",
         "0",
         "0",
         "0",
         "0",
         "0",
         "0",
         "0",
         "0",
         "0",
         "0",
         "0",
         "0",
         "0",
         "0",
         "0",
         "0",
         "0",
         "0",
         "0",
         "0",
         "0",
         "0",
         "0",
         "0",
         "0",
         "0",
         "0",
         "0",
         "0",
         "0",
         "0",
         "0",
         "0",
         "0",
         "0",
         "0",
         "0",
         "0",
         "0",
         "0",
         "0",
         "0",
         "0",
         "0",
         "0",
         "0",
         "0",
         "0",
         "0",
         "0",
         "0",
         "0",
         "0",
         "0",
         "0",
         "0",
         "0",
         "0",
         "0",
         "0",
         "0",
         "0",
         "0",
         "0",
         "0",
         "0",
         "0",
         "0",
         "0",
         "0",
         "0",
         "0",
         "0",
         "0",
         "0",
         "0",
         "0",
         "0",
         "0",
         "0",
         "0",
         "0",
         "0",
         "0",
         "0",
         "0",
         "0",
         "0",
         "0",
         "0",
         "0",
         "0",
         "0",
         "0",
         "0",
         "0",
         "0",
         "0",
         "0",
         "0",
         "0",
         "0",
         "0",
         "0",
         "0",
         "0",
         "0",
         "0",
         "0",
         "0",
         "0",
         "0",
         "0",
         "0",
         "0",
         "0",
         "0",
         "0",
         "0",
         "0",
         "0",
         "0",
         "0",
         "0",
         "0",
         "0",
         "0",
         "0",
         "0",
         "0",
         "0",
         "0",
         "0",
         "0",
         "0",
         "0",
         "0",
         "0",
         "0",
         "0",
         "0",
         "0",
         "0",
         "0",
         "0",
         "0",
         "0",
         "0",
         "0",
         "0",
         "0",
         "0",
         "0",
         "0",
         "0",
         "0",
         "0",
         "0",
         "0",
         "0",
         "0",
         "0",
         "0",
         "0",
         "0",
         "0",
         "0",
         "0",
         "0",
         "0",
         "0",
         "0",
         "0",
         "0",
         "0",
         "0",
         "0",
         "0",
         "0",
         "0",
         "0",
         "0",
         "0",
         "0",
         "0",
         "0",
         "0",
         "0",
         "0",
         "0",
         "0",
         "0",
         "0",
         "0",
         "0",
         "0",
         "0",
         "0",
         "0",
         "0",
         "0",
         "0",
         "0",
         "0",
         "0",
         "0",
         "0",
         "0",
         "0",
         "0",
         "0",
         "0",
         "0",
         "0",
         "0",
         "0",
         "0",
         "0",
         "0",
         "0",
         "0",
         "0",
         "0",
         "0",
         "0",
         "0",
         "0",
         "0",
         "0",
         "0",
         "0",
         "0",
         "0",
         "0",
         "0",
         "0",
         "0",
         "0",
         "0",
         "0",
         "0",
         "0",
         "0",
         "0",
         "0",
         "0",
         "0",
         "0",
         "0",
         "0",
         "0",
         "0",
         "0",
         "0",
         "0",
         "0",
         "0",
         "0",
         "0",
         "0",
         "0",
         "0",
         "0",
         "0",
         "0",
         "0",
         "0",
         "0",
         "0",
         "0",
         "0",
         "0",
         "0",
         "0",
         "0",
         "0",
         "0",
         "0",
         "0",
         "0",
         "0",
         "0",
         "0",
         "0",
         "0",
         "0",
         "0",
         "0",
         "0",
         "0",
         "0",
         "0",
         "0",
         "0",
         "0",
         "0",
         "0",
         "0",
         "0",
         "0",
         "0",
         "0",
         "0",
         "0",
         "0",
         "0",
         "0",
         "0",
         "0",
         "0",
         "0",
         "0",
         "0",
         "0",
         "0",
         "0",
         "0",
         "0",
         "0",
         "0",
         "0",
         "0",
         "0",
         "0",
         "0",
         "0",
         "0",
         "0",
         "0",
         "0",
         "0",
         "0",
         "0",
         "0",
         "0",
         "0",
         "0",
         "0",
         "0",
         "0",
         "0",
         "0",
         "0",
         "0",
         "0",
         "0",
         "0",
         "0",
         "0",
         "0",
         "0",
         "0",
         "0",
         "0",
         "0",
         "0",
         "0",
         "0",
         "0",
         "0",
         "0",
         "0",
         "0",
         "0",
         "0",
         "0",
         "0",
         "0",
         "0",
         "0",
         "0",
         "0",
         "0",
         "0",
         "0",
         "0",
         "0",
         "0",
         "0",
         "0",
         "0",
         "0",
         "0",
         "0",
         "0",
         "0",
         "0",
         "0",
         "0",
         "0",
         "0",
         "0",
         "0",
         "0",
         "0",
         "0",
         "0",
         "0",
         "0",
         "0",
         "0",
         "0",
         "0",
         "0",
         "0",
         "0",
         "0",
         "0",
         "0",
         "0",
         "0",
         "0",
         "0",
         "0",
         "0",
         "0",
         "0",
         "0",
         "0",
         "0",
         "0",
         "0",
         "0",
         "0",
         "0",
         "0",
         "0",
         "0",
         "0",
         "0",
         "0",
         "0",
         "0",
         "0",
         "0",
         "0",
         "0",
         "0",
         "0",
         "0",
         "0",
         "0",
         "0",
         "0",
         "0",
         "0",
         "0",
         "0",
         "0",
         "0",
         "0",
         "0",
         "0",
         "0",
         "0",
         "0",
         "0",
         "0",
         "0",
         "0",
         "0",
         "0",
         "0",
         "0",
         "0",
         "0",
         "0",
         "0",
         "0",
         "0",
         "0",
         "0",
         "0",
         "0",
         "0",
         "0",
         "0",
         "0",
         "0",
         "0",
         "0",
         "0",
         "0",
         "0",
         "0",
         "0",
         "0",
         "0",
         "0",
         "0",
         "0",
         "0",
         "0",
         "0",
         "0",
         "0",
         "0",
         "0",
         "0",
         "0",
         "0",
         "0",
         "0",
         "0",
         "0",
         "0",
         "0",
         "0",
         "0",
         "0",
         "0",
         "0",
         "0",
         "0",
         "0",
         "0",
         "0",
         "0",
         "0",
         "0",
         "0",
         "0",
         "0",
         "0",
         "0",
         "0",
         "0",
         "0",
         "0",
         "0",
         "0",
         "0",
         "0",
         "0",
         "0",
         "0",
         "0",
         "0",
         "0",
         "0",
         "0",
         "0",
         "0",
         "0",
         "0",
         "0",
         "0",
         "0",
         "0",
         "0",
         "0",
         "0",
         "0",
         "0",
         "0",
         "0",
         "0",
         "0",
         "0",
         "0",
         "0",
         "0",
         "0",
         "0",
         "0",
         "0",
         "0",
         "0",
         "0",
         "0",
         "0",
         "0",
         "0",
         "0",
         "0",
         "0",
         "0",
         "0",
         "0",
         "0",
         "0",
         "0",
         "0",
         "0",
         "0",
         "0",
         "0",
         "0",
         "0",
         "0",
         "0",
         "0",
         "0",
         "0",
         "0",
         "0",
         "0",
         "0",
         "0",
         "0",
         "0",
         "0",
         "0",
         "0",
         "0",
         "0",
         "0",
         "0",
         "0",
         "0",
         "0",
         "0",
         "0",
         "0",
         "0",
         "0",
         "0",
         "0",
         "0",
         "0",
         "0",
         "0",
         "0",
         "0",
         "0",
         "0",
         "0",
         "0",
         "0",
         "0",
         "0",
         "0",
         "0",
         "0",
         "0",
         "0",
         "0",
         "0",
         "0",
         "0",
         "0",
         "0",
         "0",
         "0",
         "0",
         "0",
         "0",
         "0",
         "0",
         "0",
         "0",
         "0",
         "0",
         "0",
         "0",
         "0",
         "0",
         "0",
         "0",
         "0",
         "0",
         "0",
         "0",
         "0",
         "0",
         "0",
         "0",
         "0",
         "0",
         "0",
         "0",
         "0",
         "0",
         "0",
         "0",
         "0",
         "0",
         "0",
         "0",
         "0",
         "0",
         "0",
         "0",
         "0",
         "0",
         "0",
         "0",
         "0",
         "0",
         "0",
         "0",
         "0",
         "0",
         "0",
         "0",
         "0",
         "0",
         "0",
         "0",
         "0",
         "0",
         "0",
         "0",
         "0",
         "0",
         "0",
         "0",
         "0",
         "0",
         "0",
         "0",
         "0",
         "0",
         "0",
         "0",
         "0",
         "0",
         "0",
         "0",
         "0",
         "0",
         "0",
         "0",
         "0",
         "0",
         "0",
         "0",
         "0",
         "0",
         "0",
         "0",
         "0",
         "0",
         "0",
         "0",
         "0",
         "0",
         "0",
         "0",
         "0",
         "0",
         "0",
         "0",
         "0",
         "0",
         "0",
         "0",
         "0",
         "0",
         "0",
         "0",
         "0",
         "0",
         "0",
         "0",
         "0",
         "0",
         "0",
         "0",
         "0",
         "0",
         "0",
         "0",
         "0",
         "0",
         "0",
         "0",
         "0",
         "0",
         "0",
         "0",
         "0",
         "0",
         "0",
         "0",
         "0",
         "0",
         "0",
         "0",
         "0",
         "0",
         "0",
         "0",
         "0",
         "0",
         "0",
         "0",
         "0",
         "0",
         "0",
         "0",
         "0",
         "0",
         "0",
         "0",
         "0",
         "0",
         "0",
         "0",
         "0",
         "0",
         "0",
         "0",
         "0",
         "0",
         "0",
         "0",
         "0",
         "0",
         "0",
         "0",
         "0",
         "0",
         "0",
         "0",
         "0",
         "0",
         "0",
         "0",
         "0",
         "0",
         "0",
         "0",
         "0",
         "0",
         "0",
         "0",
         "0",
         "0",
         "0",
         "0",
         "0",
         "0",
         "0",
         "0",
         "0",
         "0",
         "0",
         "0",
         "0",
         "0",
         "0",
         "0",
         "0",
         "0",
         "0",
         "0",
         "0",
         "0",
         "0",
         "0",
         "0",
         "0",
         "0",
         "0",
         "0",
         "0",
         "0",
         "0",
         "0",
         "0",
         "0",
         "0",
         "0",
         "0",
         "0",
         "0",
         "0",
         "0",
         "0",
         "0",
         "0",
         "0",
         "0",
         "0",
         "0",
         "0",
         "0",
         "0",
         "0",
         "0",
         "0",
         "0",
         "0",
         "0",
         "0",
         "0",
         "0",
         "0",
         "0",
         "0",
         "0",
         "0",
         "0",
         "0",
         "0",
         "0",
         "0",
         "0",
         "0",
         "0",
         "0",
         "0",
         "0",
         "0",
         "0",
         "0",
         "0",
         "0",
         "0",
         "0",
         "0",
         "0",
         "0",
         "0",
         "0",
         "0",
         "0",
         "0",
         "0",
         "0",
         "0",
         "0",
         "0",
         "0",
         "0",
         "0",
         "0",
         "0",
         "0",
         "0",
         "0",
         "0",
         "0",
         "0",
         "0",
         "0",
         "0",
         "0",
         "0",
         "0",
         "0",
         "0",
         "0",
         "0",
         "0",
         "0",
         "0",
         "0",
         "0",
         "0",
         "0",
         "0",
         "0",
         "0",
         "0",
         "0",
         "0",
         "0",
         "0",
         "0",
         "0",
         "0",
         "0",
         "0",
         "0",
         "0",
         "0",
         "0",
         "0",
         "0",
         "0",
         "0",
         "0",
         "0",
         "0",
         "0",
         "0",
         "0",
         "0",
         "0",
         "0",
         "0",
         "0",
         "0",
         "0",
         "0",
         "0",
         "0",
         "0",
         "0",
         "0",
         "0",
         "0",
         "0",
         "0",
         "0",
         "0",
         "0",
         "0",
         "0",
         "0",
         "0",
         "0",
         "0",
         "0",
         "0",
         "0",
         "0",
         "0",
         "0",
         "0",
         "0",
         "0",
         "0",
         "0",
         "0",
         "0",
         "0",
         "0",
         "0",
         "0",
         "0",
         "0",
         "0",
         "0",
         "0",
         "0",
         "0",
         "0",
         "0",
         "0",
         "0",
         "0",
         "0",
         "0",
         "0",
         "0",
         "0",
         "0",
         "0",
         "0",
         "0",
         "0",
         "0",
         "0",
         "0",
         "0",
         "0",
         "0",
         "0",
         "0",
         "0",
         "0",
         "0",
         "0",
         "0",
         "0",
         "0",
         "0",
         "0",
         "0",
         "0",
         "0",
         "0",
         "0",
         "0",
         "0",
         "0",
         "0",
         "0",
         "0",
         "0",
         "0",
         "0",
         "0",
         "0",
         "0",
         "0",
         "0",
         "0",
         "0",
         "0",
         "0",
         "0",
         "0",
         "0",
         "0",
         "0",
         "0",
         "0",
         "0",
         "0",
         "0",
         "0",
         "0",
         "0",
         "0",
         "0",
         "0",
         "0",
         "0",
         "0",
         "0",
         "0",
         "0",
         "0",
         "0",
         "0",
         "0",
         "0",
         "0",
         "0",
         "0",
         "0",
         "0",
         "0",
         "0",
         "0",
         "0",
         "0",
         "0",
         "0",
         "0",
         "0",
         "0",
         "0",
         "0",
         "0",
         "0",
         "0",
         "0",
         "0",
         "0",
         "0",
         "0",
         "0",
         "0",
         "0",
         "0",
         "0",
         "0",
         "0",
         "0",
         "0",
         "0",
         "0",
         "0",
         "0",
         "0",
         "0",
         "0",
         "0",
         "0",
         "0",
         "0",
         "0",
         "0",
         "0",
         "0",
         "0",
         "0",
         "0",
         "0",
         "0",
         "0",
         "0",
         "0",
         "0",
         "0",
         "0",
         "0",
         "0",
         "0",
         "0",
         "0",
         "0",
         "0",
         "0",
         "0",
         "0",
         "0",
         "0",
         "0",
         "0",
         "0",
         "0",
         "0",
         "0",
         "0",
         "0",
         "0",
         "0",
         "0",
         "0",
         "0",
         "0",
         "0",
         "0",
         "0",
         "0",
         "0",
         "0",
         "0",
         "0",
         "0",
         "0",
         "0",
         "0",
         "0",
         "0",
         "0",
         "0",
         "0",
         "0",
         "0",
         "0",
         "0",
         "0",
         "0",
         "0",
         "0",
         "0",
         "0",
         "0",
         "0",
         "0",
         "0",
         "0",
         "0",
         "0",
         "0",
         "0",
         "0",
         "0",
         "0",
         "0",
         "0",
         "0",
         "0",
         "0",
         "0",
         "0",
         "0",
         "0",
         "0",
         "0",
         "0",
         "0",
         "0",
         "0",
         "0",
         "0",
         "0",
         "0",
         "0",
         "0",
         "0",
         "0",
         "0",
         "0",
         "0",
         "0",
         "0",
         "0",
         "0",
         "0",
         "0",
         "0",
         "0",
         "0",
         "0",
         "0",
         "0",
         "0",
         "0",
         "0",
         "0",
         "0",
         "0",
         "0",
         "0",
         "0",
         "0",
         "0",
         "0",
         "0",
         "0",
         "0",
         "0",
         "0",
         "0",
         "0",
         "0",
         "0",
         "0",
         "0",
         "0",
         "0",
         "0",
         "0",
         "0",
         "0",
         "0",
         "0",
         "0",
         "0",
         "0",
         "0",
         "0",
         "0",
         "0",
         "0",
         "0",
         "0",
         "0",
         "0",
         "0",
         "0",
         "0",
         "0",
         "0",
         "0",
         "0",
         "0",
         "0",
         "0",
         "0",
         "0",
         "0",
         "0",
         "0",
         "0",
         "0",
         "0",
         "0",
         "0",
         "0",
         "0",
         "0",
         "0",
         "0",
         "0",
         "0",
         "0",
         "0",
         "0",
         "0",
         "0",
         "0",
         "0",
         "0",
         "0",
         "0",
         "0",
         "0",
         "0",
         "0",
         "0",
         "0",
         "0",
         "0",
         "0",
         "0",
         "0",
         "0",
         "0",
         "0",
         "0",
         "0",
         "0",
         "0",
         "0",
         "0",
         "0",
         "0",
         "0",
         "0",
         "0",
         "0",
         "0",
         "0",
         "0",
         "0",
         "0",
         "0",
         "0",
         "0",
         "0",
         "0",
         "0",
         "0",
         "0",
         "0",
         "0",
         "0",
         "0",
         "0",
         "0",
         "0",
         "0",
         "0",
         "0",
         "0",
         "0",
         "0",
         "0",
         "0",
         "0",
         "0",
         "0",
         "0",
         "0",
         "0",
         "0",
         "0",
         "0",
         "0",
         "0",
         "0",
         "0",
         "0",
         "0",
         "0",
         "0",
         "0",
         "0",
         "0",
         "0",
         "0",
         "0",
         "0",
         "0",
         "0",
         "0",
         "0",
         "0",
         "0",
         "0",
         "0",
         "0",
         "0",
         "0",
         "0",
         "0",
         "0",
         "0",
         "0",
         "0",
         "0",
         "0",
         "0",
         "0",
         "0",
         "0",
         "0",
         "0",
         "0",
         "0",
         "0",
         "0",
         "0",
         "0",
         "0",
         "0",
         "0",
         "0",
         "0",
         "0",
         "0",
         "0",
         "0",
         "0",
         "0",
         "0",
         "0",
         "0",
         "0",
         "0",
         "0",
         "0",
         "0",
         "0",
         "0",
         "0",
         "0",
         "0",
         "0",
         "0",
         "0",
         "0",
         "0",
         "0",
         "0",
         "0",
         "0",
         "0",
         "0",
         "0",
         "0",
         "0",
         "0",
         "0",
         "0",
         "0",
         "0",
         "0",
         "0",
         "0",
         "0",
         "0",
         "0",
         "0",
         "0",
         "0",
         "0",
         "0",
         "0",
         "0",
         "0",
         "0",
         "0",
         "0",
         "0",
         "0",
         "0",
         "0",
         "0",
         "0",
         "0",
         "0",
         "0",
         "0",
         "0",
         "0",
         "0",
         "0",
         "0",
         "0",
         "0",
         "0",
         "0",
         "0",
         "0",
         "0",
         "0",
         "0",
         "0",
         "0",
         "0",
         "0",
         "0",
         "0",
         "0",
         "0",
         "0",
         "0",
         "0",
         "0",
         "0",
         "0",
         "0",
         "0",
         "0",
         "0",
         "0",
         "0",
         "0",
         "0",
         "0",
         "0",
         "0",
         "0",
         "0",
         "0",
         "0",
         "0",
         "0",
         "0",
         "0",
         "0",
         "0",
         "0",
         "0",
         "0",
         "0",
         "0",
         "0",
         "0",
         "0",
         "0",
         "0",
         "0",
         "0",
         "0",
         "0",
         "0",
         "0",
         "0",
         "0",
         "0",
         "0",
         "0",
         "0",
         "0",
         "0",
         "0",
         "0",
         "0",
         "0",
         "0",
         "0",
         "0",
         "0",
         "0",
         "0",
         "0",
         "0",
         "0",
         "0",
         "0",
         "0",
         "0",
         "0",
         "0",
         "0",
         "0",
         "0",
         "0",
         "0",
         "0",
         "0",
         "0",
         "0",
         "0",
         "0",
         "0",
         "0",
         "0",
         "0",
         "0",
         "0",
         "0",
         "0",
         "0",
         "0",
         "0",
         "0",
         "0",
         "0",
         "0",
         "0",
         "0",
         "0",
         "0",
         "0",
         "0",
         "0",
         "0",
         "0",
         "0",
         "0",
         "0",
         "0",
         "0",
         "0",
         "0",
         "0",
         "0",
         "0",
         "0",
         "0",
         "0",
         "0",
         "0",
         "0",
         "0",
         "0",
         "0",
         "0",
         "0",
         "0",
         "0",
         "0",
         "0",
         "0",
         "0",
         "0",
         "0",
         "0",
         "0",
         "0",
         "0",
         "0",
         "0",
         "0",
         "0",
         "0",
         "0",
         "0",
         "0",
         "0",
         "0",
         "0",
         "0",
         "0",
         "0",
         "0",
         "0",
         "0",
         "0",
         "0",
         "0",
         "0",
         "0",
         "0",
         "0",
         "0",
         "0",
         "0",
         "0",
         "0",
         "0",
         "0",
         "0",
         "0",
         "0",
         "0",
         "0",
         "0",
         "0",
         "0",
         "0",
         "0",
         "0",
         "0",
         "0",
         "0",
         "0",
         "0",
         "0",
         "0",
         "0",
         "0",
         "0",
         "0",
         "0",
         "0",
         "0",
         "0",
         "0",
         "0",
         "0",
         "0",
         "0",
         "0",
         "0",
         "0",
         "0",
         "0",
         "0",
         "0",
         "0",
         "0",
         "0",
         "0",
         "0",
         "0",
         "0",
         "0",
         "0",
         "0",
         "0",
         "0",
         "0",
         "0",
         "0",
         "0",
         "0",
         "0",
         "0",
         "0",
         "0",
         "0",
         "0",
         "0",
         "0",
         "0",
         "0",
         "0",
         "0",
         "0",
         "0",
         "0",
         "0",
         "0",
         "0",
         "0",
         "0",
         "0",
         "0",
         "0",
         "0",
         "0",
         "0",
         "0",
         "0",
         "0",
         "0",
         "0",
         "0",
         "0",
         "0",
         "0",
         "0",
         "0",
         "0",
         "0",
         "0",
         "0",
         "0",
         "0",
         "0",
         "0",
         "0",
         "0",
         "0",
         "0",
         "0",
         "0",
         "0",
         "0",
         "0",
         "0",
         "0",
         "0",
         "0",
         "0",
         "0",
         "0",
         "0",
         "0",
         "0",
         "0",
         "0",
         "0",
         "0",
         "0",
         "0",
         "0",
         "0",
         "0",
         "0",
         "0",
         "0",
         "0",
         "0",
         "0",
         "0",
         "0",
         "0",
         "0",
         "0",
         "0",
         "0",
         "0",
         "0",
         "0",
         "0",
         "0",
         "0",
         "0",
         "0",
         "0",
         "0",
         "0",
         "0",
         "0",
         "0",
         "0",
         "0",
         "0",
         "0",
         "0",
         "0",
         "0",
         "0",
         "0",
         "0",
         "0",
         "0",
         "0",
         "0",
         "0",
         "0",
         "0",
         "0",
         "0",
         "0",
         "0",
         "0",
         "0",
         "0",
         "0",
         "0",
         "0",
         "0",
         "0",
         "0",
         "0",
         "0",
         "0",
         "0",
         "0",
         "0",
         "0",
         "0",
         "0",
         "0",
         "0",
         "0",
         "0",
         "0",
         "0",
         "0",
         "0",
         "0",
         "0",
         "0",
         "0",
         "0",
         "0",
         "0",
         "0",
         "0",
         "0",
         "0",
         "0",
         "0",
         "0",
         "0",
         "0",
         "0",
         "0",
         "0",
         "0",
         "0",
         "0",
         "0",
         "0",
         "0",
         "0",
         "0",
         "0",
         "0",
         "0",
         "0",
         "0",
         "0",
         "0",
         "0",
         "0",
         "0",
         "0",
         "0",
         "0",
         "0",
         "0",
         "0",
         "0",
         "0",
         "0",
         "0",
         "0",
         "0",
         "0",
         "0",
         "0",
         "0",
         "0",
         "0",
         "0",
         "0",
         "0",
         "0",
         "0",
         "0",
         "0",
         "0",
         "0",
         "0",
         "0",
         "0",
         "0",
         "0",
         "0",
         "0",
         "0",
         "0",
         "0",
         "0",
         "0",
         "0",
         "0",
         "0",
         "0",
         "0",
         "0",
         "0",
         "0",
         "0",
         "0",
         "0",
         "0",
         "0",
         "0",
         "0",
         "0",
         "0",
         "0",
         "0",
         "0",
         "0",
         "0",
         "0",
         "0",
         "0",
         "0",
         "0",
         "0",
         "0",
         "0",
         "0",
         "0",
         "0",
         "0",
         "0",
         "0",
         "0",
         "0",
         "0",
         "0",
         "0",
         "0",
         "0",
         "0",
         "0",
         "0",
         "0",
         "0",
         "0",
         "0",
         "0",
         "0",
         "0",
         "0",
         "0",
         "0",
         "0",
         "0",
         "0",
         "0",
         "0",
         "0",
         "0",
         "0",
         "0",
         "0",
         "0",
         "0",
         "0",
         "0",
         "0",
         "0",
         "0",
         "0",
         "0",
         "0",
         "0",
         "0",
         "0",
         "0",
         "0",
         "0",
         "0",
         "0",
         "0",
         "0",
         "0",
         "0",
         "0",
         "0",
         "0",
         "0",
         "0",
         "0",
         "0",
         "0",
         "0",
         "0",
         "0",
         "0",
         "0",
         "0",
         "0",
         "0",
         "0",
         "0",
         "0",
         "0",
         "0",
         "0",
         "0",
         "0",
         "0",
         "0",
         "0",
         "0",
         "0",
         "0",
         "0",
         "0",
         "0",
         "0",
         "0",
         "0",
         "0",
         "0",
         "0",
         "0",
         "0",
         "0",
         "0",
         "0",
         "0",
         "0",
         "0",
         "0",
         "0",
         "0",
         "0",
         "0",
         "0",
         "0",
         "0",
         "0",
         "0",
         "0",
         "0",
         "0",
         "0",
         "0",
         "0",
         "0",
         "0",
         "0",
         "0",
         "0",
         "0",
         "0",
         "0",
         "0",
         "0",
         "0",
         "0",
         "0",
         "0",
         "0",
         "0",
         "0",
         "0",
         "0",
         "0",
         "0",
         "0",
         "0",
         "0",
         "0",
         "0",
         "0",
         "0",
         "0",
         "0",
         "0",
         "0",
         "0",
         "0",
         "0",
         "0",
         "0",
         "0",
         "0",
         "0",
         "0",
         "0",
         "0",
         "0",
         "0",
         "0",
         "0",
         "0",
         "0",
         "0",
         "0",
         "0",
         "0",
         "0",
         "0",
         "0",
         "0",
         "0",
         "0",
         "0",
         "0",
         "0",
         "0",
         "0",
         "0",
         "0",
         "0",
         "0",
         "0",
         "0",
         "0",
         "0",
         "0",
         "0",
         "0",
         "0",
         "0",
         "0",
         "0",
         "0",
         "0",
         "0",
         "0",
         "0",
         "0",
         "0",
         "0",
         "0",
         "0",
         "0",
         "0",
         "0",
         "0",
         "0",
         "0",
         "0",
         "0",
         "0",
         "0",
         "0",
         "0",
         "0",
         "0",
         "0",
         "0",
         "0",
         "0",
         "0",
         "0",
         "0",
         "0",
         "0",
         "0",
         "0",
         "0",
         "0",
         "0",
         "0",
         "0",
         "0",
         "0",
         "0",
         "0",
         "0",
         "0",
         "0",
         "0",
         "0",
         "0",
         "0",
         "0",
         "0",
         "0",
         "0",
         "0",
         "0",
         "0",
         "0",
         "0",
         "0",
         "0",
         "0",
         "0",
         "0",
         "0",
         "0",
         "0",
         "0",
         "0",
         "0",
         "0",
         "0",
         "0",
         "0",
         "0",
         "0",
         "0",
         "0",
         "0",
         "0",
         "0",
         "0",
         "0",
         "0",
         "0",
         "0",
         "0",
         "0",
         "0",
         "0",
         "0",
         "0",
         "0",
         "0",
         "0",
         "0",
         "0",
         "0",
         "0",
         "0",
         "0",
         "0",
         "0",
         "0",
         "0",
         "0",
         "0",
         "0",
         "0",
         "0",
         "0",
         "0",
         "0",
         "0",
         "0",
         "0",
         "0",
         "0",
         "0",
         "0",
         "0",
         "0",
         "0",
         "0",
         "0",
         "0",
         "0",
         "0",
         "0",
         "0",
         "0",
         "0",
         "0",
         "0",
         "0",
         "0",
         "0",
         "0",
         "0",
         "0",
         "0",
         "0",
         "0",
         "0",
         "0",
         "0",
         "0",
         "0",
         "0",
         "0",
         "0",
         "0",
         "0",
         "0",
         "0",
         "0",
         "0",
         "0",
         "0",
         "0",
         "0",
         "0",
         "0",
         "0",
         "0",
         "0",
         "0",
         "0",
         "0",
         "0",
         "0",
         "0",
         "0",
         "0",
         "0",
         "0",
         "0",
         "0",
         "0",
         "0",
         "0",
         "0",
         "0",
         "0",
         "0",
         "0",
         "0",
         "0",
         "0",
         "0",
         "0",
         "0",
         "0",
         "0",
         "0",
         "0",
         "0",
         "0",
         "0",
         "0",
         "0",
         "0",
         "0",
         "0",
         "0",
         "0",
         "0",
         "0",
         "0",
         "0",
         "0",
         "0",
         "0",
         "0",
         "0",
         "0",
         "0",
         "0",
         "0",
         "0",
         "0",
         "0",
         "0",
         "0",
         "0",
         "0",
         "0",
         "0",
         "0",
         "0",
         "0",
         "0",
         "0",
         "0",
         "0",
         "0",
         "0",
         "0",
         "0",
         "0",
         "0",
         "0",
         "0",
         "0",
         "0",
         "0",
         "0",
         "0",
         "0",
         "0",
         "0",
         "0",
         "0",
         "0",
         "0",
         "0",
         "0",
         "0",
         "0",
         "0",
         "0",
         "0",
         "0",
         "0",
         "0",
         "0",
         "0",
         "0",
         "0",
         "0",
         "0",
         "0",
         "0",
         "0",
         "0",
         "0",
         "0",
         "0",
         "0",
         "0",
         "0",
         "0",
         "0",
         "0",
         "0",
         "0",
         "0",
         "0",
         "0",
         "0",
         "0",
         "0",
         "0",
         "0",
         "0",
         "0",
         "0",
         "0",
         "0",
         "0",
         "0",
         "0",
         "0",
         "0",
         "0",
         "0",
         "0",
         "0",
         "0",
         "0",
         "0",
         "0",
         "0",
         "0",
         "0",
         "0",
         "0",
         "0",
         "0",
         "0",
         "0",
         "0",
         "0",
         "0",
         "0",
         "0",
         "0",
         "0",
         "0",
         "0",
         "0",
         "0",
         "0",
         "0",
         "0",
         "0",
         "0",
         "0",
         "0",
         "0",
         "0",
         "0",
         "0",
         "0",
         "0",
         "0",
         "0",
         "0",
         "0",
         "0",
         "0",
         "0",
         "0",
         "0",
         "0",
         "0",
         "0",
         "0",
         "0",
         "0",
         "0",
         "0",
         "0",
         "0",
         "0",
         "0",
         "0",
         "0",
         "0",
         "0",
         "0",
         "0",
         "0",
         "0",
         "0",
         "0",
         "0",
         "0",
         "0",
         "0",
         "0",
         "0",
         "0",
         "0",
         "0",
         "0",
         "0",
         "0",
         "0",
         "0",
         "0",
         "0",
         "0",
         "0",
         "0",
         "0",
         "0",
         "0",
         "0",
         "0",
         "0",
         "0",
         "0",
         "0",
         "0",
         "0",
         "0",
         "0",
         "0",
         "0",
         "0",
         "0",
         "0",
         "0",
         "0",
         "0",
         "0",
         "0",
         "0",
         "0",
         "0",
         "0",
         "0",
         "0",
         "0",
         "0",
         "0",
         "0",
         "0",
         "0",
         "0",
         "0",
         "0",
         "0",
         "0",
         "0",
         "0",
         "0",
         "0",
         "0",
         "0",
         "0",
         "0",
         "0",
         "0",
         "0",
         "0",
         "0",
         "0",
         "0",
         "0",
         "0",
         "0",
         "0",
         "0",
         "0",
         "0",
         "0",
         "0",
         "0",
         "0",
         "0",
         "0",
         "0",
         "0",
         "0",
         "0",
         "0",
         "0",
         "0",
         "0",
         "0",
         "0",
         "0",
         "0",
         "0",
         "0",
         "0",
         "0",
         "0",
         "0",
         "0",
         "0",
         "0",
         "0",
         "0",
         "0",
         "0",
         "0",
         "0",
         "0",
         "0",
         "0",
         "0",
         "0",
         "0",
         "0",
         "0",
         "0",
         "0",
         "0",
         "0",
         "0",
         "0",
         "0",
         "0",
         "0",
         "0",
         "0",
         "0",
         "0",
         "0",
         "0",
         "0",
         "0",
         "0",
         "0",
         "0",
         "0",
         "0",
         "0",
         "0",
         "0",
         "0",
         "0",
         "0",
         "0",
         "0",
         "0",
         "0",
         "0",
         "0",
         "0",
         "0",
         "0",
         "0",
         "0",
         "0",
         "0",
         "0",
         "0",
         "0",
         "0",
         "0",
         "0",
         "0",
         "0",
         "0",
         "0",
         "0",
         "0",
         "0",
         "0",
         "0",
         "0",
         "0",
         "0",
         "0",
         "0",
         "0",
         "0",
         "0",
         "0",
         "0",
         "0",
         "0",
         "0",
         "0",
         "0",
         "0",
         "0",
         "0",
         "0",
         "0",
         "0",
         "0",
         "0",
         "0",
         "0",
         "0",
         "0",
         "0",
         "0",
         "0",
         "0",
         "0",
         "0",
         "0",
         "0",
         "0",
         "0",
         "0",
         "0",
         "0",
         "0",
         "0",
         "0",
         "0",
         "0",
         "0",
         "0",
         "0",
         "0",
         "0",
         "0",
         "0",
         "0",
         "0",
         "0",
         "0",
         "0",
         "0",
         "0",
         "0",
         "0",
         "0",
         "0",
         "0",
         "0",
         "0",
         "0",
         "0",
         "0",
         "0",
         "0",
         "0",
         "0",
         "0",
         "0",
         "0",
         "0",
         "0",
         "0",
         "0",
         "0",
         "0",
         "0",
         "0",
         "0",
         "0",
         "0",
         "0",
         "0",
         "0",
         "0",
         "0",
         "0",
         "0",
         "0",
         "0",
         "0",
         "0",
         "0",
         "0",
         "0",
         "0",
         "0",
         "0",
         "0",
         "0",
         "0",
         "0",
         "0",
         "0",
         "0",
         "0",
         "0",
         "0",
         "0",
         "0",
         "0",
         "0",
         "0",
         "0",
         "0",
         "0",
         "0",
         "0",
         "0",
         "0",
         "0",
         "0",
         "0",
         "0",
         "0",
         "0",
         "0",
         "0",
         "0",
         "0",
         "0",
         "0",
         "0",
         "1",
         "0",
         "0",
         "0",
         "0",
         "0",
         "0",
         "0",
         "0",
         "0",
         "0",
         "0",
         "0",
         "0",
         "0",
         "0",
         "0",
         "0",
         "0",
         "0",
         "0",
         "0"
        ],
        [
         "2",
         "0",
         "0",
         "0",
         "0",
         "0",
         "0",
         "0",
         "0",
         "0",
         "0",
         "0",
         "0",
         "0",
         "0",
         "0",
         "0",
         "0",
         "0",
         "0",
         "0",
         "0",
         "0",
         "0",
         "0",
         "0",
         "0",
         "0",
         "0",
         "0",
         "0",
         "0",
         "0",
         "0",
         "0",
         "0",
         "0",
         "0",
         "0",
         "0",
         "0",
         "0",
         "0",
         "0",
         "0",
         "0",
         "0",
         "0",
         "0",
         "0",
         "0",
         "0",
         "0",
         "0",
         "0",
         "0",
         "0",
         "0",
         "0",
         "0",
         "0",
         "0",
         "0",
         "0",
         "0",
         "0",
         "0",
         "0",
         "0",
         "0",
         "0",
         "0",
         "0",
         "0",
         "0",
         "0",
         "0",
         "0",
         "0",
         "0",
         "0",
         "0",
         "0",
         "0",
         "0",
         "0",
         "0",
         "0",
         "0",
         "0",
         "0",
         "0",
         "0",
         "0",
         "0",
         "0",
         "0",
         "0",
         "0",
         "0",
         "0",
         "0",
         "0",
         "0",
         "0",
         "0",
         "0",
         "0",
         "0",
         "0",
         "0",
         "0",
         "0",
         "0",
         "0",
         "0",
         "0",
         "0",
         "0",
         "0",
         "0",
         "0",
         "0",
         "0",
         "0",
         "0",
         "0",
         "0",
         "0",
         "0",
         "0",
         "0",
         "0",
         "0",
         "0",
         "0",
         "0",
         "0",
         "0",
         "0",
         "0",
         "0",
         "0",
         "0",
         "0",
         "0",
         "0",
         "0",
         "0",
         "0",
         "0",
         "0",
         "0",
         "0",
         "0",
         "0",
         "0",
         "0",
         "0",
         "0",
         "0",
         "0",
         "0",
         "0",
         "0",
         "0",
         "0",
         "0",
         "0",
         "0",
         "0",
         "0",
         "0",
         "0",
         "0",
         "0",
         "0",
         "0",
         "0",
         "0",
         "0",
         "0",
         "0",
         "0",
         "0",
         "0",
         "0",
         "0",
         "0",
         "0",
         "0",
         "0",
         "0",
         "1",
         "0",
         "0",
         "0",
         "0",
         "0",
         "0",
         "0",
         "0",
         "0",
         "0",
         "0",
         "0",
         "0",
         "0",
         "0",
         "0",
         "0",
         "0",
         "0",
         "0",
         "0",
         "0",
         "0",
         "0",
         "0",
         "0",
         "0",
         "0",
         "0",
         "0",
         "0",
         "0",
         "1",
         "0",
         "0",
         "0",
         "0",
         "0",
         "0",
         "0",
         "0",
         "0",
         "0",
         "0",
         "0",
         "0",
         "0",
         "0",
         "0",
         "0",
         "0",
         "0",
         "0",
         "0",
         "0",
         "0",
         "0",
         "0",
         "0",
         "0",
         "0",
         "0",
         "0",
         "0",
         "0",
         "0",
         "0",
         "0",
         "0",
         "0",
         "0",
         "0",
         "0",
         "0",
         "0",
         "0",
         "0",
         "0",
         "0",
         "0",
         "0",
         "0",
         "0",
         "0",
         "0",
         "0",
         "0",
         "0",
         "0",
         "0",
         "0",
         "0",
         "0",
         "0",
         "0",
         "0",
         "0",
         "0",
         "0",
         "0",
         "0",
         "0",
         "0",
         "0",
         "0",
         "0",
         "0",
         "0",
         "0",
         "0",
         "0",
         "0",
         "0",
         "0",
         "0",
         "0",
         "0",
         "0",
         "0",
         "0",
         "0",
         "0",
         "0",
         "0",
         "0",
         "0",
         "0",
         "0",
         "0",
         "0",
         "0",
         "0",
         "0",
         "0",
         "0",
         "0",
         "0",
         "0",
         "0",
         "0",
         "0",
         "0",
         "0",
         "0",
         "0",
         "0",
         "0",
         "0",
         "0",
         "0",
         "0",
         "0",
         "0",
         "0",
         "0",
         "0",
         "0",
         "0",
         "0",
         "0",
         "0",
         "0",
         "0",
         "0",
         "0",
         "0",
         "0",
         "0",
         "0",
         "0",
         "0",
         "0",
         "0",
         "0",
         "0",
         "0",
         "0",
         "0",
         "0",
         "0",
         "0",
         "0",
         "0",
         "0",
         "0",
         "0",
         "0",
         "0",
         "0",
         "0",
         "0",
         "0",
         "0",
         "0",
         "0",
         "0",
         "0",
         "0",
         "0",
         "0",
         "0",
         "0",
         "0",
         "0",
         "0",
         "0",
         "0",
         "0",
         "0",
         "0",
         "0",
         "0",
         "0",
         "0",
         "0",
         "0",
         "0",
         "0",
         "0",
         "0",
         "0",
         "0",
         "0",
         "0",
         "0",
         "0",
         "0",
         "0",
         "0",
         "0",
         "0",
         "0",
         "0",
         "0",
         "0",
         "0",
         "0",
         "0",
         "0",
         "0",
         "0",
         "0",
         "0",
         "0",
         "0",
         "0",
         "0",
         "0",
         "0",
         "0",
         "0",
         "0",
         "0",
         "0",
         "0",
         "0",
         "0",
         "0",
         "0",
         "0",
         "0",
         "0",
         "0",
         "0",
         "0",
         "0",
         "0",
         "0",
         "0",
         "0",
         "0",
         "0",
         "0",
         "0",
         "0",
         "0",
         "0",
         "0",
         "0",
         "0",
         "0",
         "0",
         "0",
         "0",
         "0",
         "0",
         "0",
         "0",
         "0",
         "0",
         "0",
         "0",
         "0",
         "0",
         "0",
         "0",
         "0",
         "0",
         "0",
         "0",
         "0",
         "0",
         "0",
         "0",
         "0",
         "0",
         "0",
         "0",
         "0",
         "0",
         "0",
         "0",
         "0",
         "0",
         "0",
         "0",
         "0",
         "0",
         "0",
         "0",
         "0",
         "0",
         "0",
         "0",
         "0",
         "0",
         "0",
         "0",
         "0",
         "0",
         "0",
         "0",
         "0",
         "0",
         "0",
         "0",
         "0",
         "0",
         "0",
         "0",
         "0",
         "0",
         "0",
         "0",
         "0",
         "0",
         "0",
         "0",
         "0",
         "0",
         "0",
         "0",
         "0",
         "0",
         "0",
         "0",
         "0",
         "0",
         "0",
         "0",
         "0",
         "0",
         "0",
         "0",
         "0",
         "0",
         "0",
         "0",
         "0",
         "0",
         "0",
         "0",
         "0",
         "0",
         "0",
         "0",
         "0",
         "0",
         "0",
         "0",
         "0",
         "0",
         "0",
         "0",
         "0",
         "0",
         "0",
         "0",
         "0",
         "0",
         "0",
         "0",
         "0",
         "0",
         "0",
         "0",
         "0",
         "0",
         "0",
         "0",
         "0",
         "0",
         "0",
         "0",
         "0",
         "0",
         "0",
         "0",
         "0",
         "0",
         "0",
         "0",
         "0",
         "0",
         "0",
         "0",
         "0",
         "0",
         "0",
         "0",
         "0",
         "0",
         "0",
         "0",
         "0",
         "0",
         "0",
         "0",
         "0",
         "0",
         "0",
         "0",
         "0",
         "0",
         "0",
         "0",
         "0",
         "0",
         "0",
         "0",
         "0",
         "0",
         "0",
         "0",
         "0",
         "0",
         "0",
         "0",
         "0",
         "0",
         "0",
         "0",
         "0",
         "0",
         "0",
         "0",
         "0",
         "0",
         "0",
         "0",
         "0",
         "0",
         "0",
         "0",
         "0",
         "0",
         "0",
         "0",
         "0",
         "0",
         "0",
         "0",
         "0",
         "0",
         "0",
         "0",
         "0",
         "0",
         "0",
         "0",
         "0",
         "0",
         "0",
         "0",
         "0",
         "0",
         "0",
         "0",
         "0",
         "0",
         "0",
         "0",
         "0",
         "0",
         "0",
         "0",
         "0",
         "0",
         "0",
         "0",
         "0",
         "0",
         "0",
         "0",
         "0",
         "0",
         "0",
         "0",
         "0",
         "0",
         "0",
         "0",
         "0",
         "0",
         "0",
         "0",
         "0",
         "0",
         "0",
         "0",
         "0",
         "0",
         "0",
         "0",
         "0",
         "0",
         "0",
         "0",
         "0",
         "0",
         "0",
         "0",
         "0",
         "0",
         "0",
         "0",
         "0",
         "0",
         "0",
         "0",
         "0",
         "0",
         "0",
         "0",
         "0",
         "0",
         "0",
         "0",
         "0",
         "0",
         "0",
         "0",
         "0",
         "0",
         "0",
         "0",
         "0",
         "0",
         "0",
         "0",
         "0",
         "0",
         "0",
         "0",
         "0",
         "0",
         "0",
         "0",
         "0",
         "0",
         "0",
         "0",
         "0",
         "0",
         "0",
         "0",
         "0",
         "0",
         "0",
         "0",
         "0",
         "0",
         "0",
         "0",
         "0",
         "0",
         "0",
         "0",
         "0",
         "0",
         "0",
         "0",
         "0",
         "0",
         "0",
         "0",
         "0",
         "0",
         "0",
         "0",
         "0",
         "0",
         "0",
         "0",
         "0",
         "0",
         "0",
         "0",
         "0",
         "0",
         "0",
         "0",
         "0",
         "0",
         "0",
         "0",
         "0",
         "0",
         "0",
         "0",
         "0",
         "0",
         "0",
         "0",
         "0",
         "0",
         "0",
         "0",
         "0",
         "0",
         "0",
         "0",
         "0",
         "0",
         "0",
         "0",
         "0",
         "0",
         "0",
         "0",
         "0",
         "0",
         "0",
         "0",
         "0",
         "0",
         "0",
         "0",
         "0",
         "0",
         "0",
         "0",
         "0",
         "0",
         "0",
         "0",
         "0",
         "0",
         "0",
         "0",
         "0",
         "0",
         "0",
         "0",
         "0",
         "0",
         "0",
         "0",
         "0",
         "0",
         "0",
         "0",
         "0",
         "0",
         "0",
         "0",
         "0",
         "0",
         "0",
         "0",
         "0",
         "0",
         "0",
         "0",
         "0",
         "0",
         "0",
         "0",
         "0",
         "0",
         "0",
         "0",
         "0",
         "0",
         "0",
         "0",
         "0",
         "0",
         "0",
         "0",
         "0",
         "0",
         "0",
         "0",
         "0",
         "0",
         "0",
         "0",
         "0",
         "0",
         "0",
         "0",
         "0",
         "0",
         "0",
         "0",
         "0",
         "0",
         "0",
         "0",
         "0",
         "0",
         "0",
         "0",
         "0",
         "0",
         "0",
         "0",
         "0",
         "0",
         "0",
         "0",
         "0",
         "0",
         "0",
         "0",
         "0",
         "0",
         "0",
         "0",
         "0",
         "0",
         "0",
         "0",
         "0",
         "0",
         "0",
         "0",
         "0",
         "0",
         "0",
         "0",
         "0",
         "0",
         "0",
         "0",
         "0",
         "0",
         "0",
         "0",
         "0",
         "0",
         "0",
         "0",
         "0",
         "0",
         "0",
         "0",
         "0",
         "0",
         "0",
         "0",
         "0",
         "0",
         "0",
         "0",
         "0",
         "0",
         "0",
         "0",
         "0",
         "0",
         "0",
         "0",
         "0",
         "0",
         "0",
         "0",
         "0",
         "0",
         "0",
         "0",
         "0",
         "0",
         "0",
         "0",
         "0",
         "0",
         "0",
         "0",
         "0",
         "0",
         "0",
         "0",
         "0",
         "0",
         "0",
         "0",
         "0",
         "0",
         "0",
         "0",
         "0",
         "0",
         "0",
         "0",
         "0",
         "0",
         "0",
         "0",
         "0",
         "0",
         "0",
         "0",
         "0",
         "0",
         "0",
         "0",
         "0",
         "0",
         "0",
         "0",
         "0",
         "0",
         "0",
         "0",
         "0",
         "0",
         "0",
         "0",
         "0",
         "0",
         "0",
         "0",
         "0",
         "0",
         "0",
         "0",
         "0",
         "0",
         "0",
         "0",
         "0",
         "0",
         "0",
         "0",
         "0",
         "0",
         "0",
         "0",
         "0",
         "0",
         "0",
         "0",
         "0",
         "0",
         "0",
         "0",
         "0",
         "0",
         "0",
         "0",
         "0",
         "0",
         "0",
         "0",
         "0",
         "0",
         "0",
         "0",
         "0",
         "0",
         "0",
         "0",
         "0",
         "0",
         "0",
         "0",
         "0",
         "0",
         "0",
         "0",
         "0",
         "0",
         "0",
         "0",
         "0",
         "0",
         "0",
         "0",
         "0",
         "0",
         "0",
         "0",
         "0",
         "0",
         "0",
         "0",
         "0",
         "0",
         "0",
         "0",
         "0",
         "0",
         "0",
         "0",
         "0",
         "0",
         "0",
         "0",
         "0",
         "0",
         "0",
         "0",
         "0",
         "0",
         "0",
         "0",
         "0",
         "0",
         "0",
         "0",
         "0",
         "0",
         "0",
         "0",
         "0",
         "0",
         "0",
         "0",
         "0",
         "0",
         "0",
         "0",
         "0",
         "0",
         "0",
         "0",
         "0",
         "0",
         "0",
         "0",
         "0",
         "0",
         "0",
         "0",
         "0",
         "0",
         "0",
         "0",
         "0",
         "0",
         "0",
         "0",
         "0",
         "0",
         "0",
         "0",
         "0",
         "0",
         "0",
         "0",
         "0",
         "0",
         "0",
         "0",
         "0",
         "0",
         "0",
         "0",
         "0",
         "0",
         "0",
         "0",
         "0",
         "0",
         "0",
         "0",
         "0",
         "0",
         "0",
         "0",
         "0",
         "0",
         "0",
         "0",
         "0",
         "0",
         "0",
         "0",
         "0",
         "0",
         "0",
         "0",
         "0",
         "0",
         "0",
         "0",
         "0",
         "0",
         "0",
         "0",
         "0",
         "0",
         "0",
         "0",
         "0",
         "0",
         "0",
         "0",
         "0",
         "0",
         "0",
         "0",
         "0",
         "0",
         "0",
         "0",
         "0",
         "0",
         "0",
         "0",
         "0",
         "0",
         "0",
         "0",
         "0",
         "0",
         "0",
         "0",
         "0",
         "0",
         "0",
         "0",
         "0",
         "0",
         "0",
         "0",
         "0",
         "0",
         "0",
         "0",
         "0",
         "0",
         "0",
         "0",
         "0",
         "0",
         "0",
         "0",
         "0",
         "0",
         "0",
         "0",
         "0",
         "0",
         "0",
         "0",
         "0",
         "0",
         "0",
         "0",
         "0",
         "0",
         "0",
         "0",
         "0",
         "0",
         "0",
         "0",
         "0",
         "0",
         "0",
         "0",
         "0",
         "0",
         "0",
         "0",
         "0",
         "0",
         "0",
         "0",
         "0",
         "0",
         "0",
         "0",
         "0",
         "0",
         "0",
         "0",
         "0",
         "0",
         "0",
         "0",
         "0",
         "0",
         "0",
         "0",
         "0",
         "0",
         "0",
         "0",
         "0",
         "0",
         "0",
         "0",
         "0",
         "0",
         "0",
         "0",
         "0",
         "0",
         "0",
         "0",
         "0",
         "0",
         "0",
         "0",
         "0",
         "0",
         "0",
         "0",
         "0",
         "0",
         "0",
         "0",
         "0",
         "0",
         "0",
         "0",
         "0",
         "0",
         "0",
         "0",
         "0",
         "0",
         "0",
         "0",
         "0",
         "0",
         "0",
         "0",
         "0",
         "0",
         "0",
         "0",
         "0",
         "0",
         "0",
         "0",
         "0",
         "0",
         "0",
         "0",
         "0",
         "0",
         "0",
         "0",
         "0",
         "0",
         "0",
         "0",
         "0",
         "0",
         "0",
         "0",
         "0",
         "0",
         "0",
         "0",
         "0",
         "0",
         "0",
         "0",
         "0",
         "0",
         "0",
         "0",
         "0",
         "0",
         "0",
         "0",
         "0",
         "0",
         "0",
         "0",
         "0",
         "0",
         "0",
         "0",
         "0",
         "0",
         "0",
         "0",
         "0",
         "0",
         "0",
         "0",
         "0",
         "0",
         "0",
         "0",
         "0",
         "0",
         "0",
         "0",
         "0",
         "0",
         "0",
         "0",
         "0",
         "0",
         "0",
         "0",
         "0",
         "0",
         "0",
         "0",
         "0",
         "0",
         "0",
         "0",
         "0",
         "0",
         "0",
         "0",
         "0",
         "0",
         "0",
         "0",
         "0",
         "0",
         "0",
         "0",
         "0",
         "0",
         "0",
         "0",
         "0",
         "0",
         "0",
         "0",
         "0",
         "0",
         "0",
         "0",
         "0",
         "0",
         "0",
         "0",
         "0",
         "0",
         "0",
         "0",
         "0",
         "0",
         "0",
         "0",
         "0",
         "0",
         "0",
         "0",
         "0",
         "0",
         "0",
         "0",
         "0",
         "0",
         "0",
         "0",
         "0",
         "0",
         "0",
         "0",
         "0",
         "0",
         "0",
         "0",
         "0",
         "0",
         "0",
         "0",
         "0",
         "0",
         "0",
         "0",
         "0",
         "0",
         "0",
         "0",
         "0",
         "0",
         "0",
         "0",
         "0",
         "0",
         "0",
         "0",
         "0",
         "0",
         "0",
         "0",
         "0",
         "0",
         "0",
         "0",
         "0",
         "0",
         "0",
         "0",
         "0",
         "0",
         "0",
         "0",
         "0",
         "0",
         "0",
         "0",
         "0",
         "0",
         "0",
         "0",
         "0",
         "0",
         "0",
         "0",
         "0",
         "0",
         "0",
         "0",
         "0",
         "0",
         "0",
         "0",
         "0",
         "0",
         "0",
         "0",
         "0",
         "0",
         "0",
         "0",
         "0",
         "0",
         "0",
         "0",
         "0",
         "0",
         "0",
         "0",
         "0",
         "0",
         "0",
         "0",
         "0",
         "0",
         "0",
         "0",
         "0",
         "0",
         "0",
         "0",
         "0",
         "0",
         "0",
         "0",
         "0",
         "0",
         "0",
         "0",
         "0",
         "0",
         "0",
         "0",
         "0",
         "0",
         "0",
         "0",
         "0",
         "0",
         "0",
         "0",
         "0",
         "0",
         "0",
         "0",
         "0",
         "0",
         "0",
         "0",
         "0",
         "0",
         "0",
         "0",
         "0",
         "0",
         "0",
         "0",
         "0",
         "0",
         "0",
         "0",
         "0",
         "0",
         "0",
         "0",
         "0",
         "0",
         "0",
         "0",
         "0",
         "0",
         "0",
         "0",
         "0",
         "0",
         "0",
         "0",
         "0",
         "0",
         "0",
         "0",
         "0",
         "0",
         "0",
         "0",
         "0",
         "0",
         "0",
         "0",
         "0",
         "0",
         "0",
         "0",
         "0",
         "0",
         "0",
         "0",
         "0",
         "0",
         "0",
         "0",
         "0",
         "0",
         "0",
         "0",
         "0",
         "0",
         "0",
         "0",
         "0",
         "0",
         "0",
         "0",
         "0",
         "0",
         "0",
         "0",
         "0",
         "0",
         "0",
         "0",
         "0",
         "0",
         "0",
         "0",
         "0",
         "0",
         "0",
         "0",
         "0",
         "0",
         "0",
         "0",
         "0",
         "0",
         "0",
         "0",
         "0",
         "0",
         "0",
         "0",
         "0",
         "0",
         "0",
         "0",
         "0",
         "0",
         "0",
         "0",
         "0",
         "0",
         "0",
         "0",
         "0",
         "0",
         "0",
         "0",
         "0",
         "0",
         "0",
         "0",
         "0",
         "0",
         "0",
         "0",
         "0",
         "0",
         "0",
         "0",
         "0",
         "0",
         "0",
         "0",
         "0",
         "0",
         "0",
         "0",
         "0",
         "0",
         "0",
         "0",
         "0",
         "0",
         "0",
         "0",
         "0",
         "0",
         "0",
         "0",
         "0",
         "0",
         "0",
         "0",
         "0",
         "0",
         "0",
         "0",
         "0",
         "0",
         "0",
         "0",
         "0",
         "0",
         "0",
         "0",
         "0",
         "0",
         "0",
         "0",
         "0",
         "0",
         "0",
         "0",
         "0",
         "0",
         "0",
         "0",
         "0",
         "0",
         "0",
         "0",
         "0",
         "0",
         "0",
         "0",
         "0",
         "0",
         "0",
         "0",
         "0",
         "0",
         "0",
         "0",
         "0",
         "0",
         "0",
         "0",
         "0",
         "0",
         "0",
         "0",
         "0",
         "0",
         "0",
         "0",
         "0",
         "0",
         "0",
         "0",
         "0",
         "0",
         "0",
         "0",
         "0",
         "0",
         "0",
         "0",
         "0",
         "0",
         "0",
         "0",
         "0",
         "0",
         "0",
         "0",
         "0",
         "0",
         "0",
         "0",
         "0",
         "0",
         "0",
         "0",
         "0",
         "0",
         "0",
         "0",
         "0",
         "0",
         "0",
         "0",
         "0",
         "0",
         "0",
         "0",
         "0",
         "0",
         "0",
         "0",
         "0",
         "0",
         "0",
         "0",
         "0",
         "0",
         "0",
         "0",
         "0",
         "0",
         "0",
         "0",
         "0",
         "0",
         "0",
         "0",
         "0",
         "0",
         "0",
         "0",
         "0",
         "0",
         "0",
         "0",
         "0",
         "0",
         "0",
         "0",
         "0",
         "0",
         "0",
         "0",
         "0",
         "0",
         "0",
         "0",
         "0",
         "0",
         "0",
         "0",
         "0",
         "0",
         "0",
         "0",
         "0",
         "0",
         "0",
         "0",
         "0",
         "0",
         "0",
         "0",
         "0",
         "0",
         "0",
         "0",
         "0",
         "0",
         "0",
         "0",
         "0",
         "0",
         "0",
         "0",
         "0",
         "0",
         "0",
         "0",
         "0",
         "0",
         "0",
         "0",
         "0",
         "0",
         "0",
         "0",
         "0",
         "0",
         "0",
         "0",
         "0",
         "0",
         "0",
         "0",
         "0",
         "0",
         "0",
         "0",
         "0",
         "0",
         "0",
         "0",
         "0",
         "0",
         "0",
         "0",
         "0",
         "0",
         "0",
         "0",
         "0",
         "0",
         "0",
         "0",
         "0",
         "0",
         "0",
         "0",
         "0",
         "0",
         "0",
         "0",
         "0",
         "0",
         "0",
         "0",
         "0",
         "0",
         "0",
         "0",
         "0",
         "0",
         "0",
         "0",
         "0",
         "0",
         "0",
         "0",
         "0",
         "0",
         "0",
         "0",
         "0",
         "0",
         "0",
         "0",
         "0",
         "0",
         "0",
         "0",
         "0",
         "0",
         "0",
         "0",
         "0",
         "0",
         "0",
         "0",
         "0",
         "0",
         "0",
         "0",
         "0",
         "0",
         "0",
         "0",
         "0",
         "0",
         "0",
         "0",
         "0",
         "0",
         "0",
         "0",
         "0",
         "0",
         "0",
         "0",
         "0",
         "0",
         "0",
         "0",
         "0",
         "0",
         "0",
         "0",
         "0",
         "0",
         "0",
         "0",
         "0",
         "0",
         "0",
         "0",
         "0",
         "0",
         "0",
         "0",
         "0",
         "0",
         "0",
         "0",
         "0",
         "0",
         "0",
         "0",
         "0",
         "0",
         "0",
         "0",
         "0",
         "0",
         "0",
         "0",
         "0",
         "0",
         "0",
         "0",
         "0",
         "0",
         "0",
         "0",
         "0",
         "0",
         "0",
         "0",
         "0",
         "0",
         "0",
         "0",
         "0",
         "0",
         "0",
         "0",
         "0",
         "0",
         "0",
         "0",
         "0",
         "0",
         "0",
         "0",
         "0",
         "0",
         "0",
         "0",
         "0",
         "0",
         "0",
         "0",
         "0",
         "0",
         "0",
         "0",
         "0",
         "0",
         "0",
         "0",
         "0",
         "0",
         "0",
         "0",
         "0",
         "0",
         "0",
         "0",
         "0",
         "0",
         "0",
         "0",
         "0",
         "0",
         "0",
         "0",
         "0",
         "0",
         "0",
         "0",
         "0",
         "0",
         "0",
         "0",
         "0",
         "0",
         "0",
         "0",
         "0",
         "0",
         "0",
         "0",
         "0",
         "0",
         "0",
         "0",
         "0",
         "0",
         "0",
         "0",
         "0",
         "0",
         "0",
         "0",
         "0",
         "0",
         "0",
         "0",
         "0",
         "0",
         "0",
         "0",
         "0",
         "0",
         "0",
         "0",
         "0",
         "0",
         "0",
         "0",
         "0",
         "0",
         "0",
         "0",
         "0",
         "0",
         "0",
         "0",
         "0",
         "0",
         "0",
         "0",
         "0",
         "0",
         "0",
         "0",
         "0",
         "0",
         "0",
         "0",
         "0",
         "0",
         "0",
         "0",
         "0",
         "0",
         "0",
         "0",
         "0",
         "0",
         "0",
         "0",
         "0",
         "0",
         "0",
         "0",
         "0",
         "0",
         "0",
         "0",
         "0",
         "0",
         "0",
         "0",
         "0",
         "0",
         "0",
         "0",
         "0",
         "0",
         "0",
         "0",
         "0",
         "1",
         "0",
         "0",
         "0",
         "0",
         "0",
         "0",
         "0",
         "0",
         "0",
         "0",
         "0",
         "0",
         "0",
         "0",
         "0",
         "0",
         "0",
         "0",
         "0",
         "0",
         "0",
         "0",
         "0",
         "0",
         "0",
         "0",
         "0",
         "0",
         "0",
         "0",
         "0",
         "0",
         "0",
         "0",
         "0",
         "0",
         "0",
         "0",
         "0",
         "0",
         "0",
         "0",
         "0",
         "0",
         "0",
         "0",
         "0",
         "0",
         "0",
         "0",
         "0",
         "0",
         "0",
         "0",
         "0",
         "0",
         "0",
         "0",
         "0",
         "0",
         "0",
         "0",
         "0",
         "0",
         "0",
         "0",
         "0",
         "0",
         "0",
         "0",
         "0",
         "0",
         "0",
         "0",
         "0",
         "0",
         "0",
         "0",
         "0",
         "0",
         "0",
         "0",
         "0",
         "0",
         "0",
         "0",
         "0",
         "0",
         "0",
         "0",
         "0",
         "0",
         "0",
         "0",
         "0",
         "0",
         "0",
         "0",
         "0",
         "0",
         "0",
         "0",
         "0",
         "0",
         "0",
         "0",
         "0",
         "0",
         "0",
         "0",
         "0",
         "0",
         "0",
         "0",
         "0",
         "0",
         "0",
         "0",
         "0",
         "0",
         "0",
         "0",
         "0",
         "0",
         "0",
         "0",
         "0",
         "0",
         "0",
         "0",
         "0",
         "0",
         "0",
         "0",
         "0",
         "0",
         "0",
         "0",
         "0",
         "0",
         "0",
         "0",
         "0",
         "0",
         "0",
         "0",
         "0",
         "0",
         "0",
         "0",
         "0",
         "0",
         "0",
         "0",
         "0",
         "0",
         "0",
         "0",
         "0",
         "0",
         "0",
         "0",
         "0",
         "0",
         "0",
         "0",
         "0",
         "0",
         "0",
         "0",
         "0",
         "0",
         "0",
         "0",
         "0",
         "0",
         "0",
         "0",
         "0",
         "0",
         "0",
         "0",
         "0",
         "0",
         "0",
         "0",
         "0",
         "0",
         "0",
         "0",
         "0",
         "0",
         "0",
         "0",
         "0",
         "0",
         "0",
         "0",
         "0",
         "0",
         "0",
         "0",
         "0",
         "0",
         "0",
         "0",
         "0",
         "0",
         "0",
         "0",
         "0",
         "0",
         "0",
         "0",
         "0",
         "0",
         "0",
         "0",
         "0",
         "0",
         "0",
         "0",
         "0",
         "0",
         "0",
         "0",
         "0",
         "0",
         "0",
         "0",
         "0",
         "0",
         "0",
         "0",
         "0",
         "0",
         "0",
         "0",
         "0",
         "0",
         "0",
         "0",
         "0",
         "0",
         "0",
         "0",
         "0",
         "0",
         "0",
         "0",
         "0",
         "0",
         "0",
         "0",
         "0",
         "0",
         "0",
         "0",
         "0",
         "0",
         "0",
         "0",
         "0",
         "0",
         "0",
         "0",
         "0",
         "0",
         "0",
         "0",
         "0",
         "0",
         "0",
         "0",
         "0",
         "0",
         "0",
         "0",
         "0",
         "0",
         "0",
         "0",
         "0",
         "0",
         "0",
         "0",
         "0",
         "0",
         "0",
         "0",
         "0",
         "0",
         "0",
         "0",
         "0",
         "0",
         "0",
         "0",
         "0",
         "0",
         "0",
         "0",
         "0",
         "0",
         "0",
         "0",
         "0",
         "0",
         "0",
         "0",
         "0",
         "0",
         "0",
         "0",
         "0",
         "0",
         "0",
         "0",
         "0",
         "0",
         "0",
         "0",
         "0",
         "0",
         "0",
         "0",
         "0",
         "0",
         "0",
         "0",
         "0",
         "0",
         "0",
         "0",
         "0",
         "0",
         "0",
         "0",
         "0",
         "0",
         "0",
         "0",
         "0",
         "0",
         "0",
         "0",
         "0",
         "0",
         "0",
         "0",
         "0",
         "0",
         "0",
         "0",
         "0",
         "0",
         "0",
         "0",
         "0",
         "0",
         "0",
         "0",
         "0",
         "0",
         "0",
         "0",
         "0",
         "0",
         "0",
         "0",
         "0",
         "0",
         "0",
         "0",
         "0",
         "0",
         "0",
         "0",
         "0",
         "0",
         "0",
         "0",
         "0",
         "0",
         "0",
         "0",
         "0",
         "0",
         "0",
         "0",
         "0",
         "0",
         "0",
         "0",
         "0",
         "0",
         "0",
         "0",
         "0",
         "0",
         "0",
         "0",
         "0",
         "0",
         "0",
         "0",
         "0",
         "0",
         "0",
         "0",
         "0",
         "0",
         "0",
         "0",
         "0",
         "0",
         "0",
         "0",
         "0",
         "0",
         "0",
         "0",
         "0",
         "0",
         "0",
         "0",
         "0",
         "0",
         "0",
         "0",
         "0",
         "0",
         "0",
         "0",
         "0",
         "0",
         "0",
         "0",
         "0",
         "0",
         "0",
         "0",
         "0",
         "0",
         "0",
         "0",
         "0",
         "0",
         "0",
         "0",
         "0",
         "0",
         "0",
         "0",
         "0",
         "0",
         "0",
         "0",
         "0",
         "0",
         "0",
         "0",
         "0",
         "0",
         "0",
         "0",
         "0",
         "0",
         "0",
         "0",
         "0",
         "0",
         "0",
         "0",
         "0",
         "0",
         "0",
         "0",
         "0",
         "0",
         "0",
         "0",
         "0",
         "0",
         "0",
         "0",
         "0",
         "0",
         "0",
         "0",
         "0",
         "0",
         "0",
         "0",
         "0",
         "0",
         "0",
         "0",
         "0",
         "0",
         "0",
         "0",
         "0",
         "0",
         "0",
         "0",
         "0",
         "0",
         "0",
         "0",
         "0",
         "0",
         "0",
         "0",
         "0",
         "0",
         "0",
         "0",
         "0",
         "0",
         "0",
         "0",
         "0",
         "0",
         "0",
         "0",
         "0",
         "0",
         "0",
         "0",
         "0",
         "0",
         "0",
         "0",
         "0",
         "0",
         "0",
         "0",
         "0",
         "0",
         "0",
         "0",
         "0",
         "0",
         "0",
         "0",
         "0",
         "0",
         "0",
         "0",
         "0",
         "0",
         "0",
         "0",
         "0",
         "0",
         "0",
         "0",
         "0",
         "0",
         "0",
         "0",
         "0",
         "0",
         "0",
         "0",
         "0",
         "0",
         "0",
         "0",
         "0",
         "0",
         "0",
         "0",
         "0",
         "0",
         "0",
         "0",
         "0",
         "0",
         "0",
         "0",
         "0",
         "0",
         "0",
         "0",
         "0",
         "0",
         "0",
         "0",
         "0",
         "0",
         "0",
         "0",
         "0",
         "0",
         "0",
         "0",
         "0",
         "0",
         "0",
         "0",
         "0",
         "0",
         "0",
         "0",
         "0",
         "0",
         "0",
         "0",
         "0",
         "0",
         "0",
         "0",
         "0",
         "0",
         "0",
         "0",
         "0",
         "0",
         "0",
         "0",
         "0",
         "0",
         "0",
         "0",
         "0",
         "0",
         "0",
         "0",
         "0",
         "0",
         "0",
         "0",
         "0",
         "0",
         "0",
         "0",
         "0",
         "0",
         "0",
         "0",
         "0",
         "0",
         "0",
         "0",
         "0",
         "0",
         "0",
         "0",
         "0",
         "0",
         "0",
         "0",
         "0",
         "0",
         "0",
         "0",
         "0",
         "0",
         "0",
         "0",
         "0",
         "0",
         "0",
         "1",
         "0",
         "0",
         "0",
         "0",
         "0",
         "0",
         "0",
         "0",
         "0",
         "0",
         "0",
         "0",
         "0",
         "0",
         "0",
         "0",
         "0",
         "0",
         "0",
         "0",
         "0",
         "0",
         "0",
         "0",
         "0",
         "0",
         "0",
         "0",
         "0",
         "0",
         "0",
         "1",
         "0",
         "0",
         "0",
         "1",
         "0",
         "0",
         "0",
         "0",
         "0",
         "0",
         "0",
         "0",
         "0",
         "0",
         "0",
         "0",
         "0",
         "0",
         "0",
         "0",
         "0",
         "0",
         "0",
         "0",
         "0",
         "0",
         "0",
         "0",
         "0",
         "0",
         "0",
         "0",
         "0",
         "0",
         "0",
         "0",
         "0",
         "0",
         "0",
         "0",
         "0",
         "0",
         "0",
         "0",
         "0",
         "0",
         "0",
         "0",
         "0",
         "0",
         "0",
         "0",
         "0",
         "0",
         "0",
         "0",
         "0",
         "0",
         "0",
         "0",
         "0",
         "0",
         "0",
         "0",
         "0",
         "0",
         "0",
         "0",
         "0",
         "0",
         "0",
         "0",
         "0",
         "0",
         "0",
         "0",
         "0",
         "0",
         "0",
         "0",
         "0",
         "0",
         "0",
         "0",
         "0",
         "0",
         "0",
         "0",
         "0",
         "0",
         "0",
         "0",
         "0",
         "0",
         "0",
         "0",
         "0",
         "0",
         "0",
         "0",
         "0",
         "0",
         "0",
         "0",
         "0",
         "0",
         "0",
         "0",
         "0",
         "0",
         "0",
         "0",
         "0",
         "0",
         "0",
         "0",
         "0",
         "0",
         "0",
         "0",
         "0",
         "0",
         "0",
         "0",
         "0",
         "0",
         "0",
         "0",
         "0",
         "0",
         "0",
         "0",
         "0",
         "0",
         "0",
         "0",
         "0",
         "0",
         "0",
         "0",
         "0",
         "0",
         "0",
         "0",
         "0",
         "0",
         "0",
         "0",
         "0",
         "0",
         "0",
         "0",
         "0",
         "0",
         "0",
         "0",
         "0",
         "0",
         "0",
         "0",
         "0",
         "0",
         "0",
         "0",
         "0",
         "0",
         "0",
         "0",
         "0",
         "0",
         "0",
         "0",
         "0",
         "0",
         "0",
         "0",
         "0",
         "0",
         "0",
         "0",
         "0",
         "0",
         "0",
         "0",
         "0",
         "0",
         "0",
         "0",
         "0",
         "0",
         "0",
         "0",
         "0",
         "0",
         "0",
         "0",
         "0",
         "0",
         "0",
         "0",
         "0",
         "0",
         "0",
         "0",
         "0",
         "0",
         "0",
         "0",
         "0",
         "0",
         "0",
         "0",
         "0",
         "0",
         "0",
         "0",
         "0",
         "0",
         "0",
         "0",
         "0",
         "0",
         "0",
         "0",
         "0",
         "0",
         "0",
         "0",
         "0",
         "0",
         "0",
         "0",
         "0",
         "0",
         "0",
         "0",
         "0",
         "0",
         "0",
         "0",
         "0",
         "0",
         "0",
         "0",
         "0",
         "0",
         "0",
         "0",
         "0",
         "0",
         "0",
         "0",
         "0",
         "0",
         "0",
         "0",
         "0",
         "0",
         "0",
         "0",
         "0",
         "0",
         "0",
         "0",
         "0",
         "0",
         "0",
         "0",
         "0",
         "0",
         "0",
         "0",
         "0",
         "0",
         "0",
         "0",
         "0",
         "0",
         "0",
         "0",
         "0",
         "0",
         "0",
         "0",
         "0",
         "0",
         "0",
         "0",
         "0",
         "0",
         "0",
         "0",
         "0",
         "0",
         "0",
         "0",
         "0",
         "0",
         "0",
         "0",
         "0",
         "0",
         "0",
         "0",
         "0",
         "0",
         "0",
         "0",
         "0",
         "0",
         "0",
         "0",
         "0",
         "0",
         "0",
         "0",
         "0",
         "0",
         "0",
         "0",
         "0",
         "0",
         "0",
         "0",
         "0",
         "0",
         "0",
         "0",
         "0",
         "0",
         "0",
         "0",
         "0",
         "0",
         "0",
         "0",
         "0",
         "0",
         "0",
         "0",
         "0",
         "0",
         "0",
         "0",
         "0",
         "0",
         "0",
         "0",
         "0",
         "0",
         "0",
         "0",
         "0",
         "0",
         "0",
         "0",
         "0",
         "0",
         "0",
         "0",
         "0",
         "0",
         "0",
         "0",
         "0",
         "0",
         "0",
         "0",
         "0",
         "0",
         "0",
         "0",
         "0",
         "0",
         "0",
         "0",
         "0",
         "0",
         "0",
         "0",
         "0",
         "0",
         "0",
         "0",
         "0",
         "0",
         "0",
         "0",
         "0",
         "0",
         "0",
         "0",
         "0",
         "0",
         "0",
         "0",
         "0",
         "0",
         "0",
         "0",
         "0",
         "0",
         "0",
         "0",
         "0",
         "0",
         "0",
         "0",
         "0",
         "0",
         "0",
         "0",
         "0",
         "0",
         "0",
         "0",
         "0",
         "0",
         "0",
         "0",
         "0",
         "0",
         "0",
         "0",
         "0",
         "0",
         "0",
         "0",
         "0",
         "0",
         "0",
         "0",
         "0",
         "0",
         "0",
         "0",
         "0",
         "0",
         "0",
         "0",
         "0",
         "0",
         "0",
         "0",
         "0",
         "0",
         "0",
         "0",
         "0",
         "0",
         "0",
         "0",
         "0",
         "0",
         "0",
         "0",
         "0",
         "0",
         "0",
         "0",
         "0",
         "0",
         "0",
         "0",
         "0",
         "0",
         "0",
         "0",
         "0",
         "0",
         "0",
         "0",
         "0",
         "0",
         "0",
         "0",
         "0",
         "0",
         "0",
         "0",
         "0",
         "0",
         "0",
         "0",
         "0",
         "0",
         "0",
         "0",
         "0",
         "0",
         "0",
         "0",
         "0",
         "0",
         "0",
         "0",
         "0",
         "0",
         "0",
         "0",
         "0",
         "0",
         "0",
         "0",
         "0",
         "0",
         "0",
         "0",
         "0",
         "0",
         "0",
         "0",
         "0",
         "0",
         "0",
         "0",
         "0",
         "0",
         "0",
         "0",
         "0",
         "0",
         "0",
         "0",
         "0",
         "0",
         "0",
         "0",
         "0",
         "0",
         "0",
         "0",
         "0",
         "0",
         "0",
         "0",
         "0",
         "0",
         "0",
         "0",
         "0",
         "0",
         "0",
         "0",
         "0",
         "0",
         "0",
         "0",
         "0",
         "0",
         "0",
         "0",
         "0",
         "0",
         "0",
         "0",
         "0",
         "0",
         "0",
         "0",
         "0",
         "0",
         "0",
         "0",
         "0",
         "0",
         "0",
         "0",
         "0",
         "0",
         "0",
         "0",
         "0",
         "0",
         "0",
         "0",
         "0",
         "0",
         "0",
         "0",
         "0",
         "0",
         "0",
         "0",
         "0",
         "0",
         "0",
         "0",
         "0",
         "0",
         "0",
         "0",
         "0",
         "0",
         "0",
         "0",
         "0",
         "0",
         "0",
         "0",
         "0",
         "0",
         "0",
         "0",
         "0",
         "0",
         "0",
         "0",
         "0",
         "0",
         "0",
         "0",
         "0",
         "0",
         "0",
         "0",
         "0",
         "0",
         "0",
         "0",
         "0",
         "0",
         "0",
         "0",
         "0",
         "0",
         "0",
         "0",
         "0",
         "0",
         "0",
         "0",
         "0",
         "0",
         "0",
         "0",
         "0",
         "0",
         "0",
         "0",
         "0",
         "0",
         "0",
         "0",
         "0",
         "0",
         "0",
         "0",
         "0",
         "0",
         "0",
         "0",
         "0",
         "0",
         "0",
         "0",
         "0",
         "0",
         "0",
         "0",
         "0",
         "0",
         "0",
         "0",
         "0",
         "0",
         "0",
         "0",
         "0",
         "0",
         "0",
         "0",
         "0",
         "0",
         "0",
         "0",
         "0",
         "0",
         "0",
         "0",
         "0",
         "0",
         "0",
         "0",
         "0",
         "0",
         "0",
         "0",
         "0",
         "0",
         "0",
         "0",
         "0",
         "0",
         "0",
         "0",
         "0",
         "0",
         "0",
         "0",
         "0",
         "0",
         "0",
         "0",
         "0",
         "0",
         "0",
         "0",
         "0",
         "0",
         "0",
         "0",
         "0",
         "0",
         "0",
         "0",
         "0",
         "0",
         "0",
         "0",
         "0",
         "0",
         "0",
         "0",
         "0",
         "0",
         "0",
         "0",
         "0",
         "0",
         "0",
         "0",
         "0",
         "0",
         "0",
         "0",
         "0",
         "0",
         "0",
         "0",
         "0",
         "0",
         "0",
         "0",
         "0",
         "0",
         "0",
         "0",
         "0",
         "0",
         "0",
         "0",
         "0",
         "0",
         "0",
         "0",
         "0",
         "0",
         "0",
         "0",
         "0",
         "0",
         "0",
         "0",
         "0",
         "0",
         "0",
         "0",
         "0",
         "0",
         "0",
         "0",
         "0",
         "0",
         "0",
         "0",
         "0",
         "0",
         "0",
         "0",
         "0",
         "0",
         "0",
         "0",
         "0",
         "0",
         "0",
         "0",
         "0",
         "0",
         "0",
         "0",
         "0",
         "0",
         "0",
         "0",
         "0",
         "0",
         "0",
         "0",
         "0",
         "0",
         "0",
         "0",
         "0",
         "0",
         "0",
         "0",
         "0",
         "0",
         "0",
         "0",
         "0",
         "0",
         "0",
         "0",
         "0",
         "0",
         "0",
         "0",
         "0",
         "0",
         "0",
         "0",
         "0",
         "0",
         "0",
         "0",
         "0",
         "0",
         "0",
         "0",
         "0",
         "0",
         "0",
         "0",
         "0",
         "0",
         "0",
         "0",
         "0",
         "0",
         "0",
         "0",
         "0",
         "0",
         "0",
         "0",
         "0",
         "0",
         "0",
         "0",
         "0",
         "0",
         "0",
         "0",
         "0",
         "0",
         "0",
         "0",
         "0",
         "0",
         "0",
         "0",
         "0",
         "0",
         "0",
         "0",
         "0",
         "0",
         "0",
         "0",
         "0",
         "0",
         "0",
         "0",
         "0",
         "0",
         "0",
         "0",
         "0",
         "0",
         "0",
         "0",
         "0",
         "0",
         "0",
         "0",
         "0",
         "0",
         "0",
         "0",
         "0",
         "0",
         "0",
         "0",
         "0",
         "0",
         "0",
         "0",
         "0",
         "0",
         "0",
         "0",
         "0",
         "0",
         "0",
         "0",
         "0",
         "0",
         "0",
         "0",
         "0",
         "0",
         "0",
         "0",
         "0",
         "0",
         "0",
         "0",
         "0",
         "0",
         "0",
         "0",
         "0",
         "0",
         "0",
         "0",
         "0",
         "0",
         "0",
         "0",
         "0",
         "0",
         "0",
         "0",
         "0",
         "0",
         "0",
         "0",
         "0",
         "0",
         "0",
         "0",
         "0",
         "0",
         "0",
         "0",
         "0",
         "0",
         "0",
         "0",
         "0",
         "0",
         "0",
         "0",
         "0",
         "0",
         "0",
         "0",
         "0",
         "0",
         "0",
         "0",
         "0",
         "0",
         "0",
         "0",
         "0",
         "0",
         "0",
         "0",
         "0",
         "0",
         "0",
         "0",
         "0",
         "0",
         "0",
         "0",
         "0",
         "0",
         "0",
         "0",
         "0",
         "0",
         "0",
         "0",
         "0",
         "0",
         "0",
         "0",
         "0",
         "0",
         "0",
         "0",
         "0",
         "0",
         "0",
         "0",
         "0",
         "0",
         "0",
         "0",
         "0",
         "0",
         "0",
         "0",
         "0",
         "0",
         "0",
         "0",
         "0",
         "0",
         "0",
         "0",
         "0",
         "0",
         "0",
         "0",
         "0",
         "0",
         "0",
         "0",
         "0",
         "0",
         "0",
         "0",
         "0",
         "0",
         "0",
         "0",
         "0",
         "0",
         "0",
         "0",
         "0",
         "0",
         "0",
         "0",
         "0",
         "0",
         "0",
         "0",
         "0",
         "0",
         "0",
         "0",
         "0",
         "0",
         "0",
         "0",
         "0",
         "0",
         "0",
         "0",
         "0",
         "0",
         "0",
         "0",
         "0",
         "0",
         "0",
         "0",
         "0",
         "0",
         "0",
         "0",
         "0",
         "0",
         "0",
         "0",
         "0",
         "0",
         "0",
         "0",
         "0",
         "0",
         "0",
         "0",
         "0",
         "0",
         "0",
         "0",
         "0",
         "0",
         "0",
         "0",
         "0",
         "0",
         "0",
         "0",
         "0",
         "0",
         "0",
         "0",
         "0",
         "0",
         "0",
         "0",
         "0",
         "0",
         "0",
         "0",
         "0",
         "0",
         "0",
         "0",
         "0",
         "0",
         "0",
         "0",
         "0",
         "0",
         "0",
         "0",
         "0",
         "0",
         "0",
         "0",
         "0",
         "0",
         "0",
         "0",
         "0",
         "0",
         "0",
         "0",
         "0",
         "0",
         "0",
         "0",
         "0",
         "0",
         "0",
         "0",
         "0",
         "0",
         "0",
         "0",
         "0",
         "0",
         "0",
         "0",
         "0",
         "0",
         "0",
         "0",
         "0",
         "0",
         "0",
         "0",
         "0",
         "0",
         "0",
         "0",
         "0",
         "0",
         "0",
         "0",
         "0",
         "0",
         "0",
         "0",
         "0",
         "0",
         "0",
         "0",
         "0",
         "0",
         "0",
         "0",
         "0",
         "0",
         "0",
         "0",
         "0",
         "0",
         "0",
         "0",
         "0",
         "0",
         "0",
         "0",
         "0",
         "0",
         "0",
         "0",
         "0",
         "0",
         "0",
         "0",
         "0",
         "0",
         "0",
         "0",
         "0",
         "0",
         "0",
         "0",
         "0",
         "0",
         "0",
         "0",
         "0",
         "0",
         "0",
         "0",
         "0",
         "0",
         "0",
         "0",
         "0",
         "0",
         "0",
         "0",
         "0",
         "0",
         "0",
         "0",
         "0",
         "0",
         "0",
         "0",
         "0",
         "0",
         "0",
         "0",
         "0",
         "0",
         "0",
         "0",
         "0",
         "0",
         "0",
         "0",
         "0",
         "0",
         "0",
         "0",
         "0",
         "0",
         "0",
         "0",
         "0",
         "0",
         "0",
         "0",
         "0",
         "0",
         "0",
         "0",
         "0",
         "0",
         "0",
         "0",
         "0",
         "0",
         "0",
         "0",
         "0",
         "0",
         "0",
         "0",
         "0",
         "0",
         "0",
         "0",
         "0",
         "0",
         "0",
         "0",
         "0",
         "0",
         "0",
         "0",
         "0",
         "0",
         "0",
         "0",
         "0",
         "0",
         "0",
         "0",
         "0",
         "0",
         "0",
         "0",
         "0",
         "0",
         "0",
         "0",
         "0",
         "0",
         "0",
         "0",
         "0",
         "0",
         "0",
         "0",
         "0",
         "0",
         "0",
         "0",
         "0",
         "0",
         "0",
         "0",
         "0",
         "0",
         "0",
         "0",
         "0",
         "0",
         "0",
         "0",
         "0",
         "0",
         "0",
         "0",
         "0",
         "0",
         "0",
         "0",
         "0",
         "0",
         "0",
         "0",
         "0",
         "0",
         "0",
         "0",
         "0",
         "0",
         "0",
         "0",
         "0",
         "0",
         "0",
         "0",
         "0",
         "0",
         "0",
         "0",
         "0",
         "0",
         "0",
         "0",
         "0",
         "0",
         "0",
         "0",
         "0",
         "0",
         "0",
         "0",
         "0",
         "0",
         "0",
         "0",
         "0",
         "0",
         "0",
         "0",
         "0",
         "0",
         "0",
         "0",
         "0",
         "0",
         "0",
         "0",
         "0",
         "0",
         "0",
         "0",
         "0",
         "0",
         "0",
         "0",
         "0",
         "0",
         "0",
         "0",
         "0",
         "0",
         "0",
         "0",
         "0",
         "0",
         "0",
         "0",
         "0",
         "0",
         "0",
         "0",
         "0",
         "0",
         "0",
         "0",
         "0",
         "0",
         "0",
         "0",
         "0",
         "0",
         "0",
         "0",
         "0",
         "0",
         "0",
         "0",
         "0",
         "0",
         "0",
         "0",
         "0",
         "0",
         "0",
         "0",
         "0",
         "0",
         "0",
         "0",
         "0",
         "0",
         "0",
         "0",
         "0",
         "0",
         "0",
         "0",
         "0",
         "0",
         "0",
         "0",
         "0",
         "0",
         "0",
         "0",
         "0",
         "0",
         "0",
         "0",
         "0",
         "0",
         "0",
         "0",
         "0",
         "0",
         "0",
         "0",
         "0",
         "0",
         "0",
         "0",
         "0",
         "0",
         "0",
         "0",
         "0",
         "0",
         "0",
         "0",
         "0",
         "0",
         "0",
         "0",
         "0",
         "0",
         "0",
         "0",
         "0",
         "0",
         "0",
         "0",
         "0",
         "0",
         "0",
         "0",
         "0",
         "0",
         "0",
         "0",
         "0",
         "0",
         "0",
         "0",
         "0",
         "0",
         "0",
         "0",
         "0",
         "0",
         "0",
         "0",
         "0",
         "0",
         "0",
         "0",
         "0",
         "0",
         "0",
         "0",
         "1",
         "0",
         "0",
         "0",
         "0",
         "0",
         "0",
         "0",
         "0",
         "0",
         "0",
         "0",
         "0",
         "0",
         "0",
         "0",
         "0",
         "0",
         "0",
         "0",
         "0",
         "0",
         "0",
         "0",
         "0",
         "0",
         "0",
         "0",
         "0",
         "0",
         "0",
         "0",
         "0",
         "0",
         "0",
         "0",
         "0",
         "0",
         "0",
         "0",
         "0",
         "0",
         "0",
         "0",
         "0",
         "0",
         "0",
         "0",
         "0",
         "0",
         "0",
         "0",
         "0",
         "0",
         "0",
         "0",
         "0",
         "0",
         "0",
         "0",
         "0",
         "0",
         "0",
         "0",
         "0",
         "0",
         "0",
         "0",
         "0",
         "0",
         "0",
         "0",
         "0",
         "0",
         "0",
         "0",
         "0",
         "0",
         "0",
         "0",
         "0",
         "0",
         "0",
         "0",
         "0",
         "0",
         "0",
         "0",
         "0",
         "0",
         "0",
         "0",
         "0",
         "0",
         "0",
         "0",
         "0",
         "0",
         "0",
         "0",
         "0",
         "0",
         "0",
         "0",
         "0",
         "0",
         "0",
         "0",
         "0",
         "0",
         "0",
         "0",
         "0",
         "0",
         "0",
         "0",
         "0",
         "0",
         "0",
         "0",
         "0",
         "0",
         "0",
         "0",
         "0",
         "0",
         "0",
         "0",
         "0",
         "0",
         "0",
         "0",
         "0",
         "0",
         "0",
         "0",
         "0",
         "0",
         "0",
         "0",
         "0",
         "0",
         "0",
         "0",
         "0",
         "0",
         "0",
         "0",
         "0",
         "0",
         "0",
         "0",
         "0",
         "0",
         "0",
         "0",
         "0",
         "0",
         "0",
         "0",
         "0",
         "0",
         "0",
         "0",
         "0",
         "0",
         "0",
         "0",
         "0",
         "0",
         "0",
         "0",
         "0",
         "0",
         "0",
         "0",
         "0",
         "0",
         "0",
         "0",
         "0",
         "0",
         "0",
         "0",
         "0",
         "0",
         "0",
         "0",
         "0",
         "0",
         "0",
         "0",
         "0",
         "0",
         "0",
         "0",
         "0",
         "0",
         "0",
         "0",
         "0",
         "0",
         "0",
         "0",
         "0",
         "0",
         "0",
         "0",
         "0",
         "0",
         "0",
         "0",
         "0",
         "0",
         "0",
         "0",
         "0",
         "0",
         "0",
         "0",
         "0",
         "0",
         "0",
         "0",
         "0",
         "0",
         "0",
         "0",
         "0",
         "0",
         "0",
         "0",
         "0",
         "0",
         "0",
         "0",
         "0",
         "0",
         "0",
         "0",
         "0",
         "0",
         "0",
         "0",
         "0",
         "0",
         "0",
         "0",
         "0",
         "0",
         "0",
         "0",
         "0",
         "0",
         "0",
         "0",
         "0",
         "0",
         "0",
         "0",
         "0",
         "0",
         "0",
         "0",
         "0",
         "0",
         "0",
         "0",
         "0",
         "0",
         "0",
         "0",
         "0",
         "0",
         "0",
         "0",
         "0",
         "0",
         "0",
         "0",
         "0",
         "0",
         "0",
         "0",
         "0",
         "0",
         "0",
         "0",
         "0",
         "0",
         "0",
         "0",
         "0",
         "0",
         "0",
         "0",
         "0",
         "0",
         "0",
         "0",
         "0",
         "0",
         "0",
         "0",
         "0",
         "0",
         "0",
         "0",
         "0",
         "0",
         "0",
         "0",
         "0",
         "0",
         "0",
         "0",
         "0",
         "0",
         "0",
         "0",
         "0",
         "0",
         "0",
         "0",
         "0",
         "0",
         "0",
         "0",
         "0",
         "0",
         "0",
         "0",
         "0",
         "0",
         "0",
         "0",
         "0",
         "0",
         "0",
         "0",
         "0",
         "0",
         "0",
         "0",
         "0",
         "0",
         "0",
         "0",
         "0",
         "0",
         "0",
         "0",
         "0",
         "0",
         "0",
         "0",
         "0",
         "0",
         "0",
         "0",
         "0",
         "0",
         "0",
         "0",
         "0",
         "0",
         "0",
         "0",
         "0",
         "0",
         "0",
         "0",
         "0",
         "0",
         "0",
         "0",
         "0",
         "0",
         "0",
         "0",
         "0",
         "0",
         "0",
         "0",
         "0",
         "0",
         "0",
         "0",
         "0",
         "0",
         "0",
         "0",
         "0",
         "0",
         "0",
         "0",
         "0",
         "0",
         "0",
         "0",
         "0",
         "0",
         "0",
         "0",
         "0",
         "0",
         "0",
         "0",
         "0",
         "0",
         "0",
         "0",
         "0",
         "0",
         "0",
         "0",
         "0",
         "0",
         "0",
         "0",
         "0",
         "0",
         "0",
         "0",
         "0",
         "0",
         "0",
         "0",
         "0",
         "0",
         "0",
         "0",
         "0",
         "0",
         "0",
         "0",
         "0",
         "0",
         "0",
         "0",
         "0",
         "0",
         "0",
         "0",
         "0",
         "0",
         "0",
         "0",
         "0",
         "0",
         "0",
         "0",
         "0",
         "0",
         "0",
         "0",
         "0",
         "0",
         "0",
         "0",
         "0",
         "0",
         "0",
         "0",
         "0",
         "0",
         "0",
         "0",
         "0",
         "0",
         "0",
         "0",
         "0",
         "0",
         "0",
         "0",
         "0",
         "0",
         "0",
         "0",
         "0",
         "0",
         "0",
         "0",
         "0",
         "0",
         "0",
         "0",
         "0",
         "0",
         "0",
         "0",
         "0",
         "0",
         "0",
         "0",
         "0",
         "0",
         "0",
         "0",
         "0",
         "0",
         "0",
         "0",
         "0",
         "0",
         "0",
         "0",
         "0",
         "0",
         "0",
         "0",
         "0",
         "0",
         "0",
         "0",
         "0",
         "0",
         "0",
         "0",
         "0",
         "0",
         "0",
         "0",
         "0",
         "0",
         "0",
         "0",
         "0",
         "0",
         "0",
         "0",
         "0",
         "0",
         "0",
         "0",
         "0",
         "0",
         "0",
         "0",
         "0",
         "0",
         "0",
         "0",
         "0",
         "0",
         "0",
         "0",
         "0",
         "0",
         "0",
         "0",
         "0",
         "0",
         "0",
         "0",
         "0",
         "0",
         "0",
         "0",
         "0",
         "0",
         "0",
         "0",
         "0",
         "0",
         "0",
         "0",
         "0",
         "0",
         "0",
         "0",
         "0",
         "0",
         "0",
         "0",
         "0",
         "0",
         "0",
         "0",
         "0",
         "0",
         "0",
         "1",
         "0",
         "0",
         "0",
         "1",
         "0",
         "0",
         "0",
         "0",
         "0",
         "0",
         "0",
         "0",
         "0",
         "0",
         "0",
         "0",
         "0",
         "0",
         "0"
        ],
        [
         "3",
         "0",
         "0",
         "0",
         "0",
         "0",
         "0",
         "0",
         "0",
         "0",
         "0",
         "0",
         "0",
         "0",
         "0",
         "0",
         "0",
         "0",
         "0",
         "0",
         "0",
         "0",
         "0",
         "0",
         "0",
         "0",
         "0",
         "0",
         "0",
         "0",
         "0",
         "0",
         "0",
         "0",
         "0",
         "0",
         "0",
         "0",
         "0",
         "0",
         "0",
         "0",
         "0",
         "0",
         "0",
         "0",
         "0",
         "0",
         "0",
         "0",
         "0",
         "0",
         "0",
         "0",
         "0",
         "0",
         "0",
         "0",
         "0",
         "0",
         "0",
         "0",
         "0",
         "0",
         "0",
         "0",
         "0",
         "0",
         "0",
         "0",
         "0",
         "0",
         "0",
         "0",
         "0",
         "0",
         "0",
         "0",
         "0",
         "0",
         "0",
         "0",
         "0",
         "0",
         "0",
         "0",
         "0",
         "0",
         "0",
         "0",
         "0",
         "0",
         "0",
         "0",
         "0",
         "0",
         "0",
         "0",
         "0",
         "0",
         "0",
         "0",
         "0",
         "0",
         "0",
         "0",
         "0",
         "0",
         "0",
         "0",
         "0",
         "0",
         "0",
         "0",
         "0",
         "0",
         "0",
         "0",
         "0",
         "0",
         "0",
         "0",
         "0",
         "0",
         "0",
         "0",
         "0",
         "0",
         "0",
         "0",
         "0",
         "0",
         "0",
         "0",
         "0",
         "0",
         "0",
         "0",
         "0",
         "0",
         "0",
         "0",
         "0",
         "0",
         "0",
         "0",
         "0",
         "0",
         "0",
         "0",
         "0",
         "0",
         "0",
         "0",
         "0",
         "0",
         "0",
         "0",
         "0",
         "0",
         "0",
         "0",
         "0",
         "0",
         "0",
         "0",
         "0",
         "0",
         "0",
         "0",
         "0",
         "0",
         "0",
         "0",
         "0",
         "0",
         "0",
         "0",
         "0",
         "0",
         "0",
         "0",
         "0",
         "0",
         "0",
         "0",
         "0",
         "0",
         "0",
         "0",
         "0",
         "0",
         "0",
         "0",
         "0",
         "0",
         "0",
         "0",
         "0",
         "0",
         "0",
         "0",
         "0",
         "0",
         "0",
         "0",
         "0",
         "0",
         "0",
         "0",
         "0",
         "0",
         "0",
         "0",
         "0",
         "0",
         "0",
         "0",
         "0",
         "0",
         "0",
         "0",
         "0",
         "0",
         "0",
         "0",
         "0",
         "0",
         "0",
         "0",
         "0",
         "0",
         "0",
         "0",
         "0",
         "0",
         "0",
         "0",
         "0",
         "0",
         "0",
         "0",
         "0",
         "0",
         "0",
         "0",
         "0",
         "0",
         "0",
         "0",
         "0",
         "0",
         "0",
         "0",
         "0",
         "0",
         "0",
         "0",
         "0",
         "0",
         "0",
         "0",
         "0",
         "0",
         "0",
         "0",
         "0",
         "0",
         "0",
         "0",
         "0",
         "0",
         "0",
         "0",
         "0",
         "0",
         "0",
         "0",
         "0",
         "0",
         "0",
         "0",
         "0",
         "0",
         "0",
         "0",
         "0",
         "0",
         "0",
         "0",
         "0",
         "0",
         "0",
         "0",
         "0",
         "0",
         "0",
         "0",
         "0",
         "0",
         "0",
         "0",
         "0",
         "0",
         "0",
         "0",
         "0",
         "0",
         "0",
         "0",
         "0",
         "0",
         "0",
         "0",
         "0",
         "0",
         "0",
         "0",
         "0",
         "0",
         "0",
         "0",
         "0",
         "0",
         "0",
         "0",
         "0",
         "0",
         "0",
         "0",
         "0",
         "0",
         "0",
         "0",
         "0",
         "0",
         "0",
         "0",
         "0",
         "0",
         "0",
         "0",
         "0",
         "0",
         "0",
         "0",
         "0",
         "0",
         "0",
         "0",
         "0",
         "0",
         "0",
         "0",
         "0",
         "0",
         "0",
         "0",
         "0",
         "0",
         "0",
         "0",
         "0",
         "0",
         "0",
         "0",
         "0",
         "0",
         "0",
         "0",
         "0",
         "0",
         "0",
         "0",
         "0",
         "0",
         "0",
         "0",
         "0",
         "0",
         "0",
         "0",
         "0",
         "0",
         "0",
         "0",
         "0",
         "0",
         "0",
         "0",
         "0",
         "0",
         "0",
         "0",
         "0",
         "0",
         "0",
         "0",
         "0",
         "0",
         "0",
         "0",
         "0",
         "0",
         "0",
         "0",
         "0",
         "0",
         "0",
         "0",
         "0",
         "0",
         "0",
         "0",
         "0",
         "0",
         "0",
         "0",
         "0",
         "0",
         "0",
         "0",
         "0",
         "0",
         "0",
         "0",
         "0",
         "0",
         "0",
         "0",
         "0",
         "0",
         "0",
         "0",
         "0",
         "0",
         "0",
         "0",
         "0",
         "0",
         "0",
         "0",
         "0",
         "0",
         "0",
         "0",
         "0",
         "0",
         "0",
         "0",
         "0",
         "0",
         "0",
         "0",
         "0",
         "0",
         "0",
         "0",
         "0",
         "0",
         "0",
         "0",
         "0",
         "1",
         "0",
         "0",
         "0",
         "0",
         "0",
         "0",
         "0",
         "0",
         "0",
         "0",
         "0",
         "0",
         "1",
         "0",
         "0",
         "0",
         "0",
         "0",
         "0",
         "0",
         "0",
         "0",
         "0",
         "0",
         "0",
         "0",
         "0",
         "0",
         "0",
         "0",
         "0",
         "0",
         "0",
         "0",
         "0",
         "0",
         "0",
         "0",
         "0",
         "0",
         "0",
         "0",
         "0",
         "0",
         "0",
         "0",
         "0",
         "0",
         "0",
         "0",
         "0",
         "0",
         "0",
         "0",
         "0",
         "0",
         "0",
         "0",
         "0",
         "0",
         "0",
         "0",
         "0",
         "0",
         "0",
         "0",
         "0",
         "0",
         "0",
         "0",
         "0",
         "0",
         "0",
         "0",
         "0",
         "0",
         "0",
         "0",
         "0",
         "0",
         "0",
         "0",
         "0",
         "0",
         "0",
         "0",
         "0",
         "0",
         "0",
         "0",
         "0",
         "0",
         "0",
         "0",
         "0",
         "0",
         "0",
         "0",
         "0",
         "0",
         "0",
         "0",
         "0",
         "0",
         "0",
         "0",
         "0",
         "0",
         "0",
         "0",
         "0",
         "0",
         "0",
         "0",
         "0",
         "0",
         "0",
         "0",
         "0",
         "0",
         "0",
         "0",
         "0",
         "0",
         "0",
         "0",
         "0",
         "0",
         "0",
         "0",
         "0",
         "0",
         "0",
         "0",
         "0",
         "0",
         "0",
         "0",
         "0",
         "0",
         "0",
         "0",
         "0",
         "0",
         "0",
         "0",
         "0",
         "0",
         "0",
         "0",
         "0",
         "0",
         "0",
         "0",
         "0",
         "0",
         "0",
         "0",
         "0",
         "0",
         "0",
         "0",
         "0",
         "0",
         "0",
         "0",
         "0",
         "0",
         "0",
         "0",
         "0",
         "0",
         "0",
         "0",
         "0",
         "0",
         "0",
         "0",
         "0",
         "0",
         "0",
         "0",
         "0",
         "0",
         "0",
         "0",
         "0",
         "0",
         "0",
         "0",
         "0",
         "0",
         "0",
         "0",
         "0",
         "0",
         "0",
         "0",
         "0",
         "0",
         "0",
         "0",
         "0",
         "0",
         "0",
         "0",
         "0",
         "0",
         "0",
         "0",
         "0",
         "0",
         "0",
         "0",
         "0",
         "0",
         "0",
         "0",
         "0",
         "0",
         "0",
         "0",
         "0",
         "0",
         "0",
         "0",
         "0",
         "0",
         "0",
         "0",
         "0",
         "0",
         "0",
         "0",
         "0",
         "0",
         "0",
         "0",
         "0",
         "0",
         "0",
         "0",
         "0",
         "0",
         "0",
         "0",
         "0",
         "0",
         "0",
         "0",
         "0",
         "0",
         "0",
         "0",
         "0",
         "0",
         "0",
         "0",
         "0",
         "0",
         "0",
         "0",
         "0",
         "0",
         "0",
         "0",
         "0",
         "0",
         "0",
         "0",
         "0",
         "0",
         "0",
         "0",
         "0",
         "0",
         "0",
         "0",
         "0",
         "0",
         "0",
         "1",
         "0",
         "0",
         "1",
         "0",
         "0",
         "0",
         "0",
         "0",
         "0",
         "0",
         "0",
         "0",
         "0",
         "0",
         "0",
         "0",
         "0",
         "0",
         "0",
         "0",
         "0",
         "0",
         "0",
         "0",
         "0",
         "0",
         "0",
         "0",
         "0",
         "0",
         "0",
         "0",
         "0",
         "0",
         "0",
         "0",
         "0",
         "0",
         "0",
         "0",
         "0",
         "0",
         "0",
         "0",
         "0",
         "0",
         "0",
         "0",
         "0",
         "0",
         "0",
         "0",
         "0",
         "0",
         "0",
         "0",
         "0",
         "0",
         "0",
         "0",
         "0",
         "0",
         "0",
         "0",
         "0",
         "0",
         "0",
         "0",
         "0",
         "0",
         "0",
         "0",
         "0",
         "0",
         "0",
         "0",
         "0",
         "0",
         "0",
         "0",
         "0",
         "0",
         "0",
         "0",
         "0",
         "0",
         "0",
         "0",
         "0",
         "0",
         "0",
         "0",
         "0",
         "0",
         "0",
         "0",
         "0",
         "0",
         "0",
         "0",
         "0",
         "0",
         "0",
         "0",
         "0",
         "0",
         "0",
         "0",
         "0",
         "0",
         "0",
         "0",
         "0",
         "0",
         "0",
         "0",
         "0",
         "0",
         "0",
         "0",
         "0",
         "0",
         "0",
         "0",
         "0",
         "0",
         "0",
         "0",
         "0",
         "0",
         "0",
         "0",
         "0",
         "0",
         "0",
         "0",
         "0",
         "0",
         "0",
         "0",
         "0",
         "0",
         "0",
         "0",
         "0",
         "0",
         "0",
         "0",
         "0",
         "0",
         "0",
         "0",
         "0",
         "0",
         "0",
         "0",
         "0",
         "0",
         "0",
         "0",
         "0",
         "0",
         "0",
         "0",
         "0",
         "0",
         "0",
         "0",
         "0",
         "0",
         "0",
         "0",
         "0",
         "0",
         "0",
         "0",
         "0",
         "0",
         "0",
         "0",
         "0",
         "0",
         "0",
         "0",
         "0",
         "0",
         "0",
         "0",
         "0",
         "0",
         "0",
         "0",
         "0",
         "0",
         "0",
         "0",
         "0",
         "0",
         "0",
         "0",
         "0",
         "0",
         "0",
         "0",
         "0",
         "0",
         "0",
         "0",
         "0",
         "0",
         "0",
         "0",
         "0",
         "0",
         "0",
         "0",
         "0",
         "0",
         "0",
         "0",
         "0",
         "0",
         "0",
         "0",
         "0",
         "0",
         "0",
         "0",
         "0",
         "0",
         "0",
         "0",
         "0",
         "0",
         "0",
         "0",
         "0",
         "0",
         "0",
         "0",
         "0",
         "0",
         "0",
         "0",
         "0",
         "0",
         "0",
         "0",
         "0",
         "0",
         "0",
         "0",
         "0",
         "0",
         "0",
         "0",
         "0",
         "0",
         "0",
         "0",
         "0",
         "0",
         "0",
         "0",
         "0",
         "0",
         "0",
         "0",
         "0",
         "0",
         "0",
         "0",
         "0",
         "0",
         "0",
         "0",
         "0",
         "0",
         "0",
         "0",
         "0",
         "0",
         "0",
         "0",
         "0",
         "0",
         "0",
         "0",
         "0",
         "0",
         "0",
         "0",
         "0",
         "0",
         "0",
         "0",
         "0",
         "0",
         "0",
         "0",
         "0",
         "0",
         "0",
         "0",
         "0",
         "0",
         "0",
         "0",
         "0",
         "0",
         "0",
         "0",
         "0",
         "0",
         "0",
         "0",
         "0",
         "0",
         "0",
         "0",
         "0",
         "0",
         "0",
         "0",
         "0",
         "0",
         "0",
         "0",
         "0",
         "0",
         "0",
         "0",
         "0",
         "0",
         "0",
         "0",
         "0",
         "0",
         "0",
         "0",
         "0",
         "0",
         "0",
         "0",
         "0",
         "0",
         "0",
         "0",
         "0",
         "0",
         "0",
         "0",
         "0",
         "0",
         "0",
         "0",
         "0",
         "0",
         "0",
         "0",
         "0",
         "0",
         "0",
         "0",
         "0",
         "0",
         "0",
         "0",
         "0",
         "0",
         "0",
         "0",
         "0",
         "0",
         "0",
         "0",
         "0",
         "0",
         "0",
         "1",
         "0",
         "0",
         "0",
         "0",
         "0",
         "0",
         "0",
         "0",
         "0",
         "0",
         "0",
         "0",
         "0",
         "0",
         "0",
         "0",
         "0",
         "0",
         "0",
         "0",
         "0",
         "0",
         "0",
         "0",
         "0",
         "0",
         "0",
         "0",
         "0",
         "0",
         "0",
         "0",
         "0",
         "0",
         "0",
         "0",
         "0",
         "0",
         "0",
         "0",
         "0",
         "0",
         "0",
         "0",
         "0",
         "0",
         "0",
         "0",
         "0",
         "0",
         "0",
         "0",
         "0",
         "0",
         "0",
         "0",
         "0",
         "0",
         "0",
         "0",
         "0",
         "0",
         "0",
         "0",
         "0",
         "0",
         "0",
         "0",
         "0",
         "0",
         "0",
         "0",
         "0",
         "0",
         "0",
         "0",
         "0",
         "0",
         "0",
         "0",
         "0",
         "0",
         "0",
         "0",
         "0",
         "0",
         "0",
         "0",
         "0",
         "0",
         "0",
         "0",
         "0",
         "0",
         "0",
         "0",
         "0",
         "0",
         "0",
         "0",
         "0",
         "0",
         "0",
         "0",
         "0",
         "0",
         "0",
         "0",
         "0",
         "0",
         "0",
         "0",
         "0",
         "0",
         "0",
         "0",
         "0",
         "0",
         "0",
         "0",
         "0",
         "0",
         "0",
         "0",
         "0",
         "0",
         "0",
         "0",
         "0",
         "0",
         "0",
         "0",
         "0",
         "0",
         "0",
         "0",
         "0",
         "0",
         "0",
         "0",
         "0",
         "0",
         "0",
         "0",
         "0",
         "0",
         "0",
         "0",
         "0",
         "0",
         "0",
         "0",
         "0",
         "0",
         "0",
         "0",
         "0",
         "0",
         "0",
         "0",
         "0",
         "0",
         "0",
         "0",
         "0",
         "0",
         "0",
         "0",
         "0",
         "0",
         "0",
         "0",
         "0",
         "0",
         "0",
         "0",
         "0",
         "0",
         "0",
         "0",
         "0",
         "0",
         "0",
         "0",
         "0",
         "0",
         "0",
         "0",
         "0",
         "0",
         "0",
         "0",
         "0",
         "0",
         "0",
         "0",
         "0",
         "0",
         "0",
         "0",
         "0",
         "0",
         "0",
         "0",
         "0",
         "0",
         "0",
         "0",
         "0",
         "0",
         "0",
         "0",
         "0",
         "0",
         "0",
         "0",
         "0",
         "0",
         "0",
         "0",
         "0",
         "0",
         "0",
         "0",
         "0",
         "0",
         "0",
         "0",
         "0",
         "0",
         "0",
         "0",
         "0",
         "0",
         "0",
         "0",
         "0",
         "0",
         "0",
         "0",
         "0",
         "0",
         "0",
         "0",
         "0",
         "0",
         "0",
         "0",
         "0",
         "0",
         "0",
         "0",
         "0",
         "0",
         "0",
         "0",
         "0",
         "0",
         "0",
         "0",
         "0",
         "0",
         "0",
         "0",
         "0",
         "0",
         "0",
         "0",
         "0",
         "0",
         "0",
         "0",
         "0",
         "0",
         "0",
         "0",
         "0",
         "0",
         "0",
         "0",
         "0",
         "0",
         "0",
         "0",
         "0",
         "0",
         "0",
         "0",
         "0",
         "0",
         "0",
         "0",
         "0",
         "0",
         "0",
         "0",
         "0",
         "0",
         "0",
         "0",
         "0",
         "0",
         "0",
         "0",
         "0",
         "0",
         "0",
         "0",
         "0",
         "0",
         "0",
         "0",
         "0",
         "0",
         "0",
         "0",
         "0",
         "0",
         "0",
         "0",
         "0",
         "0",
         "0",
         "0",
         "0",
         "0",
         "0",
         "0",
         "0",
         "0",
         "0",
         "0",
         "0",
         "0",
         "0",
         "0",
         "0",
         "0",
         "0",
         "0",
         "0",
         "0",
         "0",
         "0",
         "0",
         "0",
         "0",
         "0",
         "0",
         "0",
         "0",
         "0",
         "0",
         "0",
         "0",
         "0",
         "0",
         "0",
         "0",
         "0",
         "0",
         "0",
         "0",
         "0",
         "0",
         "0",
         "0",
         "0",
         "0",
         "0",
         "0",
         "0",
         "0",
         "0",
         "0",
         "0",
         "0",
         "0",
         "0",
         "0",
         "0",
         "0",
         "0",
         "0",
         "0",
         "0",
         "0",
         "0",
         "0",
         "0",
         "0",
         "0",
         "0",
         "0",
         "0",
         "0",
         "0",
         "0",
         "0",
         "0",
         "0",
         "0",
         "0",
         "0",
         "0",
         "0",
         "0",
         "0",
         "0",
         "0",
         "0",
         "0",
         "0",
         "0",
         "0",
         "0",
         "0",
         "0",
         "0",
         "0",
         "0",
         "0",
         "0",
         "0",
         "0",
         "0",
         "0",
         "0",
         "0",
         "0",
         "0",
         "0",
         "0",
         "0",
         "0",
         "0",
         "0",
         "0",
         "0",
         "0",
         "0",
         "0",
         "0",
         "0",
         "0",
         "0",
         "0",
         "0",
         "0",
         "0",
         "0",
         "0",
         "0",
         "0",
         "0",
         "0",
         "0",
         "0",
         "0",
         "0",
         "0",
         "0",
         "0",
         "0",
         "0",
         "0",
         "0",
         "0",
         "0",
         "0",
         "0",
         "0",
         "0",
         "0",
         "0",
         "0",
         "0",
         "0",
         "0",
         "0",
         "0",
         "0",
         "0",
         "0",
         "0",
         "0",
         "0",
         "0",
         "0",
         "0",
         "0",
         "0",
         "0",
         "0",
         "0",
         "0",
         "0",
         "0",
         "0",
         "0",
         "0",
         "0",
         "0",
         "0",
         "0",
         "0",
         "0",
         "0",
         "0",
         "0",
         "0",
         "0",
         "0",
         "0",
         "0",
         "0",
         "0",
         "0",
         "0",
         "0",
         "0",
         "0",
         "0",
         "0",
         "0",
         "0",
         "0",
         "0",
         "0",
         "0",
         "0",
         "0",
         "0",
         "0",
         "0",
         "0",
         "0",
         "0",
         "0",
         "0",
         "0",
         "0",
         "0",
         "0",
         "0",
         "0",
         "0",
         "0",
         "0",
         "0",
         "0",
         "0",
         "0",
         "0",
         "0",
         "0",
         "0",
         "0",
         "0",
         "0",
         "0",
         "0",
         "0",
         "0",
         "0",
         "0",
         "0",
         "0",
         "0",
         "0",
         "0",
         "0",
         "0",
         "0",
         "0",
         "0",
         "0",
         "0",
         "0",
         "0",
         "0",
         "0",
         "0",
         "0",
         "0",
         "0",
         "0",
         "0",
         "0",
         "0",
         "0",
         "0",
         "0",
         "0",
         "0",
         "0",
         "0",
         "0",
         "0",
         "0",
         "0",
         "0",
         "0",
         "0",
         "0",
         "0",
         "0",
         "0",
         "0",
         "0",
         "0",
         "0",
         "0",
         "0",
         "0",
         "0",
         "0",
         "0",
         "0",
         "0",
         "0",
         "0",
         "0",
         "0",
         "0",
         "0",
         "0",
         "0",
         "0",
         "0",
         "0",
         "0",
         "0",
         "0",
         "0",
         "0",
         "0",
         "0",
         "0",
         "0",
         "0",
         "0",
         "0",
         "0",
         "0",
         "0",
         "0",
         "0",
         "0",
         "0",
         "0",
         "0",
         "0",
         "0",
         "0",
         "0",
         "0",
         "0",
         "0",
         "0",
         "0",
         "0",
         "0",
         "0",
         "0",
         "0",
         "0",
         "0",
         "0",
         "0",
         "0",
         "0",
         "0",
         "0",
         "0",
         "0",
         "0",
         "0",
         "0",
         "0",
         "0",
         "0",
         "0",
         "0",
         "0",
         "0",
         "0",
         "0",
         "0",
         "0",
         "0",
         "0",
         "0",
         "0",
         "0",
         "0",
         "0",
         "0",
         "0",
         "0",
         "0",
         "0",
         "0",
         "0",
         "0",
         "0",
         "0",
         "0",
         "0",
         "0",
         "0",
         "0",
         "0",
         "0",
         "0",
         "0",
         "0",
         "0",
         "0",
         "0",
         "0",
         "0",
         "0",
         "0",
         "0",
         "0",
         "0",
         "0",
         "0",
         "0",
         "0",
         "0",
         "0",
         "0",
         "0",
         "0",
         "0",
         "0",
         "0",
         "0",
         "0",
         "0",
         "0",
         "0",
         "0",
         "0",
         "0",
         "0",
         "0",
         "0",
         "0",
         "0",
         "0",
         "0",
         "0",
         "0",
         "0",
         "0",
         "0",
         "0",
         "0",
         "0",
         "0",
         "0",
         "0",
         "0",
         "0",
         "0",
         "0",
         "0",
         "0",
         "0",
         "0",
         "0",
         "0",
         "0",
         "0",
         "0",
         "0",
         "0",
         "0",
         "0",
         "0",
         "0",
         "0",
         "0",
         "0",
         "0",
         "0",
         "0",
         "0",
         "0",
         "0",
         "0",
         "0",
         "0",
         "0",
         "0",
         "0",
         "0",
         "0",
         "0",
         "0",
         "0",
         "0",
         "0",
         "0",
         "0",
         "0",
         "0",
         "0",
         "0",
         "0",
         "0",
         "0",
         "0",
         "0",
         "0",
         "0",
         "0",
         "0",
         "0",
         "0",
         "0",
         "0",
         "0",
         "0",
         "0",
         "0",
         "0",
         "0",
         "0",
         "0",
         "0",
         "0",
         "0",
         "0",
         "0",
         "0",
         "0",
         "0",
         "0",
         "0",
         "0",
         "0",
         "0",
         "0",
         "0",
         "0",
         "0",
         "0",
         "0",
         "0",
         "0",
         "0",
         "0",
         "0",
         "0",
         "0",
         "0",
         "0",
         "0",
         "0",
         "0",
         "0",
         "0",
         "0",
         "0",
         "0",
         "0",
         "0",
         "0",
         "0",
         "0",
         "0",
         "0",
         "0",
         "0",
         "0",
         "0",
         "0",
         "0",
         "0",
         "0",
         "0",
         "0",
         "0",
         "0",
         "0",
         "0",
         "0",
         "0",
         "0",
         "0",
         "0",
         "0",
         "0",
         "0",
         "0",
         "0",
         "0",
         "0",
         "0",
         "0",
         "0",
         "0",
         "0",
         "0",
         "0",
         "0",
         "0",
         "0",
         "0",
         "0",
         "0",
         "0",
         "0",
         "0",
         "0",
         "0",
         "0",
         "0",
         "0",
         "1",
         "0",
         "0",
         "0",
         "0",
         "0",
         "0",
         "0",
         "0",
         "0",
         "0",
         "0",
         "0",
         "0",
         "0",
         "0",
         "0",
         "0",
         "0",
         "0",
         "0",
         "0",
         "0",
         "0",
         "0",
         "0",
         "0",
         "0",
         "0",
         "0",
         "0",
         "0",
         "0",
         "0",
         "0",
         "0",
         "0",
         "0",
         "0",
         "0",
         "0",
         "0",
         "0",
         "0",
         "0",
         "0",
         "0",
         "0",
         "0",
         "0",
         "0",
         "0",
         "0",
         "0",
         "0",
         "0",
         "0",
         "0",
         "0",
         "0",
         "0",
         "0",
         "0",
         "0",
         "0",
         "0",
         "0",
         "0",
         "0",
         "0",
         "0",
         "0",
         "0",
         "0",
         "0",
         "0",
         "0",
         "0",
         "0",
         "0",
         "0",
         "0",
         "0",
         "0",
         "0",
         "0",
         "0",
         "0",
         "0",
         "0",
         "0",
         "0",
         "0",
         "0",
         "0",
         "0",
         "0",
         "0",
         "0",
         "0",
         "0",
         "0",
         "0",
         "0",
         "0",
         "0",
         "0",
         "0",
         "0",
         "0",
         "0",
         "0",
         "0",
         "0",
         "0",
         "0",
         "0",
         "0",
         "0",
         "0",
         "0",
         "0",
         "0",
         "0",
         "0",
         "0",
         "0",
         "0",
         "0",
         "0",
         "0",
         "0",
         "0",
         "0",
         "0",
         "0",
         "0",
         "0",
         "0",
         "0",
         "0",
         "0",
         "0",
         "0",
         "0",
         "0",
         "0",
         "0",
         "0",
         "0",
         "0",
         "0",
         "0",
         "0",
         "0",
         "0",
         "0",
         "0",
         "0",
         "0",
         "0",
         "0",
         "0",
         "0",
         "0",
         "0",
         "0",
         "0",
         "0",
         "0",
         "0",
         "0",
         "0",
         "0",
         "0",
         "0",
         "0",
         "0",
         "0",
         "0",
         "0",
         "0",
         "0",
         "0",
         "0",
         "0",
         "0",
         "0",
         "0",
         "0",
         "0",
         "0",
         "0",
         "0",
         "0",
         "0",
         "0",
         "0",
         "0",
         "0",
         "0",
         "0",
         "0",
         "0",
         "0",
         "0",
         "0",
         "0",
         "0",
         "0",
         "0",
         "0",
         "0",
         "0",
         "0",
         "0",
         "0",
         "0",
         "0",
         "0",
         "0",
         "0",
         "0",
         "0",
         "0",
         "0",
         "0",
         "0",
         "0",
         "0",
         "0",
         "0",
         "0",
         "0",
         "0",
         "0",
         "0",
         "0",
         "0",
         "0",
         "0",
         "0",
         "0",
         "0",
         "0",
         "0",
         "0",
         "0",
         "0",
         "0",
         "0",
         "0",
         "0",
         "0",
         "0",
         "0",
         "0",
         "0",
         "0",
         "0",
         "0",
         "0",
         "0",
         "0",
         "0",
         "0",
         "0",
         "0",
         "0",
         "0",
         "0",
         "0",
         "0",
         "0",
         "0",
         "0",
         "0",
         "0",
         "0",
         "0",
         "0",
         "0",
         "0",
         "0",
         "0",
         "0",
         "0",
         "0",
         "0",
         "0",
         "0",
         "0",
         "0",
         "0",
         "0",
         "0",
         "0",
         "0",
         "0",
         "0",
         "0",
         "0",
         "0",
         "0",
         "0",
         "0",
         "0",
         "0",
         "0",
         "0",
         "0",
         "0",
         "0",
         "0",
         "0",
         "0",
         "0",
         "0",
         "0",
         "0",
         "0",
         "0",
         "0",
         "0",
         "0",
         "0",
         "0",
         "0",
         "0",
         "0",
         "0",
         "0",
         "0",
         "0",
         "0",
         "0",
         "0",
         "0",
         "0",
         "0",
         "0",
         "0",
         "0",
         "0",
         "0",
         "0",
         "0",
         "0",
         "0",
         "0",
         "0",
         "0",
         "0",
         "0",
         "0",
         "0",
         "0",
         "0",
         "0",
         "0",
         "0",
         "0",
         "0",
         "0",
         "0",
         "0",
         "0",
         "0",
         "0",
         "0",
         "0",
         "0",
         "0",
         "0",
         "0",
         "0",
         "0",
         "0",
         "0",
         "0",
         "0",
         "0",
         "0",
         "0",
         "0",
         "0",
         "0",
         "0",
         "0",
         "0",
         "0",
         "0",
         "0",
         "0",
         "0",
         "0",
         "0",
         "0",
         "0",
         "0",
         "0",
         "0",
         "0",
         "0",
         "0",
         "0",
         "0",
         "0",
         "0",
         "0",
         "0",
         "0",
         "0",
         "0",
         "0",
         "0",
         "0",
         "0",
         "0",
         "0",
         "0",
         "0",
         "0",
         "0",
         "0",
         "0",
         "0",
         "0",
         "0",
         "0",
         "0",
         "0",
         "0",
         "0",
         "0",
         "0",
         "0",
         "0",
         "0",
         "0",
         "0",
         "0",
         "0",
         "0",
         "0",
         "0",
         "0",
         "0",
         "0",
         "0",
         "0",
         "0",
         "0",
         "0",
         "0",
         "0",
         "0",
         "0",
         "0",
         "0",
         "0",
         "0",
         "0",
         "0",
         "0",
         "0",
         "0",
         "0",
         "0",
         "0",
         "0",
         "0",
         "0",
         "0",
         "0",
         "0",
         "0",
         "0",
         "0",
         "0",
         "0",
         "0",
         "0",
         "0",
         "0",
         "0",
         "0",
         "0",
         "0",
         "0",
         "0",
         "0",
         "0",
         "0",
         "0",
         "0",
         "0",
         "0",
         "0",
         "0",
         "0",
         "0",
         "0",
         "0",
         "0",
         "0",
         "0",
         "0",
         "0",
         "0",
         "0",
         "0",
         "0",
         "0",
         "0",
         "0",
         "0",
         "0",
         "0",
         "0",
         "0",
         "0",
         "0",
         "0",
         "0",
         "0",
         "0",
         "0",
         "0",
         "0",
         "0",
         "0",
         "0",
         "0",
         "0",
         "0",
         "0",
         "0",
         "0",
         "0",
         "0",
         "0",
         "0",
         "0",
         "0",
         "0",
         "0",
         "0",
         "0",
         "0",
         "0",
         "0",
         "0",
         "0",
         "0",
         "0",
         "0",
         "0",
         "0",
         "0",
         "0",
         "0",
         "0",
         "0",
         "0",
         "0",
         "0",
         "0",
         "0",
         "0",
         "0",
         "0",
         "0",
         "0",
         "0",
         "0",
         "0",
         "0",
         "0",
         "0",
         "0",
         "0",
         "0",
         "0",
         "0",
         "0",
         "0",
         "0",
         "0",
         "0",
         "0",
         "0",
         "0",
         "0",
         "0",
         "0",
         "0",
         "0",
         "0",
         "0",
         "0",
         "0",
         "0",
         "0",
         "0",
         "0",
         "0",
         "0",
         "0",
         "0",
         "0",
         "0",
         "0",
         "0",
         "0",
         "0",
         "0",
         "0",
         "0",
         "0",
         "0",
         "0",
         "0",
         "0",
         "0",
         "0",
         "0",
         "0",
         "0",
         "0",
         "0",
         "0",
         "0",
         "0",
         "0",
         "0",
         "0",
         "0",
         "0",
         "0",
         "0",
         "0",
         "0",
         "0",
         "0",
         "0",
         "0",
         "0",
         "0",
         "0",
         "0",
         "0",
         "0",
         "0",
         "0",
         "0",
         "0",
         "0",
         "0",
         "0",
         "0",
         "0",
         "0",
         "0",
         "0",
         "0",
         "0",
         "0",
         "0",
         "0",
         "0",
         "0",
         "0",
         "0",
         "0",
         "0",
         "0",
         "0",
         "0",
         "0",
         "0",
         "0",
         "0",
         "0",
         "0",
         "0",
         "0",
         "0",
         "0",
         "0",
         "0",
         "0",
         "0",
         "0",
         "0",
         "0",
         "0",
         "0",
         "0",
         "0",
         "0",
         "0",
         "0",
         "0",
         "0",
         "0",
         "0",
         "0",
         "0",
         "0",
         "0",
         "0",
         "0",
         "0",
         "0",
         "0",
         "0",
         "0",
         "0",
         "0",
         "0",
         "0",
         "0",
         "0",
         "0",
         "0",
         "0",
         "0",
         "0",
         "0",
         "0",
         "0",
         "0",
         "0",
         "0",
         "0",
         "0",
         "0",
         "0",
         "0",
         "0",
         "0",
         "0",
         "0",
         "0",
         "0",
         "0",
         "0",
         "0",
         "0",
         "0",
         "0",
         "0",
         "0",
         "0",
         "0",
         "0",
         "0",
         "0",
         "0",
         "0",
         "0",
         "0",
         "0",
         "0",
         "0",
         "0",
         "0",
         "0",
         "0",
         "0",
         "0",
         "0",
         "0",
         "0",
         "0",
         "0",
         "0",
         "0",
         "0",
         "0",
         "0",
         "0",
         "0",
         "0",
         "0",
         "0",
         "1",
         "0",
         "0",
         "0",
         "0",
         "0",
         "0",
         "0",
         "0",
         "0",
         "0",
         "0",
         "0",
         "0",
         "0",
         "0",
         "0",
         "0",
         "0",
         "0",
         "0",
         "0",
         "0",
         "0",
         "0",
         "0",
         "0",
         "0",
         "0",
         "0",
         "0",
         "0",
         "0",
         "0",
         "0",
         "0",
         "0",
         "0",
         "0",
         "0",
         "0",
         "0",
         "0",
         "0",
         "0",
         "0",
         "0",
         "0",
         "0",
         "0",
         "0",
         "0",
         "0",
         "0",
         "0",
         "0",
         "0",
         "0",
         "0",
         "0",
         "0",
         "0",
         "0",
         "0",
         "0",
         "0",
         "0",
         "0",
         "0",
         "0",
         "0",
         "0",
         "0",
         "0",
         "0",
         "0",
         "0",
         "0",
         "0",
         "0",
         "0",
         "0",
         "0",
         "0",
         "0",
         "0",
         "0",
         "0",
         "0",
         "0",
         "0",
         "0",
         "0",
         "0",
         "0",
         "0",
         "0",
         "0",
         "0",
         "0",
         "0",
         "0",
         "0",
         "0",
         "0",
         "0",
         "0",
         "0",
         "0",
         "0",
         "0",
         "0",
         "0",
         "0",
         "0",
         "0",
         "0",
         "0",
         "0",
         "0",
         "0",
         "0",
         "0",
         "0",
         "0",
         "0",
         "0",
         "0",
         "0",
         "0",
         "0",
         "0",
         "0",
         "0",
         "0",
         "0",
         "0",
         "0",
         "0",
         "0",
         "0",
         "0",
         "0",
         "0",
         "0",
         "0",
         "0",
         "0",
         "0",
         "0",
         "0",
         "0",
         "0",
         "0",
         "0",
         "0",
         "0",
         "0",
         "0",
         "0",
         "0",
         "0",
         "0",
         "0",
         "0",
         "0",
         "0",
         "0",
         "0",
         "0",
         "0",
         "0",
         "0",
         "0",
         "0",
         "0",
         "0",
         "0",
         "0",
         "0",
         "0",
         "0",
         "0",
         "0",
         "0",
         "0",
         "0",
         "0",
         "0",
         "0",
         "0",
         "0",
         "0",
         "0",
         "0",
         "0",
         "0",
         "0",
         "0",
         "0",
         "0",
         "0",
         "0",
         "0",
         "0",
         "0",
         "0",
         "0",
         "0",
         "0",
         "0",
         "0",
         "0",
         "0",
         "0",
         "0",
         "0",
         "0",
         "0",
         "0",
         "0",
         "0",
         "0",
         "0",
         "0",
         "0",
         "0",
         "0",
         "0",
         "0",
         "0",
         "0",
         "0",
         "0",
         "0",
         "0",
         "0",
         "0",
         "0",
         "0",
         "0",
         "0",
         "0",
         "0",
         "0",
         "0",
         "0",
         "0",
         "0",
         "0",
         "0",
         "0",
         "0",
         "0",
         "0",
         "0",
         "0",
         "0",
         "0",
         "0",
         "0",
         "0",
         "0",
         "0",
         "0",
         "0",
         "0",
         "0",
         "0",
         "0",
         "0",
         "0",
         "0",
         "0",
         "0",
         "0",
         "0",
         "0",
         "0",
         "0",
         "0",
         "0",
         "0",
         "0",
         "0",
         "0",
         "0",
         "0",
         "0",
         "0",
         "0",
         "0",
         "0",
         "0",
         "0",
         "0",
         "0",
         "0",
         "0",
         "0",
         "0",
         "0",
         "0",
         "0",
         "0",
         "0",
         "0",
         "0",
         "0",
         "0",
         "0",
         "0",
         "0",
         "0",
         "0",
         "0",
         "0",
         "0",
         "0",
         "0",
         "0",
         "0",
         "0",
         "0",
         "0",
         "0",
         "0",
         "0",
         "0",
         "0",
         "0",
         "0",
         "0",
         "0",
         "0",
         "0",
         "0",
         "0",
         "0",
         "0",
         "0",
         "0",
         "0",
         "0",
         "0",
         "0",
         "0",
         "0",
         "0",
         "0",
         "0",
         "0",
         "0",
         "0",
         "0",
         "0",
         "0",
         "0",
         "0",
         "0",
         "0",
         "0",
         "0",
         "0",
         "0",
         "0",
         "0",
         "0",
         "0",
         "0",
         "0",
         "0",
         "0",
         "0",
         "0",
         "0",
         "0",
         "0",
         "0",
         "0",
         "0",
         "0",
         "0",
         "0",
         "0",
         "0",
         "0",
         "0",
         "0",
         "0",
         "0",
         "0",
         "0",
         "0",
         "0",
         "0",
         "0",
         "0",
         "0",
         "0",
         "0",
         "0",
         "0",
         "0",
         "0",
         "0",
         "0",
         "0",
         "0",
         "0",
         "0",
         "0",
         "0",
         "0",
         "0",
         "0",
         "0",
         "0",
         "0",
         "0",
         "0",
         "0",
         "0",
         "0",
         "0",
         "0",
         "0",
         "0",
         "0",
         "0",
         "0",
         "0",
         "0",
         "0",
         "0",
         "0",
         "0",
         "0",
         "0",
         "0",
         "0",
         "0",
         "0",
         "0",
         "0",
         "0",
         "0",
         "0",
         "0",
         "0",
         "0",
         "0",
         "0",
         "0",
         "0",
         "0",
         "0",
         "0",
         "0",
         "0",
         "0",
         "0",
         "0",
         "0",
         "0",
         "0",
         "0",
         "0",
         "0",
         "0",
         "0",
         "0",
         "0",
         "0",
         "0",
         "0",
         "0",
         "0",
         "0",
         "0",
         "0",
         "0",
         "0",
         "0",
         "0",
         "0",
         "0",
         "0",
         "0",
         "0",
         "0",
         "0",
         "0",
         "0",
         "0",
         "0",
         "0",
         "0",
         "0",
         "0",
         "0",
         "0",
         "0",
         "0",
         "0",
         "0",
         "0",
         "0",
         "0",
         "0",
         "0",
         "0",
         "0",
         "0",
         "0",
         "0",
         "0",
         "0",
         "0",
         "0",
         "0",
         "0",
         "0",
         "0",
         "0",
         "0",
         "0",
         "0",
         "0",
         "0",
         "0",
         "0",
         "0",
         "0",
         "0",
         "0",
         "0",
         "0",
         "0",
         "0",
         "0",
         "0",
         "0",
         "0",
         "0",
         "0",
         "0",
         "0",
         "0",
         "0",
         "0",
         "0",
         "0",
         "0",
         "0",
         "0",
         "0",
         "0",
         "0",
         "0",
         "0",
         "0",
         "0",
         "0",
         "0",
         "0",
         "0",
         "0",
         "0",
         "0",
         "0",
         "0",
         "0",
         "0",
         "0",
         "0",
         "0",
         "0",
         "0",
         "0",
         "0",
         "0",
         "0",
         "0",
         "0",
         "0",
         "0",
         "0",
         "0",
         "0",
         "0",
         "0",
         "0",
         "0",
         "0",
         "0",
         "0",
         "0",
         "0",
         "0",
         "0",
         "0",
         "0",
         "0",
         "0",
         "0",
         "0",
         "0",
         "0",
         "0",
         "0",
         "0",
         "0",
         "0",
         "0",
         "0",
         "0",
         "0",
         "0",
         "0",
         "0",
         "0",
         "0",
         "0",
         "0",
         "0",
         "0",
         "0",
         "0",
         "0",
         "0",
         "0",
         "0",
         "0",
         "0",
         "0",
         "0",
         "0",
         "0",
         "0",
         "0",
         "0",
         "0",
         "0",
         "0",
         "0",
         "0",
         "0",
         "0",
         "0",
         "0",
         "0",
         "0",
         "0",
         "0",
         "0",
         "0",
         "0",
         "0",
         "0",
         "0",
         "0",
         "0",
         "0",
         "0",
         "0",
         "0",
         "0",
         "0",
         "0",
         "0",
         "0",
         "0",
         "0",
         "0",
         "0",
         "0",
         "0",
         "0",
         "0",
         "0",
         "0",
         "0",
         "0",
         "0",
         "0",
         "0",
         "0",
         "0",
         "0",
         "0",
         "0",
         "0",
         "0",
         "0",
         "0",
         "0",
         "0",
         "0",
         "0",
         "0",
         "0",
         "0",
         "0",
         "0",
         "0",
         "0",
         "0",
         "0",
         "0",
         "0",
         "0",
         "0",
         "0",
         "0",
         "0",
         "0",
         "0",
         "0",
         "0",
         "0",
         "0",
         "0",
         "0",
         "0",
         "0",
         "0",
         "0",
         "0",
         "0",
         "0",
         "0",
         "0",
         "0",
         "0",
         "0",
         "0",
         "0",
         "0",
         "0",
         "0",
         "0",
         "0",
         "0",
         "0",
         "0",
         "0",
         "0",
         "0",
         "0",
         "0",
         "0",
         "0",
         "0",
         "0",
         "0",
         "0",
         "0",
         "0",
         "0",
         "0",
         "0",
         "0",
         "0",
         "0",
         "0",
         "0",
         "0",
         "0",
         "0",
         "0",
         "0",
         "0",
         "0",
         "0",
         "0",
         "0",
         "0",
         "0",
         "0",
         "0",
         "0",
         "0",
         "0",
         "0",
         "0",
         "0",
         "0",
         "0",
         "0",
         "0",
         "0",
         "0",
         "0",
         "0",
         "0",
         "0",
         "0",
         "0",
         "0",
         "0",
         "0",
         "0",
         "0",
         "0",
         "0",
         "0",
         "0",
         "0",
         "0",
         "0",
         "0",
         "0",
         "0",
         "0",
         "0",
         "0",
         "0",
         "0",
         "0",
         "0",
         "0",
         "0",
         "0",
         "0",
         "0",
         "0",
         "0",
         "0",
         "0",
         "0",
         "0",
         "0",
         "0",
         "0",
         "0",
         "0",
         "0",
         "0",
         "0",
         "0",
         "0",
         "0",
         "0",
         "0",
         "0",
         "0",
         "0",
         "0",
         "0",
         "0",
         "0",
         "0",
         "0",
         "0",
         "0",
         "0",
         "0",
         "0",
         "0",
         "0",
         "0",
         "0",
         "0",
         "0",
         "0",
         "0",
         "0",
         "0",
         "0",
         "0",
         "0",
         "0",
         "0",
         "0",
         "0",
         "0",
         "0",
         "0",
         "0",
         "0",
         "0",
         "0",
         "0",
         "0",
         "0",
         "0",
         "0",
         "0",
         "0",
         "0",
         "0",
         "0",
         "0",
         "0",
         "0",
         "0",
         "0",
         "0",
         "0",
         "0",
         "0",
         "0",
         "0",
         "0",
         "0",
         "0",
         "0",
         "0",
         "0",
         "0",
         "0",
         "0",
         "0",
         "0",
         "0",
         "0",
         "0",
         "0",
         "0",
         "0",
         "0",
         "0",
         "0",
         "0",
         "0",
         "0",
         "0",
         "0",
         "0",
         "0",
         "0",
         "0",
         "0",
         "0",
         "0",
         "0",
         "0",
         "0",
         "0",
         "0",
         "0",
         "0",
         "0",
         "0",
         "0",
         "0",
         "0",
         "0",
         "0",
         "0",
         "0",
         "0",
         "0",
         "0",
         "0",
         "0",
         "0",
         "0",
         "0",
         "0",
         "0",
         "0",
         "0",
         "0",
         "0",
         "0",
         "0",
         "0",
         "0",
         "0",
         "0",
         "0",
         "0",
         "0",
         "0",
         "0",
         "0",
         "0",
         "0",
         "0",
         "0",
         "0",
         "0",
         "0",
         "0",
         "0",
         "0",
         "0",
         "0",
         "0",
         "0",
         "0",
         "0",
         "0",
         "0",
         "0",
         "0",
         "0",
         "0",
         "0",
         "0",
         "0",
         "1",
         "0",
         "0",
         "0",
         "0",
         "0",
         "0",
         "0",
         "0",
         "0",
         "0",
         "0",
         "0",
         "0",
         "0",
         "0",
         "0",
         "0",
         "0",
         "0",
         "0",
         "0",
         "0",
         "0",
         "0",
         "0",
         "0",
         "0",
         "0",
         "0",
         "0",
         "0",
         "0",
         "0",
         "0",
         "0",
         "0",
         "0",
         "0",
         "0",
         "0",
         "0",
         "0",
         "0",
         "0",
         "0",
         "0",
         "0",
         "0",
         "0",
         "0",
         "0",
         "0",
         "0",
         "0",
         "0",
         "0",
         "0",
         "0",
         "0",
         "0",
         "0",
         "0",
         "0",
         "0",
         "0",
         "0",
         "0",
         "0",
         "0",
         "0",
         "0",
         "0",
         "0",
         "0",
         "0",
         "0",
         "0",
         "0",
         "0",
         "0",
         "0",
         "0",
         "0",
         "0",
         "0",
         "0",
         "0",
         "0",
         "0",
         "0",
         "0",
         "0",
         "0",
         "0",
         "0",
         "0",
         "0",
         "0",
         "0",
         "0",
         "0",
         "0",
         "0",
         "0",
         "0",
         "0",
         "0",
         "0",
         "0",
         "0",
         "0",
         "0",
         "0",
         "0",
         "0",
         "0",
         "0",
         "0",
         "0",
         "0",
         "0",
         "0",
         "0",
         "0",
         "0",
         "0",
         "0",
         "0",
         "0",
         "0",
         "0",
         "0",
         "0",
         "0",
         "0",
         "0",
         "0",
         "0",
         "0",
         "0",
         "0",
         "0",
         "0",
         "0",
         "0",
         "0",
         "0",
         "0",
         "0",
         "0",
         "0",
         "0",
         "0",
         "0",
         "0",
         "0",
         "0",
         "0",
         "0",
         "0",
         "0",
         "0",
         "0",
         "0",
         "0",
         "0",
         "0",
         "0",
         "0",
         "0",
         "0",
         "0",
         "0",
         "0",
         "0",
         "0",
         "0",
         "0",
         "0",
         "0",
         "0",
         "0",
         "0",
         "0",
         "0",
         "0",
         "0",
         "0",
         "0",
         "0",
         "0",
         "0",
         "0",
         "0",
         "0",
         "0",
         "0",
         "0",
         "0",
         "0",
         "0",
         "0",
         "0",
         "0",
         "0",
         "0",
         "0",
         "0",
         "0",
         "0",
         "0",
         "0",
         "0",
         "0",
         "0",
         "0",
         "0",
         "0",
         "0",
         "0",
         "0",
         "0",
         "0",
         "0",
         "0",
         "0",
         "0",
         "0",
         "0",
         "0",
         "0",
         "0",
         "0",
         "0",
         "0",
         "0",
         "0",
         "0",
         "0",
         "0",
         "0",
         "0",
         "0",
         "0",
         "0",
         "0",
         "0",
         "0",
         "0",
         "0",
         "0",
         "0",
         "0",
         "0",
         "0",
         "0",
         "0",
         "0",
         "0",
         "0",
         "0",
         "0",
         "0",
         "0",
         "0",
         "0",
         "0",
         "0",
         "0",
         "0",
         "0",
         "0",
         "0",
         "0",
         "0",
         "0",
         "0",
         "0",
         "0",
         "0",
         "0",
         "0",
         "0",
         "0",
         "0",
         "0",
         "0",
         "0",
         "0",
         "0",
         "0",
         "0",
         "0",
         "0",
         "0",
         "0",
         "0",
         "0",
         "0",
         "0",
         "0",
         "0",
         "0",
         "0",
         "0",
         "0",
         "0",
         "0",
         "0",
         "0",
         "0",
         "0",
         "0",
         "0",
         "0",
         "0",
         "0",
         "0",
         "0",
         "0",
         "0",
         "0",
         "0",
         "0",
         "0",
         "0",
         "0",
         "0",
         "0",
         "0",
         "0",
         "0",
         "0",
         "0",
         "0",
         "0",
         "0",
         "0",
         "0",
         "0",
         "0",
         "0",
         "0",
         "0",
         "0",
         "0",
         "0",
         "0",
         "0",
         "0",
         "0",
         "0",
         "0",
         "0",
         "0",
         "0",
         "0",
         "0",
         "0",
         "0",
         "0",
         "0",
         "0",
         "0",
         "0",
         "0",
         "0",
         "0",
         "0",
         "0",
         "0",
         "0",
         "0",
         "0",
         "0",
         "0",
         "0",
         "0",
         "0",
         "0",
         "0",
         "0",
         "0",
         "0",
         "0",
         "0",
         "0",
         "0",
         "0",
         "0",
         "0",
         "0",
         "0",
         "0",
         "0",
         "0",
         "0",
         "0",
         "0",
         "0",
         "0",
         "0",
         "0",
         "0",
         "0",
         "0",
         "0",
         "0",
         "0",
         "0",
         "0",
         "0",
         "0",
         "0",
         "0",
         "0",
         "0",
         "0",
         "0",
         "0",
         "0",
         "0",
         "0",
         "0",
         "0",
         "0",
         "0",
         "0",
         "0",
         "0",
         "0",
         "0",
         "0",
         "0",
         "0",
         "0",
         "0",
         "0",
         "0",
         "0",
         "0",
         "0",
         "0",
         "0",
         "0",
         "0",
         "0",
         "0",
         "0",
         "0",
         "0",
         "0",
         "0",
         "0",
         "0",
         "0",
         "0",
         "0",
         "0",
         "0",
         "0",
         "0",
         "0",
         "0",
         "0",
         "0",
         "0",
         "0",
         "0",
         "0",
         "0",
         "0",
         "0",
         "0",
         "0",
         "0",
         "0",
         "0",
         "0",
         "0",
         "0",
         "0",
         "0",
         "0",
         "0",
         "0",
         "0",
         "0",
         "0",
         "0",
         "0",
         "0",
         "0",
         "0",
         "0",
         "0",
         "0",
         "0",
         "0",
         "0",
         "0",
         "0",
         "0",
         "0",
         "0",
         "0",
         "0",
         "0",
         "0",
         "0",
         "0",
         "0",
         "0",
         "0",
         "0",
         "0",
         "0",
         "0",
         "0",
         "0",
         "0",
         "0",
         "0",
         "0",
         "0",
         "0",
         "0",
         "0",
         "0",
         "0",
         "0",
         "0",
         "0",
         "0",
         "0",
         "0",
         "0",
         "0",
         "0",
         "0",
         "0",
         "0",
         "0",
         "0",
         "0",
         "0",
         "0",
         "0",
         "0",
         "0",
         "0",
         "0",
         "0",
         "0",
         "0",
         "0",
         "0",
         "0",
         "0",
         "0",
         "0",
         "0",
         "0",
         "0",
         "0",
         "0",
         "0",
         "0",
         "0",
         "0",
         "0",
         "0",
         "0",
         "0",
         "0",
         "0",
         "0",
         "0",
         "0",
         "0",
         "0",
         "0",
         "0",
         "0",
         "0",
         "0",
         "0",
         "0",
         "0",
         "0",
         "0",
         "0",
         "0",
         "0",
         "0",
         "0",
         "0",
         "0",
         "0",
         "0",
         "0",
         "0",
         "0",
         "0",
         "0",
         "0",
         "0",
         "0",
         "0",
         "0",
         "0",
         "0",
         "0",
         "0",
         "0",
         "0",
         "0",
         "0",
         "0",
         "0",
         "0",
         "0",
         "0",
         "0",
         "0",
         "0",
         "0",
         "0",
         "0",
         "0",
         "0",
         "0",
         "0",
         "0",
         "0",
         "0",
         "0",
         "0",
         "0",
         "0",
         "0",
         "0",
         "0",
         "0",
         "0",
         "0",
         "0",
         "0",
         "0",
         "0",
         "0",
         "0",
         "0",
         "0",
         "0",
         "0",
         "0",
         "0",
         "0",
         "0",
         "0",
         "0",
         "0",
         "0",
         "0",
         "0",
         "0",
         "0",
         "0",
         "0",
         "0",
         "0",
         "0",
         "0",
         "0",
         "0",
         "0",
         "0",
         "0",
         "0",
         "0",
         "0",
         "0",
         "0",
         "0",
         "0",
         "0",
         "0",
         "0",
         "0",
         "0",
         "0",
         "0",
         "0",
         "0",
         "0",
         "0",
         "0",
         "0",
         "0",
         "0",
         "0",
         "0",
         "0",
         "0",
         "0",
         "0",
         "0",
         "0",
         "0",
         "0",
         "0",
         "0",
         "0",
         "0",
         "0",
         "0",
         "0",
         "0",
         "0",
         "0",
         "0",
         "0",
         "0",
         "0",
         "0",
         "0",
         "0",
         "0",
         "0",
         "0",
         "0",
         "0",
         "0",
         "0",
         "0",
         "0",
         "0",
         "0",
         "0",
         "0",
         "0",
         "0",
         "0",
         "0",
         "0",
         "0",
         "0",
         "0",
         "0",
         "0",
         "0",
         "0",
         "0",
         "0",
         "0",
         "0",
         "0",
         "0",
         "0",
         "0",
         "0",
         "0",
         "0",
         "0",
         "0",
         "0",
         "0",
         "0",
         "0",
         "0",
         "0",
         "0",
         "0",
         "0",
         "0",
         "0",
         "0",
         "0",
         "0",
         "0",
         "0",
         "0",
         "0",
         "0",
         "0",
         "0",
         "0",
         "0",
         "0",
         "0",
         "0",
         "0",
         "0",
         "0",
         "0",
         "0",
         "0",
         "0",
         "0",
         "0",
         "0",
         "0",
         "0",
         "0",
         "0",
         "0",
         "0",
         "0",
         "0",
         "0",
         "0",
         "0",
         "0",
         "0",
         "0",
         "0",
         "0",
         "0",
         "0",
         "0",
         "0",
         "0",
         "0",
         "0",
         "0",
         "0",
         "0",
         "0",
         "0",
         "0",
         "0",
         "0",
         "0",
         "0",
         "0",
         "0",
         "0",
         "0",
         "0",
         "0",
         "0",
         "0",
         "0",
         "0",
         "0",
         "0",
         "0",
         "0",
         "0",
         "0",
         "0",
         "0",
         "0",
         "0",
         "0",
         "0",
         "0",
         "0",
         "0",
         "0",
         "0",
         "0",
         "0",
         "0",
         "0",
         "0",
         "0",
         "0",
         "0",
         "0",
         "0",
         "0",
         "0",
         "0",
         "0",
         "0",
         "0",
         "0",
         "0",
         "0",
         "0",
         "0",
         "0",
         "0",
         "0",
         "0",
         "0",
         "0",
         "0",
         "0",
         "0",
         "0",
         "0",
         "0",
         "0",
         "0",
         "0",
         "0",
         "0",
         "0",
         "0",
         "0",
         "0",
         "0",
         "0",
         "0",
         "0",
         "0",
         "0",
         "0",
         "0",
         "0",
         "0",
         "0",
         "0",
         "0",
         "0",
         "0",
         "0",
         "0",
         "0",
         "0",
         "0",
         "0",
         "0",
         "0",
         "0",
         "0",
         "0",
         "0",
         "0",
         "0",
         "0",
         "0",
         "0",
         "0",
         "0",
         "0",
         "0",
         "0",
         "0",
         "0",
         "0",
         "0",
         "0",
         "0",
         "0",
         "0",
         "0",
         "0",
         "0",
         "0",
         "0",
         "0",
         "0",
         "0",
         "0",
         "0",
         "0",
         "0",
         "0",
         "0",
         "0",
         "0",
         "0",
         "0",
         "0",
         "0",
         "0",
         "0",
         "0",
         "0",
         "0",
         "0",
         "0",
         "0",
         "0",
         "0",
         "0",
         "0",
         "0",
         "0",
         "0",
         "0",
         "0",
         "0",
         "0",
         "0",
         "0",
         "0",
         "0",
         "0",
         "0",
         "0",
         "0",
         "0",
         "0",
         "0",
         "0",
         "0",
         "0",
         "0",
         "0",
         "0",
         "0",
         "0",
         "0",
         "0",
         "0",
         "0",
         "0",
         "0",
         "0",
         "0",
         "0",
         "0",
         "0",
         "0",
         "0",
         "0",
         "0",
         "0",
         "0",
         "0",
         "0",
         "0",
         "0",
         "0",
         "0",
         "0",
         "0",
         "0",
         "0",
         "0",
         "0",
         "0",
         "0",
         "0",
         "0",
         "0",
         "1",
         "1",
         "0",
         "0",
         "0",
         "0",
         "0",
         "0",
         "0",
         "0",
         "0",
         "0",
         "0",
         "0",
         "0",
         "0",
         "0",
         "0",
         "0",
         "0",
         "0",
         "0",
         "0",
         "0",
         "0",
         "0",
         "0",
         "0",
         "0",
         "0",
         "0",
         "0",
         "0",
         "0",
         "0",
         "0",
         "0",
         "0",
         "0",
         "0",
         "0",
         "0",
         "0",
         "0",
         "0",
         "0",
         "0",
         "0",
         "0",
         "0",
         "0",
         "0",
         "0",
         "0",
         "0",
         "0",
         "0",
         "0",
         "0",
         "0",
         "0",
         "0",
         "0",
         "0",
         "0",
         "0",
         "0",
         "0",
         "0",
         "0",
         "0",
         "0",
         "0",
         "0",
         "0",
         "0",
         "0",
         "0",
         "0",
         "0",
         "0",
         "0",
         "0",
         "0",
         "0",
         "0",
         "0",
         "0",
         "0",
         "0",
         "0",
         "0",
         "0",
         "0",
         "0",
         "0",
         "0",
         "0",
         "0",
         "0",
         "0",
         "0",
         "0",
         "0",
         "0",
         "0",
         "0",
         "0",
         "0",
         "0",
         "0",
         "0",
         "0",
         "0",
         "0",
         "0",
         "0",
         "0",
         "0",
         "0"
        ],
        [
         "4",
         "0",
         "0",
         "0",
         "0",
         "0",
         "0",
         "0",
         "0",
         "0",
         "0",
         "0",
         "0",
         "0",
         "0",
         "0",
         "0",
         "0",
         "0",
         "0",
         "0",
         "0",
         "0",
         "0",
         "0",
         "0",
         "0",
         "0",
         "0",
         "0",
         "0",
         "0",
         "0",
         "0",
         "0",
         "0",
         "0",
         "0",
         "0",
         "0",
         "0",
         "0",
         "0",
         "0",
         "0",
         "0",
         "0",
         "0",
         "0",
         "0",
         "0",
         "0",
         "0",
         "0",
         "0",
         "0",
         "0",
         "0",
         "0",
         "0",
         "0",
         "0",
         "0",
         "0",
         "0",
         "0",
         "0",
         "0",
         "0",
         "0",
         "0",
         "0",
         "0",
         "0",
         "0",
         "0",
         "0",
         "0",
         "0",
         "0",
         "0",
         "0",
         "0",
         "0",
         "0",
         "0",
         "0",
         "0",
         "0",
         "0",
         "0",
         "0",
         "0",
         "1",
         "0",
         "0",
         "0",
         "0",
         "0",
         "0",
         "0",
         "0",
         "0",
         "0",
         "0",
         "0",
         "0",
         "0",
         "0",
         "0",
         "0",
         "0",
         "0",
         "0",
         "0",
         "0",
         "0",
         "0",
         "0",
         "0",
         "0",
         "0",
         "0",
         "0",
         "0",
         "0",
         "0",
         "0",
         "0",
         "0",
         "0",
         "0",
         "0",
         "0",
         "0",
         "0",
         "0",
         "0",
         "0",
         "0",
         "0",
         "0",
         "0",
         "0",
         "0",
         "0",
         "0",
         "0",
         "0",
         "0",
         "0",
         "0",
         "0",
         "0",
         "0",
         "0",
         "0",
         "0",
         "0",
         "0",
         "0",
         "0",
         "0",
         "0",
         "0",
         "0",
         "0",
         "0",
         "0",
         "0",
         "0",
         "0",
         "0",
         "0",
         "0",
         "0",
         "0",
         "0",
         "0",
         "0",
         "0",
         "0",
         "0",
         "0",
         "0",
         "0",
         "0",
         "0",
         "0",
         "0",
         "0",
         "0",
         "0",
         "0",
         "0",
         "0",
         "0",
         "0",
         "0",
         "0",
         "0",
         "0",
         "0",
         "0",
         "0",
         "0",
         "0",
         "0",
         "0",
         "0",
         "0",
         "0",
         "0",
         "0",
         "0",
         "0",
         "0",
         "0",
         "0",
         "0",
         "0",
         "0",
         "0",
         "0",
         "0",
         "0",
         "0",
         "0",
         "0",
         "0",
         "0",
         "0",
         "0",
         "0",
         "0",
         "0",
         "0",
         "0",
         "0",
         "0",
         "0",
         "0",
         "0",
         "0",
         "0",
         "0",
         "0",
         "0",
         "0",
         "0",
         "0",
         "0",
         "0",
         "0",
         "0",
         "0",
         "0",
         "0",
         "0",
         "0",
         "0",
         "0",
         "0",
         "0",
         "0",
         "0",
         "0",
         "0",
         "0",
         "0",
         "0",
         "0",
         "0",
         "0",
         "0",
         "0",
         "0",
         "0",
         "0",
         "0",
         "0",
         "0",
         "0",
         "0",
         "0",
         "0",
         "0",
         "0",
         "0",
         "0",
         "0",
         "0",
         "0",
         "0",
         "0",
         "0",
         "0",
         "0",
         "0",
         "0",
         "0",
         "0",
         "0",
         "0",
         "0",
         "0",
         "0",
         "0",
         "0",
         "0",
         "0",
         "0",
         "0",
         "0",
         "0",
         "0",
         "0",
         "0",
         "0",
         "0",
         "0",
         "0",
         "0",
         "0",
         "0",
         "0",
         "0",
         "0",
         "0",
         "0",
         "0",
         "0",
         "0",
         "0",
         "0",
         "0",
         "0",
         "0",
         "0",
         "0",
         "0",
         "0",
         "0",
         "0",
         "0",
         "0",
         "0",
         "0",
         "0",
         "0",
         "0",
         "0",
         "0",
         "0",
         "0",
         "0",
         "0",
         "0",
         "0",
         "0",
         "0",
         "0",
         "0",
         "0",
         "0",
         "0",
         "0",
         "0",
         "0",
         "0",
         "0",
         "0",
         "0",
         "0",
         "0",
         "0",
         "0",
         "0",
         "0",
         "0",
         "0",
         "0",
         "0",
         "0",
         "0",
         "0",
         "0",
         "0",
         "0",
         "0",
         "0",
         "0",
         "0",
         "0",
         "0",
         "0",
         "0",
         "0",
         "0",
         "0",
         "0",
         "0",
         "0",
         "0",
         "0",
         "0",
         "0",
         "0",
         "0",
         "0",
         "0",
         "0",
         "0",
         "0",
         "0",
         "0",
         "0",
         "0",
         "0",
         "0",
         "0",
         "0",
         "0",
         "0",
         "0",
         "0",
         "0",
         "0",
         "0",
         "0",
         "0",
         "0",
         "0",
         "0",
         "0",
         "0",
         "0",
         "0",
         "0",
         "0",
         "0",
         "0",
         "0",
         "0",
         "0",
         "0",
         "0",
         "0",
         "0",
         "0",
         "0",
         "0",
         "0",
         "0",
         "0",
         "0",
         "0",
         "0",
         "0",
         "0",
         "0",
         "0",
         "0",
         "0",
         "0",
         "0",
         "0",
         "0",
         "0",
         "0",
         "0",
         "0",
         "0",
         "0",
         "0",
         "0",
         "0",
         "0",
         "0",
         "0",
         "0",
         "0",
         "0",
         "0",
         "0",
         "0",
         "0",
         "0",
         "0",
         "0",
         "0",
         "0",
         "0",
         "0",
         "0",
         "0",
         "0",
         "0",
         "0",
         "0",
         "0",
         "0",
         "0",
         "0",
         "0",
         "0",
         "0",
         "0",
         "0",
         "0",
         "0",
         "0",
         "0",
         "0",
         "0",
         "0",
         "0",
         "0",
         "0",
         "0",
         "0",
         "0",
         "0",
         "0",
         "0",
         "0",
         "0",
         "0",
         "0",
         "0",
         "0",
         "0",
         "0",
         "0",
         "0",
         "1",
         "0",
         "0",
         "0",
         "0",
         "0",
         "0",
         "0",
         "0",
         "0",
         "0",
         "0",
         "0",
         "0",
         "0",
         "0",
         "0",
         "0",
         "0",
         "0",
         "0",
         "0",
         "0",
         "0",
         "0",
         "0",
         "0",
         "0",
         "0",
         "0",
         "0",
         "0",
         "0",
         "0",
         "0",
         "0",
         "0",
         "0",
         "0",
         "0",
         "0",
         "0",
         "0",
         "0",
         "0",
         "0",
         "0",
         "0",
         "0",
         "0",
         "0",
         "0",
         "0",
         "0",
         "0",
         "0",
         "0",
         "0",
         "0",
         "0",
         "0",
         "0",
         "0",
         "0",
         "0",
         "0",
         "0",
         "0",
         "0",
         "0",
         "0",
         "0",
         "0",
         "0",
         "0",
         "0",
         "0",
         "0",
         "0",
         "0",
         "0",
         "0",
         "0",
         "0",
         "0",
         "0",
         "0",
         "0",
         "0",
         "0",
         "1",
         "0",
         "0",
         "0",
         "0",
         "0",
         "0",
         "0",
         "0",
         "0",
         "0",
         "0",
         "0",
         "0",
         "0",
         "0",
         "0",
         "0",
         "0",
         "0",
         "0",
         "0",
         "0",
         "0",
         "0",
         "0",
         "0",
         "0",
         "0",
         "0",
         "0",
         "0",
         "0",
         "0",
         "0",
         "0",
         "0",
         "0",
         "0",
         "0",
         "0",
         "0",
         "0",
         "0",
         "0",
         "0",
         "0",
         "0",
         "0",
         "0",
         "0",
         "0",
         "0",
         "0",
         "0",
         "0",
         "0",
         "0",
         "0",
         "0",
         "0",
         "0",
         "0",
         "0",
         "0",
         "0",
         "0",
         "0",
         "0",
         "0",
         "0",
         "0",
         "0",
         "0",
         "0",
         "0",
         "0",
         "0",
         "0",
         "0",
         "0",
         "0",
         "0",
         "0",
         "0",
         "0",
         "0",
         "0",
         "0",
         "0",
         "0",
         "0",
         "0",
         "0",
         "0",
         "0",
         "0",
         "0",
         "0",
         "0",
         "0",
         "0",
         "0",
         "0",
         "0",
         "0",
         "0",
         "0",
         "0",
         "0",
         "0",
         "0",
         "0",
         "0",
         "0",
         "0",
         "0",
         "0",
         "0",
         "0",
         "0",
         "0",
         "0",
         "0",
         "0",
         "0",
         "0",
         "0",
         "0",
         "0",
         "0",
         "0",
         "0",
         "0",
         "0",
         "0",
         "0",
         "0",
         "0",
         "0",
         "0",
         "0",
         "0",
         "0",
         "0",
         "0",
         "0",
         "0",
         "0",
         "0",
         "0",
         "0",
         "0",
         "0",
         "0",
         "0",
         "0",
         "0",
         "0",
         "0",
         "0",
         "0",
         "0",
         "0",
         "0",
         "0",
         "0",
         "0",
         "0",
         "0",
         "0",
         "0",
         "0",
         "0",
         "0",
         "0",
         "0",
         "0",
         "0",
         "0",
         "0",
         "0",
         "0",
         "0",
         "0",
         "0",
         "0",
         "0",
         "0",
         "0",
         "0",
         "0",
         "0",
         "0",
         "0",
         "0",
         "0",
         "0",
         "0",
         "0",
         "0",
         "0",
         "0",
         "0",
         "0",
         "0",
         "0",
         "0",
         "0",
         "0",
         "0",
         "0",
         "0",
         "0",
         "0",
         "0",
         "0",
         "0",
         "0",
         "0",
         "0",
         "0",
         "0",
         "0",
         "0",
         "0",
         "0",
         "0",
         "0",
         "0",
         "0",
         "0",
         "0",
         "0",
         "0",
         "0",
         "0",
         "0",
         "0",
         "0",
         "0",
         "0",
         "0",
         "0",
         "0",
         "0",
         "0",
         "0",
         "0",
         "0",
         "0",
         "0",
         "0",
         "0",
         "0",
         "0",
         "0",
         "0",
         "0",
         "0",
         "0",
         "0",
         "0",
         "0",
         "0",
         "0",
         "0",
         "0",
         "0",
         "0",
         "0",
         "0",
         "0",
         "0",
         "0",
         "0",
         "0",
         "0",
         "0",
         "0",
         "0",
         "0",
         "0",
         "0",
         "0",
         "0",
         "0",
         "0",
         "0",
         "0",
         "0",
         "0",
         "0",
         "0",
         "0",
         "0",
         "0",
         "0",
         "0",
         "0",
         "0",
         "0",
         "0",
         "0",
         "0",
         "0",
         "0",
         "0",
         "0",
         "0",
         "0",
         "0",
         "0",
         "0",
         "0",
         "0",
         "0",
         "0",
         "0",
         "0",
         "0",
         "0",
         "0",
         "0",
         "0",
         "0",
         "0",
         "0",
         "0",
         "0",
         "0",
         "0",
         "0",
         "0",
         "0",
         "0",
         "0",
         "0",
         "0",
         "0",
         "0",
         "0",
         "0",
         "0",
         "0",
         "1",
         "1",
         "0",
         "0",
         "0",
         "0",
         "0",
         "0",
         "0",
         "0",
         "0",
         "0",
         "0",
         "0",
         "0",
         "0",
         "0",
         "0",
         "0",
         "0",
         "0",
         "0",
         "0",
         "0",
         "0",
         "0",
         "0",
         "0",
         "0",
         "0",
         "0",
         "0",
         "0",
         "0",
         "0",
         "0",
         "0",
         "0",
         "0",
         "0",
         "0",
         "0",
         "0",
         "0",
         "0",
         "0",
         "0",
         "0",
         "0",
         "0",
         "0",
         "0",
         "0",
         "0",
         "0",
         "0",
         "0",
         "0",
         "0",
         "0",
         "0",
         "0",
         "0",
         "0",
         "0",
         "0",
         "0",
         "0",
         "0",
         "0",
         "0",
         "0",
         "0",
         "0",
         "0",
         "0",
         "0",
         "0",
         "0",
         "0",
         "0",
         "0",
         "0",
         "0",
         "0",
         "0",
         "0",
         "0",
         "0",
         "0",
         "0",
         "0",
         "0",
         "0",
         "0",
         "0",
         "0",
         "0",
         "0",
         "0",
         "0",
         "0",
         "0",
         "0",
         "0",
         "0",
         "0",
         "0",
         "0",
         "0",
         "0",
         "0",
         "0",
         "0",
         "0",
         "0",
         "0",
         "0",
         "0",
         "0",
         "0",
         "0",
         "0",
         "0",
         "0",
         "0",
         "0",
         "0",
         "0",
         "0",
         "0",
         "0",
         "0",
         "0",
         "0",
         "0",
         "0",
         "0",
         "0",
         "0",
         "0",
         "0",
         "0",
         "0",
         "0",
         "0",
         "0",
         "0",
         "0",
         "0",
         "0",
         "0",
         "0",
         "0",
         "0",
         "0",
         "0",
         "0",
         "0",
         "0",
         "0",
         "0",
         "0",
         "0",
         "0",
         "0",
         "0",
         "0",
         "0",
         "0",
         "0",
         "0",
         "0",
         "0",
         "0",
         "0",
         "0",
         "0",
         "0",
         "0",
         "0",
         "0",
         "0",
         "0",
         "0",
         "0",
         "0",
         "0",
         "0",
         "0",
         "0",
         "0",
         "0",
         "0",
         "0",
         "0",
         "0",
         "0",
         "0",
         "0",
         "0",
         "0",
         "0",
         "0",
         "0",
         "0",
         "0",
         "0",
         "0",
         "0",
         "0",
         "0",
         "0",
         "0",
         "0",
         "0",
         "0",
         "0",
         "0",
         "0",
         "0",
         "0",
         "0",
         "0",
         "0",
         "0",
         "0",
         "0",
         "0",
         "0",
         "0",
         "0",
         "0",
         "0",
         "0",
         "0",
         "0",
         "0",
         "0",
         "0",
         "0",
         "0",
         "0",
         "0",
         "0",
         "0",
         "0",
         "0",
         "0",
         "0",
         "0",
         "0",
         "0",
         "0",
         "0",
         "0",
         "0",
         "0",
         "0",
         "0",
         "0",
         "0",
         "0",
         "0",
         "0",
         "0",
         "0",
         "0",
         "0",
         "0",
         "0",
         "0",
         "0",
         "0",
         "0",
         "0",
         "0",
         "0",
         "0",
         "0",
         "0",
         "0",
         "0",
         "0",
         "0",
         "0",
         "0",
         "0",
         "0",
         "0",
         "0",
         "0",
         "0",
         "0",
         "0",
         "0",
         "0",
         "0",
         "0",
         "0",
         "0",
         "0",
         "0",
         "0",
         "0",
         "0",
         "0",
         "0",
         "0",
         "0",
         "0",
         "0",
         "0",
         "0",
         "0",
         "0",
         "0",
         "0",
         "0",
         "0",
         "0",
         "0",
         "0",
         "0",
         "0",
         "0",
         "0",
         "0",
         "0",
         "0",
         "0",
         "0",
         "0",
         "0",
         "0",
         "0",
         "0",
         "0",
         "0",
         "0",
         "0",
         "0",
         "0",
         "0",
         "0",
         "0",
         "0",
         "0",
         "0",
         "0",
         "0",
         "0",
         "0",
         "0",
         "0",
         "0",
         "0",
         "0",
         "0",
         "0",
         "0",
         "0",
         "0",
         "0",
         "0",
         "0",
         "0",
         "0",
         "0",
         "0",
         "0",
         "0",
         "0",
         "0",
         "0",
         "0",
         "0",
         "0",
         "0",
         "0",
         "0",
         "0",
         "0",
         "0",
         "0",
         "0",
         "0",
         "0",
         "0",
         "0",
         "0",
         "0",
         "0",
         "0",
         "0",
         "0",
         "0",
         "0",
         "0",
         "0",
         "0",
         "0",
         "0",
         "0",
         "0",
         "0",
         "0",
         "0",
         "0",
         "0",
         "0",
         "0",
         "0",
         "0",
         "0",
         "0",
         "0",
         "0",
         "0",
         "0",
         "0",
         "0",
         "0",
         "0",
         "0",
         "0",
         "0",
         "0",
         "0",
         "0",
         "0",
         "0",
         "0",
         "0",
         "0",
         "0",
         "0",
         "0",
         "0",
         "0",
         "0",
         "0",
         "0",
         "0",
         "0",
         "0",
         "0",
         "0",
         "0",
         "0",
         "0",
         "0",
         "0",
         "0",
         "0",
         "0",
         "0",
         "0",
         "0",
         "0",
         "1",
         "0",
         "0",
         "0",
         "0",
         "0",
         "0",
         "0",
         "0",
         "0",
         "0",
         "0",
         "0",
         "0",
         "0",
         "0",
         "0",
         "0",
         "0",
         "0",
         "0",
         "0",
         "0",
         "0",
         "0",
         "0",
         "0",
         "0",
         "0",
         "0",
         "0",
         "0",
         "0",
         "0",
         "0",
         "0",
         "0",
         "0",
         "0",
         "0",
         "0",
         "0",
         "0",
         "0",
         "0",
         "0",
         "0",
         "0",
         "0",
         "0",
         "0",
         "0",
         "0",
         "0",
         "0",
         "0",
         "0",
         "0",
         "0",
         "0",
         "0",
         "0",
         "0",
         "0",
         "0",
         "0",
         "0",
         "0",
         "0",
         "0",
         "0",
         "0",
         "0",
         "0",
         "0",
         "0",
         "0",
         "0",
         "0",
         "0",
         "0",
         "0",
         "0",
         "0",
         "0",
         "0",
         "0",
         "0",
         "0",
         "0",
         "0",
         "0",
         "0",
         "0",
         "0",
         "0",
         "0",
         "0",
         "0",
         "0",
         "0",
         "0",
         "0",
         "0",
         "0",
         "0",
         "0",
         "0",
         "0",
         "0",
         "0",
         "0",
         "0",
         "0",
         "0",
         "0",
         "0",
         "0",
         "0",
         "0",
         "0",
         "0",
         "0",
         "0",
         "0",
         "0",
         "0",
         "0",
         "0",
         "0",
         "0",
         "0",
         "0",
         "0",
         "0",
         "0",
         "0",
         "0",
         "0",
         "0",
         "0",
         "0",
         "0",
         "0",
         "0",
         "0",
         "0",
         "0",
         "0",
         "0",
         "0",
         "0",
         "0",
         "0",
         "0",
         "0",
         "0",
         "0",
         "0",
         "0",
         "0",
         "0",
         "0",
         "0",
         "0",
         "0",
         "0",
         "0",
         "0",
         "0",
         "0",
         "0",
         "0",
         "0",
         "0",
         "0",
         "0",
         "0",
         "0",
         "0",
         "0",
         "0",
         "0",
         "0",
         "0",
         "0",
         "0",
         "0",
         "0",
         "0",
         "0",
         "0",
         "0",
         "0",
         "0",
         "0",
         "0",
         "0",
         "0",
         "0",
         "0",
         "0",
         "0",
         "0",
         "0",
         "0",
         "0",
         "0",
         "0",
         "0",
         "0",
         "0",
         "0",
         "0",
         "0",
         "0",
         "0",
         "0",
         "0",
         "0",
         "0",
         "0",
         "0",
         "0",
         "0",
         "0",
         "0",
         "0",
         "0",
         "0",
         "0",
         "0",
         "0",
         "0",
         "0",
         "0",
         "0",
         "0",
         "0",
         "0",
         "0",
         "0",
         "0",
         "0",
         "0",
         "0",
         "0",
         "0",
         "0",
         "0",
         "0",
         "0",
         "0",
         "0",
         "0",
         "0",
         "0",
         "0",
         "0",
         "0",
         "0",
         "0",
         "0",
         "0",
         "0",
         "0",
         "0",
         "0",
         "0",
         "0",
         "0",
         "0",
         "0",
         "0",
         "0",
         "0",
         "0",
         "0",
         "0",
         "0",
         "0",
         "0",
         "0",
         "0",
         "0",
         "0",
         "0",
         "0",
         "0",
         "0",
         "0",
         "0",
         "0",
         "0",
         "0",
         "0",
         "0",
         "0",
         "0",
         "0",
         "0",
         "0",
         "0",
         "0",
         "0",
         "0",
         "0",
         "0",
         "0",
         "0",
         "0",
         "0",
         "0",
         "0",
         "0",
         "0",
         "0",
         "0",
         "0",
         "0",
         "0",
         "0",
         "0",
         "0",
         "0",
         "0",
         "0",
         "0",
         "0",
         "0",
         "0",
         "0",
         "0",
         "0",
         "0",
         "0",
         "0",
         "0",
         "0",
         "0",
         "0",
         "0",
         "0",
         "0",
         "0",
         "0",
         "0",
         "0",
         "0",
         "0",
         "0",
         "0",
         "0",
         "0",
         "0",
         "0",
         "0",
         "0",
         "0",
         "0",
         "0",
         "0",
         "0",
         "0",
         "0",
         "0",
         "0",
         "0",
         "0",
         "0",
         "0",
         "0",
         "0",
         "0",
         "0",
         "0",
         "0",
         "0",
         "0",
         "0",
         "0",
         "0",
         "0",
         "0",
         "0",
         "0",
         "0",
         "0",
         "0",
         "0",
         "0",
         "0",
         "0",
         "0",
         "0",
         "0",
         "0",
         "0",
         "0",
         "0",
         "0",
         "0",
         "0",
         "0",
         "0",
         "0",
         "0",
         "0",
         "0",
         "0",
         "0",
         "0",
         "0",
         "0",
         "0",
         "0",
         "0",
         "0",
         "0",
         "0",
         "0",
         "0",
         "0",
         "0",
         "0",
         "0",
         "0",
         "0",
         "0",
         "0",
         "0",
         "0",
         "0",
         "0",
         "0",
         "0",
         "0",
         "0",
         "0",
         "0",
         "0",
         "0",
         "0",
         "0",
         "0",
         "0",
         "0",
         "0",
         "0",
         "0",
         "0",
         "0",
         "0",
         "0",
         "0",
         "0",
         "0",
         "0",
         "0",
         "0",
         "0",
         "0",
         "0",
         "0",
         "0",
         "0",
         "0",
         "0",
         "0",
         "0",
         "0",
         "0",
         "0",
         "0",
         "0",
         "0",
         "0",
         "0",
         "0",
         "0",
         "0",
         "0",
         "0",
         "0",
         "0",
         "0",
         "0",
         "0",
         "0",
         "0",
         "0",
         "0",
         "0",
         "0",
         "0",
         "0",
         "0",
         "0",
         "0",
         "0",
         "0",
         "0",
         "0",
         "0",
         "0",
         "0",
         "0",
         "0",
         "0",
         "0",
         "0",
         "0",
         "0",
         "0",
         "0",
         "0",
         "0",
         "0",
         "0",
         "0",
         "0",
         "0",
         "0",
         "0",
         "0",
         "0",
         "0",
         "0",
         "0",
         "0",
         "0",
         "0",
         "0",
         "0",
         "0",
         "0",
         "0",
         "0",
         "0",
         "0",
         "0",
         "0",
         "0",
         "0",
         "0",
         "0",
         "0",
         "0",
         "0",
         "0",
         "0",
         "0",
         "0",
         "0",
         "0",
         "0",
         "0",
         "0",
         "0",
         "0",
         "0",
         "0",
         "0",
         "0",
         "0",
         "0",
         "0",
         "0",
         "0",
         "0",
         "0",
         "0",
         "0",
         "0",
         "0",
         "0",
         "0",
         "0",
         "0",
         "0",
         "0",
         "0",
         "0",
         "0",
         "0",
         "0",
         "0",
         "0",
         "0",
         "0",
         "0",
         "0",
         "0",
         "0",
         "0",
         "0",
         "0",
         "0",
         "0",
         "0",
         "0",
         "0",
         "0",
         "0",
         "0",
         "0",
         "0",
         "0",
         "0",
         "0",
         "0",
         "0",
         "0",
         "0",
         "0",
         "0",
         "0",
         "0",
         "0",
         "0",
         "0",
         "0",
         "0",
         "0",
         "0",
         "0",
         "0",
         "0",
         "0",
         "0",
         "0",
         "0",
         "0",
         "0",
         "0",
         "0",
         "0",
         "0",
         "0",
         "0",
         "0",
         "0",
         "0",
         "0",
         "0",
         "0",
         "0",
         "0",
         "0",
         "0",
         "0",
         "0",
         "0",
         "0",
         "0",
         "0",
         "0",
         "0",
         "0",
         "0",
         "0",
         "0",
         "0",
         "0",
         "0",
         "0",
         "0",
         "0",
         "0",
         "0",
         "0",
         "0",
         "0",
         "0",
         "0",
         "0",
         "0",
         "0",
         "0",
         "0",
         "0",
         "0",
         "0",
         "0",
         "0",
         "0",
         "0",
         "0",
         "0",
         "0",
         "0",
         "0",
         "0",
         "0",
         "0",
         "0",
         "0",
         "0",
         "0",
         "0",
         "0",
         "0",
         "0",
         "0",
         "0",
         "0",
         "0",
         "0",
         "0",
         "0",
         "0",
         "0",
         "0",
         "0",
         "0",
         "0",
         "0",
         "0",
         "0",
         "0",
         "0",
         "0",
         "0",
         "0",
         "0",
         "0",
         "0",
         "0",
         "0",
         "0",
         "0",
         "0",
         "0",
         "0",
         "0",
         "0",
         "0",
         "0",
         "0",
         "0",
         "0",
         "0",
         "0",
         "0",
         "0",
         "0",
         "0",
         "0",
         "0",
         "0",
         "0",
         "0",
         "0",
         "0",
         "0",
         "0",
         "0",
         "0",
         "0",
         "0",
         "0",
         "0",
         "0",
         "0",
         "0",
         "0",
         "0",
         "0",
         "0",
         "0",
         "0",
         "0",
         "0",
         "0",
         "0",
         "0",
         "0",
         "0",
         "0",
         "0",
         "0",
         "0",
         "0",
         "0",
         "0",
         "0",
         "0",
         "0",
         "0",
         "0",
         "0",
         "0",
         "0",
         "0",
         "0",
         "0",
         "0",
         "0",
         "0",
         "0",
         "0",
         "0",
         "0",
         "0",
         "0",
         "0",
         "0",
         "0",
         "0",
         "0",
         "0",
         "0",
         "0",
         "0",
         "0",
         "0",
         "0",
         "0",
         "0",
         "0",
         "0",
         "0",
         "0",
         "0",
         "0",
         "0",
         "0",
         "0",
         "0",
         "0",
         "0",
         "0",
         "0",
         "0",
         "0",
         "0",
         "0",
         "0",
         "0",
         "0",
         "0",
         "0",
         "0",
         "0",
         "0",
         "0",
         "0",
         "0",
         "0",
         "0",
         "0",
         "0",
         "0",
         "0",
         "0",
         "0",
         "0",
         "0",
         "0",
         "0",
         "0",
         "0",
         "0",
         "0",
         "0",
         "0",
         "0",
         "0",
         "0",
         "0",
         "0",
         "0",
         "0",
         "0",
         "0",
         "0",
         "0",
         "0",
         "0",
         "0",
         "0",
         "0",
         "0",
         "0",
         "0",
         "0",
         "0",
         "0",
         "0",
         "0",
         "0",
         "0",
         "0",
         "0",
         "0",
         "0",
         "0",
         "0",
         "0",
         "0",
         "0",
         "0",
         "0",
         "0",
         "0",
         "0",
         "0",
         "0",
         "0",
         "0",
         "0",
         "0",
         "0",
         "0",
         "0",
         "0",
         "0",
         "0",
         "0",
         "0",
         "0",
         "0",
         "0",
         "0",
         "0",
         "0",
         "0",
         "0",
         "0",
         "0",
         "0",
         "0",
         "0",
         "0",
         "0",
         "0",
         "0",
         "0",
         "0",
         "0",
         "0",
         "0",
         "0",
         "0",
         "0",
         "0",
         "0",
         "0",
         "0",
         "0",
         "0",
         "0",
         "0",
         "0",
         "0",
         "0",
         "0",
         "0",
         "0",
         "0",
         "0",
         "0",
         "0",
         "0",
         "0",
         "0",
         "0",
         "0",
         "0",
         "0",
         "0",
         "0",
         "0",
         "0",
         "0",
         "0",
         "0",
         "0",
         "0",
         "0",
         "0",
         "0",
         "0",
         "0",
         "0",
         "0",
         "0",
         "0",
         "0",
         "0",
         "0",
         "0",
         "0",
         "0",
         "0",
         "0",
         "0",
         "0",
         "0",
         "0",
         "0",
         "0",
         "0",
         "0",
         "0",
         "0",
         "0",
         "0",
         "0",
         "0",
         "0",
         "0",
         "0",
         "0",
         "0",
         "0",
         "0",
         "0",
         "0",
         "0",
         "0",
         "0",
         "0",
         "0",
         "0",
         "0",
         "0",
         "0",
         "0",
         "0",
         "0",
         "0",
         "0",
         "0",
         "0",
         "0",
         "0",
         "0",
         "0",
         "0",
         "0",
         "0",
         "0",
         "0",
         "0",
         "0",
         "0",
         "0",
         "0",
         "0",
         "0",
         "0",
         "0",
         "0",
         "0",
         "0",
         "0",
         "0",
         "0",
         "0",
         "0",
         "0",
         "0",
         "0",
         "0",
         "0",
         "0",
         "0",
         "0",
         "0",
         "0",
         "0",
         "0",
         "0",
         "0",
         "0",
         "0",
         "0",
         "0",
         "0",
         "0",
         "0",
         "0",
         "0",
         "0",
         "0",
         "0",
         "0",
         "0",
         "0",
         "0",
         "0",
         "0",
         "0",
         "0",
         "0",
         "0",
         "0",
         "0",
         "0",
         "0",
         "0",
         "0",
         "0",
         "0",
         "0",
         "0",
         "0",
         "0",
         "0",
         "0",
         "0",
         "0",
         "0",
         "0",
         "0",
         "0",
         "0",
         "0",
         "0",
         "0",
         "0",
         "0",
         "0",
         "0",
         "0",
         "0",
         "0",
         "0",
         "0",
         "0",
         "0",
         "0",
         "0",
         "0",
         "0",
         "0",
         "0",
         "0",
         "0",
         "0",
         "0",
         "0",
         "0",
         "0",
         "0",
         "0",
         "0",
         "0",
         "0",
         "0",
         "0",
         "0",
         "0",
         "0",
         "0",
         "0",
         "0",
         "0",
         "0",
         "0",
         "0",
         "0",
         "0",
         "0",
         "0",
         "0",
         "0",
         "0",
         "0",
         "0",
         "0",
         "0",
         "0",
         "0",
         "0",
         "0",
         "0",
         "0",
         "0",
         "0",
         "0",
         "0",
         "0",
         "0",
         "0",
         "0",
         "0",
         "0",
         "0",
         "0",
         "0",
         "0",
         "0",
         "0",
         "0",
         "0",
         "0",
         "0",
         "0",
         "0",
         "0",
         "0",
         "0",
         "0",
         "0",
         "0",
         "0",
         "0",
         "0",
         "0",
         "0",
         "0",
         "0",
         "0",
         "0",
         "0",
         "0",
         "0",
         "0",
         "0",
         "0",
         "0",
         "0",
         "0",
         "0",
         "0",
         "0",
         "0",
         "0",
         "0",
         "0",
         "0",
         "0",
         "0",
         "0",
         "0",
         "0",
         "0",
         "0",
         "0",
         "0",
         "0",
         "0",
         "0",
         "0",
         "0",
         "0",
         "0",
         "0",
         "0",
         "0",
         "0",
         "0",
         "0",
         "0",
         "0",
         "0",
         "0",
         "0",
         "0",
         "0",
         "0",
         "0",
         "0",
         "0",
         "0",
         "0",
         "0",
         "0",
         "0",
         "0",
         "0",
         "0",
         "0",
         "0",
         "1",
         "0",
         "0",
         "0",
         "0",
         "0",
         "0",
         "0",
         "0",
         "0",
         "0",
         "0",
         "0",
         "0",
         "0",
         "0",
         "0",
         "0",
         "0",
         "0",
         "0",
         "0",
         "0",
         "0",
         "0",
         "0",
         "0",
         "0",
         "0",
         "0",
         "0",
         "0",
         "0",
         "0",
         "0",
         "0",
         "0",
         "0",
         "0",
         "0",
         "0",
         "0",
         "0",
         "0",
         "0",
         "0",
         "0",
         "0",
         "0",
         "0",
         "0",
         "0",
         "0",
         "0",
         "0",
         "0",
         "0",
         "0",
         "0",
         "0",
         "0",
         "0",
         "0",
         "0",
         "0",
         "0",
         "0",
         "0",
         "0",
         "0",
         "0",
         "0",
         "0",
         "0",
         "0",
         "0",
         "0",
         "0",
         "0",
         "0",
         "0",
         "0",
         "0",
         "0",
         "0",
         "0",
         "0",
         "0",
         "0",
         "0",
         "0",
         "0",
         "0",
         "0",
         "0",
         "0",
         "0",
         "0",
         "0",
         "0",
         "0",
         "0",
         "0",
         "0",
         "0",
         "0",
         "0",
         "0",
         "0",
         "0",
         "0",
         "0",
         "0",
         "0",
         "0",
         "0",
         "0",
         "0",
         "0",
         "0",
         "0",
         "0",
         "0",
         "0",
         "0",
         "0",
         "0",
         "0",
         "0",
         "0",
         "0",
         "0",
         "0",
         "0",
         "0",
         "0",
         "0",
         "0",
         "0",
         "0",
         "0",
         "0",
         "0",
         "0",
         "0",
         "0",
         "0",
         "0",
         "0",
         "0",
         "0",
         "0",
         "0",
         "0",
         "0",
         "0",
         "0",
         "0",
         "0",
         "0",
         "0",
         "0",
         "0",
         "0",
         "0",
         "0",
         "0",
         "0",
         "0",
         "0",
         "0",
         "0",
         "0",
         "0",
         "0",
         "0",
         "0",
         "0",
         "0",
         "0",
         "0",
         "0",
         "0",
         "0",
         "0",
         "0",
         "0",
         "0",
         "0",
         "0",
         "0",
         "0",
         "0",
         "0",
         "0",
         "0",
         "0",
         "0",
         "0",
         "0",
         "0",
         "0",
         "0",
         "0",
         "0",
         "0",
         "0",
         "0",
         "0",
         "0",
         "0",
         "0",
         "0",
         "0",
         "0",
         "0",
         "0",
         "0",
         "0",
         "0",
         "0",
         "0",
         "0",
         "0",
         "0",
         "0",
         "0",
         "0",
         "0",
         "0",
         "0",
         "0",
         "0",
         "0",
         "0",
         "0",
         "0",
         "0",
         "0",
         "0",
         "0",
         "0",
         "0",
         "0",
         "0",
         "0",
         "0",
         "0",
         "0",
         "0",
         "0",
         "0",
         "0",
         "0",
         "0",
         "0",
         "0",
         "0",
         "0",
         "0",
         "0",
         "0",
         "0",
         "0",
         "0",
         "0",
         "0",
         "0",
         "0",
         "0",
         "0",
         "0",
         "0",
         "0",
         "0",
         "0",
         "0",
         "0",
         "0",
         "0",
         "0",
         "0",
         "0",
         "0",
         "0",
         "0",
         "0",
         "0",
         "0",
         "0",
         "0",
         "0",
         "0",
         "0",
         "0",
         "0",
         "0",
         "0",
         "0",
         "0",
         "0",
         "0",
         "0",
         "0",
         "0",
         "0",
         "0",
         "0",
         "0",
         "0",
         "0",
         "0",
         "0",
         "0",
         "0",
         "0",
         "0",
         "0",
         "0",
         "0",
         "0",
         "0",
         "0",
         "0",
         "0",
         "0",
         "0",
         "0",
         "0",
         "0",
         "0",
         "0",
         "0",
         "0",
         "0",
         "0",
         "0",
         "0",
         "0",
         "0",
         "0",
         "0",
         "0",
         "0",
         "0",
         "0",
         "0",
         "0",
         "0",
         "0",
         "0",
         "0",
         "0",
         "0",
         "0",
         "0",
         "0",
         "0",
         "0",
         "0",
         "0",
         "0",
         "0",
         "0",
         "0",
         "0",
         "0",
         "0",
         "0",
         "0",
         "0",
         "0",
         "0",
         "0",
         "0",
         "0",
         "0",
         "0",
         "0",
         "0",
         "0",
         "0",
         "0",
         "0",
         "0",
         "0",
         "0",
         "0",
         "0",
         "0",
         "0",
         "0",
         "0",
         "0",
         "0",
         "0",
         "0",
         "0",
         "0",
         "0",
         "0",
         "0",
         "0",
         "0",
         "0",
         "0",
         "0",
         "0",
         "0",
         "0",
         "0",
         "0",
         "0",
         "0",
         "0",
         "0",
         "0",
         "0",
         "0",
         "0",
         "0",
         "0",
         "0",
         "0",
         "0",
         "0",
         "0",
         "0",
         "0",
         "0",
         "0",
         "0",
         "0",
         "0",
         "0",
         "0",
         "0",
         "0",
         "0",
         "0",
         "0",
         "0",
         "0",
         "0",
         "0",
         "0",
         "0",
         "0",
         "0",
         "0",
         "0",
         "0",
         "0",
         "0",
         "0",
         "0",
         "0",
         "0",
         "0",
         "0",
         "0",
         "0",
         "0",
         "0",
         "0",
         "0",
         "0",
         "0",
         "0",
         "0",
         "0",
         "0",
         "0",
         "0",
         "0",
         "0",
         "0",
         "0",
         "0",
         "0",
         "0",
         "0",
         "0",
         "0",
         "0",
         "0",
         "0",
         "0",
         "0",
         "0",
         "0",
         "0",
         "0",
         "0",
         "0",
         "0",
         "0",
         "0",
         "0",
         "0",
         "0",
         "0",
         "0",
         "0",
         "0",
         "0",
         "0",
         "0",
         "0",
         "0",
         "0",
         "0",
         "0",
         "0",
         "0",
         "0",
         "0",
         "0",
         "0",
         "0",
         "0",
         "0",
         "0",
         "0",
         "0",
         "0",
         "0",
         "0",
         "0",
         "0",
         "0",
         "0",
         "0",
         "0",
         "0",
         "0",
         "0",
         "0",
         "0",
         "0",
         "0",
         "0",
         "0",
         "0",
         "0",
         "0",
         "0",
         "0",
         "0",
         "0",
         "0",
         "0",
         "0",
         "0",
         "0",
         "0",
         "0",
         "0",
         "0",
         "0",
         "0",
         "0",
         "0",
         "0",
         "0",
         "0",
         "0",
         "0",
         "0",
         "0",
         "0",
         "0",
         "0",
         "0",
         "0",
         "0",
         "0",
         "0",
         "0",
         "0",
         "0",
         "0",
         "0",
         "0",
         "0",
         "0",
         "0",
         "0",
         "0",
         "0",
         "0",
         "0",
         "0",
         "0",
         "0",
         "0",
         "0",
         "0",
         "0",
         "0",
         "0",
         "0",
         "0",
         "0",
         "0",
         "0",
         "0",
         "0",
         "0",
         "0",
         "0",
         "0",
         "0",
         "0",
         "0",
         "0",
         "0",
         "0",
         "0",
         "0",
         "0",
         "0",
         "0",
         "0",
         "0",
         "0",
         "0",
         "0",
         "0",
         "0",
         "0",
         "0",
         "0",
         "0",
         "0",
         "0",
         "0",
         "0",
         "0",
         "0",
         "0",
         "0",
         "0",
         "0",
         "0",
         "0",
         "0",
         "0",
         "0",
         "0",
         "0",
         "0",
         "0",
         "0",
         "0",
         "0",
         "0",
         "0",
         "0",
         "0",
         "0",
         "0",
         "0",
         "0",
         "0",
         "0",
         "0",
         "0",
         "0",
         "0",
         "0",
         "0",
         "0",
         "0",
         "0",
         "0",
         "0",
         "0",
         "0",
         "0",
         "0",
         "0",
         "0",
         "0",
         "0",
         "0",
         "0",
         "0",
         "0",
         "0",
         "0",
         "0",
         "0",
         "0",
         "0",
         "0",
         "0",
         "0",
         "0",
         "0",
         "0",
         "0",
         "0",
         "0",
         "0",
         "0",
         "0",
         "0",
         "0",
         "0",
         "0",
         "0",
         "0",
         "0",
         "0",
         "0",
         "0",
         "0",
         "0",
         "0",
         "0",
         "0",
         "0",
         "0",
         "0",
         "0",
         "0",
         "0",
         "0",
         "0",
         "0",
         "0",
         "0",
         "0",
         "0",
         "0",
         "0",
         "0",
         "0",
         "0",
         "0",
         "0",
         "0",
         "0",
         "0",
         "0",
         "0",
         "0",
         "0",
         "0",
         "0",
         "0",
         "0",
         "0",
         "0",
         "0",
         "0",
         "0",
         "0",
         "0",
         "0",
         "0",
         "0",
         "0",
         "0",
         "0",
         "0",
         "0",
         "0",
         "0",
         "0",
         "0",
         "0",
         "0",
         "0",
         "0",
         "0",
         "0",
         "0",
         "0",
         "0",
         "0",
         "0",
         "0",
         "0",
         "0",
         "0",
         "0",
         "0",
         "0",
         "0",
         "0",
         "0",
         "0",
         "0",
         "0",
         "0",
         "0",
         "0",
         "0",
         "0",
         "0",
         "0",
         "0",
         "0",
         "0",
         "0",
         "0",
         "0",
         "0",
         "0",
         "0",
         "0",
         "0",
         "0",
         "0",
         "0",
         "0",
         "0",
         "0",
         "0",
         "0",
         "0",
         "0",
         "0",
         "0",
         "0",
         "0",
         "0",
         "0",
         "0",
         "0",
         "0",
         "0",
         "0",
         "0",
         "0",
         "0",
         "0",
         "0",
         "0",
         "0",
         "0",
         "0",
         "0",
         "0",
         "0",
         "0",
         "0",
         "0",
         "0",
         "0",
         "0",
         "0",
         "0",
         "0",
         "0",
         "0",
         "0",
         "0",
         "0",
         "0",
         "0",
         "0",
         "0",
         "0",
         "0",
         "0",
         "0",
         "0",
         "0",
         "0",
         "0",
         "0",
         "0",
         "0",
         "0",
         "0",
         "0",
         "0",
         "0",
         "0",
         "0",
         "0",
         "0",
         "0",
         "0",
         "0",
         "0",
         "0",
         "0",
         "0",
         "0",
         "0",
         "0",
         "0",
         "0",
         "0",
         "0",
         "0",
         "0",
         "0",
         "0",
         "0",
         "0",
         "0",
         "0",
         "0",
         "0",
         "0",
         "0",
         "0",
         "0",
         "0",
         "0",
         "0",
         "0",
         "0",
         "0",
         "0",
         "0",
         "0",
         "0",
         "0",
         "0",
         "0",
         "0",
         "0",
         "0",
         "0",
         "0",
         "0",
         "0",
         "0",
         "0",
         "0",
         "0",
         "0",
         "0",
         "0",
         "0",
         "0",
         "0",
         "0",
         "0",
         "0",
         "0",
         "0",
         "0",
         "0",
         "0",
         "0",
         "0",
         "0",
         "0",
         "0",
         "0",
         "0",
         "0",
         "0",
         "0",
         "0",
         "0",
         "0",
         "0",
         "0",
         "0",
         "0",
         "0",
         "0",
         "0",
         "0",
         "1",
         "0",
         "0",
         "0",
         "0",
         "0",
         "0",
         "0",
         "0",
         "0",
         "0",
         "0",
         "0",
         "0",
         "0",
         "0",
         "0",
         "0",
         "0",
         "0",
         "0",
         "0",
         "0",
         "0",
         "0",
         "0",
         "0",
         "0",
         "0",
         "0",
         "0",
         "0",
         "0",
         "0",
         "0",
         "0",
         "0",
         "0",
         "0",
         "0",
         "0",
         "0",
         "0",
         "0",
         "0",
         "0",
         "0",
         "0",
         "0",
         "0",
         "0",
         "0",
         "0",
         "0",
         "0",
         "0",
         "0",
         "0",
         "0",
         "0",
         "0",
         "0",
         "0",
         "0",
         "0",
         "0",
         "0",
         "0",
         "0",
         "0",
         "0",
         "0",
         "0",
         "0",
         "0",
         "0",
         "0",
         "0",
         "0",
         "0",
         "0",
         "0",
         "0",
         "0",
         "0",
         "0",
         "0",
         "0",
         "0",
         "0",
         "0",
         "0",
         "0",
         "0",
         "0",
         "0",
         "0",
         "0",
         "0",
         "0",
         "0",
         "0",
         "0",
         "0",
         "0",
         "0",
         "0",
         "0",
         "0",
         "0",
         "0",
         "0",
         "0",
         "0",
         "0",
         "0",
         "0",
         "0",
         "0",
         "0",
         "0",
         "0",
         "0",
         "0",
         "0",
         "0",
         "0",
         "0",
         "0",
         "0",
         "0",
         "0",
         "0",
         "0",
         "0",
         "0",
         "0",
         "0",
         "0",
         "0",
         "0",
         "0",
         "0",
         "0",
         "0",
         "0",
         "0",
         "0",
         "0",
         "0",
         "0",
         "0",
         "0",
         "0",
         "0",
         "0",
         "0",
         "0",
         "0",
         "0",
         "0",
         "0",
         "0",
         "0",
         "0",
         "0",
         "0",
         "0",
         "0",
         "0",
         "0",
         "0",
         "0",
         "0",
         "0",
         "0",
         "0",
         "0",
         "0",
         "0",
         "0",
         "0",
         "0",
         "0",
         "0",
         "0",
         "0",
         "0",
         "0",
         "0",
         "0",
         "0",
         "0",
         "0",
         "0",
         "0",
         "0",
         "0",
         "0",
         "0",
         "0",
         "0",
         "0",
         "0",
         "0",
         "0",
         "0",
         "0",
         "0",
         "0",
         "0",
         "0",
         "0",
         "0",
         "0",
         "0",
         "0",
         "0",
         "0",
         "0",
         "0",
         "0",
         "0",
         "0",
         "0",
         "0",
         "0",
         "0",
         "0",
         "0",
         "0",
         "0",
         "0",
         "0",
         "0",
         "0",
         "0",
         "0",
         "0",
         "0",
         "0",
         "0",
         "0",
         "0",
         "0",
         "0",
         "0",
         "0",
         "0",
         "0",
         "0",
         "0",
         "0",
         "0",
         "0",
         "0",
         "0",
         "0",
         "0",
         "0",
         "0",
         "0",
         "0",
         "0",
         "0",
         "0",
         "0",
         "0",
         "0",
         "0",
         "0",
         "0",
         "0",
         "0",
         "0",
         "0",
         "0",
         "0",
         "0",
         "0",
         "0",
         "0",
         "0",
         "0",
         "0",
         "0",
         "0",
         "0",
         "0",
         "0",
         "0",
         "0",
         "0",
         "0",
         "0",
         "0",
         "0",
         "0",
         "0",
         "0",
         "0",
         "0",
         "0",
         "0",
         "0",
         "0",
         "0",
         "0",
         "0",
         "0",
         "0",
         "0",
         "0",
         "0",
         "0",
         "0",
         "0",
         "0",
         "0",
         "0",
         "0",
         "0",
         "0",
         "0",
         "0",
         "0",
         "0",
         "0",
         "0",
         "0",
         "0",
         "0",
         "0",
         "0",
         "0",
         "0",
         "0",
         "0",
         "0",
         "0",
         "0",
         "0",
         "0",
         "0",
         "0",
         "0",
         "0",
         "0",
         "0",
         "0",
         "0",
         "0",
         "0",
         "0",
         "0",
         "0",
         "0",
         "0",
         "0",
         "0",
         "0",
         "0",
         "0",
         "0",
         "0",
         "0",
         "0",
         "0",
         "0",
         "0",
         "0",
         "0",
         "0",
         "0",
         "0",
         "0",
         "0",
         "0",
         "0",
         "0",
         "0",
         "0",
         "0",
         "0",
         "0",
         "0",
         "0",
         "0",
         "0",
         "0",
         "0",
         "0",
         "0",
         "0",
         "0",
         "0",
         "0",
         "0",
         "0",
         "0",
         "0",
         "0",
         "0",
         "0",
         "0",
         "0",
         "0",
         "0",
         "0",
         "0",
         "0",
         "0",
         "0",
         "0",
         "0",
         "0",
         "0",
         "0",
         "0",
         "0",
         "0",
         "0",
         "0",
         "0",
         "0",
         "0",
         "0",
         "0",
         "0",
         "0",
         "0",
         "0",
         "0",
         "0",
         "0",
         "0",
         "0",
         "0",
         "0",
         "0",
         "0",
         "0",
         "0",
         "0",
         "0",
         "0",
         "0",
         "0",
         "0",
         "0",
         "0",
         "0",
         "0",
         "0",
         "0",
         "0",
         "0",
         "0",
         "0",
         "0",
         "0",
         "0",
         "0",
         "0",
         "0",
         "0",
         "0",
         "0",
         "1",
         "0",
         "0",
         "0",
         "0",
         "0",
         "0",
         "0",
         "0",
         "0",
         "0",
         "0",
         "0",
         "0",
         "0",
         "0",
         "0",
         "0",
         "0",
         "0",
         "0",
         "0",
         "0",
         "0",
         "0",
         "0",
         "0",
         "0",
         "0",
         "0",
         "0",
         "0",
         "0",
         "0",
         "0",
         "0",
         "0",
         "0",
         "0",
         "0",
         "0",
         "0",
         "0",
         "0",
         "0",
         "0",
         "0",
         "0",
         "0",
         "0",
         "0",
         "0",
         "0",
         "0",
         "0",
         "0",
         "0",
         "0",
         "0",
         "0",
         "0",
         "0",
         "0",
         "0",
         "0",
         "0",
         "0",
         "0",
         "0",
         "0",
         "0",
         "0",
         "0",
         "0",
         "0",
         "0",
         "0",
         "0",
         "0",
         "0",
         "0",
         "0",
         "0",
         "0",
         "0",
         "0",
         "0",
         "0",
         "0",
         "0",
         "0",
         "0",
         "0",
         "0",
         "0",
         "0",
         "0",
         "0",
         "0",
         "0",
         "0",
         "0",
         "0",
         "0",
         "0",
         "0",
         "0",
         "0",
         "0",
         "0",
         "0",
         "0",
         "0",
         "0",
         "0",
         "0",
         "0",
         "0",
         "0",
         "0",
         "0",
         "0",
         "0",
         "0",
         "0",
         "0",
         "0",
         "0",
         "0",
         "0",
         "0",
         "0",
         "0",
         "0",
         "0",
         "0",
         "0",
         "0",
         "0",
         "0",
         "0",
         "0",
         "0",
         "0",
         "0",
         "0",
         "0",
         "0",
         "0",
         "0",
         "0",
         "0",
         "0",
         "0",
         "0",
         "0",
         "0",
         "0",
         "0",
         "0",
         "0",
         "0",
         "0",
         "0",
         "0",
         "0",
         "0",
         "0",
         "0",
         "0",
         "0",
         "0",
         "0",
         "0",
         "0",
         "0",
         "0",
         "0",
         "0",
         "0",
         "0",
         "0",
         "0",
         "0",
         "0",
         "0",
         "0",
         "0",
         "0",
         "0",
         "0",
         "0",
         "0",
         "0",
         "0",
         "0",
         "0",
         "0",
         "0",
         "0",
         "0",
         "0",
         "0",
         "0",
         "0",
         "0",
         "0",
         "0",
         "0",
         "0",
         "0",
         "0",
         "0",
         "0",
         "0",
         "0",
         "0",
         "0",
         "0",
         "0",
         "0",
         "0",
         "0",
         "0",
         "0",
         "0",
         "0",
         "0",
         "0",
         "0",
         "0",
         "0",
         "0",
         "0",
         "0",
         "0",
         "0",
         "0",
         "0",
         "0",
         "0",
         "0",
         "0",
         "0",
         "0",
         "0",
         "0",
         "0",
         "0",
         "0",
         "0",
         "0",
         "0",
         "0",
         "0",
         "0",
         "0",
         "0",
         "0",
         "0",
         "0",
         "0",
         "0",
         "0",
         "0",
         "0",
         "0",
         "0",
         "0",
         "0",
         "0",
         "0",
         "0",
         "0",
         "0",
         "0",
         "0",
         "0",
         "0",
         "0",
         "0",
         "0",
         "0",
         "0",
         "0",
         "0",
         "0",
         "0",
         "0",
         "0",
         "0",
         "0",
         "0",
         "0",
         "0",
         "0",
         "0",
         "0",
         "0",
         "0",
         "0",
         "0",
         "0",
         "0",
         "0",
         "0",
         "0",
         "0",
         "0",
         "0",
         "0",
         "0",
         "0",
         "0",
         "0",
         "0",
         "0",
         "0",
         "0",
         "0",
         "0",
         "0",
         "0",
         "0",
         "0",
         "0",
         "0",
         "0",
         "0",
         "0",
         "0",
         "0",
         "0",
         "0",
         "0",
         "0",
         "0",
         "0",
         "0",
         "0",
         "0",
         "0",
         "0",
         "0",
         "0",
         "0",
         "0",
         "0",
         "1",
         "0",
         "0",
         "1",
         "0",
         "0",
         "0",
         "0",
         "0",
         "0",
         "0",
         "0",
         "0",
         "0",
         "0",
         "0",
         "0",
         "0",
         "0",
         "0",
         "0",
         "0",
         "0",
         "0",
         "0",
         "0",
         "0",
         "0",
         "0",
         "0",
         "0",
         "0",
         "0",
         "0",
         "0",
         "0",
         "0",
         "0",
         "0",
         "0",
         "0",
         "0",
         "0",
         "0",
         "0",
         "0",
         "0",
         "0",
         "0",
         "0",
         "0",
         "0",
         "0",
         "0",
         "0",
         "0",
         "0",
         "0",
         "0",
         "0",
         "0",
         "0",
         "0",
         "0",
         "0",
         "0",
         "0",
         "0",
         "0",
         "0",
         "0",
         "0",
         "0",
         "0",
         "0",
         "0",
         "0",
         "0",
         "0",
         "0",
         "0",
         "0",
         "0",
         "0",
         "0",
         "0",
         "0",
         "0",
         "0",
         "0",
         "0",
         "0",
         "0",
         "0",
         "0",
         "0",
         "0",
         "0",
         "0",
         "0",
         "0",
         "0",
         "0",
         "0",
         "0",
         "0",
         "0",
         "0",
         "0",
         "0",
         "0",
         "0",
         "0",
         "0",
         "0",
         "0",
         "0",
         "0",
         "0",
         "0",
         "0",
         "0",
         "0",
         "0",
         "0",
         "0",
         "0",
         "0",
         "0",
         "0",
         "0",
         "0",
         "0",
         "0",
         "0",
         "0",
         "0",
         "0",
         "0",
         "0",
         "0",
         "0",
         "0",
         "0",
         "0",
         "0",
         "0",
         "0",
         "0",
         "0",
         "0",
         "0",
         "0",
         "0",
         "0",
         "0",
         "0",
         "0",
         "0",
         "0",
         "0",
         "0",
         "0",
         "0",
         "0",
         "0",
         "0",
         "0",
         "0",
         "0",
         "0",
         "0",
         "0",
         "0",
         "0",
         "0",
         "0",
         "0",
         "0",
         "0",
         "0",
         "0",
         "0",
         "0",
         "0",
         "0",
         "0",
         "0",
         "0",
         "0",
         "0",
         "0",
         "0",
         "0",
         "0",
         "0",
         "0",
         "0",
         "0",
         "0",
         "0",
         "0",
         "0",
         "0",
         "0",
         "0",
         "0",
         "0",
         "0",
         "0",
         "0",
         "0",
         "0",
         "0",
         "0",
         "0",
         "0",
         "0",
         "0",
         "0",
         "0",
         "0",
         "0",
         "0",
         "0",
         "0",
         "0",
         "0",
         "0",
         "0",
         "0",
         "0",
         "0",
         "0",
         "0",
         "0",
         "0",
         "0",
         "0",
         "0",
         "0",
         "0",
         "0",
         "0",
         "0",
         "0",
         "0",
         "0",
         "0",
         "0",
         "0",
         "0",
         "0",
         "0",
         "0",
         "0",
         "0",
         "0",
         "0",
         "0",
         "0",
         "0",
         "0",
         "0",
         "0",
         "0",
         "0",
         "0",
         "0",
         "0",
         "0",
         "0",
         "0",
         "0",
         "0",
         "0",
         "0",
         "0",
         "0",
         "0",
         "0",
         "0",
         "0",
         "0",
         "0",
         "0",
         "0",
         "0",
         "0",
         "0",
         "0",
         "0",
         "0",
         "0",
         "0",
         "0",
         "0",
         "0",
         "0",
         "0",
         "0",
         "0",
         "0",
         "0",
         "0",
         "0",
         "0",
         "0",
         "0",
         "0",
         "0",
         "0",
         "0",
         "0",
         "0",
         "0",
         "0",
         "0",
         "0",
         "0",
         "0",
         "0",
         "0",
         "0",
         "0",
         "0",
         "0",
         "0",
         "0",
         "0",
         "0",
         "0",
         "0",
         "0",
         "0",
         "0",
         "0",
         "0",
         "0",
         "0",
         "0",
         "0",
         "0",
         "0",
         "0",
         "0",
         "0",
         "0",
         "0",
         "0",
         "0",
         "0",
         "0",
         "0",
         "0",
         "0",
         "0",
         "0",
         "0",
         "0",
         "0",
         "0",
         "0",
         "0",
         "0",
         "0",
         "0",
         "0",
         "0",
         "0",
         "0",
         "0",
         "0",
         "0",
         "0",
         "0",
         "0",
         "0",
         "0",
         "0",
         "0",
         "0",
         "0",
         "0",
         "0",
         "0",
         "0",
         "0",
         "0",
         "0",
         "0",
         "0",
         "0",
         "0",
         "0",
         "0",
         "0",
         "0",
         "0",
         "0",
         "0",
         "0",
         "0",
         "0",
         "0",
         "0",
         "0",
         "0",
         "0",
         "0",
         "0",
         "0",
         "0",
         "0",
         "0",
         "0",
         "0",
         "0",
         "0",
         "0",
         "0",
         "0",
         "0",
         "0",
         "0",
         "0",
         "0",
         "0",
         "0",
         "0",
         "0",
         "0",
         "0",
         "0",
         "0",
         "0",
         "0",
         "0",
         "0",
         "0",
         "0",
         "0",
         "0",
         "0",
         "0",
         "0",
         "0",
         "0",
         "0",
         "0",
         "0",
         "0",
         "0",
         "0",
         "0",
         "0",
         "0",
         "0",
         "0",
         "0",
         "0",
         "0",
         "0",
         "0",
         "0",
         "0",
         "0",
         "0",
         "0",
         "0",
         "0",
         "0",
         "0",
         "0",
         "0",
         "0",
         "0",
         "0",
         "0",
         "0",
         "0",
         "0",
         "0",
         "0",
         "0",
         "0",
         "0",
         "0",
         "0",
         "0",
         "0",
         "0",
         "0",
         "0",
         "0",
         "0",
         "0",
         "0",
         "0",
         "0",
         "0",
         "0",
         "0",
         "0",
         "0",
         "0",
         "0"
        ]
       ],
       "shape": {
        "columns": 5000,
        "rows": 5
       }
      },
      "text/html": [
       "<div>\n",
       "<style scoped>\n",
       "    .dataframe tbody tr th:only-of-type {\n",
       "        vertical-align: middle;\n",
       "    }\n",
       "\n",
       "    .dataframe tbody tr th {\n",
       "        vertical-align: top;\n",
       "    }\n",
       "\n",
       "    .dataframe thead th {\n",
       "        text-align: right;\n",
       "    }\n",
       "</style>\n",
       "<table border=\"1\" class=\"dataframe\">\n",
       "  <thead>\n",
       "    <tr style=\"text-align: right;\">\n",
       "      <th></th>\n",
       "      <th>ab</th>\n",
       "      <th>abandon</th>\n",
       "      <th>abandoned</th>\n",
       "      <th>abc</th>\n",
       "      <th>abc news</th>\n",
       "      <th>abedin</th>\n",
       "      <th>able</th>\n",
       "      <th>abortion</th>\n",
       "      <th>abroad</th>\n",
       "      <th>absolutely</th>\n",
       "      <th>...</th>\n",
       "      <th>zealand</th>\n",
       "      <th>zero</th>\n",
       "      <th>zika</th>\n",
       "      <th>zika virus</th>\n",
       "      <th>zionist</th>\n",
       "      <th>zone</th>\n",
       "      <th>zone new</th>\n",
       "      <th>zone new york</th>\n",
       "      <th>zu</th>\n",
       "      <th>zuckerberg</th>\n",
       "    </tr>\n",
       "  </thead>\n",
       "  <tbody>\n",
       "    <tr>\n",
       "      <th>0</th>\n",
       "      <td>0</td>\n",
       "      <td>0</td>\n",
       "      <td>0</td>\n",
       "      <td>0</td>\n",
       "      <td>0</td>\n",
       "      <td>0</td>\n",
       "      <td>0</td>\n",
       "      <td>0</td>\n",
       "      <td>0</td>\n",
       "      <td>0</td>\n",
       "      <td>...</td>\n",
       "      <td>0</td>\n",
       "      <td>0</td>\n",
       "      <td>0</td>\n",
       "      <td>0</td>\n",
       "      <td>0</td>\n",
       "      <td>0</td>\n",
       "      <td>0</td>\n",
       "      <td>0</td>\n",
       "      <td>0</td>\n",
       "      <td>0</td>\n",
       "    </tr>\n",
       "    <tr>\n",
       "      <th>1</th>\n",
       "      <td>0</td>\n",
       "      <td>0</td>\n",
       "      <td>0</td>\n",
       "      <td>0</td>\n",
       "      <td>0</td>\n",
       "      <td>0</td>\n",
       "      <td>0</td>\n",
       "      <td>0</td>\n",
       "      <td>0</td>\n",
       "      <td>0</td>\n",
       "      <td>...</td>\n",
       "      <td>0</td>\n",
       "      <td>0</td>\n",
       "      <td>0</td>\n",
       "      <td>0</td>\n",
       "      <td>0</td>\n",
       "      <td>0</td>\n",
       "      <td>0</td>\n",
       "      <td>0</td>\n",
       "      <td>0</td>\n",
       "      <td>0</td>\n",
       "    </tr>\n",
       "    <tr>\n",
       "      <th>2</th>\n",
       "      <td>0</td>\n",
       "      <td>0</td>\n",
       "      <td>0</td>\n",
       "      <td>0</td>\n",
       "      <td>0</td>\n",
       "      <td>0</td>\n",
       "      <td>0</td>\n",
       "      <td>0</td>\n",
       "      <td>0</td>\n",
       "      <td>0</td>\n",
       "      <td>...</td>\n",
       "      <td>0</td>\n",
       "      <td>0</td>\n",
       "      <td>0</td>\n",
       "      <td>0</td>\n",
       "      <td>0</td>\n",
       "      <td>0</td>\n",
       "      <td>0</td>\n",
       "      <td>0</td>\n",
       "      <td>0</td>\n",
       "      <td>0</td>\n",
       "    </tr>\n",
       "    <tr>\n",
       "      <th>3</th>\n",
       "      <td>0</td>\n",
       "      <td>0</td>\n",
       "      <td>0</td>\n",
       "      <td>0</td>\n",
       "      <td>0</td>\n",
       "      <td>0</td>\n",
       "      <td>0</td>\n",
       "      <td>0</td>\n",
       "      <td>0</td>\n",
       "      <td>0</td>\n",
       "      <td>...</td>\n",
       "      <td>0</td>\n",
       "      <td>0</td>\n",
       "      <td>0</td>\n",
       "      <td>0</td>\n",
       "      <td>0</td>\n",
       "      <td>0</td>\n",
       "      <td>0</td>\n",
       "      <td>0</td>\n",
       "      <td>0</td>\n",
       "      <td>0</td>\n",
       "    </tr>\n",
       "    <tr>\n",
       "      <th>4</th>\n",
       "      <td>0</td>\n",
       "      <td>0</td>\n",
       "      <td>0</td>\n",
       "      <td>0</td>\n",
       "      <td>0</td>\n",
       "      <td>0</td>\n",
       "      <td>0</td>\n",
       "      <td>0</td>\n",
       "      <td>0</td>\n",
       "      <td>0</td>\n",
       "      <td>...</td>\n",
       "      <td>0</td>\n",
       "      <td>0</td>\n",
       "      <td>0</td>\n",
       "      <td>0</td>\n",
       "      <td>0</td>\n",
       "      <td>0</td>\n",
       "      <td>0</td>\n",
       "      <td>0</td>\n",
       "      <td>0</td>\n",
       "      <td>0</td>\n",
       "    </tr>\n",
       "  </tbody>\n",
       "</table>\n",
       "<p>5 rows × 5000 columns</p>\n",
       "</div>"
      ],
      "text/plain": [
       "   ab  abandon  abandoned  abc  abc news  abedin  able  abortion  abroad  \\\n",
       "0   0        0          0    0         0       0     0         0       0   \n",
       "1   0        0          0    0         0       0     0         0       0   \n",
       "2   0        0          0    0         0       0     0         0       0   \n",
       "3   0        0          0    0         0       0     0         0       0   \n",
       "4   0        0          0    0         0       0     0         0       0   \n",
       "\n",
       "   absolutely  ...  zealand  zero  zika  zika virus  zionist  zone  zone new  \\\n",
       "0           0  ...        0     0     0           0        0     0         0   \n",
       "1           0  ...        0     0     0           0        0     0         0   \n",
       "2           0  ...        0     0     0           0        0     0         0   \n",
       "3           0  ...        0     0     0           0        0     0         0   \n",
       "4           0  ...        0     0     0           0        0     0         0   \n",
       "\n",
       "   zone new york  zu  zuckerberg  \n",
       "0              0   0           0  \n",
       "1              0   0           0  \n",
       "2              0   0           0  \n",
       "3              0   0           0  \n",
       "4              0   0           0  \n",
       "\n",
       "[5 rows x 5000 columns]"
      ]
     },
     "execution_count": 93,
     "metadata": {},
     "output_type": "execute_result"
    }
   ],
   "source": [
    "count_df = pd.DataFrame(X_train_cv, columns=cv.get_feature_names_out())\n",
    "count_df.head()"
   ]
  },
  {
   "cell_type": "code",
   "execution_count": 94,
   "id": "0ecd7d34",
   "metadata": {},
   "outputs": [],
   "source": [
    "def plot_confusion_matrix(cm, classes,\n",
    "                          normalize=False,\n",
    "                          title='Confusion matrix',\n",
    "                          cmap=plt.cm.Blues):\n",
    "    \"\"\"\n",
    "    See full source and example: \n",
    "    http://scikit-learn.org/stable/auto_examples/model_selection/plot_confusion_matrix.html\n",
    "    \n",
    "    This function prints and plots the confusion matrix.\n",
    "    Normalization can be applied by setting `normalize=True`.\n",
    "    \"\"\"\n",
    "    plt.imshow(cm, interpolation='nearest', cmap=cmap)\n",
    "    plt.title(title)\n",
    "    plt.colorbar()\n",
    "    tick_marks = np.arange(len(classes))\n",
    "    plt.xticks(tick_marks, classes, rotation=45)\n",
    "    plt.yticks(tick_marks, classes)\n",
    "\n",
    "    if normalize:\n",
    "        cm = cm.astype('float') / cm.sum(axis=1)[:, np.newaxis]\n",
    "        print(\"Normalized confusion matrix\")\n",
    "    else:\n",
    "        print('Confusion matrix, without normalization')\n",
    "\n",
    "    thresh = cm.max() / 2.\n",
    "    for i, j in itertools.product(range(cm.shape[0]), range(cm.shape[1])):\n",
    "        plt.text(j, i, cm[i, j],\n",
    "                 horizontalalignment=\"center\",\n",
    "                 color=\"white\" if cm[i, j] > thresh else \"black\")\n",
    "\n",
    "    plt.tight_layout()\n",
    "    plt.ylabel('True label')\n",
    "    plt.xlabel('Predicted label')"
   ]
  },
  {
   "cell_type": "markdown",
   "id": "06473b3f",
   "metadata": {},
   "source": [
    "## Using Multinomial Naive Bayes Classifier"
   ]
  },
  {
   "cell_type": "code",
   "execution_count": null,
   "id": "f6b5c665",
   "metadata": {},
   "outputs": [
    {
     "name": "stdout",
     "output_type": "stream",
     "text": [
      "accuracy: 0.894\n",
      "Confusion matrix, without normalization\n"
     ]
    },
    {
     "data": {
      "image/png": "[encoded data removed]",
      "text/plain": [
       "<Figure size 640x480 with 2 Axes>"
      ]
     },
     "metadata": {},
     "output_type": "display_data"
    }
   ],
   "source": [
    "classifier = MultinomialNB()\n",
    "classifier.fit(X_train_cv, y_train)\n",
    "\n",
    "pred = classifier.predict(X_test_cv)\n",
    "\n",
    "score = accuracy_score(y_test, pred)\n",
    "print(\"accuracy: %0.3f\" % score)\n",
    "\n",
    "cm = confusion_matrix(y_test, pred)\n",
    "plot_confusion_matrix(cm, classes=['FAKE', 'REAL'])"
   ]
  },
  {
   "cell_type": "markdown",
   "id": "611b840d",
   "metadata": {},
   "source": [
    "## Using Passive Aggressive Classifier"
   ]
  },
  {
   "cell_type": "code",
   "execution_count": 96,
   "id": "89bb9302",
   "metadata": {},
   "outputs": [
    {
     "name": "stdout",
     "output_type": "stream",
     "text": [
      "accuracy: 0.921\n",
      "Confusion matrix, without normalization\n"
     ]
    },
    {
     "data": {
      "image/png": "[encoded data removed]",
      "text/plain": [
       "<Figure size 640x480 with 2 Axes>"
      ]
     },
     "metadata": {},
     "output_type": "display_data"
    }
   ],
   "source": [
    "linear_clf = PassiveAggressiveClassifier(max_iter=50)\n",
    "linear_clf.fit(X_train_cv, y_train)\n",
    "\n",
    "pred = linear_clf.predict(X_test_cv)\n",
    "score = accuracy_score(y_test, pred)\n",
    "print(\"accuracy: %0.3f\" % score)\n",
    "\n",
    "cm = confusion_matrix(y_test, pred)\n",
    "plot_confusion_matrix(cm, classes=['FAKE', 'REAL'])"
   ]
  },
  {
   "cell_type": "markdown",
   "id": "c641cd01",
   "metadata": {},
   "source": [
    "## Using Multinomial with Hyperparameter"
   ]
  },
  {
   "cell_type": "code",
   "execution_count": 97,
   "id": "fa25caaa",
   "metadata": {},
   "outputs": [],
   "source": [
    "classifier = MultinomialNB(alpha=0.1)"
   ]
  },
  {
   "cell_type": "code",
   "execution_count": 98,
   "id": "67caaaf5",
   "metadata": {},
   "outputs": [
    {
     "name": "stderr",
     "output_type": "stream",
     "text": [
      "C:\\Users\\user\\AppData\\Roaming\\Python\\Python312\\site-packages\\sklearn\\naive_bayes.py:898: RuntimeWarning: divide by zero encountered in log\n",
      "  self.feature_log_prob_ = np.log(smoothed_fc) - np.log(\n",
      "C:\\Users\\user\\AppData\\Roaming\\Python\\Python312\\site-packages\\sklearn\\utils\\extmath.py:203: RuntimeWarning: invalid value encountered in matmul\n",
      "  ret = a @ b\n"
     ]
    },
    {
     "name": "stdout",
     "output_type": "stream",
     "text": [
      "Alpha: 0.0  -  accuracy: 0.562\n",
      "Alpha: 0.1  -  accuracy: 0.893\n",
      "Alpha: 0.2  -  accuracy: 0.893\n",
      "Alpha: 0.3  -  accuracy: 0.894\n",
      "Alpha: 0.4  -  accuracy: 0.895\n",
      "Alpha: 0.5  -  accuracy: 0.895\n",
      "Alpha: 0.6  -  accuracy: 0.895\n",
      "Alpha: 0.7  -  accuracy: 0.895\n",
      "Alpha: 0.8  -  accuracy: 0.895\n",
      "Alpha: 0.9  -  accuracy: 0.894\n"
     ]
    }
   ],
   "source": [
    "previous_score = 0\n",
    "best_alpha = 0\n",
    "for alpha in np.arange(0, 1, 0.1):\n",
    "    sub_classifier = MultinomialNB(alpha=alpha)\n",
    "    sub_classifier.fit(X_train_cv, y_train)\n",
    "    pred = sub_classifier.predict(X_test_cv)\n",
    "    score = accuracy_score(y_test, pred)\n",
    "    print(\"Alpha: %0.1f  -  accuracy: %0.3f\" % (alpha, score))\n",
    "    if score > previous_score:\n",
    "        previous_score = score\n",
    "        best_alpha = alpha\n",
    "        classifier = sub_classifier"
   ]
  },
  {
   "cell_type": "code",
   "execution_count": 99,
   "id": "bf3b8e16",
   "metadata": {},
   "outputs": [
    {
     "data": {
      "text/plain": [
       "array(['ab', 'abandon', 'abandoned', ..., 'zone new york', 'zu',\n",
       "       'zuckerberg'], dtype=object)"
      ]
     },
     "execution_count": 99,
     "metadata": {},
     "output_type": "execute_result"
    }
   ],
   "source": [
    "feature_names = cv.get_feature_names_out()\n",
    "feature_names"
   ]
  },
  {
   "cell_type": "code",
   "execution_count": 100,
   "id": "6fe9eec5",
   "metadata": {},
   "outputs": [
    {
     "data": {
      "text/plain": [
       "array([-10.89094479,  -9.59166181,  -9.7923325 , ...,  -9.42460772,\n",
       "       -11.98955708,  -9.42460772])"
      ]
     },
     "execution_count": 100,
     "metadata": {},
     "output_type": "execute_result"
    }
   ],
   "source": [
    "classifier.feature_log_prob_[0]"
   ]
  },
  {
   "cell_type": "code",
   "execution_count": 101,
   "id": "8282e1d7",
   "metadata": {},
   "outputs": [
    {
     "data": {
      "text/plain": [
       "[(-2.8902600073233256, 'new'),\n",
       " (-2.937626445277644, 'time'),\n",
       " (-2.9439734341444836, 'york'),\n",
       " (-2.9442092832021807, 'new york'),\n",
       " (-2.958223764356127, 'york time'),\n",
       " (-2.958223764356127, 'new york time'),\n",
       " (-3.909010114681686, 'breitbart'),\n",
       " (-3.948144171113137, 'trump'),\n",
       " (-5.2199151036536815, 'donald'),\n",
       " (-5.226827573574305, 'donald trump'),\n",
       " (-5.764998651230824, 'say'),\n",
       " (-5.946924246823803, 'obama'),\n",
       " (-5.961278560275486, 'clinton'),\n",
       " (-6.0679786608623685, 'state'),\n",
       " (-6.1874387051291215, 'president'),\n",
       " (-6.22436597772134, 'house'),\n",
       " (-6.230655306628904, 'briefing'),\n",
       " (-6.262709332918988, 'hillary'),\n",
       " (-6.275824274996816, 'attack'),\n",
       " (-6.351202411172438, 'report')]"
      ]
     },
     "execution_count": 101,
     "metadata": {},
     "output_type": "execute_result"
    }
   ],
   "source": [
    "### Most real\n",
    "sorted(zip(classifier.feature_log_prob_[0], feature_names), reverse=True)[:20]"
   ]
  },
  {
   "cell_type": "code",
   "execution_count": 102,
   "id": "e4153314",
   "metadata": {},
   "outputs": [
    {
     "data": {
      "text/plain": [
       "[(-11.989557080506184, 'access pipeline protest'),\n",
       " (-11.989557080506184, 'acknowledge emf'),\n",
       " (-11.989557080506184, 'acknowledge emf damage'),\n",
       " (-11.989557080506184, 'acquitted'),\n",
       " (-11.989557080506184, 'active foreign'),\n",
       " (-11.989557080506184, 'active foreign agent'),\n",
       " (-11.989557080506184, 'adhd'),\n",
       " (-11.989557080506184, 'agent saudi'),\n",
       " (-11.989557080506184, 'agent saudi arabian'),\n",
       " (-11.989557080506184, 'al aqsa'),\n",
       " (-11.989557080506184, 'al aqsa mosque'),\n",
       " (-11.989557080506184, 'alien muslim'),\n",
       " (-11.989557080506184, 'american concerned'),\n",
       " (-11.989557080506184, 'american concerned election'),\n",
       " (-11.989557080506184, 'appear standing'),\n",
       " (-11.989557080506184, 'appear standing rock'),\n",
       " (-11.989557080506184, 'appoint'),\n",
       " (-11.989557080506184, 'aqsa'),\n",
       " (-11.989557080506184, 'aqsa mosque'),\n",
       " (-11.989557080506184, 'arabian')]"
      ]
     },
     "execution_count": 102,
     "metadata": {},
     "output_type": "execute_result"
    }
   ],
   "source": [
    "### Most fake\n",
    "sorted(zip(classifier.feature_log_prob_[0], feature_names))[:20]"
   ]
  }
 ],
 "metadata": {
  "kernelspec": {
   "display_name": "Python 3",
   "language": "python",
   "name": "python3"
  },
  "language_info": {
   "codemirror_mode": {
    "name": "ipython",
    "version": 3
   },
   "file_extension": ".py",
   "mimetype": "text/x-python",
   "name": "python",
   "nbconvert_exporter": "python",
   "pygments_lexer": "ipython3",
   "version": "3.12.6"
  }
 },
 "nbformat": 4,
 "nbformat_minor": 5
}
