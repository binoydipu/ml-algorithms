{
 "cells": [
  {
   "cell_type": "markdown",
   "id": "ef1c03e3",
   "metadata": {},
   "source": [
    "# NLP - Word2Vec"
   ]
  },
  {
   "cell_type": "markdown",
   "id": "c1ded16c",
   "metadata": {},
   "source": [
    "Word2Vec is a popular technique in Natural Language Processing (NLP) for representing words as continuous vectors in a high-dimensional space. It captures semantic relationships between words based on their context in a corpus of text."
   ]
  },
  {
   "cell_type": "code",
   "execution_count": 9,
   "id": "7f548bb4",
   "metadata": {},
   "outputs": [],
   "source": [
    "import nltk\n",
    "import re\n",
    "from nltk.corpus import stopwords\n",
    "from gensim.models import Word2Vec"
   ]
  },
  {
   "cell_type": "code",
   "execution_count": 10,
   "id": "397ddc03",
   "metadata": {},
   "outputs": [],
   "source": [
    "paragraph = \"\"\"I have three visions for India. In 3000 years of our history people from all over the world have come and invaded us, captured our lands, conquered our minds. From Alexander onwards the Greeks, the Turks, the Moguls, the Portuguese, the British, the French, the Dutch, all of them came and looted us, took over what was ours. Yet we have not done this to any other nation. We have not conquered anyone. We have not grabbed their land, their culture and their history and tried to enforce our way of life on them. Why? Because we respect the freedom of others. That is why my FIRST VISION is that of FREEDOM. I believe that India got its first vision of this in 1857, when we started the war of Independence. It is this freedom that we must protect and nurture and build on. If we are not free, no one will respect us.\n",
    "\n",
    "We have 10 percent growth rate in most areas. Our poverty levels are falling. Our achievements are being globally recognised today. Yet we lack the self-confidence to see ourselves as a developed nation, self-reliant and self-assured. Isn’t this incorrect? MY SECOND VISION for India is DEVELOPMENT. For fifty years we have been a developing nation. It is time we see ourselves as a developed nation. We are among top five nations in the world in terms of GDP.\n",
    "\n",
    "I have a THIRD VISION. India must stand up to the world. Because I believe that unless India stands up to the world, no one will respect us. Only strength respects strength. We must be strong not only as a military power but also as an economic power. Both must go hand-in-hand. My good fortune was to have worked with three great minds. Dr.Vikram Sarabhai, of the Dept. of Space, Professor Satish Dhawan, who succeeded him and Dr. Brahm Prakash, father of nuclear material. I was lucky to have worked with all three of them closely and consider this the great opportunity of my life.\"\"\""
   ]
  },
  {
   "cell_type": "markdown",
   "id": "9c2412e2",
   "metadata": {},
   "source": [
    "### Preprocess the data"
   ]
  },
  {
   "cell_type": "code",
   "execution_count": 11,
   "id": "c0213454",
   "metadata": {},
   "outputs": [],
   "source": [
    "text = re.sub(r'\\[[0-9]*\\]', ' ', paragraph)\n",
    "text = re.sub(r'\\s+', ' ', text)\n",
    "text = text.lower()\n",
    "text = re.sub(r'\\d', ' ', text)\n",
    "text = re.sub(r'\\s+', ' ', text)"
   ]
  },
  {
   "cell_type": "markdown",
   "id": "78198f8d",
   "metadata": {},
   "source": [
    "### Prepare the dataset"
   ]
  },
  {
   "cell_type": "code",
   "execution_count": 12,
   "id": "888c7fbd",
   "metadata": {},
   "outputs": [],
   "source": [
    "sentances = nltk.sent_tokenize(text)\n",
    "\n",
    "sentances = [nltk.word_tokenize(sentance) for sentance in sentances]\n",
    "\n",
    "for i in range(len(sentances)):\n",
    "    sentances[i] = [word for word in sentances[i] if word not in set(stopwords.words('english'))]"
   ]
  },
  {
   "cell_type": "code",
   "execution_count": 14,
   "id": "fab1d14d",
   "metadata": {},
   "outputs": [
    {
     "data": {
      "text/plain": [
       "[['three', 'visions', 'india', '.'],\n",
       " ['years',\n",
       "  'history',\n",
       "  'people',\n",
       "  'world',\n",
       "  'come',\n",
       "  'invaded',\n",
       "  'us',\n",
       "  ',',\n",
       "  'captured',\n",
       "  'lands',\n",
       "  ',',\n",
       "  'conquered',\n",
       "  'minds',\n",
       "  '.']]"
      ]
     },
     "execution_count": 14,
     "metadata": {},
     "output_type": "execute_result"
    }
   ],
   "source": [
    "sentances[:2]"
   ]
  },
  {
   "cell_type": "markdown",
   "id": "02cb996d",
   "metadata": {},
   "source": [
    "### Train the Word2Vec model"
   ]
  },
  {
   "cell_type": "code",
   "execution_count": 16,
   "id": "629d5f4d",
   "metadata": {},
   "outputs": [],
   "source": [
    "model = Word2Vec(sentances, min_count=1)\n",
    "\n",
    "words = model.wv.key_to_index  # Use key_to_index to access the vocabulary"
   ]
  },
  {
   "cell_type": "code",
   "execution_count": 17,
   "id": "591414cf",
   "metadata": {},
   "outputs": [
    {
     "data": {
      "text/plain": [
       "array([ 0.00797093, -0.00645615,  0.00580906, -0.00021723, -0.00903409,\n",
       "       -0.00247635, -0.00157474, -0.00443948, -0.00081834, -0.00526609,\n",
       "        0.00591854,  0.0092865 , -0.00159005,  0.00338851, -0.00073477,\n",
       "       -0.00068935, -0.00701005,  0.0014421 ,  0.00388528,  0.00686169,\n",
       "        0.00655022,  0.00354239,  0.00468607, -0.00745528, -0.00137436,\n",
       "       -0.00577998,  0.00676175,  0.00781907, -0.00427054,  0.00115532,\n",
       "        0.00512205,  0.00181498,  0.00079965, -0.00675517,  0.00982059,\n",
       "       -0.00723146, -0.00603222, -0.00567003, -0.00634653, -0.00351835,\n",
       "       -0.00939544,  0.00116333, -0.00374987, -0.0025414 ,  0.00580321,\n",
       "        0.00354969,  0.00179997, -0.00139277,  0.00986295,  0.00031066,\n",
       "        0.00500415,  0.00902414, -0.00977404, -0.00916233,  0.00991402,\n",
       "        0.0027414 , -0.00189251,  0.00471156, -0.00433782, -0.00640193,\n",
       "       -0.0082577 ,  0.00720882, -0.00244231, -0.0075306 , -0.00592892,\n",
       "        0.00619757, -0.00246836, -0.00612078, -0.00163657, -0.00145636,\n",
       "       -0.00325889, -0.0020624 ,  0.004111  ,  0.00144864, -0.00346753,\n",
       "        0.00268754,  0.00521916, -0.00920328, -0.0075759 ,  0.0063204 ,\n",
       "       -0.00891548,  0.00051255, -0.00900889,  0.00840208, -0.0043077 ,\n",
       "       -0.0066189 , -0.00135237, -0.00111406,  0.00753065,  0.00911537,\n",
       "       -0.00033248,  0.00269779,  0.00473752,  0.00013309, -0.00575256,\n",
       "       -0.00057379,  0.00218898,  0.0082974 , -0.00359516, -0.00984977],\n",
       "      dtype=float32)"
      ]
     },
     "execution_count": 17,
     "metadata": {},
     "output_type": "execute_result"
    }
   ],
   "source": [
    "vector = model.wv['war']  # Get the vector of a word\n",
    "vector"
   ]
  },
  {
   "cell_type": "code",
   "execution_count": 19,
   "id": "d6718b55",
   "metadata": {},
   "outputs": [
    {
     "data": {
      "text/plain": [
       "(100,)"
      ]
     },
     "execution_count": 19,
     "metadata": {},
     "output_type": "execute_result"
    }
   ],
   "source": [
    "vector.shape"
   ]
  },
  {
   "cell_type": "code",
   "execution_count": 21,
   "id": "d8b6616d",
   "metadata": {},
   "outputs": [
    {
     "data": {
      "text/plain": [
       "[('way', 0.2689657509326935),\n",
       " ('top', 0.2094559520483017),\n",
       " ('gdp', 0.17776601016521454),\n",
       " ('fortune', 0.1554907262325287),\n",
       " ('war', 0.14371691644191742),\n",
       " ('poverty', 0.14248248934745789),\n",
       " ('respects', 0.13017778098583221),\n",
       " ('life', 0.12964466214179993),\n",
       " ('developing', 0.12663964927196503),\n",
       " ('among', 0.1189553439617157)]"
      ]
     },
     "execution_count": 21,
     "metadata": {},
     "output_type": "execute_result"
    }
   ],
   "source": [
    "# find similar words\n",
    "similar = model.wv.most_similar('freedom')\n",
    "similar"
   ]
  }
 ],
 "metadata": {
  "kernelspec": {
   "display_name": "Python 3",
   "language": "python",
   "name": "python3"
  },
  "language_info": {
   "codemirror_mode": {
    "name": "ipython",
    "version": 3
   },
   "file_extension": ".py",
   "mimetype": "text/x-python",
   "name": "python",
   "nbconvert_exporter": "python",
   "pygments_lexer": "ipython3",
   "version": "3.12.6"
  }
 },
 "nbformat": 4,
 "nbformat_minor": 5
}
